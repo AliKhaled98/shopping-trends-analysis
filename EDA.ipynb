{
 "cells": [
  {
   "cell_type": "code",
   "execution_count": 53,
   "id": "c6471df8",
   "metadata": {},
   "outputs": [],
   "source": [
    "import pandas as pd \n",
    "import numpy as np \n",
    "import matplotlib.pyplot as plt\n",
    "import seaborn as sns\n",
    "import plotly.express as px\n",
    "from scipy.stats import f_oneway\n",
    "import pyodbc \n",
    "\n",
    "import warnings\n",
    "warnings.filterwarnings(\"ignore\")"
   ]
  },
  {
   "cell_type": "code",
   "execution_count": 2,
   "id": "fb75f9aa",
   "metadata": {},
   "outputs": [],
   "source": [
    "conn_str = (\n",
    "    'DRIVER={ODBC Driver 17 for SQL Server};'\n",
    "    'SERVER=DESKTOP-P4G0C3D\\SQLEXPRESS;'\n",
    "    'DATABASE=INSTANT;'\n",
    "    'Trusted_Connection=yes;'\n",
    ")\n"
   ]
  },
  {
   "cell_type": "code",
   "execution_count": 3,
   "id": "8816f7f7",
   "metadata": {},
   "outputs": [],
   "source": [
    "conn = pyodbc.connect(conn_str)"
   ]
  },
  {
   "cell_type": "code",
   "execution_count": 4,
   "id": "38bb9602",
   "metadata": {},
   "outputs": [
    {
     "data": {
      "text/html": [
       "<div>\n",
       "<style scoped>\n",
       "    .dataframe tbody tr th:only-of-type {\n",
       "        vertical-align: middle;\n",
       "    }\n",
       "\n",
       "    .dataframe tbody tr th {\n",
       "        vertical-align: top;\n",
       "    }\n",
       "\n",
       "    .dataframe thead th {\n",
       "        text-align: right;\n",
       "    }\n",
       "</style>\n",
       "<table border=\"1\" class=\"dataframe\">\n",
       "  <thead>\n",
       "    <tr style=\"text-align: right;\">\n",
       "      <th></th>\n",
       "      <th>Customer_ID</th>\n",
       "      <th>Age</th>\n",
       "      <th>Gender</th>\n",
       "      <th>Item_Purchased</th>\n",
       "      <th>Category</th>\n",
       "      <th>Purchase_Amount_USD</th>\n",
       "      <th>Location</th>\n",
       "      <th>Size</th>\n",
       "      <th>Color</th>\n",
       "      <th>Season</th>\n",
       "      <th>Review_Rating</th>\n",
       "      <th>Subscription_Status</th>\n",
       "      <th>Payment_Method</th>\n",
       "      <th>Shipping_Type</th>\n",
       "      <th>Discount_Applied</th>\n",
       "      <th>Promo_Code_Used</th>\n",
       "      <th>Previous_Purchases</th>\n",
       "      <th>Preferred_Payment_Method</th>\n",
       "      <th>Frequency_of_Purchases</th>\n",
       "    </tr>\n",
       "  </thead>\n",
       "  <tbody>\n",
       "    <tr>\n",
       "      <th>0</th>\n",
       "      <td>1</td>\n",
       "      <td>55</td>\n",
       "      <td>Male</td>\n",
       "      <td>Blouse</td>\n",
       "      <td>Clothing</td>\n",
       "      <td>53</td>\n",
       "      <td>Kentucky</td>\n",
       "      <td>L</td>\n",
       "      <td>Gray</td>\n",
       "      <td>Winter</td>\n",
       "      <td>3.1</td>\n",
       "      <td>Yes</td>\n",
       "      <td>Credit Card</td>\n",
       "      <td>Express</td>\n",
       "      <td>Yes</td>\n",
       "      <td>Yes</td>\n",
       "      <td>14</td>\n",
       "      <td>Venmo</td>\n",
       "      <td>Fortnightly</td>\n",
       "    </tr>\n",
       "    <tr>\n",
       "      <th>1</th>\n",
       "      <td>2</td>\n",
       "      <td>19</td>\n",
       "      <td>Male</td>\n",
       "      <td>Sweater</td>\n",
       "      <td>Clothing</td>\n",
       "      <td>64</td>\n",
       "      <td>Maine</td>\n",
       "      <td>L</td>\n",
       "      <td>Maroon</td>\n",
       "      <td>Winter</td>\n",
       "      <td>3.1</td>\n",
       "      <td>Yes</td>\n",
       "      <td>Bank Transfer</td>\n",
       "      <td>Express</td>\n",
       "      <td>Yes</td>\n",
       "      <td>Yes</td>\n",
       "      <td>2</td>\n",
       "      <td>Cash</td>\n",
       "      <td>Fortnightly</td>\n",
       "    </tr>\n",
       "    <tr>\n",
       "      <th>2</th>\n",
       "      <td>3</td>\n",
       "      <td>50</td>\n",
       "      <td>Male</td>\n",
       "      <td>Jeans</td>\n",
       "      <td>Clothing</td>\n",
       "      <td>73</td>\n",
       "      <td>Massachusetts</td>\n",
       "      <td>S</td>\n",
       "      <td>Maroon</td>\n",
       "      <td>Spring</td>\n",
       "      <td>3.1</td>\n",
       "      <td>Yes</td>\n",
       "      <td>Cash</td>\n",
       "      <td>Free Shipping</td>\n",
       "      <td>Yes</td>\n",
       "      <td>Yes</td>\n",
       "      <td>23</td>\n",
       "      <td>Credit Card</td>\n",
       "      <td>Weekly</td>\n",
       "    </tr>\n",
       "    <tr>\n",
       "      <th>3</th>\n",
       "      <td>4</td>\n",
       "      <td>21</td>\n",
       "      <td>Male</td>\n",
       "      <td>Sandals</td>\n",
       "      <td>Footwear</td>\n",
       "      <td>90</td>\n",
       "      <td>Rhode Island</td>\n",
       "      <td>M</td>\n",
       "      <td>Maroon</td>\n",
       "      <td>Spring</td>\n",
       "      <td>3.5</td>\n",
       "      <td>Yes</td>\n",
       "      <td>PayPal</td>\n",
       "      <td>Next Day Air</td>\n",
       "      <td>Yes</td>\n",
       "      <td>Yes</td>\n",
       "      <td>49</td>\n",
       "      <td>PayPal</td>\n",
       "      <td>Weekly</td>\n",
       "    </tr>\n",
       "    <tr>\n",
       "      <th>4</th>\n",
       "      <td>5</td>\n",
       "      <td>45</td>\n",
       "      <td>Male</td>\n",
       "      <td>Blouse</td>\n",
       "      <td>Clothing</td>\n",
       "      <td>49</td>\n",
       "      <td>Oregon</td>\n",
       "      <td>M</td>\n",
       "      <td>Turquoise</td>\n",
       "      <td>Spring</td>\n",
       "      <td>2.7</td>\n",
       "      <td>Yes</td>\n",
       "      <td>Cash</td>\n",
       "      <td>Free Shipping</td>\n",
       "      <td>Yes</td>\n",
       "      <td>Yes</td>\n",
       "      <td>31</td>\n",
       "      <td>PayPal</td>\n",
       "      <td>Annually</td>\n",
       "    </tr>\n",
       "    <tr>\n",
       "      <th>...</th>\n",
       "      <td>...</td>\n",
       "      <td>...</td>\n",
       "      <td>...</td>\n",
       "      <td>...</td>\n",
       "      <td>...</td>\n",
       "      <td>...</td>\n",
       "      <td>...</td>\n",
       "      <td>...</td>\n",
       "      <td>...</td>\n",
       "      <td>...</td>\n",
       "      <td>...</td>\n",
       "      <td>...</td>\n",
       "      <td>...</td>\n",
       "      <td>...</td>\n",
       "      <td>...</td>\n",
       "      <td>...</td>\n",
       "      <td>...</td>\n",
       "      <td>...</td>\n",
       "      <td>...</td>\n",
       "    </tr>\n",
       "    <tr>\n",
       "      <th>3895</th>\n",
       "      <td>3896</td>\n",
       "      <td>40</td>\n",
       "      <td>Female</td>\n",
       "      <td>Hoodie</td>\n",
       "      <td>Clothing</td>\n",
       "      <td>28</td>\n",
       "      <td>Virginia</td>\n",
       "      <td>L</td>\n",
       "      <td>Turquoise</td>\n",
       "      <td>Summer</td>\n",
       "      <td>4.2</td>\n",
       "      <td>No</td>\n",
       "      <td>Cash</td>\n",
       "      <td>2-Day Shipping</td>\n",
       "      <td>No</td>\n",
       "      <td>No</td>\n",
       "      <td>32</td>\n",
       "      <td>Venmo</td>\n",
       "      <td>Weekly</td>\n",
       "    </tr>\n",
       "    <tr>\n",
       "      <th>3896</th>\n",
       "      <td>3897</td>\n",
       "      <td>52</td>\n",
       "      <td>Female</td>\n",
       "      <td>Backpack</td>\n",
       "      <td>Accessories</td>\n",
       "      <td>49</td>\n",
       "      <td>Iowa</td>\n",
       "      <td>L</td>\n",
       "      <td>White</td>\n",
       "      <td>Spring</td>\n",
       "      <td>4.5</td>\n",
       "      <td>No</td>\n",
       "      <td>PayPal</td>\n",
       "      <td>Store Pickup</td>\n",
       "      <td>No</td>\n",
       "      <td>No</td>\n",
       "      <td>41</td>\n",
       "      <td>Bank Transfer</td>\n",
       "      <td>Bi-Weekly</td>\n",
       "    </tr>\n",
       "    <tr>\n",
       "      <th>3897</th>\n",
       "      <td>3898</td>\n",
       "      <td>46</td>\n",
       "      <td>Female</td>\n",
       "      <td>Belt</td>\n",
       "      <td>Accessories</td>\n",
       "      <td>33</td>\n",
       "      <td>New Jersey</td>\n",
       "      <td>L</td>\n",
       "      <td>Green</td>\n",
       "      <td>Spring</td>\n",
       "      <td>2.9</td>\n",
       "      <td>No</td>\n",
       "      <td>Credit Card</td>\n",
       "      <td>Standard</td>\n",
       "      <td>No</td>\n",
       "      <td>No</td>\n",
       "      <td>24</td>\n",
       "      <td>Venmo</td>\n",
       "      <td>Quarterly</td>\n",
       "    </tr>\n",
       "    <tr>\n",
       "      <th>3898</th>\n",
       "      <td>3899</td>\n",
       "      <td>44</td>\n",
       "      <td>Female</td>\n",
       "      <td>Shoes</td>\n",
       "      <td>Footwear</td>\n",
       "      <td>77</td>\n",
       "      <td>Minnesota</td>\n",
       "      <td>S</td>\n",
       "      <td>Brown</td>\n",
       "      <td>Summer</td>\n",
       "      <td>3.8</td>\n",
       "      <td>No</td>\n",
       "      <td>PayPal</td>\n",
       "      <td>Express</td>\n",
       "      <td>No</td>\n",
       "      <td>No</td>\n",
       "      <td>24</td>\n",
       "      <td>Venmo</td>\n",
       "      <td>Weekly</td>\n",
       "    </tr>\n",
       "    <tr>\n",
       "      <th>3899</th>\n",
       "      <td>3900</td>\n",
       "      <td>52</td>\n",
       "      <td>Female</td>\n",
       "      <td>Handbag</td>\n",
       "      <td>Accessories</td>\n",
       "      <td>81</td>\n",
       "      <td>California</td>\n",
       "      <td>M</td>\n",
       "      <td>Beige</td>\n",
       "      <td>Spring</td>\n",
       "      <td>3.1</td>\n",
       "      <td>No</td>\n",
       "      <td>Bank Transfer</td>\n",
       "      <td>Store Pickup</td>\n",
       "      <td>No</td>\n",
       "      <td>No</td>\n",
       "      <td>33</td>\n",
       "      <td>Venmo</td>\n",
       "      <td>Quarterly</td>\n",
       "    </tr>\n",
       "  </tbody>\n",
       "</table>\n",
       "<p>3900 rows × 19 columns</p>\n",
       "</div>"
      ],
      "text/plain": [
       "      Customer_ID  Age  Gender Item_Purchased     Category  \\\n",
       "0               1   55    Male         Blouse     Clothing   \n",
       "1               2   19    Male        Sweater     Clothing   \n",
       "2               3   50    Male          Jeans     Clothing   \n",
       "3               4   21    Male        Sandals     Footwear   \n",
       "4               5   45    Male         Blouse     Clothing   \n",
       "...           ...  ...     ...            ...          ...   \n",
       "3895         3896   40  Female         Hoodie     Clothing   \n",
       "3896         3897   52  Female       Backpack  Accessories   \n",
       "3897         3898   46  Female           Belt  Accessories   \n",
       "3898         3899   44  Female          Shoes     Footwear   \n",
       "3899         3900   52  Female        Handbag  Accessories   \n",
       "\n",
       "      Purchase_Amount_USD       Location Size      Color  Season  \\\n",
       "0                      53       Kentucky    L       Gray  Winter   \n",
       "1                      64          Maine    L     Maroon  Winter   \n",
       "2                      73  Massachusetts    S     Maroon  Spring   \n",
       "3                      90   Rhode Island    M     Maroon  Spring   \n",
       "4                      49         Oregon    M  Turquoise  Spring   \n",
       "...                   ...            ...  ...        ...     ...   \n",
       "3895                   28       Virginia    L  Turquoise  Summer   \n",
       "3896                   49           Iowa    L      White  Spring   \n",
       "3897                   33     New Jersey    L      Green  Spring   \n",
       "3898                   77      Minnesota    S      Brown  Summer   \n",
       "3899                   81     California    M      Beige  Spring   \n",
       "\n",
       "      Review_Rating Subscription_Status Payment_Method   Shipping_Type  \\\n",
       "0               3.1                 Yes    Credit Card         Express   \n",
       "1               3.1                 Yes  Bank Transfer         Express   \n",
       "2               3.1                 Yes           Cash   Free Shipping   \n",
       "3               3.5                 Yes         PayPal    Next Day Air   \n",
       "4               2.7                 Yes           Cash   Free Shipping   \n",
       "...             ...                 ...            ...             ...   \n",
       "3895            4.2                  No           Cash  2-Day Shipping   \n",
       "3896            4.5                  No         PayPal    Store Pickup   \n",
       "3897            2.9                  No    Credit Card        Standard   \n",
       "3898            3.8                  No         PayPal         Express   \n",
       "3899            3.1                  No  Bank Transfer    Store Pickup   \n",
       "\n",
       "     Discount_Applied Promo_Code_Used  Previous_Purchases  \\\n",
       "0                 Yes             Yes                  14   \n",
       "1                 Yes             Yes                   2   \n",
       "2                 Yes             Yes                  23   \n",
       "3                 Yes             Yes                  49   \n",
       "4                 Yes             Yes                  31   \n",
       "...               ...             ...                 ...   \n",
       "3895               No              No                  32   \n",
       "3896               No              No                  41   \n",
       "3897               No              No                  24   \n",
       "3898               No              No                  24   \n",
       "3899               No              No                  33   \n",
       "\n",
       "     Preferred_Payment_Method Frequency_of_Purchases  \n",
       "0                       Venmo            Fortnightly  \n",
       "1                        Cash            Fortnightly  \n",
       "2                 Credit Card                 Weekly  \n",
       "3                      PayPal                 Weekly  \n",
       "4                      PayPal               Annually  \n",
       "...                       ...                    ...  \n",
       "3895                    Venmo                 Weekly  \n",
       "3896            Bank Transfer              Bi-Weekly  \n",
       "3897                    Venmo              Quarterly  \n",
       "3898                    Venmo                 Weekly  \n",
       "3899                    Venmo              Quarterly  \n",
       "\n",
       "[3900 rows x 19 columns]"
      ]
     },
     "execution_count": 4,
     "metadata": {},
     "output_type": "execute_result"
    }
   ],
   "source": [
    "query = \"SELECT * FROM dbo.shopping_trends\"\n",
    "df = pd.read_sql(query, conn)\n",
    "\n",
    "df "
   ]
  },
  {
   "cell_type": "code",
   "execution_count": 5,
   "id": "cd6c27d0",
   "metadata": {},
   "outputs": [
    {
     "data": {
      "text/plain": [
       "(3900, 19)"
      ]
     },
     "execution_count": 5,
     "metadata": {},
     "output_type": "execute_result"
    }
   ],
   "source": [
    "df.shape"
   ]
  },
  {
   "cell_type": "code",
   "execution_count": 6,
   "id": "cb23bc8f",
   "metadata": {},
   "outputs": [
    {
     "name": "stdout",
     "output_type": "stream",
     "text": [
      "<class 'pandas.core.frame.DataFrame'>\n",
      "RangeIndex: 3900 entries, 0 to 3899\n",
      "Data columns (total 19 columns):\n",
      " #   Column                    Non-Null Count  Dtype  \n",
      "---  ------                    --------------  -----  \n",
      " 0   Customer_ID               3900 non-null   int64  \n",
      " 1   Age                       3900 non-null   int64  \n",
      " 2   Gender                    3900 non-null   object \n",
      " 3   Item_Purchased            3900 non-null   object \n",
      " 4   Category                  3900 non-null   object \n",
      " 5   Purchase_Amount_USD       3900 non-null   int64  \n",
      " 6   Location                  3900 non-null   object \n",
      " 7   Size                      3900 non-null   object \n",
      " 8   Color                     3900 non-null   object \n",
      " 9   Season                    3900 non-null   object \n",
      " 10  Review_Rating             3900 non-null   float64\n",
      " 11  Subscription_Status       3900 non-null   object \n",
      " 12  Payment_Method            3900 non-null   object \n",
      " 13  Shipping_Type             3900 non-null   object \n",
      " 14  Discount_Applied          3900 non-null   object \n",
      " 15  Promo_Code_Used           3900 non-null   object \n",
      " 16  Previous_Purchases        3900 non-null   int64  \n",
      " 17  Preferred_Payment_Method  3900 non-null   object \n",
      " 18  Frequency_of_Purchases    3900 non-null   object \n",
      "dtypes: float64(1), int64(4), object(14)\n",
      "memory usage: 579.0+ KB\n"
     ]
    }
   ],
   "source": [
    "df.info()"
   ]
  },
  {
   "cell_type": "code",
   "execution_count": 7,
   "id": "12bcd241",
   "metadata": {},
   "outputs": [
    {
     "data": {
      "text/plain": [
       "np.int64(0)"
      ]
     },
     "execution_count": 7,
     "metadata": {},
     "output_type": "execute_result"
    }
   ],
   "source": [
    "df.duplicated().sum()"
   ]
  },
  {
   "cell_type": "code",
   "execution_count": 8,
   "id": "f4b36dc9",
   "metadata": {},
   "outputs": [
    {
     "data": {
      "text/html": [
       "<div>\n",
       "<style scoped>\n",
       "    .dataframe tbody tr th:only-of-type {\n",
       "        vertical-align: middle;\n",
       "    }\n",
       "\n",
       "    .dataframe tbody tr th {\n",
       "        vertical-align: top;\n",
       "    }\n",
       "\n",
       "    .dataframe thead th {\n",
       "        text-align: right;\n",
       "    }\n",
       "</style>\n",
       "<table border=\"1\" class=\"dataframe\">\n",
       "  <thead>\n",
       "    <tr style=\"text-align: right;\">\n",
       "      <th></th>\n",
       "      <th>Customer_ID</th>\n",
       "      <th>Age</th>\n",
       "      <th>Purchase_Amount_USD</th>\n",
       "      <th>Review_Rating</th>\n",
       "      <th>Previous_Purchases</th>\n",
       "    </tr>\n",
       "  </thead>\n",
       "  <tbody>\n",
       "    <tr>\n",
       "      <th>count</th>\n",
       "      <td>3900.000000</td>\n",
       "      <td>3900.000000</td>\n",
       "      <td>3900.000000</td>\n",
       "      <td>3900.000000</td>\n",
       "      <td>3900.000000</td>\n",
       "    </tr>\n",
       "    <tr>\n",
       "      <th>mean</th>\n",
       "      <td>1950.500000</td>\n",
       "      <td>44.068462</td>\n",
       "      <td>59.764359</td>\n",
       "      <td>3.749949</td>\n",
       "      <td>25.351538</td>\n",
       "    </tr>\n",
       "    <tr>\n",
       "      <th>std</th>\n",
       "      <td>1125.977353</td>\n",
       "      <td>15.207589</td>\n",
       "      <td>23.685392</td>\n",
       "      <td>0.716223</td>\n",
       "      <td>14.447125</td>\n",
       "    </tr>\n",
       "    <tr>\n",
       "      <th>min</th>\n",
       "      <td>1.000000</td>\n",
       "      <td>18.000000</td>\n",
       "      <td>20.000000</td>\n",
       "      <td>2.500000</td>\n",
       "      <td>1.000000</td>\n",
       "    </tr>\n",
       "    <tr>\n",
       "      <th>25%</th>\n",
       "      <td>975.750000</td>\n",
       "      <td>31.000000</td>\n",
       "      <td>39.000000</td>\n",
       "      <td>3.100000</td>\n",
       "      <td>13.000000</td>\n",
       "    </tr>\n",
       "    <tr>\n",
       "      <th>50%</th>\n",
       "      <td>1950.500000</td>\n",
       "      <td>44.000000</td>\n",
       "      <td>60.000000</td>\n",
       "      <td>3.700000</td>\n",
       "      <td>25.000000</td>\n",
       "    </tr>\n",
       "    <tr>\n",
       "      <th>75%</th>\n",
       "      <td>2925.250000</td>\n",
       "      <td>57.000000</td>\n",
       "      <td>81.000000</td>\n",
       "      <td>4.400000</td>\n",
       "      <td>38.000000</td>\n",
       "    </tr>\n",
       "    <tr>\n",
       "      <th>max</th>\n",
       "      <td>3900.000000</td>\n",
       "      <td>70.000000</td>\n",
       "      <td>100.000000</td>\n",
       "      <td>5.000000</td>\n",
       "      <td>50.000000</td>\n",
       "    </tr>\n",
       "  </tbody>\n",
       "</table>\n",
       "</div>"
      ],
      "text/plain": [
       "       Customer_ID          Age  Purchase_Amount_USD  Review_Rating  \\\n",
       "count  3900.000000  3900.000000          3900.000000    3900.000000   \n",
       "mean   1950.500000    44.068462            59.764359       3.749949   \n",
       "std    1125.977353    15.207589            23.685392       0.716223   \n",
       "min       1.000000    18.000000            20.000000       2.500000   \n",
       "25%     975.750000    31.000000            39.000000       3.100000   \n",
       "50%    1950.500000    44.000000            60.000000       3.700000   \n",
       "75%    2925.250000    57.000000            81.000000       4.400000   \n",
       "max    3900.000000    70.000000           100.000000       5.000000   \n",
       "\n",
       "       Previous_Purchases  \n",
       "count         3900.000000  \n",
       "mean            25.351538  \n",
       "std             14.447125  \n",
       "min              1.000000  \n",
       "25%             13.000000  \n",
       "50%             25.000000  \n",
       "75%             38.000000  \n",
       "max             50.000000  "
      ]
     },
     "execution_count": 8,
     "metadata": {},
     "output_type": "execute_result"
    }
   ],
   "source": [
    "df.describe()"
   ]
  },
  {
   "cell_type": "code",
   "execution_count": 9,
   "id": "c5867172",
   "metadata": {},
   "outputs": [
    {
     "data": {
      "text/plain": [
       "Customer_ID                 0\n",
       "Age                         0\n",
       "Gender                      0\n",
       "Item_Purchased              0\n",
       "Category                    0\n",
       "Purchase_Amount_USD         0\n",
       "Location                    0\n",
       "Size                        0\n",
       "Color                       0\n",
       "Season                      0\n",
       "Review_Rating               0\n",
       "Subscription_Status         0\n",
       "Payment_Method              0\n",
       "Shipping_Type               0\n",
       "Discount_Applied            0\n",
       "Promo_Code_Used             0\n",
       "Previous_Purchases          0\n",
       "Preferred_Payment_Method    0\n",
       "Frequency_of_Purchases      0\n",
       "dtype: int64"
      ]
     },
     "execution_count": 9,
     "metadata": {},
     "output_type": "execute_result"
    }
   ],
   "source": [
    "df.isna().sum()"
   ]
  },
  {
   "cell_type": "markdown",
   "id": "0316bc79",
   "metadata": {},
   "source": [
    "# Outlier Detection"
   ]
  },
  {
   "cell_type": "code",
   "execution_count": 10,
   "id": "ca54e56f",
   "metadata": {},
   "outputs": [
    {
     "data": {
      "application/vnd.plotly.v1+json": {
       "config": {
        "plotlyServerURL": "https://plot.ly"
       },
       "data": [
        {
         "alignmentgroup": "True",
         "hovertemplate": "Age=%{x}<extra></extra>",
         "legendgroup": "",
         "marker": {
          "color": "#636efa"
         },
         "name": "",
         "notched": false,
         "offsetgroup": "",
         "orientation": "h",
         "showlegend": false,
         "type": "box",
         "x": {
          "bdata": "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",
          "dtype": "i1"
         },
         "x0": " ",
         "xaxis": "x",
         "y0": " ",
         "yaxis": "y"
        }
       ],
       "layout": {
        "boxmode": "group",
        "legend": {
         "tracegroupgap": 0
        },
        "margin": {
         "t": 60
        },
        "template": {
         "data": {
          "bar": [
           {
            "error_x": {
             "color": "#2a3f5f"
            },
            "error_y": {
             "color": "#2a3f5f"
            },
            "marker": {
             "line": {
              "color": "white",
              "width": 0.5
             },
             "pattern": {
              "fillmode": "overlay",
              "size": 10,
              "solidity": 0.2
             }
            },
            "type": "bar"
           }
          ],
          "barpolar": [
           {
            "marker": {
             "line": {
              "color": "white",
              "width": 0.5
             },
             "pattern": {
              "fillmode": "overlay",
              "size": 10,
              "solidity": 0.2
             }
            },
            "type": "barpolar"
           }
          ],
          "carpet": [
           {
            "aaxis": {
             "endlinecolor": "#2a3f5f",
             "gridcolor": "#C8D4E3",
             "linecolor": "#C8D4E3",
             "minorgridcolor": "#C8D4E3",
             "startlinecolor": "#2a3f5f"
            },
            "baxis": {
             "endlinecolor": "#2a3f5f",
             "gridcolor": "#C8D4E3",
             "linecolor": "#C8D4E3",
             "minorgridcolor": "#C8D4E3",
             "startlinecolor": "#2a3f5f"
            },
            "type": "carpet"
           }
          ],
          "choropleth": [
           {
            "colorbar": {
             "outlinewidth": 0,
             "ticks": ""
            },
            "type": "choropleth"
           }
          ],
          "contour": [
           {
            "colorbar": {
             "outlinewidth": 0,
             "ticks": ""
            },
            "colorscale": [
             [
              0,
              "#0d0887"
             ],
             [
              0.1111111111111111,
              "#46039f"
             ],
             [
              0.2222222222222222,
              "#7201a8"
             ],
             [
              0.3333333333333333,
              "#9c179e"
             ],
             [
              0.4444444444444444,
              "#bd3786"
             ],
             [
              0.5555555555555556,
              "#d8576b"
             ],
             [
              0.6666666666666666,
              "#ed7953"
             ],
             [
              0.7777777777777778,
              "#fb9f3a"
             ],
             [
              0.8888888888888888,
              "#fdca26"
             ],
             [
              1,
              "#f0f921"
             ]
            ],
            "type": "contour"
           }
          ],
          "contourcarpet": [
           {
            "colorbar": {
             "outlinewidth": 0,
             "ticks": ""
            },
            "type": "contourcarpet"
           }
          ],
          "heatmap": [
           {
            "colorbar": {
             "outlinewidth": 0,
             "ticks": ""
            },
            "colorscale": [
             [
              0,
              "#0d0887"
             ],
             [
              0.1111111111111111,
              "#46039f"
             ],
             [
              0.2222222222222222,
              "#7201a8"
             ],
             [
              0.3333333333333333,
              "#9c179e"
             ],
             [
              0.4444444444444444,
              "#bd3786"
             ],
             [
              0.5555555555555556,
              "#d8576b"
             ],
             [
              0.6666666666666666,
              "#ed7953"
             ],
             [
              0.7777777777777778,
              "#fb9f3a"
             ],
             [
              0.8888888888888888,
              "#fdca26"
             ],
             [
              1,
              "#f0f921"
             ]
            ],
            "type": "heatmap"
           }
          ],
          "histogram": [
           {
            "marker": {
             "pattern": {
              "fillmode": "overlay",
              "size": 10,
              "solidity": 0.2
             }
            },
            "type": "histogram"
           }
          ],
          "histogram2d": [
           {
            "colorbar": {
             "outlinewidth": 0,
             "ticks": ""
            },
            "colorscale": [
             [
              0,
              "#0d0887"
             ],
             [
              0.1111111111111111,
              "#46039f"
             ],
             [
              0.2222222222222222,
              "#7201a8"
             ],
             [
              0.3333333333333333,
              "#9c179e"
             ],
             [
              0.4444444444444444,
              "#bd3786"
             ],
             [
              0.5555555555555556,
              "#d8576b"
             ],
             [
              0.6666666666666666,
              "#ed7953"
             ],
             [
              0.7777777777777778,
              "#fb9f3a"
             ],
             [
              0.8888888888888888,
              "#fdca26"
             ],
             [
              1,
              "#f0f921"
             ]
            ],
            "type": "histogram2d"
           }
          ],
          "histogram2dcontour": [
           {
            "colorbar": {
             "outlinewidth": 0,
             "ticks": ""
            },
            "colorscale": [
             [
              0,
              "#0d0887"
             ],
             [
              0.1111111111111111,
              "#46039f"
             ],
             [
              0.2222222222222222,
              "#7201a8"
             ],
             [
              0.3333333333333333,
              "#9c179e"
             ],
             [
              0.4444444444444444,
              "#bd3786"
             ],
             [
              0.5555555555555556,
              "#d8576b"
             ],
             [
              0.6666666666666666,
              "#ed7953"
             ],
             [
              0.7777777777777778,
              "#fb9f3a"
             ],
             [
              0.8888888888888888,
              "#fdca26"
             ],
             [
              1,
              "#f0f921"
             ]
            ],
            "type": "histogram2dcontour"
           }
          ],
          "mesh3d": [
           {
            "colorbar": {
             "outlinewidth": 0,
             "ticks": ""
            },
            "type": "mesh3d"
           }
          ],
          "parcoords": [
           {
            "line": {
             "colorbar": {
              "outlinewidth": 0,
              "ticks": ""
             }
            },
            "type": "parcoords"
           }
          ],
          "pie": [
           {
            "automargin": true,
            "type": "pie"
           }
          ],
          "scatter": [
           {
            "fillpattern": {
             "fillmode": "overlay",
             "size": 10,
             "solidity": 0.2
            },
            "type": "scatter"
           }
          ],
          "scatter3d": [
           {
            "line": {
             "colorbar": {
              "outlinewidth": 0,
              "ticks": ""
             }
            },
            "marker": {
             "colorbar": {
              "outlinewidth": 0,
              "ticks": ""
             }
            },
            "type": "scatter3d"
           }
          ],
          "scattercarpet": [
           {
            "marker": {
             "colorbar": {
              "outlinewidth": 0,
              "ticks": ""
             }
            },
            "type": "scattercarpet"
           }
          ],
          "scattergeo": [
           {
            "marker": {
             "colorbar": {
              "outlinewidth": 0,
              "ticks": ""
             }
            },
            "type": "scattergeo"
           }
          ],
          "scattergl": [
           {
            "marker": {
             "colorbar": {
              "outlinewidth": 0,
              "ticks": ""
             }
            },
            "type": "scattergl"
           }
          ],
          "scattermap": [
           {
            "marker": {
             "colorbar": {
              "outlinewidth": 0,
              "ticks": ""
             }
            },
            "type": "scattermap"
           }
          ],
          "scattermapbox": [
           {
            "marker": {
             "colorbar": {
              "outlinewidth": 0,
              "ticks": ""
             }
            },
            "type": "scattermapbox"
           }
          ],
          "scatterpolar": [
           {
            "marker": {
             "colorbar": {
              "outlinewidth": 0,
              "ticks": ""
             }
            },
            "type": "scatterpolar"
           }
          ],
          "scatterpolargl": [
           {
            "marker": {
             "colorbar": {
              "outlinewidth": 0,
              "ticks": ""
             }
            },
            "type": "scatterpolargl"
           }
          ],
          "scatterternary": [
           {
            "marker": {
             "colorbar": {
              "outlinewidth": 0,
              "ticks": ""
             }
            },
            "type": "scatterternary"
           }
          ],
          "surface": [
           {
            "colorbar": {
             "outlinewidth": 0,
             "ticks": ""
            },
            "colorscale": [
             [
              0,
              "#0d0887"
             ],
             [
              0.1111111111111111,
              "#46039f"
             ],
             [
              0.2222222222222222,
              "#7201a8"
             ],
             [
              0.3333333333333333,
              "#9c179e"
             ],
             [
              0.4444444444444444,
              "#bd3786"
             ],
             [
              0.5555555555555556,
              "#d8576b"
             ],
             [
              0.6666666666666666,
              "#ed7953"
             ],
             [
              0.7777777777777778,
              "#fb9f3a"
             ],
             [
              0.8888888888888888,
              "#fdca26"
             ],
             [
              1,
              "#f0f921"
             ]
            ],
            "type": "surface"
           }
          ],
          "table": [
           {
            "cells": {
             "fill": {
              "color": "#EBF0F8"
             },
             "line": {
              "color": "white"
             }
            },
            "header": {
             "fill": {
              "color": "#C8D4E3"
             },
             "line": {
              "color": "white"
             }
            },
            "type": "table"
           }
          ]
         },
         "layout": {
          "annotationdefaults": {
           "arrowcolor": "#2a3f5f",
           "arrowhead": 0,
           "arrowwidth": 1
          },
          "autotypenumbers": "strict",
          "coloraxis": {
           "colorbar": {
            "outlinewidth": 0,
            "ticks": ""
           }
          },
          "colorscale": {
           "diverging": [
            [
             0,
             "#8e0152"
            ],
            [
             0.1,
             "#c51b7d"
            ],
            [
             0.2,
             "#de77ae"
            ],
            [
             0.3,
             "#f1b6da"
            ],
            [
             0.4,
             "#fde0ef"
            ],
            [
             0.5,
             "#f7f7f7"
            ],
            [
             0.6,
             "#e6f5d0"
            ],
            [
             0.7,
             "#b8e186"
            ],
            [
             0.8,
             "#7fbc41"
            ],
            [
             0.9,
             "#4d9221"
            ],
            [
             1,
             "#276419"
            ]
           ],
           "sequential": [
            [
             0,
             "#0d0887"
            ],
            [
             0.1111111111111111,
             "#46039f"
            ],
            [
             0.2222222222222222,
             "#7201a8"
            ],
            [
             0.3333333333333333,
             "#9c179e"
            ],
            [
             0.4444444444444444,
             "#bd3786"
            ],
            [
             0.5555555555555556,
             "#d8576b"
            ],
            [
             0.6666666666666666,
             "#ed7953"
            ],
            [
             0.7777777777777778,
             "#fb9f3a"
            ],
            [
             0.8888888888888888,
             "#fdca26"
            ],
            [
             1,
             "#f0f921"
            ]
           ],
           "sequentialminus": [
            [
             0,
             "#0d0887"
            ],
            [
             0.1111111111111111,
             "#46039f"
            ],
            [
             0.2222222222222222,
             "#7201a8"
            ],
            [
             0.3333333333333333,
             "#9c179e"
            ],
            [
             0.4444444444444444,
             "#bd3786"
            ],
            [
             0.5555555555555556,
             "#d8576b"
            ],
            [
             0.6666666666666666,
             "#ed7953"
            ],
            [
             0.7777777777777778,
             "#fb9f3a"
            ],
            [
             0.8888888888888888,
             "#fdca26"
            ],
            [
             1,
             "#f0f921"
            ]
           ]
          },
          "colorway": [
           "#636efa",
           "#EF553B",
           "#00cc96",
           "#ab63fa",
           "#FFA15A",
           "#19d3f3",
           "#FF6692",
           "#B6E880",
           "#FF97FF",
           "#FECB52"
          ],
          "font": {
           "color": "#2a3f5f"
          },
          "geo": {
           "bgcolor": "white",
           "lakecolor": "white",
           "landcolor": "white",
           "showlakes": true,
           "showland": true,
           "subunitcolor": "#C8D4E3"
          },
          "hoverlabel": {
           "align": "left"
          },
          "hovermode": "closest",
          "mapbox": {
           "style": "light"
          },
          "paper_bgcolor": "white",
          "plot_bgcolor": "white",
          "polar": {
           "angularaxis": {
            "gridcolor": "#EBF0F8",
            "linecolor": "#EBF0F8",
            "ticks": ""
           },
           "bgcolor": "white",
           "radialaxis": {
            "gridcolor": "#EBF0F8",
            "linecolor": "#EBF0F8",
            "ticks": ""
           }
          },
          "scene": {
           "xaxis": {
            "backgroundcolor": "white",
            "gridcolor": "#DFE8F3",
            "gridwidth": 2,
            "linecolor": "#EBF0F8",
            "showbackground": true,
            "ticks": "",
            "zerolinecolor": "#EBF0F8"
           },
           "yaxis": {
            "backgroundcolor": "white",
            "gridcolor": "#DFE8F3",
            "gridwidth": 2,
            "linecolor": "#EBF0F8",
            "showbackground": true,
            "ticks": "",
            "zerolinecolor": "#EBF0F8"
           },
           "zaxis": {
            "backgroundcolor": "white",
            "gridcolor": "#DFE8F3",
            "gridwidth": 2,
            "linecolor": "#EBF0F8",
            "showbackground": true,
            "ticks": "",
            "zerolinecolor": "#EBF0F8"
           }
          },
          "shapedefaults": {
           "line": {
            "color": "#2a3f5f"
           }
          },
          "ternary": {
           "aaxis": {
            "gridcolor": "#DFE8F3",
            "linecolor": "#A2B1C6",
            "ticks": ""
           },
           "baxis": {
            "gridcolor": "#DFE8F3",
            "linecolor": "#A2B1C6",
            "ticks": ""
           },
           "bgcolor": "white",
           "caxis": {
            "gridcolor": "#DFE8F3",
            "linecolor": "#A2B1C6",
            "ticks": ""
           }
          },
          "title": {
           "x": 0.05
          },
          "xaxis": {
           "automargin": true,
           "gridcolor": "#EBF0F8",
           "linecolor": "#EBF0F8",
           "ticks": "",
           "title": {
            "standoff": 15
           },
           "zerolinecolor": "#EBF0F8",
           "zerolinewidth": 2
          },
          "yaxis": {
           "automargin": true,
           "gridcolor": "#EBF0F8",
           "linecolor": "#EBF0F8",
           "ticks": "",
           "title": {
            "standoff": 15
           },
           "zerolinecolor": "#EBF0F8",
           "zerolinewidth": 2
          }
         }
        },
        "xaxis": {
         "anchor": "y",
         "domain": [
          0,
          1
         ],
         "title": {
          "text": "Age"
         }
        },
        "yaxis": {
         "anchor": "x",
         "domain": [
          0,
          1
         ]
        }
       }
      }
     },
     "metadata": {},
     "output_type": "display_data"
    },
    {
     "data": {
      "application/vnd.plotly.v1+json": {
       "config": {
        "plotlyServerURL": "https://plot.ly"
       },
       "data": [
        {
         "alignmentgroup": "True",
         "hovertemplate": "Purchase_Amount_USD=%{x}<extra></extra>",
         "legendgroup": "",
         "marker": {
          "color": "#636efa"
         },
         "name": "",
         "notched": false,
         "offsetgroup": "",
         "orientation": "h",
         "showlegend": false,
         "type": "box",
         "x": {
          "bdata": "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",
          "dtype": "i1"
         },
         "x0": " ",
         "xaxis": "x",
         "y0": " ",
         "yaxis": "y"
        }
       ],
       "layout": {
        "boxmode": "group",
        "legend": {
         "tracegroupgap": 0
        },
        "margin": {
         "t": 60
        },
        "template": {
         "data": {
          "bar": [
           {
            "error_x": {
             "color": "#2a3f5f"
            },
            "error_y": {
             "color": "#2a3f5f"
            },
            "marker": {
             "line": {
              "color": "white",
              "width": 0.5
             },
             "pattern": {
              "fillmode": "overlay",
              "size": 10,
              "solidity": 0.2
             }
            },
            "type": "bar"
           }
          ],
          "barpolar": [
           {
            "marker": {
             "line": {
              "color": "white",
              "width": 0.5
             },
             "pattern": {
              "fillmode": "overlay",
              "size": 10,
              "solidity": 0.2
             }
            },
            "type": "barpolar"
           }
          ],
          "carpet": [
           {
            "aaxis": {
             "endlinecolor": "#2a3f5f",
             "gridcolor": "#C8D4E3",
             "linecolor": "#C8D4E3",
             "minorgridcolor": "#C8D4E3",
             "startlinecolor": "#2a3f5f"
            },
            "baxis": {
             "endlinecolor": "#2a3f5f",
             "gridcolor": "#C8D4E3",
             "linecolor": "#C8D4E3",
             "minorgridcolor": "#C8D4E3",
             "startlinecolor": "#2a3f5f"
            },
            "type": "carpet"
           }
          ],
          "choropleth": [
           {
            "colorbar": {
             "outlinewidth": 0,
             "ticks": ""
            },
            "type": "choropleth"
           }
          ],
          "contour": [
           {
            "colorbar": {
             "outlinewidth": 0,
             "ticks": ""
            },
            "colorscale": [
             [
              0,
              "#0d0887"
             ],
             [
              0.1111111111111111,
              "#46039f"
             ],
             [
              0.2222222222222222,
              "#7201a8"
             ],
             [
              0.3333333333333333,
              "#9c179e"
             ],
             [
              0.4444444444444444,
              "#bd3786"
             ],
             [
              0.5555555555555556,
              "#d8576b"
             ],
             [
              0.6666666666666666,
              "#ed7953"
             ],
             [
              0.7777777777777778,
              "#fb9f3a"
             ],
             [
              0.8888888888888888,
              "#fdca26"
             ],
             [
              1,
              "#f0f921"
             ]
            ],
            "type": "contour"
           }
          ],
          "contourcarpet": [
           {
            "colorbar": {
             "outlinewidth": 0,
             "ticks": ""
            },
            "type": "contourcarpet"
           }
          ],
          "heatmap": [
           {
            "colorbar": {
             "outlinewidth": 0,
             "ticks": ""
            },
            "colorscale": [
             [
              0,
              "#0d0887"
             ],
             [
              0.1111111111111111,
              "#46039f"
             ],
             [
              0.2222222222222222,
              "#7201a8"
             ],
             [
              0.3333333333333333,
              "#9c179e"
             ],
             [
              0.4444444444444444,
              "#bd3786"
             ],
             [
              0.5555555555555556,
              "#d8576b"
             ],
             [
              0.6666666666666666,
              "#ed7953"
             ],
             [
              0.7777777777777778,
              "#fb9f3a"
             ],
             [
              0.8888888888888888,
              "#fdca26"
             ],
             [
              1,
              "#f0f921"
             ]
            ],
            "type": "heatmap"
           }
          ],
          "histogram": [
           {
            "marker": {
             "pattern": {
              "fillmode": "overlay",
              "size": 10,
              "solidity": 0.2
             }
            },
            "type": "histogram"
           }
          ],
          "histogram2d": [
           {
            "colorbar": {
             "outlinewidth": 0,
             "ticks": ""
            },
            "colorscale": [
             [
              0,
              "#0d0887"
             ],
             [
              0.1111111111111111,
              "#46039f"
             ],
             [
              0.2222222222222222,
              "#7201a8"
             ],
             [
              0.3333333333333333,
              "#9c179e"
             ],
             [
              0.4444444444444444,
              "#bd3786"
             ],
             [
              0.5555555555555556,
              "#d8576b"
             ],
             [
              0.6666666666666666,
              "#ed7953"
             ],
             [
              0.7777777777777778,
              "#fb9f3a"
             ],
             [
              0.8888888888888888,
              "#fdca26"
             ],
             [
              1,
              "#f0f921"
             ]
            ],
            "type": "histogram2d"
           }
          ],
          "histogram2dcontour": [
           {
            "colorbar": {
             "outlinewidth": 0,
             "ticks": ""
            },
            "colorscale": [
             [
              0,
              "#0d0887"
             ],
             [
              0.1111111111111111,
              "#46039f"
             ],
             [
              0.2222222222222222,
              "#7201a8"
             ],
             [
              0.3333333333333333,
              "#9c179e"
             ],
             [
              0.4444444444444444,
              "#bd3786"
             ],
             [
              0.5555555555555556,
              "#d8576b"
             ],
             [
              0.6666666666666666,
              "#ed7953"
             ],
             [
              0.7777777777777778,
              "#fb9f3a"
             ],
             [
              0.8888888888888888,
              "#fdca26"
             ],
             [
              1,
              "#f0f921"
             ]
            ],
            "type": "histogram2dcontour"
           }
          ],
          "mesh3d": [
           {
            "colorbar": {
             "outlinewidth": 0,
             "ticks": ""
            },
            "type": "mesh3d"
           }
          ],
          "parcoords": [
           {
            "line": {
             "colorbar": {
              "outlinewidth": 0,
              "ticks": ""
             }
            },
            "type": "parcoords"
           }
          ],
          "pie": [
           {
            "automargin": true,
            "type": "pie"
           }
          ],
          "scatter": [
           {
            "fillpattern": {
             "fillmode": "overlay",
             "size": 10,
             "solidity": 0.2
            },
            "type": "scatter"
           }
          ],
          "scatter3d": [
           {
            "line": {
             "colorbar": {
              "outlinewidth": 0,
              "ticks": ""
             }
            },
            "marker": {
             "colorbar": {
              "outlinewidth": 0,
              "ticks": ""
             }
            },
            "type": "scatter3d"
           }
          ],
          "scattercarpet": [
           {
            "marker": {
             "colorbar": {
              "outlinewidth": 0,
              "ticks": ""
             }
            },
            "type": "scattercarpet"
           }
          ],
          "scattergeo": [
           {
            "marker": {
             "colorbar": {
              "outlinewidth": 0,
              "ticks": ""
             }
            },
            "type": "scattergeo"
           }
          ],
          "scattergl": [
           {
            "marker": {
             "colorbar": {
              "outlinewidth": 0,
              "ticks": ""
             }
            },
            "type": "scattergl"
           }
          ],
          "scattermap": [
           {
            "marker": {
             "colorbar": {
              "outlinewidth": 0,
              "ticks": ""
             }
            },
            "type": "scattermap"
           }
          ],
          "scattermapbox": [
           {
            "marker": {
             "colorbar": {
              "outlinewidth": 0,
              "ticks": ""
             }
            },
            "type": "scattermapbox"
           }
          ],
          "scatterpolar": [
           {
            "marker": {
             "colorbar": {
              "outlinewidth": 0,
              "ticks": ""
             }
            },
            "type": "scatterpolar"
           }
          ],
          "scatterpolargl": [
           {
            "marker": {
             "colorbar": {
              "outlinewidth": 0,
              "ticks": ""
             }
            },
            "type": "scatterpolargl"
           }
          ],
          "scatterternary": [
           {
            "marker": {
             "colorbar": {
              "outlinewidth": 0,
              "ticks": ""
             }
            },
            "type": "scatterternary"
           }
          ],
          "surface": [
           {
            "colorbar": {
             "outlinewidth": 0,
             "ticks": ""
            },
            "colorscale": [
             [
              0,
              "#0d0887"
             ],
             [
              0.1111111111111111,
              "#46039f"
             ],
             [
              0.2222222222222222,
              "#7201a8"
             ],
             [
              0.3333333333333333,
              "#9c179e"
             ],
             [
              0.4444444444444444,
              "#bd3786"
             ],
             [
              0.5555555555555556,
              "#d8576b"
             ],
             [
              0.6666666666666666,
              "#ed7953"
             ],
             [
              0.7777777777777778,
              "#fb9f3a"
             ],
             [
              0.8888888888888888,
              "#fdca26"
             ],
             [
              1,
              "#f0f921"
             ]
            ],
            "type": "surface"
           }
          ],
          "table": [
           {
            "cells": {
             "fill": {
              "color": "#EBF0F8"
             },
             "line": {
              "color": "white"
             }
            },
            "header": {
             "fill": {
              "color": "#C8D4E3"
             },
             "line": {
              "color": "white"
             }
            },
            "type": "table"
           }
          ]
         },
         "layout": {
          "annotationdefaults": {
           "arrowcolor": "#2a3f5f",
           "arrowhead": 0,
           "arrowwidth": 1
          },
          "autotypenumbers": "strict",
          "coloraxis": {
           "colorbar": {
            "outlinewidth": 0,
            "ticks": ""
           }
          },
          "colorscale": {
           "diverging": [
            [
             0,
             "#8e0152"
            ],
            [
             0.1,
             "#c51b7d"
            ],
            [
             0.2,
             "#de77ae"
            ],
            [
             0.3,
             "#f1b6da"
            ],
            [
             0.4,
             "#fde0ef"
            ],
            [
             0.5,
             "#f7f7f7"
            ],
            [
             0.6,
             "#e6f5d0"
            ],
            [
             0.7,
             "#b8e186"
            ],
            [
             0.8,
             "#7fbc41"
            ],
            [
             0.9,
             "#4d9221"
            ],
            [
             1,
             "#276419"
            ]
           ],
           "sequential": [
            [
             0,
             "#0d0887"
            ],
            [
             0.1111111111111111,
             "#46039f"
            ],
            [
             0.2222222222222222,
             "#7201a8"
            ],
            [
             0.3333333333333333,
             "#9c179e"
            ],
            [
             0.4444444444444444,
             "#bd3786"
            ],
            [
             0.5555555555555556,
             "#d8576b"
            ],
            [
             0.6666666666666666,
             "#ed7953"
            ],
            [
             0.7777777777777778,
             "#fb9f3a"
            ],
            [
             0.8888888888888888,
             "#fdca26"
            ],
            [
             1,
             "#f0f921"
            ]
           ],
           "sequentialminus": [
            [
             0,
             "#0d0887"
            ],
            [
             0.1111111111111111,
             "#46039f"
            ],
            [
             0.2222222222222222,
             "#7201a8"
            ],
            [
             0.3333333333333333,
             "#9c179e"
            ],
            [
             0.4444444444444444,
             "#bd3786"
            ],
            [
             0.5555555555555556,
             "#d8576b"
            ],
            [
             0.6666666666666666,
             "#ed7953"
            ],
            [
             0.7777777777777778,
             "#fb9f3a"
            ],
            [
             0.8888888888888888,
             "#fdca26"
            ],
            [
             1,
             "#f0f921"
            ]
           ]
          },
          "colorway": [
           "#636efa",
           "#EF553B",
           "#00cc96",
           "#ab63fa",
           "#FFA15A",
           "#19d3f3",
           "#FF6692",
           "#B6E880",
           "#FF97FF",
           "#FECB52"
          ],
          "font": {
           "color": "#2a3f5f"
          },
          "geo": {
           "bgcolor": "white",
           "lakecolor": "white",
           "landcolor": "white",
           "showlakes": true,
           "showland": true,
           "subunitcolor": "#C8D4E3"
          },
          "hoverlabel": {
           "align": "left"
          },
          "hovermode": "closest",
          "mapbox": {
           "style": "light"
          },
          "paper_bgcolor": "white",
          "plot_bgcolor": "white",
          "polar": {
           "angularaxis": {
            "gridcolor": "#EBF0F8",
            "linecolor": "#EBF0F8",
            "ticks": ""
           },
           "bgcolor": "white",
           "radialaxis": {
            "gridcolor": "#EBF0F8",
            "linecolor": "#EBF0F8",
            "ticks": ""
           }
          },
          "scene": {
           "xaxis": {
            "backgroundcolor": "white",
            "gridcolor": "#DFE8F3",
            "gridwidth": 2,
            "linecolor": "#EBF0F8",
            "showbackground": true,
            "ticks": "",
            "zerolinecolor": "#EBF0F8"
           },
           "yaxis": {
            "backgroundcolor": "white",
            "gridcolor": "#DFE8F3",
            "gridwidth": 2,
            "linecolor": "#EBF0F8",
            "showbackground": true,
            "ticks": "",
            "zerolinecolor": "#EBF0F8"
           },
           "zaxis": {
            "backgroundcolor": "white",
            "gridcolor": "#DFE8F3",
            "gridwidth": 2,
            "linecolor": "#EBF0F8",
            "showbackground": true,
            "ticks": "",
            "zerolinecolor": "#EBF0F8"
           }
          },
          "shapedefaults": {
           "line": {
            "color": "#2a3f5f"
           }
          },
          "ternary": {
           "aaxis": {
            "gridcolor": "#DFE8F3",
            "linecolor": "#A2B1C6",
            "ticks": ""
           },
           "baxis": {
            "gridcolor": "#DFE8F3",
            "linecolor": "#A2B1C6",
            "ticks": ""
           },
           "bgcolor": "white",
           "caxis": {
            "gridcolor": "#DFE8F3",
            "linecolor": "#A2B1C6",
            "ticks": ""
           }
          },
          "title": {
           "x": 0.05
          },
          "xaxis": {
           "automargin": true,
           "gridcolor": "#EBF0F8",
           "linecolor": "#EBF0F8",
           "ticks": "",
           "title": {
            "standoff": 15
           },
           "zerolinecolor": "#EBF0F8",
           "zerolinewidth": 2
          },
          "yaxis": {
           "automargin": true,
           "gridcolor": "#EBF0F8",
           "linecolor": "#EBF0F8",
           "ticks": "",
           "title": {
            "standoff": 15
           },
           "zerolinecolor": "#EBF0F8",
           "zerolinewidth": 2
          }
         }
        },
        "xaxis": {
         "anchor": "y",
         "domain": [
          0,
          1
         ],
         "title": {
          "text": "Purchase_Amount_USD"
         }
        },
        "yaxis": {
         "anchor": "x",
         "domain": [
          0,
          1
         ]
        }
       }
      }
     },
     "metadata": {},
     "output_type": "display_data"
    },
    {
     "data": {
      "application/vnd.plotly.v1+json": {
       "config": {
        "plotlyServerURL": "https://plot.ly"
       },
       "data": [
        {
         "alignmentgroup": "True",
         "hovertemplate": "Review_Rating=%{x}<extra></extra>",
         "legendgroup": "",
         "marker": {
          "color": "#636efa"
         },
         "name": "",
         "notched": false,
         "offsetgroup": "",
         "orientation": "h",
         "showlegend": false,
         "type": "box",
         "x": {
          "bdata": "AAAAwMzMCEAAAADAzMwIQAAAAMDMzAhAAAAAAAAADEAAAACgmZkFQAAAAEAzMwdAAAAAoJmZCUAAAACgmZkJQAAAAMDMzARAAAAAQDMzE0AAAABgZmYQQAAAAKCZmRNAAAAAAAAAEkAAAADAzMwSQAAAAMDMzBJAAAAAYGZmBkAAAABgZmYQQAAAAMDMzBJAAAAAYGZmEkAAAABgZmYKQAAAAGBmZgZAAAAAYGZmEEAAAACgmZkJQAAAAKCZmRFAAAAAQDMzB0AAAADAzMwMQAAAAMDMzAxAAAAAAAAAFEAAAACgmZkRQAAAAGBmZhBAAAAAwMzMEkAAAADAzMwSQAAAAKCZmRNAAAAAYGZmCkAAAABgZmYSQAAAAAAAABBAAAAAYGZmEkAAAABgZmYGQAAAAKCZmQ1AAAAAwMzMEEAAAABgZmYSQAAAAAAAABJAAAAAYGZmEEAAAACgmZkNQAAAAGBmZhJAAAAAQDMzB0AAAABAMzMHQAAAAAAAABJAAAAAoJmZBUAAAABgZmYSQAAAAKCZmQ1AAAAAwMzMEkAAAADAzMwEQAAAAEAzMw9AAAAAwMzMEEAAAAAAAAAIQAAAAMDMzBJAAAAAoJmZEUAAAADAzMwQQAAAAGBmZhJAAAAAAAAAEEAAAADAzMwSQAAAAGBmZg5AAAAAoJmZBUAAAABAMzMTQAAAAEAzMxNAAAAAwMzMEkAAAACgmZkRQAAAAEAzMw9AAAAAoJmZEUAAAADAzMwQQAAAAEAzMwdAAAAAQDMzB0AAAACgmZkFQAAAAAAAABJAAAAAoJmZBUAAAADAzMwQQAAAAGBmZgpAAAAAwMzMEkAAAADAzMwEQAAAAGBmZgpAAAAAwMzMBEAAAAAAAAAQQAAAAGBmZhBAAAAAoJmZEUAAAAAAAAASQAAAAKCZmQ1AAAAAoJmZDUAAAAAAAAAMQAAAAMDMzAxAAAAAQDMzB0AAAABgZmYSQAAAAKCZmRFAAAAAAAAAEkAAAABgZmYSQAAAAGBmZg5AAAAAwMzMDEAAAABAMzMTQAAAAMDMzARAAAAAoJmZDUAAAACgmZkFQAAAAGBmZhJAAAAAQDMzE0AAAAAAAAAQQAAAAKCZmRFAAAAAwMzMDEAAAACgmZkNQAAAAMDMzAhAAAAAQDMzC0AAAADAzMwEQAAAAAAAABBAAAAAAAAAFEAAAABAMzMRQAAAAMDMzAhAAAAAoJmZDUAAAABgZmYOQAAAAEAzMwtAAAAAYGZmEkAAAABAMzMTQAAAAEAzMxFAAAAAAAAAEEAAAADAzMwQQAAAAEAzMxNAAAAAwMzMCEAAAADAzMwIQAAAAMDMzAxAAAAAQDMzD0AAAABAMzMTQAAAAMDMzBJAAAAAwMzMEEAAAACgmZkNQAAAAEAzMw9AAAAAwMzMEkAAAAAAAAAEQAAAAKCZmRNAAAAAYGZmEEAAAABgZmYKQAAAAMDMzBJAAAAAoJmZEUAAAABgZmYOQAAAAEAzMw9AAAAAoJmZE0AAAADAzMwIQAAAAKCZmQVAAAAAoJmZCUAAAAAAAAASQAAAAAAAABBAAAAAAAAADEAAAADAzMwEQAAAAKCZmQlAAAAAoJmZE0AAAAAAAAASQAAAAEAzMxFAAAAAoJmZCUAAAADAzMwMQAAAAEAzMxFAAAAAAAAAEEAAAAAAAAAIQAAAAGBmZhBAAAAAYGZmDkAAAABgZmYSQAAAAAAAAAhAAAAAAAAACEAAAABAMzMLQAAAAMDMzARAAAAAYGZmBkAAAAAAAAAQQAAAAAAAABBAAAAAAAAACEAAAABgZmYKQAAAAMDMzARAAAAAwMzMDEAAAABAMzMPQAAAAEAzMwtAAAAAAAAADEAAAABgZmYGQAAAAKCZmQVAAAAAoJmZDUAAAABAMzMRQAAAAKCZmRNAAAAAYGZmCkAAAADAzMwSQAAAAGBmZgZAAAAAwMzMDEAAAAAAAAAIQAAAAAAAABJAAAAAQDMzB0AAAABgZmYKQAAAAMDMzAhAAAAAoJmZEUAAAAAAAAAIQAAAAEAzMw9AAAAAQDMzB0AAAAAAAAAIQAAAAMDMzAhAAAAAQDMzEUAAAABAMzMPQAAAAKCZmQlAAAAAQDMzE0AAAABgZmYOQAAAAGBmZgpAAAAAQDMzEUAAAACgmZkFQAAAAKCZmQlAAAAAAAAAEEAAAAAAAAAIQAAAAMDMzBBAAAAAQDMzB0AAAABgZmYQQAAAAKCZmQlAAAAAAAAACEAAAADAzMwQQAAAAMDMzBBAAAAAoJmZEUAAAADAzMwQQAAAAGBmZgZAAAAAoJmZDUAAAAAAAAAMQAAAAEAzMwdAAAAAAAAACEAAAACgmZkNQAAAAKCZmRFAAAAAAAAAEkAAAABAMzMTQAAAAEAzMwdAAAAAoJmZCUAAAABgZmYKQAAAAMDMzBBAAAAAQDMzB0AAAABgZmYSQAAAAGBmZhBAAAAAwMzMCEAAAADAzMwQQAAAAAAAABJAAAAAoJmZDUAAAACgmZkNQAAAAEAzMwtAAAAAAAAACEAAAADAzMwQQAAAAEAzMwdAAAAAAAAADEAAAABgZmYQQAAAAEAzMxFAAAAAYGZmBkAAAACgmZkTQAAAAGBmZgpAAAAAoJmZCUAAAACgmZkRQAAAAEAzMxNAAAAAwMzMEEAAAAAAAAAQQAAAAAAAAARAAAAAQDMzD0AAAACgmZkTQAAAAAAAAAxAAAAAwMzMEEAAAADAzMwSQAAAAAAAABJAAAAAYGZmBkAAAABAMzMHQAAAAKCZmQlAAAAAoJmZE0AAAACgmZkNQAAAAEAzMxFAAAAAQDMzD0AAAACgmZkJQAAAAMDMzAhAAAAAQDMzD0AAAADAzMwEQAAAAGBmZgpAAAAAYGZmEkAAAABgZmYSQAAAAKCZmRFAAAAAwMzMEEAAAAAAAAAIQAAAAAAAABBAAAAAAAAADEAAAAAAAAAIQAAAAKCZmQ1AAAAAAAAAEEAAAADAzMwQQAAAAAAAAARAAAAAAAAACEAAAACgmZkJQAAAAAAAAAxAAAAAQDMzE0AAAADAzMwEQAAAAEAzMwtAAAAAoJmZDUAAAAAAAAASQAAAAKCZmQ1AAAAAYGZmCkAAAADAzMwSQAAAAKCZmQVAAAAAYGZmEkAAAACgmZkFQAAAAEAzMxNAAAAAoJmZEUAAAAAAAAAQQAAAAKCZmQlAAAAAoJmZEUAAAABgZmYOQAAAAMDMzAxAAAAAYGZmCkAAAABAMzMLQAAAAAAAAAxAAAAAwMzMDEAAAACgmZkJQAAAAKCZmQ1AAAAAAAAAEkAAAABgZmYSQAAAAGBmZhBAAAAAQDMzC0AAAACgmZkNQAAAAGBmZgpAAAAAAAAAEkAAAABgZmYKQAAAAEAzMxFAAAAAAAAABEAAAADAzMwEQAAAAKCZmRNAAAAAwMzMEkAAAAAAAAAIQAAAAAAAAAxAAAAAQDMzE0AAAABAMzMRQAAAAKCZmQlAAAAAwMzMCEAAAABgZmYGQAAAAEAzMwdAAAAAoJmZDUAAAABgZmYKQAAAAGBmZgZAAAAAAAAAEkAAAADAzMwEQAAAAKCZmQ1AAAAAoJmZEUAAAABAMzMRQAAAAAAAAAxAAAAAYGZmDkAAAAAAAAAMQAAAAGBmZhJAAAAAwMzMBEAAAACgmZkRQAAAAAAAABBAAAAAoJmZEUAAAADAzMwSQAAAAEAzMw9AAAAAoJmZBUAAAACgmZkNQAAAAMDMzARAAAAAQDMzD0AAAACgmZkTQAAAAGBmZhBAAAAAAAAACEAAAABgZmYQQAAAAGBmZg5AAAAAAAAAEEAAAADAzMwMQAAAAAAAAAhAAAAAAAAACEAAAADAzMwEQAAAAEAzMwtAAAAAwMzMCEAAAAAAAAAIQAAAAKCZmQ1AAAAAAAAADEAAAABgZmYGQAAAAAAAABJAAAAAYGZmCkAAAABAMzMLQAAAAKCZmQlAAAAAoJmZDUAAAABgZmYSQAAAAAAAABRAAAAAoJmZEUAAAACgmZkTQAAAAGBmZhBAAAAAoJmZE0AAAADAzMwSQAAAAAAAAAhAAAAAQDMzC0AAAACgmZkJQAAAAEAzMwdAAAAAAAAAEkAAAACgmZkFQAAAAEAzMwtAAAAAYGZmEkAAAACgmZkFQAAAAMDMzBBAAAAAoJmZCUAAAABAMzMTQAAAAGBmZgpAAAAAwMzMEEAAAABAMzMTQAAAAKCZmRNAAAAAQDMzD0AAAAAAAAAIQAAAAGBmZhJAAAAAAAAADEAAAABAMzMTQAAAAEAzMxNAAAAAAAAACEAAAAAAAAASQAAAAEAzMxNAAAAAYGZmDkAAAABgZmYSQAAAAMDMzAhAAAAAQDMzC0AAAABgZmYKQAAAAEAzMxNAAAAAYGZmBkAAAADAzMwIQAAAAGBmZhJAAAAAwMzMBEAAAADAzMwEQAAAAGBmZg5AAAAAAAAAEkAAAAAAAAAIQAAAAAAAAAxAAAAAYGZmDkAAAAAAAAAMQAAAAMDMzAhAAAAAAAAACEAAAABAMzMRQAAAAGBmZgpAAAAAwMzMEkAAAAAAAAASQAAAAEAzMwdAAAAAYGZmEEAAAAAAAAAMQAAAAEAzMwtAAAAAYGZmCkAAAACgmZkJQAAAAAAAABBAAAAAwMzMDEAAAABgZmYSQAAAAMDMzARAAAAAQDMzEUAAAABAMzMLQAAAAAAAAAxAAAAAwMzMEEAAAAAAAAAMQAAAAMDMzAxAAAAAQDMzEUAAAACgmZkTQAAAAGBmZhBAAAAAwMzMDEAAAABAMzMLQAAAAEAzMwdAAAAAoJmZBUAAAABAMzMRQAAAAGBmZgpAAAAAYGZmBkAAAACgmZkJQAAAAMDMzAxAAAAAAAAAEEAAAACgmZkTQAAAAAAAABBAAAAAYGZmDkAAAACgmZkNQAAAAEAzMw9AAAAAYGZmCkAAAACgmZkFQAAAAMDMzBJAAAAAYGZmBkAAAABgZmYSQAAAAAAAABJAAAAAAAAAFEAAAABgZmYQQAAAAGBmZhJAAAAAoJmZE0AAAABAMzMPQAAAAEAzMw9AAAAAwMzMBEAAAACgmZkFQAAAAAAAAAxAAAAAoJmZDUAAAACgmZkJQAAAAGBmZgpAAAAAQDMzE0AAAACgmZkJQAAAAAAAAARAAAAAQDMzD0AAAADAzMwSQAAAAMDMzARAAAAAYGZmBkAAAACgmZkRQAAAAGBmZhJAAAAAoJmZCUAAAADAzMwQQAAAAKCZmQ1AAAAAQDMzD0AAAADAzMwSQAAAAAAAABJAAAAAYGZmCkAAAABgZmYKQAAAAGBmZhJAAAAAwMzMDEAAAABAMzMTQAAAAEAzMxNAAAAAQDMzB0AAAABgZmYGQAAAAKCZmQlAAAAAQDMzD0AAAABAMzMRQAAAAKCZmQVAAAAAAAAAFEAAAACgmZkNQAAAAEAzMw9AAAAAQDMzD0AAAADAzMwIQAAAAGBmZgpAAAAAwMzMDEAAAABAMzMRQAAAAAAAABJAAAAAYGZmBkAAAACgmZkFQAAAAEAzMwdAAAAAoJmZEUAAAABAMzMPQAAAAAAAAAxAAAAAAAAABEAAAACgmZkTQAAAAEAzMxNAAAAAoJmZCUAAAACgmZkTQAAAAEAzMxFAAAAAoJmZCUAAAACgmZkNQAAAAKCZmQlAAAAAQDMzC0AAAABgZmYQQAAAAAAAABJAAAAAAAAAEkAAAACgmZkJQAAAAKCZmRFAAAAAAAAACEAAAACgmZkJQAAAAAAAABBAAAAAwMzMCEAAAABgZmYGQAAAAGBmZhJAAAAAQDMzEUAAAABgZmYKQAAAAAAAAAxAAAAAQDMzC0AAAABgZmYGQAAAAGBmZhJAAAAAwMzMDEAAAABgZmYKQAAAAMDMzAhAAAAAAAAADEAAAACgmZkJQAAAAAAAAAhAAAAAQDMzE0AAAAAAAAAUQAAAAEAzMwdAAAAAoJmZCUAAAABAMzMHQAAAAGBmZgpAAAAAwMzMBEAAAAAAAAAMQAAAAKCZmRFAAAAAQDMzC0AAAADAzMwQQAAAAMDMzAxAAAAAAAAACEAAAAAAAAAQQAAAAKCZmRFAAAAAYGZmEEAAAADAzMwMQAAAAGBmZhJAAAAAoJmZCUAAAABAMzMTQAAAAEAzMxNAAAAAAAAAFEAAAACgmZkNQAAAAGBmZhJAAAAAoJmZDUAAAABgZmYQQAAAAKCZmQVAAAAAoJmZE0AAAAAAAAAQQAAAAMDMzBJAAAAAYGZmBkAAAACgmZkTQAAAAMDMzBBAAAAAAAAACEAAAABAMzMLQAAAAGBmZhJAAAAAwMzMEEAAAACgmZkJQAAAAKCZmRFAAAAAAAAABEAAAADAzMwMQAAAAAAAABJAAAAAQDMzC0AAAACgmZkJQAAAAMDMzBBAAAAAAAAAFEAAAADAzMwSQAAAAMDMzBBAAAAAQDMzC0AAAACgmZkRQAAAAMDMzBBAAAAAAAAAEkAAAABgZmYGQAAAAGBmZgpAAAAAYGZmEkAAAAAAAAAEQAAAAMDMzBJAAAAAYGZmEkAAAADAzMwEQAAAAAAAABBAAAAAwMzMBEAAAABgZmYSQAAAAMDMzARAAAAAAAAAEEAAAABgZmYSQAAAAKCZmQ1AAAAAoJmZEUAAAAAAAAAQQAAAAMDMzBJAAAAAQDMzC0AAAAAAAAAQQAAAAEAzMw9AAAAAYGZmEEAAAACgmZkNQAAAAMDMzBJAAAAAQDMzEUAAAABgZmYQQAAAAEAzMw9AAAAAQDMzB0AAAABAMzMPQAAAAEAzMxFAAAAAYGZmBkAAAABAMzMLQAAAAKCZmQVAAAAAAAAAEEAAAACgmZkRQAAAAEAzMw9AAAAAYGZmBkAAAACgmZkJQAAAAEAzMxFAAAAAwMzMEEAAAACgmZkTQAAAAKCZmQ1AAAAAYGZmEEAAAADAzMwQQAAAAEAzMw9AAAAAQDMzB0AAAADAzMwIQAAAAMDMzAxAAAAAoJmZEUAAAADAzMwIQAAAAEAzMw9AAAAAQDMzEUAAAACgmZkTQAAAAMDMzAxAAAAAAAAAFEAAAABgZmYQQAAAAGBmZgZAAAAAwMzMEkAAAACgmZkRQAAAAKCZmRNAAAAAwMzMCEAAAADAzMwEQAAAAEAzMwdAAAAAYGZmCkAAAABAMzMTQAAAAMDMzBJAAAAAYGZmCkAAAADAzMwQQAAAAMDMzBJAAAAAwMzMBEAAAABAMzMHQAAAAKCZmQVAAAAAYGZmCkAAAABAMzMLQAAAAMDMzBBAAAAAYGZmDkAAAAAAAAAQQAAAAKCZmQVAAAAAwMzMEkAAAAAAAAAMQAAAAAAAAAhAAAAAYGZmCkAAAADAzMwSQAAAAMDMzBJAAAAAQDMzE0AAAABAMzMHQAAAAAAAABBAAAAAwMzMCEAAAAAAAAAMQAAAAKCZmQ1AAAAAYGZmBkAAAABgZmYSQAAAAGBmZg5AAAAAwMzMBEAAAABgZmYQQAAAAGBmZgpAAAAAQDMzC0AAAAAAAAAIQAAAAKCZmQlAAAAAAAAAEkAAAABAMzMTQAAAAKCZmQ1AAAAAQDMzC0AAAABgZmYSQAAAAGBmZhBAAAAAAAAADEAAAABgZmYOQAAAAMDMzARAAAAAoJmZEUAAAADAzMwEQAAAAMDMzAxAAAAAwMzMEEAAAABgZmYSQAAAAGBmZgpAAAAAQDMzC0AAAACgmZkRQAAAAEAzMxFAAAAAAAAADEAAAADAzMwSQAAAAMDMzAhAAAAAwMzMDEAAAABAMzMTQAAAAKCZmQ1AAAAAoJmZCUAAAABAMzMPQAAAAAAAAAxAAAAAYGZmBkAAAACgmZkFQAAAAMDMzAhAAAAAwMzMDEAAAABAMzMHQAAAAMDMzAxAAAAAAAAADEAAAAAAAAAMQAAAAGBmZgZAAAAAwMzMEkAAAADAzMwIQAAAAKCZmRNAAAAAYGZmEEAAAADAzMwSQAAAAAAAAARAAAAAoJmZEUAAAABAMzMPQAAAAKCZmQ1AAAAAQDMzC0AAAABAMzMTQAAAAMDMzBBAAAAAQDMzC0AAAABAMzMHQAAAAGBmZgpAAAAAQDMzE0AAAABgZmYOQAAAAGBmZhJAAAAAwMzMBEAAAABAMzMLQAAAAMDMzBBAAAAAQDMzD0AAAABAMzMHQAAAAMDMzBBAAAAAAAAACEAAAADAzMwMQAAAAAAAAARAAAAAwMzMBEAAAABAMzMRQAAAAGBmZgpAAAAAwMzMBEAAAADAzMwMQAAAAMDMzARAAAAAAAAADEAAAAAAAAAIQAAAAAAAABRAAAAAAAAABEAAAABAMzMHQAAAAGBmZhJAAAAAwMzMDEAAAAAAAAAIQAAAAAAAABJAAAAAAAAAEkAAAACgmZkJQAAAAAAAABBAAAAAQDMzE0AAAACgmZkNQAAAAGBmZg5AAAAAoJmZBUAAAACgmZkTQAAAAMDMzAhAAAAAwMzMEEAAAABgZmYOQAAAAMDMzBBAAAAAYGZmEkAAAAAAAAAQQAAAAAAAABBAAAAAYGZmDkAAAABgZmYKQAAAAMDMzARAAAAAoJmZE0AAAAAAAAAMQAAAAGBmZgZAAAAAwMzMBEAAAACgmZkNQAAAAKCZmQVAAAAAYGZmCkAAAABgZmYSQAAAAKCZmRNAAAAAoJmZE0AAAACgmZkFQAAAAKCZmQlAAAAAQDMzB0AAAABgZmYOQAAAAAAAAAhAAAAAQDMzD0AAAADAzMwSQAAAAKCZmRNAAAAAQDMzE0AAAAAAAAAEQAAAAEAzMw9AAAAAQDMzC0AAAAAAAAAEQAAAAAAAAAhAAAAAwMzMDEAAAADAzMwMQAAAAGBmZhBAAAAAoJmZDUAAAADAzMwIQAAAAMDMzBBAAAAAQDMzEUAAAAAAAAAEQAAAAAAAAAxAAAAAwMzMCEAAAAAAAAAEQAAAAEAzMw9AAAAAoJmZE0AAAABAMzMRQAAAAMDMzARAAAAAwMzMEEAAAADAzMwEQAAAAMDMzAxAAAAAoJmZCUAAAACgmZkRQAAAAKCZmQ1AAAAAoJmZDUAAAABgZmYQQAAAAMDMzAxAAAAAQDMzEUAAAADAzMwEQAAAAEAzMwdAAAAAwMzMEEAAAAAAAAAQQAAAAEAzMxFAAAAAAAAACEAAAAAAAAAMQAAAAAAAAAhAAAAAwMzMCEAAAAAAAAAQQAAAAGBmZhBAAAAAYGZmCkAAAACgmZkTQAAAAEAzMw9AAAAAQDMzD0AAAABAMzMTQAAAAKCZmQVAAAAAwMzMCEAAAACgmZkJQAAAAKCZmQVAAAAAAAAABEAAAADAzMwEQAAAAEAzMwdAAAAAwMzMEEAAAACgmZkRQAAAAGBmZhBAAAAAYGZmDkAAAACgmZkTQAAAAKCZmRNAAAAAYGZmEEAAAADAzMwIQAAAAKCZmQVAAAAAYGZmDkAAAABAMzMRQAAAAGBmZhBAAAAAoJmZEUAAAADAzMwMQAAAAGBmZgpAAAAAwMzMDEAAAABgZmYGQAAAAEAzMxFAAAAAQDMzD0AAAACgmZkFQAAAAMDMzBJAAAAAYGZmDkAAAADAzMwSQAAAAMDMzBJAAAAAQDMzC0AAAAAAAAAMQAAAAAAAABBAAAAAYGZmCkAAAADAzMwSQAAAAGBmZgZAAAAAYGZmCkAAAABAMzMHQAAAAGBmZgZAAAAAwMzMEEAAAACgmZkRQAAAAMDMzAxAAAAAoJmZBUAAAABAMzMLQAAAAGBmZgZAAAAAQDMzC0AAAADAzMwEQAAAAGBmZhBAAAAAQDMzB0AAAACgmZkFQAAAAKCZmQ1AAAAAQDMzEUAAAADAzMwEQAAAAEAzMxFAAAAAYGZmEEAAAADAzMwQQAAAAMDMzBBAAAAAwMzMCEAAAACgmZkTQAAAAKCZmRFAAAAAoJmZEUAAAABAMzMLQAAAAAAAABJAAAAAAAAAEkAAAABgZmYQQAAAAKCZmQlAAAAAoJmZBUAAAACgmZkNQAAAAMDMzARAAAAAoJmZBUAAAACgmZkFQAAAAEAzMxNAAAAAQDMzE0AAAADAzMwEQAAAAAAAABJAAAAAoJmZCUAAAABgZmYOQAAAAEAzMxNAAAAAYGZmEEAAAABgZmYGQAAAAEAzMw9AAAAAoJmZE0AAAABAMzMLQAAAAGBmZhBAAAAAQDMzB0AAAADAzMwIQAAAAMDMzAxAAAAAAAAADEAAAABAMzMLQAAAAEAzMwdAAAAAwMzMEkAAAACgmZkRQAAAAMDMzARAAAAAoJmZEUAAAACgmZkNQAAAAKCZmRFAAAAAAAAABEAAAADAzMwEQAAAAAAAABRAAAAAoJmZE0AAAACgmZkNQAAAAMDMzAhAAAAAoJmZCUAAAACgmZkRQAAAAEAzMxFAAAAAAAAACEAAAAAAAAAMQAAAAMDMzAxAAAAAYGZmDkAAAADAzMwMQAAAAGBmZhJAAAAAAAAABEAAAAAAAAAMQAAAAAAAABBAAAAAAAAADEAAAACgmZkJQAAAAAAAAAxAAAAAQDMzC0AAAAAAAAAUQAAAAAAAABJAAAAAYGZmBkAAAACgmZkTQAAAAMDMzAhAAAAAQDMzE0AAAACgmZkFQAAAAGBmZhJAAAAAoJmZEUAAAACgmZkJQAAAAAAAAAhAAAAAoJmZE0AAAADAzMwMQAAAAGBmZg5AAAAAQDMzB0AAAABAMzMPQAAAAMDMzAxAAAAAAAAADEAAAAAAAAAQQAAAAEAzMxNAAAAAQDMzD0AAAAAAAAASQAAAAEAzMxNAAAAAwMzMBEAAAADAzMwIQAAAAMDMzBJAAAAAQDMzB0AAAABgZmYOQAAAAGBmZg5AAAAAAAAACEAAAABgZmYQQAAAAEAzMwtAAAAAAAAABEAAAACgmZkTQAAAAGBmZgZAAAAAAAAAEkAAAACgmZkTQAAAAKCZmRNAAAAAAAAADEAAAAAAAAAMQAAAAKCZmRNAAAAAAAAACEAAAABgZmYGQAAAAKCZmQ1AAAAAwMzMDEAAAABgZmYKQAAAAEAzMwtAAAAAAAAAEEAAAABgZmYSQAAAAMDMzBBAAAAAYGZmBkAAAACgmZkNQAAAAEAzMwtAAAAAAAAACEAAAABAMzMTQAAAAAAAABBAAAAAoJmZE0AAAACgmZkTQAAAAGBmZgpAAAAAoJmZEUAAAAAAAAAMQAAAAMDMzBBAAAAAwMzMEEAAAACgmZkFQAAAAGBmZgZAAAAAYGZmDkAAAADAzMwEQAAAAAAAAAhAAAAAYGZmCkAAAACgmZkTQAAAAGBmZgpAAAAAQDMzB0AAAACgmZkRQAAAAMDMzAhAAAAAAAAABEAAAADAzMwEQAAAAKCZmRFAAAAAwMzMBEAAAABgZmYKQAAAAAAAAAxAAAAAYGZmEEAAAAAAAAAQQAAAAKCZmQVAAAAAAAAABEAAAABAMzMRQAAAAGBmZgpAAAAAwMzMBEAAAAAAAAAMQAAAAAAAABBAAAAAwMzMBEAAAACgmZkTQAAAAEAzMwdAAAAAoJmZDUAAAACgmZkRQAAAAKCZmRFAAAAAYGZmDkAAAAAAAAASQAAAAMDMzARAAAAAYGZmCkAAAABgZmYQQAAAAAAAAAhAAAAAAAAACEAAAABAMzMLQAAAAKCZmQVAAAAAYGZmDkAAAADAzMwQQAAAAMDMzBJAAAAAYGZmEEAAAADAzMwQQAAAAEAzMxNAAAAAAAAACEAAAADAzMwEQAAAAKCZmQlAAAAAwMzMDEAAAADAzMwEQAAAAKCZmRFAAAAAAAAACEAAAABAMzMHQAAAAEAzMxFAAAAAwMzMCEAAAAAAAAAIQAAAAMDMzAxAAAAAYGZmBkAAAABgZmYGQAAAAKCZmRNAAAAAAAAACEAAAABgZmYQQAAAAGBmZhJAAAAAQDMzE0AAAADAzMwEQAAAAAAAABBAAAAAwMzMEEAAAAAAAAASQAAAAKCZmRNAAAAAwMzMCEAAAAAAAAAQQAAAAKCZmQlAAAAAQDMzEUAAAAAAAAAEQAAAAKCZmRNAAAAAoJmZBUAAAABAMzMLQAAAAEAzMxNAAAAAwMzMEkAAAADAzMwSQAAAAEAzMw9AAAAAoJmZDUAAAABAMzMRQAAAAGBmZhBAAAAAYGZmEkAAAADAzMwMQAAAAEAzMxNAAAAAYGZmBkAAAADAzMwSQAAAAEAzMw9AAAAAwMzMBEAAAADAzMwSQAAAAAAAAAxAAAAAoJmZEUAAAACgmZkRQAAAAAAAAAhAAAAAwMzMEEAAAABAMzMRQAAAAMDMzARAAAAAYGZmCkAAAACgmZkFQAAAAMDMzBBAAAAAAAAAEEAAAAAAAAAQQAAAAEAzMwdAAAAAwMzMBEAAAABAMzMTQAAAAKCZmRFAAAAAAAAAEEAAAADAzMwMQAAAAKCZmQlAAAAAwMzMCEAAAADAzMwQQAAAAAAAAAhAAAAAwMzMEEAAAABAMzMHQAAAAKCZmQ1AAAAAwMzMDEAAAADAzMwMQAAAAAAAABJAAAAAoJmZCUAAAABAMzMPQAAAAGBmZhJAAAAAAAAABEAAAABAMzMRQAAAAGBmZhBAAAAAYGZmEkAAAABAMzMTQAAAAKCZmRNAAAAAYGZmBkAAAACgmZkTQAAAAAAAAAxAAAAAYGZmDkAAAAAAAAASQAAAAEAzMwtAAAAAQDMzD0AAAABgZmYQQAAAAAAAAAhAAAAAYGZmCkAAAACgmZkTQAAAAEAzMxFAAAAAYGZmEEAAAAAAAAAQQAAAAAAAABRAAAAAwMzMCEAAAAAAAAAQQAAAAKCZmQlAAAAAQDMzD0AAAABAMzMPQAAAAAAAABJAAAAAoJmZEUAAAADAzMwIQAAAAEAzMwdAAAAAoJmZDUAAAACgmZkJQAAAAAAAAAxAAAAAAAAACEAAAABgZmYQQAAAAEAzMwdAAAAAYGZmDkAAAABgZmYQQAAAAGBmZhJAAAAAAAAABEAAAACgmZkNQAAAAGBmZg5AAAAAwMzMBEAAAACgmZkNQAAAAMDMzARAAAAAwMzMCEAAAAAAAAAEQAAAAKCZmRNAAAAAAAAAEkAAAABAMzMLQAAAAEAzMw9AAAAAoJmZDUAAAADAzMwEQAAAAEAzMwtAAAAAoJmZE0AAAABAMzMPQAAAAMDMzAxAAAAAYGZmEkAAAAAAAAAQQAAAAMDMzAxAAAAAAAAADEAAAABgZmYQQAAAAAAAAAhAAAAAoJmZEUAAAACgmZkRQAAAAKCZmQ1AAAAAQDMzE0AAAABAMzMHQAAAAMDMzAhAAAAAAAAAEEAAAAAAAAAIQAAAAEAzMw9AAAAAQDMzC0AAAACgmZkFQAAAAAAAAAxAAAAAAAAACEAAAAAAAAASQAAAAGBmZhBAAAAAAAAAFEAAAAAAAAAQQAAAAKCZmRNAAAAAYGZmCkAAAABgZmYQQAAAAMDMzAxAAAAAAAAACEAAAABgZmYQQAAAAEAzMw9AAAAAYGZmEEAAAABgZmYGQAAAAEAzMxNAAAAAYGZmEkAAAAAAAAAEQAAAAKCZmQVAAAAAAAAAEEAAAACgmZkFQAAAAEAzMwdAAAAAAAAACEAAAABgZmYKQAAAAEAzMxFAAAAAoJmZEUAAAABgZmYQQAAAAMDMzAhAAAAAAAAAEkAAAABAMzMTQAAAAAAAABRAAAAAYGZmBkAAAACgmZkNQAAAAKCZmRFAAAAAAAAAEkAAAAAAAAAIQAAAAEAzMw9AAAAAQDMzD0AAAAAAAAAMQAAAAKCZmRNAAAAAQDMzC0AAAABgZmYQQAAAAEAzMwdAAAAAQDMzC0AAAACgmZkJQAAAAEAzMw9AAAAAYGZmEEAAAAAAAAASQAAAAGBmZgZAAAAAYGZmBkAAAABgZmYSQAAAAAAAAAhAAAAAwMzMDEAAAAAAAAASQAAAAAAAABRAAAAAQDMzB0AAAADAzMwIQAAAAAAAABBAAAAAAAAAEkAAAAAAAAASQAAAAMDMzAhAAAAAoJmZEUAAAADAzMwSQAAAAMDMzAhAAAAAwMzMEEAAAAAAAAAIQAAAAMDMzARAAAAAQDMzC0AAAADAzMwQQAAAAGBmZhJAAAAAYGZmBkAAAACgmZkFQAAAAAAAABBAAAAAwMzMCEAAAACgmZkNQAAAAAAAABBAAAAAYGZmEkAAAABgZmYOQAAAAAAAAAxAAAAAYGZmEkAAAABgZmYGQAAAAKCZmQ1AAAAAYGZmCkAAAABAMzMHQAAAAKCZmQlAAAAAQDMzEUAAAACgmZkFQAAAAMDMzBBAAAAAQDMzE0AAAABAMzMTQAAAAEAzMwtAAAAAwMzMBEAAAAAAAAAUQAAAAKCZmRFAAAAAQDMzB0AAAABAMzMLQAAAAEAzMwtAAAAAoJmZE0AAAADAzMwMQAAAAAAAAAhAAAAAQDMzD0AAAACgmZkJQAAAAKCZmQlAAAAAQDMzEUAAAABgZmYGQAAAAAAAABJAAAAAYGZmEEAAAADAzMwMQAAAAAAAAAhAAAAAAAAAEEAAAAAAAAAMQAAAAAAAAARAAAAAQDMzEUAAAABgZmYGQAAAAKCZmQ1AAAAAQDMzEUAAAAAAAAAQQAAAAMDMzBJAAAAAAAAAEkAAAADAzMwIQAAAAGBmZg5AAAAAoJmZE0AAAACgmZkJQAAAAEAzMwdAAAAAYGZmBkAAAAAAAAAQQAAAAMDMzARAAAAAoJmZBUAAAABgZmYQQAAAAAAAABRAAAAAAAAACEAAAADAzMwMQAAAAGBmZgZAAAAAYGZmEkAAAABAMzMHQAAAAEAzMxNAAAAAYGZmCkAAAABgZmYSQAAAAMDMzARAAAAAAAAAEEAAAABgZmYOQAAAAEAzMw9AAAAAwMzMBEAAAABAMzMRQAAAAMDMzAxAAAAAwMzMEEAAAABAMzMPQAAAAMDMzBJAAAAAYGZmBkAAAAAAAAAIQAAAAMDMzBJAAAAAAAAABEAAAADAzMwIQAAAAMDMzAxAAAAAAAAADEAAAADAzMwIQAAAAMDMzAxAAAAAAAAADEAAAACgmZkFQAAAAMDMzAxAAAAAAAAAEkAAAABgZmYQQAAAAMDMzBBAAAAAAAAAEEAAAABgZmYGQAAAAMDMzARAAAAAoJmZBUAAAAAAAAASQAAAAKCZmQ1AAAAAQDMzC0AAAABgZmYSQAAAAGBmZhBAAAAAwMzMBEAAAABgZmYSQAAAAAAAAAhAAAAAQDMzC0AAAAAAAAAMQAAAAAAAAAxAAAAAoJmZDUAAAABAMzMTQAAAAKCZmRNAAAAAoJmZE0AAAADAzMwSQAAAAKCZmRNAAAAAQDMzB0AAAACgmZkRQAAAAKCZmQlAAAAAYGZmEkAAAAAAAAAQQAAAAKCZmQ1AAAAAwMzMEEAAAABAMzMHQAAAAEAzMxNAAAAAoJmZEUAAAABAMzMLQAAAAGBmZgZAAAAAwMzMEEAAAABgZmYOQAAAAMDMzAhAAAAAoJmZCUAAAAAAAAAIQAAAAMDMzAxAAAAAAAAABEAAAABAMzMLQAAAAAAAAARAAAAAwMzMEkAAAACgmZkJQAAAAEAzMwdAAAAAoJmZE0AAAACgmZkFQAAAAMDMzBJAAAAAQDMzB0AAAABAMzMTQAAAAGBmZhJAAAAAAAAAFEAAAABAMzMTQAAAAKCZmRNAAAAAYGZmEkAAAABAMzMPQAAAAAAAABJAAAAAwMzMEkAAAABAMzMPQAAAAKCZmRFAAAAAQDMzD0AAAABgZmYGQAAAAAAAAAxAAAAAQDMzEUAAAABAMzMPQAAAAAAAABBAAAAAYGZmEEAAAABAMzMRQAAAAMDMzBBAAAAAAAAAEEAAAADAzMwMQAAAAGBmZgpAAAAAYGZmEEAAAADAzMwSQAAAAKCZmRFAAAAAQDMzC0AAAAAAAAAUQAAAAGBmZhJAAAAAAAAAEEAAAABgZmYQQAAAAKCZmRNAAAAAoJmZBUAAAAAAAAASQAAAAKCZmQVAAAAAAAAACEAAAAAAAAASQAAAAAAAABRAAAAAYGZmDkAAAADAzMwIQAAAAEAzMwtAAAAAQDMzE0AAAACgmZkFQAAAAKCZmQlAAAAAQDMzD0AAAADAzMwQQAAAAAAAAAhAAAAAAAAACEAAAACgmZkNQAAAAKCZmRFAAAAAYGZmEkAAAAAAAAAIQAAAAMDMzAxAAAAAQDMzD0AAAABgZmYQQAAAAEAzMw9AAAAAQDMzD0AAAAAAAAASQAAAAEAzMwtAAAAAYGZmEEAAAACgmZkTQAAAAKCZmRFAAAAAoJmZBUAAAABAMzMTQAAAAGBmZgpAAAAAoJmZEUAAAABgZmYSQAAAAMDMzAhAAAAAAAAAEkAAAAAAAAAQQAAAAMDMzAhAAAAAQDMzD0AAAAAAAAASQAAAAKCZmRFAAAAAwMzMDEAAAABAMzMLQAAAAAAAABBAAAAAwMzMBEAAAACgmZkJQAAAAKCZmQlAAAAAAAAAFEAAAABAMzMHQAAAAEAzMwdAAAAAAAAADEAAAAAAAAAQQAAAAEAzMw9AAAAAoJmZE0AAAABgZmYOQAAAAAAAAAxAAAAAoJmZDUAAAABAMzMHQAAAAGBmZgZAAAAAoJmZDUAAAAAAAAAIQAAAAEAzMxNAAAAAoJmZBUAAAAAAAAASQAAAAKCZmQVAAAAAAAAADEAAAAAAAAAMQAAAAAAAABJAAAAAYGZmDkAAAABgZmYOQAAAAKCZmQlAAAAAQDMzEUAAAAAAAAASQAAAAMDMzBBAAAAAAAAACEAAAABgZmYQQAAAAGBmZhJAAAAAQDMzB0AAAABAMzMTQAAAAAAAABJAAAAAQDMzC0AAAABAMzMRQAAAAMDMzBBAAAAAwMzMDEAAAACgmZkNQAAAAAAAABBAAAAAoJmZE0AAAADAzMwIQAAAAKCZmQ1AAAAAwMzMEEAAAAAAAAAEQAAAAEAzMxFAAAAAwMzMCEAAAAAAAAAIQAAAAAAAABBAAAAAAAAADEAAAACgmZkJQAAAAKCZmQVAAAAAAAAACEAAAABAMzMHQAAAAGBmZgpAAAAAoJmZE0AAAACgmZkNQAAAAAAAAAxAAAAAwMzMEkAAAADAzMwEQAAAAGBmZhBAAAAAYGZmBkAAAADAzMwSQAAAAEAzMwdAAAAAYGZmBkAAAABAMzMRQAAAAEAzMxNAAAAAQDMzC0AAAABAMzMRQAAAAKCZmQVAAAAAYGZmEkAAAABgZmYQQAAAAEAzMwtAAAAAAAAAEkAAAACgmZkRQAAAAAAAABBAAAAAQDMzC0AAAACgmZkJQAAAAEAzMwtAAAAAQDMzEUAAAAAAAAAUQAAAAAAAAAxAAAAAwMzMCEAAAABAMzMPQAAAAAAAABBAAAAAAAAADEAAAADAzMwMQAAAAAAAAAhAAAAAwMzMBEAAAABAMzMHQAAAAMDMzAhAAAAAYGZmCkAAAABAMzMHQAAAAEAzMw9AAAAAwMzMEkAAAACgmZkRQAAAAMDMzAxAAAAAoJmZCUAAAAAAAAAQQAAAAAAAAAxAAAAAYGZmEkAAAABgZmYKQAAAAAAAABBAAAAAQDMzC0AAAADAzMwQQAAAAEAzMw9AAAAAQDMzD0AAAABgZmYGQAAAAKCZmQ1AAAAAoJmZE0AAAADAzMwEQAAAAKCZmRNAAAAAQDMzC0AAAABAMzMPQAAAAAAAABBAAAAAAAAACEAAAADAzMwEQAAAAKCZmQlAAAAAwMzMBEAAAACgmZkJQAAAAGBmZhBAAAAAQDMzD0AAAABgZmYQQAAAAKCZmQVAAAAAYGZmEkAAAAAAAAAMQAAAAAAAABRAAAAAQDMzC0AAAADAzMwIQAAAAEAzMwtAAAAAAAAAEEAAAACgmZkFQAAAAMDMzAxAAAAAAAAAEEAAAABgZmYOQAAAAEAzMwtAAAAAoJmZCUAAAADAzMwSQAAAAMDMzAhAAAAAYGZmCkAAAABAMzMTQAAAAAAAABJAAAAAQDMzC0AAAACgmZkNQAAAAKCZmRNAAAAAAAAADEAAAABgZmYSQAAAAGBmZhJAAAAAwMzMEEAAAACgmZkNQAAAAAAAAAhAAAAAYGZmEkAAAACgmZkJQAAAAAAAAAxAAAAAwMzMBEAAAACgmZkTQAAAAKCZmQVAAAAAwMzMEkAAAAAAAAAQQAAAAAAAAAxAAAAAQDMzE0AAAAAAAAAQQAAAAGBmZhBAAAAAYGZmDkAAAAAAAAAUQAAAAAAAABBAAAAAQDMzD0AAAABAMzMLQAAAAAAAAAhAAAAAoJmZE0AAAACgmZkJQAAAAGBmZg5AAAAAYGZmDkAAAADAzMwSQAAAAGBmZg5AAAAAYGZmEkAAAACgmZkRQAAAAEAzMwtAAAAAwMzMEkAAAABAMzMHQAAAAEAzMwtAAAAAoJmZCUAAAABgZmYGQAAAAEAzMxFAAAAAYGZmCkAAAABgZmYKQAAAAGBmZgpAAAAAAAAACEAAAABgZmYGQAAAAAAAABBAAAAAQDMzEUAAAABgZmYOQAAAAMDMzBBAAAAAwMzMCEAAAADAzMwEQAAAAEAzMwtAAAAAwMzMCEAAAADAzMwMQAAAAMDMzARAAAAAwMzMEEAAAABAMzMHQAAAAMDMzBBAAAAAYGZmCkAAAADAzMwMQAAAAEAzMxFAAAAAYGZmCkAAAAAAAAAIQAAAAMDMzAxAAAAAwMzMCEAAAABAMzMHQAAAAEAzMw9AAAAAoJmZCUAAAADAzMwIQAAAAKCZmQlAAAAAYGZmCkAAAABAMzMTQAAAAGBmZg5AAAAAYGZmEkAAAABgZmYGQAAAAMDMzAxAAAAAQDMzEUAAAAAAAAAQQAAAAAAAAAxAAAAAoJmZE0AAAADAzMwIQAAAAEAzMw9AAAAAAAAACEAAAABgZmYQQAAAAEAzMxFAAAAAYGZmDkAAAABAMzMPQAAAAEAzMxFAAAAAQDMzEUAAAADAzMwSQAAAAMDMzAhAAAAAoJmZBUAAAACgmZkNQAAAAGBmZgpAAAAAQDMzC0AAAADAzMwSQAAAAKCZmRNAAAAAQDMzEUAAAADAzMwQQAAAAKCZmQ1AAAAAoJmZBUAAAABgZmYKQAAAAEAzMxNAAAAAYGZmEEAAAABgZmYSQAAAAKCZmRNAAAAAwMzMCEAAAAAAAAAIQAAAAKCZmQ1AAAAAAAAAEEAAAAAAAAAIQAAAAGBmZg5AAAAAoJmZDUAAAAAAAAAQQAAAAMDMzAhAAAAAQDMzD0AAAACgmZkNQAAAAEAzMw9AAAAAoJmZBUAAAABAMzMPQAAAAMDMzARAAAAAAAAADEAAAACgmZkRQAAAAKCZmRNAAAAAQDMzD0AAAAAAAAAMQAAAAEAzMxFAAAAAQDMzC0AAAACgmZkFQAAAAMDMzAxAAAAAoJmZE0AAAAAAAAAMQAAAAGBmZg5AAAAAAAAAEkAAAAAAAAAQQAAAAMDMzBJAAAAAYGZmDkAAAAAAAAASQAAAAAAAABRAAAAAYGZmBkAAAACgmZkRQAAAAMDMzBJAAAAAYGZmDkAAAACgmZkTQAAAAMDMzBBAAAAAoJmZE0AAAABAMzMPQAAAAKCZmRNAAAAAQDMzE0AAAABgZmYKQAAAAGBmZhJAAAAAAAAAEkAAAABgZmYQQAAAAKCZmQlAAAAAwMzMEEAAAABAMzMTQAAAAGBmZhBAAAAAoJmZDUAAAADAzMwEQAAAAAAAAAhAAAAAoJmZEUAAAADAzMwSQAAAAKCZmQVAAAAAYGZmBkAAAABAMzMHQAAAAKCZmRFAAAAAoJmZBUAAAAAAAAASQAAAAGBmZgZAAAAAwMzMCEAAAABgZmYOQAAAAEAzMwdAAAAAYGZmDkAAAADAzMwSQAAAAKCZmQlAAAAAAAAAEEAAAACgmZkTQAAAAKCZmQ1AAAAAQDMzE0AAAADAzMwMQAAAAGBmZhJAAAAAQDMzEUAAAACgmZkJQAAAAGBmZg5AAAAAwMzMEEAAAABAMzMLQAAAAMDMzBJAAAAAQDMzD0AAAABAMzMRQAAAAKCZmQVAAAAAYGZmEkAAAABAMzMHQAAAAMDMzAxAAAAAQDMzD0AAAADAzMwEQAAAAMDMzAxAAAAAQDMzC0AAAAAAAAAMQAAAAMDMzAhAAAAAQDMzEUAAAAAAAAAUQAAAAKCZmRNAAAAAQDMzEUAAAACgmZkRQAAAAKCZmRFAAAAAAAAADEAAAABAMzMLQAAAAAAAAARAAAAAQDMzC0AAAADAzMwEQAAAAGBmZhJAAAAAoJmZDUAAAAAAAAAEQAAAAAAAABJAAAAAQDMzB0AAAABAMzMHQAAAAAAAAAxAAAAAwMzMEEAAAABgZmYKQAAAAEAzMw9AAAAAAAAAFEAAAABgZmYKQAAAAMDMzBBAAAAAoJmZE0AAAABgZmYSQAAAAEAzMxNAAAAAoJmZBUAAAABAMzMRQAAAAGBmZg5AAAAAoJmZE0AAAABAMzMLQAAAAMDMzAxAAAAAQDMzC0AAAADAzMwSQAAAAAAAAAhAAAAAQDMzC0AAAABgZmYSQAAAAMDMzAhAAAAAYGZmBkAAAAAAAAAMQAAAAGBmZhJAAAAAQDMzEUAAAABAMzMTQAAAAEAzMwdAAAAAAAAACEAAAABAMzMHQAAAAKCZmQ1AAAAAwMzMEkAAAAAAAAAMQAAAAKCZmQVAAAAAAAAAFEAAAABgZmYQQAAAAKCZmQVAAAAAQDMzE0AAAABAMzMRQAAAAAAAABJAAAAAYGZmDkAAAACgmZkNQAAAAEAzMw9AAAAAYGZmCkAAAABAMzMLQAAAAGBmZg5AAAAAoJmZBUAAAABAMzMHQAAAAAAAABJAAAAAwMzMBEAAAADAzMwIQAAAAMDMzBJAAAAAYGZmEkAAAACgmZkFQAAAAGBmZhJAAAAAQDMzE0AAAADAzMwQQAAAAKCZmRNAAAAAoJmZE0AAAAAAAAASQAAAAKCZmQVAAAAAwMzMCEAAAABgZmYKQAAAAMDMzARAAAAAoJmZEUAAAABAMzMPQAAAAGBmZhJAAAAAoJmZE0AAAACgmZkNQAAAAKCZmQ1AAAAAwMzMEEAAAAAAAAAMQAAAAEAzMwdAAAAAQDMzC0AAAABgZmYKQAAAAAAAABJAAAAAYGZmEkAAAABAMzMHQAAAAKCZmQlAAAAAwMzMBEAAAABgZmYOQAAAAGBmZgZAAAAAoJmZEUAAAADAzMwSQAAAAKCZmQVAAAAAwMzMBEAAAABAMzMLQAAAAEAzMw9AAAAAQDMzC0AAAABAMzMLQAAAAEAzMw9AAAAAAAAAEEAAAABAMzMLQAAAAKCZmQ1AAAAAoJmZE0AAAAAAAAAUQAAAAEAzMwdAAAAAAAAACEAAAABgZmYKQAAAAMDMzBJAAAAAQDMzC0AAAABgZmYSQAAAAMDMzAxAAAAAwMzMBEAAAACgmZkFQAAAAMDMzAhAAAAAoJmZCUAAAABAMzMLQAAAAKCZmRFAAAAAoJmZCUAAAAAAAAAEQAAAAGBmZg5AAAAAoJmZEUAAAACgmZkNQAAAAKCZmQlAAAAAoJmZE0AAAABAMzMPQAAAAAAAABJAAAAAQDMzC0AAAABgZmYQQAAAAAAAABJAAAAAwMzMEkAAAABAMzMTQAAAAKCZmRFAAAAAAAAAEEAAAABgZmYQQAAAAKCZmQ1AAAAAAAAACEAAAADAzMwMQAAAAEAzMxNAAAAAoJmZDUAAAABgZmYSQAAAAGBmZgZAAAAAAAAAEEAAAADAzMwQQAAAAMDMzAxAAAAAQDMzB0AAAABgZmYQQAAAAMDMzAhAAAAAQDMzEUAAAACgmZkRQAAAAMDMzAhAAAAAQDMzB0AAAACgmZkJQAAAAAAAABBAAAAAoJmZBUAAAAAAAAAIQAAAAKCZmRFAAAAAYGZmBkAAAADAzMwIQAAAAEAzMw9AAAAAoJmZBUAAAABAMzMLQAAAAGBmZg5AAAAAoJmZDUAAAAAAAAASQAAAAEAzMwdAAAAAQDMzC0AAAACgmZkRQAAAAMDMzBBAAAAAYGZmCkAAAACgmZkNQAAAAKCZmQlAAAAAwMzMBEAAAABgZmYGQAAAAEAzMwdAAAAAAAAAEEAAAABAMzMHQAAAAMDMzBJAAAAAwMzMCEAAAABAMzMPQAAAAEAzMwtAAAAAwMzMCEAAAABAMzMTQAAAAEAzMw9AAAAAAAAADEAAAADAzMwIQAAAAMDMzBJAAAAAYGZmEkAAAABgZmYKQAAAAKCZmQlAAAAAwMzMCEAAAAAAAAAMQAAAAEAzMxFAAAAAQDMzB0AAAACgmZkFQAAAAAAAABBAAAAAYGZmEkAAAADAzMwSQAAAAMDMzBJAAAAAAAAAEEAAAADAzMwMQAAAAEAzMwtAAAAAAAAACEAAAADAzMwEQAAAAMDMzBBAAAAAQDMzC0AAAAAAAAAQQAAAAMDMzBJAAAAAQDMzD0AAAABgZmYKQAAAAEAzMwdAAAAAoJmZEUAAAADAzMwMQAAAAAAAABJAAAAAoJmZDUAAAABgZmYGQAAAAAAAABJAAAAAoJmZEUAAAABgZmYKQAAAAMDMzBBAAAAAoJmZBUAAAABAMzMPQAAAAMDMzARAAAAAAAAAEkAAAACgmZkFQAAAAEAzMwdAAAAAQDMzC0AAAABAMzMHQAAAAGBmZg5AAAAAwMzMEEAAAAAAAAAMQAAAAMDMzAhAAAAAAAAADEAAAAAAAAAQQAAAAKCZmQ1AAAAAwMzMEEAAAABAMzMTQAAAAGBmZhBAAAAAAAAAEkAAAACgmZkFQAAAAGBmZgZAAAAAoJmZDUAAAADAzMwMQAAAAMDMzBJAAAAAYGZmDkAAAABAMzMHQAAAAGBmZhJAAAAAYGZmBkAAAABgZmYSQAAAAGBmZgZAAAAAAAAACEAAAACgmZkNQAAAAGBmZhBAAAAAQDMzEUAAAABgZmYOQAAAAKCZmQ1AAAAAQDMzE0AAAABgZmYSQAAAAEAzMxNAAAAAYGZmEkAAAAAAAAAQQAAAAMDMzARAAAAAwMzMBEAAAAAAAAASQAAAAMDMzBBAAAAAQDMzC0AAAACgmZkNQAAAAMDMzAxAAAAAAAAAEEAAAABgZmYSQAAAAAAAAAhAAAAAYGZmCkAAAABgZmYOQAAAAKCZmQVAAAAAAAAAEkAAAABAMzMTQAAAAMDMzBBAAAAAAAAADEAAAACgmZkTQAAAAGBmZhBAAAAAQDMzB0AAAAAAAAAQQAAAAGBmZhJAAAAAYGZmBkAAAAAAAAAUQAAAAEAzMwdAAAAAYGZmCkAAAABAMzMLQAAAAAAAAAhAAAAAwMzMEkAAAABAMzMHQAAAAGBmZhBAAAAAoJmZCUAAAACgmZkFQAAAAMDMzBJAAAAAoJmZCUAAAAAAAAAEQAAAAEAzMxFAAAAAoJmZEUAAAADAzMwSQAAAAAAAABBAAAAAYGZmEkAAAABgZmYOQAAAAKCZmQlAAAAAAAAAFEAAAAAAAAAMQAAAAKCZmQ1AAAAAQDMzE0AAAACgmZkNQAAAAAAAAAxAAAAAoJmZE0AAAADAzMwSQAAAAKCZmRNAAAAAQDMzEUAAAADAzMwIQAAAAEAzMwtAAAAAoJmZBUAAAADAzMwEQAAAAEAzMwdAAAAAoJmZBUAAAAAAAAASQAAAAMDMzAhAAAAAoJmZCUAAAABgZmYKQAAAAEAzMwdAAAAAYGZmEEAAAACgmZkFQAAAAAAAABBAAAAAwMzMBEAAAAAAAAAMQAAAAGBmZgZAAAAAAAAAEkAAAAAAAAAIQAAAAKCZmRFAAAAAwMzMEkAAAABAMzMRQAAAAEAzMxNAAAAAQDMzE0AAAACgmZkRQAAAAKCZmQ1AAAAAQDMzD0AAAABgZmYOQAAAAGBmZhBAAAAAAAAAEEAAAAAAAAASQAAAAAAAABBAAAAAAAAAEkAAAACgmZkFQAAAAGBmZg5AAAAAYGZmDkAAAABgZmYOQAAAAEAzMxFAAAAAAAAADEAAAABgZmYOQAAAAKCZmQ1AAAAAQDMzE0AAAACgmZkTQAAAAEAzMxFAAAAAoJmZEUAAAABAMzMLQAAAAEAzMxFAAAAAYGZmEkAAAABgZmYOQAAAAEAzMw9AAAAAwMzMBEAAAADAzMwQQAAAAGBmZhJAAAAAAAAAFEAAAADAzMwQQAAAAEAzMxFAAAAAYGZmCkAAAACgmZkTQAAAAKCZmRFAAAAAwMzMCEAAAAAAAAAMQAAAAEAzMw9AAAAAQDMzD0AAAABAMzMRQAAAAGBmZg5AAAAAoJmZBUAAAACgmZkRQAAAAAAAAAxAAAAAQDMzC0AAAAAAAAAQQAAAAEAzMxNAAAAAAAAAEkAAAACgmZkRQAAAAGBmZhBAAAAAYGZmEkAAAABgZmYOQAAAAEAzMwdAAAAAYGZmBkAAAAAAAAAIQAAAAMDMzBBAAAAAYGZmEEAAAABgZmYQQAAAAGBmZhJAAAAAAAAABEAAAAAAAAAIQAAAAGBmZg5AAAAAYGZmEEAAAABgZmYKQAAAAAAAABRAAAAAYGZmDkAAAABgZmYKQAAAAAAAABRAAAAAQDMzB0AAAAAAAAAEQAAAAMDMzBJAAAAAQDMzB0AAAACgmZkNQAAAAKCZmRFAAAAAQDMzB0AAAADAzMwMQAAAAEAzMxNAAAAAwMzMEkAAAADAzMwEQAAAAEAzMwtAAAAAAAAADEAAAABAMzMLQAAAAAAAABRAAAAAYGZmEkAAAABAMzMTQAAAAKCZmQ1AAAAAwMzMEkAAAACgmZkRQAAAAAAAAAxAAAAAYGZmDkAAAADAzMwSQAAAAMDMzAhAAAAAAAAAFEAAAACgmZkNQAAAAAAAAAhAAAAAAAAAEkAAAADAzMwSQAAAAAAAAAxAAAAAoJmZEUAAAADAzMwEQAAAAMDMzBBAAAAAwMzMBEAAAABAMzMTQAAAAEAzMwdAAAAAQDMzEUAAAADAzMwEQAAAAGBmZg5AAAAAwMzMEEAAAABAMzMPQAAAAMDMzAhAAAAAwMzMDEAAAAAAAAAQQAAAAEAzMwtAAAAAwMzMBEAAAAAAAAASQAAAAKCZmRNAAAAAoJmZEUAAAAAAAAAMQAAAAGBmZgpAAAAAwMzMCEAAAADAzMwQQAAAAKCZmRNAAAAAQDMzD0AAAADAzMwQQAAAAKCZmRNAAAAAYGZmBkAAAABgZmYQQAAAAEAzMxNAAAAAYGZmEEAAAAAAAAAIQAAAAMDMzBBAAAAAYGZmDkAAAABgZmYKQAAAAMDMzBJAAAAAQDMzEUAAAACgmZkFQAAAAMDMzBBAAAAAwMzMEEAAAAAAAAAEQAAAAMDMzAxAAAAAQDMzC0AAAABgZmYKQAAAAGBmZhJAAAAAQDMzD0AAAACgmZkNQAAAAMDMzAhAAAAAoJmZE0AAAADAzMwSQAAAAEAzMwdAAAAAYGZmEEAAAAAAAAAQQAAAAKCZmQVAAAAAAAAAEEAAAAAAAAAEQAAAAAAAABJAAAAAQDMzD0AAAACgmZkTQAAAAGBmZgpAAAAAYGZmDkAAAABAMzMHQAAAAAAAABBAAAAAYGZmEEAAAADAzMwIQAAAAGBmZhJAAAAAYGZmEkAAAADAzMwEQAAAAAAAABRAAAAAQDMzB0AAAAAAAAAMQAAAAKCZmQ1AAAAAQDMzB0AAAABAMzMRQAAAAKCZmQlAAAAAwMzMEEAAAADAzMwQQAAAAGBmZg5AAAAAoJmZEUAAAADAzMwIQAAAAAAAABRAAAAAwMzMEkAAAAAAAAAIQAAAAMDMzBBAAAAAAAAACEAAAACgmZkNQAAAAKCZmQVAAAAAQDMzEUAAAACgmZkFQAAAAKCZmQ1AAAAAQDMzEUAAAAAAAAAQQAAAAGBmZgpAAAAAAAAAEEAAAACgmZkFQAAAAMDMzBBAAAAAYGZmEkAAAABAMzMTQAAAAGBmZgZAAAAAAAAAEkAAAAAAAAAIQAAAAGBmZhJAAAAAYGZmCkAAAACgmZkRQAAAAKCZmRFAAAAAQDMzEUAAAABAMzMLQAAAAGBmZgZAAAAAQDMzC0AAAAAAAAAUQAAAAAAAABJAAAAAoJmZBUAAAABAMzMLQAAAAEAzMwtAAAAAYGZmBkAAAADAzMwSQAAAAMDMzBJAAAAAwMzMEkAAAABAMzMLQAAAAKCZmQ1AAAAAYGZmEEAAAABAMzMHQAAAAKCZmQlAAAAAAAAACEAAAABgZmYQQAAAAAAAABJAAAAAQDMzC0AAAABgZmYQQAAAAGBmZhJAAAAAYGZmEkAAAABAMzMLQAAAAGBmZgpAAAAAwMzMDEAAAABgZmYSQAAAAEAzMxFAAAAAAAAAEEAAAABAMzMTQAAAAEAzMxFAAAAAYGZmCkAAAABgZmYGQAAAAKCZmRFAAAAAoJmZDUAAAADAzMwMQAAAAKCZmQ1AAAAAAAAAFEAAAACgmZkFQAAAAEAzMxFAAAAAYGZmEEAAAADAzMwEQAAAAKCZmQlAAAAAAAAADEAAAACgmZkNQAAAAGBmZg5AAAAAQDMzE0AAAADAzMwQQAAAAEAzMwdAAAAAQDMzB0AAAABAMzMTQAAAAEAzMwdAAAAAQDMzE0AAAABgZmYSQAAAAKCZmRFAAAAAAAAACEAAAACgmZkRQAAAAEAzMw9AAAAAAAAAEEAAAAAAAAAEQAAAAGBmZhBAAAAAQDMzE0AAAADAzMwEQAAAAMDMzAhAAAAAoJmZCUAAAADAzMwQQAAAAMDMzARAAAAAwMzMCEAAAABAMzMHQAAAAGBmZhJAAAAAYGZmEEAAAAAAAAAEQAAAAAAAABBAAAAAAAAADEAAAACgmZkRQAAAAEAzMwdAAAAAwMzMCEAAAACgmZkRQAAAAKCZmRFAAAAAoJmZBUAAAACgmZkTQAAAAAAAAAxAAAAAQDMzE0AAAADAzMwQQAAAAGBmZhJAAAAAQDMzB0AAAAAAAAAQQAAAAKCZmRNAAAAAwMzMCEAAAACgmZkRQAAAAAAAAARAAAAAQDMzC0AAAACgmZkNQAAAAMDMzBBAAAAAQDMzC0AAAADAzMwMQAAAAMDMzBJAAAAAwMzMEkAAAADAzMwMQAAAAGBmZhJAAAAAwMzMBEAAAADAzMwIQAAAAKCZmQlAAAAAQDMzD0AAAACgmZkTQAAAAGBmZhBAAAAAwMzMEEAAAABgZmYQQAAAAEAzMw9AAAAAoJmZBUAAAACgmZkNQAAAAKCZmQVAAAAAAAAABEAAAABAMzMPQAAAAAAAAAhAAAAAoJmZCUAAAABgZmYOQAAAAKCZmQVAAAAAAAAACEAAAABgZmYQQAAAAKCZmQlAAAAAAAAAEkAAAABAMzMRQAAAAAAAAAxAAAAAwMzMCEAAAABAMzMPQAAAAKCZmQVAAAAAAAAAEEAAAACgmZkFQAAAAKCZmQVAAAAAwMzMEkAAAAAAAAASQAAAAAAAAAhAAAAAwMzMDEAAAABgZmYKQAAAAEAzMxFAAAAAQDMzEUAAAABAMzMTQAAAAAAAABBAAAAAAAAADEAAAABAMzMPQAAAAKCZmRFAAAAAYGZmEkAAAAAAAAAQQAAAAMDMzBBAAAAAAAAAEkAAAABAMzMPQAAAAKCZmQ1AAAAAwMzMDEAAAADAzMwSQAAAAMDMzAxAAAAAAAAABEAAAABAMzMHQAAAAKCZmRFAAAAAYGZmEkAAAACgmZkNQAAAAKCZmQlAAAAAoJmZE0AAAAAAAAAUQAAAAGBmZgpAAAAAoJmZEUAAAADAzMwSQAAAAMDMzAxAAAAAoJmZCUAAAAAAAAAIQAAAAKCZmRFAAAAAYGZmCkAAAABAMzMLQAAAAEAzMw9AAAAAQDMzB0AAAABAMzMHQAAAAKCZmQVAAAAAQDMzC0AAAACgmZkNQAAAAMDMzBJAAAAAwMzMCEAAAADAzMwQQAAAAAAAAAhAAAAAwMzMCEAAAADAzMwQQAAAAGBmZg5AAAAAQDMzB0AAAADAzMwQQAAAAMDMzAhAAAAAwMzMDEAAAABAMzMTQAAAAGBmZhBAAAAAQDMzD0AAAAAAAAAIQAAAAAAAAAhAAAAAoJmZE0AAAABAMzMTQAAAAGBmZgpAAAAAoJmZBUAAAADAzMwQQAAAAMDMzAxAAAAAYGZmDkAAAABgZmYOQAAAAMDMzBBAAAAAoJmZBUAAAAAAAAAUQAAAAMDMzBJAAAAAoJmZCUAAAABAMzMHQAAAAMDMzBBAAAAAoJmZDUAAAADAzMwQQAAAAMDMzARAAAAAAAAAEEAAAACgmZkFQAAAAAAAABBAAAAAQDMzB0AAAABgZmYKQAAAAAAAABBAAAAAQDMzD0AAAABgZmYKQAAAAEAzMw9AAAAAQDMzD0AAAADAzMwQQAAAAGBmZhJAAAAAYGZmCkAAAABAMzMTQAAAAGBmZhBAAAAAQDMzC0AAAADAzMwMQAAAAKCZmQVAAAAAoJmZCUAAAACgmZkRQAAAAKCZmRNAAAAAQDMzE0AAAABgZmYGQAAAAEAzMwdAAAAAoJmZCUAAAAAAAAAMQAAAAGBmZhBAAAAAYGZmEEAAAABAMzMTQAAAAGBmZgZAAAAAwMzMEkAAAABAMzMTQAAAAEAzMwdAAAAAwMzMBEAAAABgZmYKQAAAAEAzMwtAAAAAwMzMDEAAAABgZmYOQAAAAEAzMwtAAAAAYGZmDkAAAABgZmYKQAAAAEAzMxNAAAAAQDMzD0AAAADAzMwQQAAAAMDMzBJAAAAAoJmZBUAAAABgZmYOQAAAAMDMzAxAAAAAQDMzB0AAAABAMzMPQAAAAMDMzBJAAAAAYGZmCkAAAADAzMwQQAAAAMDMzARAAAAAoJmZE0AAAADAzMwMQAAAAMDMzBJAAAAAoJmZCUAAAADAzMwMQAAAAMDMzAxAAAAAoJmZCUAAAABgZmYGQAAAAAAAABBAAAAAoJmZEUAAAABAMzMLQAAAAAAAABRAAAAAwMzMCEAAAADAzMwQQAAAAGBmZgpAAAAAQDMzB0AAAADAzMwSQAAAAAAAABBAAAAAYGZmEkAAAABgZmYOQAAAAMDMzAxAAAAAYGZmEEAAAACgmZkFQAAAAEAzMxFAAAAAoJmZE0AAAADAzMwQQAAAAGBmZgZAAAAAoJmZE0AAAABgZmYGQAAAAEAzMwdAAAAAAAAABEAAAACgmZkFQAAAAGBmZgpAAAAAoJmZDUAAAAAAAAAQQAAAAGBmZhBAAAAAYGZmEEAAAAAAAAAEQAAAAMDMzBBAAAAAwMzMEkAAAACgmZkFQAAAAAAAAAhAAAAAQDMzE0AAAACgmZkRQAAAAEAzMxFAAAAAAAAABEAAAACgmZkTQAAAAKCZmRNAAAAAQDMzD0AAAABgZmYQQAAAAGBmZgpAAAAAYGZmEEAAAACgmZkNQAAAAMDMzAhAAAAAAAAACEAAAABAMzMLQAAAAKCZmQVAAAAAwMzMCEAAAAAAAAAQQAAAAMDMzAxAAAAAwMzMDEAAAABgZmYKQAAAAGBmZhBAAAAAQDMzEUAAAACgmZkJQAAAAEAzMw9AAAAAAAAAFEAAAABAMzMLQAAAAGBmZg5AAAAAQDMzB0AAAADAzMwEQAAAAEAzMxFAAAAAYGZmBkAAAAAAAAASQAAAAGBmZg5AAAAAAAAACEAAAABgZmYKQAAAAMDMzAhAAAAAAAAADEAAAABgZmYSQAAAAGBmZhBAAAAAwMzMDEAAAABAMzMHQAAAAEAzMxNAAAAAoJmZCUAAAABAMzMRQAAAAGBmZhBAAAAAYGZmEkAAAABgZmYOQAAAAAAAABJAAAAAwMzMCEAAAABAMzMHQAAAAGBmZg5AAAAAYGZmEEAAAADAzMwIQAAAAAAAABRAAAAAAAAAEkAAAABgZmYGQAAAAKCZmQlAAAAAwMzMCEAAAABgZmYKQAAAAEAzMwtAAAAAYGZmDkAAAAAAAAAMQAAAAEAzMxNAAAAAQDMzD0AAAABAMzMLQAAAAMDMzARAAAAAwMzMCEAAAABgZmYKQAAAAGBmZgZAAAAAQDMzEUAAAACgmZkFQAAAAKCZmRFAAAAAQDMzD0AAAAAAAAAIQAAAAAAAABBAAAAAoJmZDUAAAABgZmYOQAAAAGBmZgpAAAAAwMzMDEAAAABAMzMPQAAAAAAAAAxAAAAAQDMzC0AAAADAzMwSQAAAAAAAAAhAAAAAQDMzD0AAAAAAAAASQAAAAGBmZhBAAAAAAAAAEkAAAAAAAAAQQAAAAEAzMxFAAAAAwMzMDEAAAADAzMwIQAAAAMDMzARAAAAAQDMzC0AAAABAMzMHQAAAAAAAABRAAAAAYGZmEkAAAABgZmYKQAAAAEAzMwdAAAAAoJmZE0AAAAAAAAAUQAAAAAAAABJAAAAAoJmZDUAAAABgZmYGQAAAAAAAAAxAAAAAAAAACEAAAABAMzMRQAAAAMDMzAxAAAAAoJmZEUAAAABgZmYQQAAAAGBmZgZAAAAAYGZmBkAAAACgmZkTQAAAAGBmZhBAAAAAAAAACEAAAAAAAAAIQAAAAAAAAAhAAAAAoJmZCUAAAACgmZkFQAAAAGBmZg5AAAAAAAAADEAAAABgZmYOQAAAAGBmZg5AAAAAQDMzC0AAAABAMzMHQAAAAEAzMwtAAAAAwMzMEkAAAABAMzMPQAAAAMDMzAxAAAAAoJmZDUAAAADAzMwIQAAAAKCZmRNAAAAAwMzMBEAAAADAzMwQQAAAAEAzMxNAAAAAoJmZBUAAAADAzMwEQAAAAMDMzARAAAAAwMzMCEAAAADAzMwEQAAAAEAzMwtAAAAAwMzMDEAAAABAMzMRQAAAAKCZmRNAAAAAQDMzE0AAAADAzMwQQAAAAMDMzARAAAAAoJmZCUAAAABAMzMLQAAAAAAAAAxAAAAAwMzMEEAAAABgZmYGQAAAAAAAABRAAAAAYGZmCkAAAACgmZkNQAAAAAAAAARAAAAAoJmZCUAAAADAzMwIQAAAAAAAAAxAAAAAYGZmEkAAAABgZmYKQAAAAAAAAARAAAAAYGZmEkAAAADAzMwQQAAAAAAAABBAAAAAwMzMBEAAAABgZmYSQAAAAAAAAAxAAAAAAAAAEEAAAABAMzMTQAAAAEAzMw9AAAAAoJmZDUAAAADAzMwIQAAAAAAAAAhAAAAAQDMzB0AAAABAMzMHQAAAAAAAABBAAAAAAAAADEAAAABgZmYOQAAAAAAAABJAAAAAoJmZBUAAAABAMzMHQAAAAKCZmRNAAAAAYGZmDkAAAACgmZkTQAAAAGBmZhJAAAAAAAAADEAAAADAzMwQQAAAAKCZmQ1AAAAAYGZmBkAAAABAMzMTQAAAAKCZmQVAAAAAwMzMDEAAAAAAAAASQAAAAAAAABBAAAAAAAAAEkAAAABAMzMPQAAAAGBmZg5AAAAAwMzMEkAAAABgZmYSQAAAAMDMzAxAAAAAQDMzEUAAAAAAAAAIQAAAAEAzMxFAAAAAQDMzE0AAAACgmZkNQAAAAMDMzARAAAAAQDMzC0AAAABAMzMPQAAAAEAzMxNAAAAAYGZmBkAAAACgmZkRQAAAAMDMzAhAAAAAYGZmDkAAAABgZmYQQAAAAGBmZhJAAAAAoJmZE0AAAABAMzMTQAAAAEAzMw9AAAAAwMzMBEAAAACgmZkNQAAAAMDMzBJAAAAAAAAAEkAAAADAzMwSQAAAAMDMzAxAAAAAYGZmBkAAAAAAAAAQQAAAAMDMzAxAAAAAYGZmDkAAAACgmZkRQAAAAGBmZgZAAAAAQDMzC0AAAACgmZkTQAAAAEAzMxFAAAAAQDMzC0AAAABAMzMPQAAAAMDMzBBAAAAAoJmZBUAAAABgZmYQQAAAAAAAABJAAAAAYGZmBkAAAABAMzMLQAAAAEAzMw9AAAAAwMzMBEAAAACgmZkRQAAAAKCZmRNAAAAAwMzMDEAAAABgZmYGQAAAAEAzMxFAAAAAAAAACEAAAABgZmYKQAAAAAAAAARAAAAAAAAAFEAAAABAMzMRQAAAAMDMzBBAAAAAQDMzD0AAAABAMzMPQAAAAMDMzBBAAAAAAAAADEAAAAAAAAAEQAAAAEAzMwdAAAAAoJmZBUAAAADAzMwSQAAAAGBmZg5AAAAAoJmZDUAAAADAzMwSQAAAAMDMzAxAAAAAYGZmBkAAAACgmZkNQAAAAAAAAAxAAAAAoJmZDUAAAAAAAAAIQAAAAKCZmRNAAAAAYGZmEkAAAABgZmYKQAAAAAAAAAhAAAAAAAAADEAAAADAzMwQQAAAAAAAABJAAAAAYGZmBkAAAACgmZkTQAAAAGBmZgpAAAAAAAAACEAAAABAMzMPQAAAAGBmZgZAAAAAAAAAEkAAAAAAAAAQQAAAAEAzMwdAAAAAAAAAEEAAAABAMzMLQAAAAAAAAARAAAAAYGZmBkAAAAAAAAAIQAAAAMDMzAhAAAAAwMzMBEAAAACgmZkTQAAAAAAAAAxAAAAAwMzMBEAAAAAAAAAMQAAAAAAAABJAAAAAQDMzEUAAAABAMzMTQAAAAMDMzBBAAAAAoJmZCUAAAABgZmYQQAAAAAAAABBAAAAAQDMzB0AAAADAzMwEQAAAAKCZmQVAAAAAYGZmEkAAAACgmZkJQAAAAGBmZhBAAAAAQDMzD0AAAAAAAAAIQAAAAMDMzAxAAAAAYGZmEkAAAAAAAAASQAAAAKCZmQlAAAAAoJmZE0AAAAAAAAAUQAAAAGBmZg5AAAAAQDMzC0AAAABgZmYOQAAAAKCZmQlAAAAAwMzMEkAAAAAAAAASQAAAAGBmZgpAAAAAQDMzD0AAAADAzMwMQAAAAGBmZgZAAAAAQDMzEUAAAAAAAAAMQAAAAMDMzBBAAAAAYGZmEkAAAADAzMwEQAAAAEAzMwtAAAAAwMzMCEAAAADAzMwMQAAAAMDMzBBAAAAAwMzMDEAAAADAzMwMQAAAAAAAAAhAAAAAAAAABEAAAAAAAAAQQAAAAGBmZhBAAAAAoJmZE0AAAAAAAAAQQAAAAAAAAAxAAAAAoJmZCUAAAABgZmYGQAAAAAAAAAxAAAAAwMzMCEAAAABgZmYKQAAAAGBmZhJAAAAAoJmZE0AAAABAMzMLQAAAAAAAAAxAAAAAQDMzE0AAAACgmZkFQAAAAEAzMwtAAAAAAAAADEAAAACgmZkNQAAAAGBmZgpAAAAAQDMzB0AAAABAMzMPQAAAAKCZmQVAAAAAQDMzEUAAAAAAAAAIQAAAAAAAABRAAAAAoJmZBUAAAADAzMwSQAAAAGBmZhJAAAAAoJmZCUAAAABAMzMRQAAAAGBmZhJAAAAAoJmZE0AAAABgZmYOQAAAAMDMzARAAAAAwMzMEkAAAABgZmYQQAAAAKCZmQ1AAAAAAAAACEAAAADAzMwSQAAAAMDMzBJAAAAAAAAAEEAAAADAzMwEQAAAAAAAAAhAAAAAYGZmCkAAAABAMzMLQAAAAAAAABBAAAAAwMzMBEAAAABAMzMLQAAAAKCZmRFAAAAAwMzMEkAAAAAAAAASQAAAAEAzMwdAAAAAwMzMEEAAAABgZmYQQAAAAKCZmRFAAAAAwMzMEkAAAADAzMwIQAAAAKCZmQVAAAAAYGZmEkAAAACgmZkRQAAAAGBmZhJAAAAAoJmZE0AAAAAAAAAQQAAAAEAzMwdAAAAAwMzMBEAAAABgZmYSQAAAAKCZmRNAAAAAQDMzEUAAAABAMzMRQAAAAGBmZhJAAAAAwMzMBEAAAADAzMwIQAAAAMDMzAhAAAAAwMzMCEAAAACgmZkRQAAAAEAzMxFAAAAAwMzMCEAAAADAzMwIQAAAAKCZmRNAAAAAQDMzB0AAAABgZmYOQAAAAMDMzBBAAAAAQDMzD0AAAABgZmYGQAAAAMDMzARAAAAAAAAACEAAAACgmZkFQAAAAGBmZgZAAAAAQDMzB0AAAABgZmYOQAAAAKCZmRFAAAAAwMzMCEAAAACgmZkNQAAAAKCZmRNAAAAAYGZmDkAAAABAMzMLQAAAAGBmZhJAAAAAoJmZCUAAAACgmZkFQAAAAEAzMxFAAAAAYGZmDkAAAACgmZkRQAAAAMDMzAxAAAAAAAAADEAAAADAzMwQQAAAAMDMzBJAAAAAQDMzE0AAAACgmZkJQAAAAAAAAAxAAAAAwMzMEEAAAABAMzMLQAAAAMDMzBJAAAAAAAAACEAAAAAAAAAQQAAAAGBmZhJAAAAAoJmZE0AAAABgZmYGQAAAAKCZmQlAAAAAYGZmBkAAAADAzMwQQAAAAEAzMxNAAAAAYGZmBkAAAAAAAAASQAAAAGBmZhBAAAAAQDMzEUAAAACgmZkRQAAAAAAAAAhAAAAAoJmZBUAAAABgZmYKQAAAAEAzMxFAAAAAQDMzB0AAAACgmZkTQAAAAMDMzAxAAAAAYGZmCkAAAADAzMwIQAAAAKCZmQVAAAAAQDMzC0AAAABAMzMLQAAAAEAzMw9AAAAAAAAADEAAAABgZmYQQAAAAKCZmQlAAAAAYGZmEkAAAABAMzMPQAAAAKCZmQVAAAAAAAAACEAAAABgZmYKQAAAAKCZmQVAAAAAYGZmEkAAAACgmZkFQAAAAAAAAARAAAAAoJmZEUAAAAAAAAAQQAAAAGBmZg5AAAAAAAAABEAAAAAAAAAQQAAAAGBmZhBAAAAAYGZmBkAAAABAMzMLQAAAAKCZmQVAAAAAYGZmDkAAAACgmZkRQAAAAGBmZgZAAAAAAAAAFEAAAADAzMwSQAAAAKCZmQlAAAAAQDMzB0AAAACgmZkNQAAAAMDMzBBAAAAAQDMzC0AAAABAMzMHQAAAAKCZmQ1AAAAAoJmZBUAAAACgmZkJQAAAAKCZmRNAAAAAYGZmBkAAAADAzMwSQAAAAGBmZgpAAAAAQDMzEUAAAACgmZkNQAAAAAAAABJAAAAAQDMzC0AAAACgmZkFQAAAAKCZmRFAAAAAAAAAEEAAAACgmZkJQAAAAMDMzBBAAAAAAAAACEAAAABgZmYGQAAAAKCZmRNAAAAAwMzMEkAAAACgmZkRQAAAAMDMzAhAAAAAwMzMBEAAAABAMzMPQAAAAMDMzARAAAAAAAAAEEAAAACgmZkTQAAAAGBmZgpAAAAAAAAACEAAAACgmZkFQAAAAMDMzAhAAAAAQDMzE0AAAABAMzMHQAAAAAAAABJAAAAAYGZmEkAAAAAAAAAUQAAAAEAzMxFAAAAAoJmZE0AAAAAAAAAQQAAAAMDMzAhAAAAAwMzMBEAAAACgmZkTQAAAAAAAAAxAAAAAAAAAEkAAAABgZmYGQAAAAMDMzBBAAAAAYGZmEEAAAAAAAAAMQAAAAAAAABBAAAAAAAAAEEAAAAAAAAAEQAAAAMDMzBBAAAAAQDMzC0AAAABAMzMTQAAAAKCZmRNAAAAAwMzMDEAAAAAAAAAQQAAAAMDMzARAAAAAwMzMCEAAAADAzMwMQAAAAAAAABBAAAAAQDMzD0AAAABAMzMPQAAAAGBmZgpAAAAAQDMzB0AAAADAzMwIQAAAAMDMzBJAAAAAQDMzD0AAAABAMzMRQAAAAMDMzBBAAAAAQDMzEUAAAABgZmYSQAAAAGBmZg5AAAAAYGZmCkAAAACgmZkNQAAAAEAzMxFAAAAAYGZmEEAAAACgmZkJQAAAAGBmZg5AAAAAoJmZCUAAAAAAAAAMQAAAAMDMzAhAAAAAwMzMEEAAAABAMzMLQAAAAAAAAAxAAAAAAAAAEEAAAACgmZkRQAAAAEAzMwdAAAAAwMzMDEAAAACgmZkRQAAAAAAAABJAAAAAYGZmDkAAAADAzMwMQAAAAEAzMxFAAAAAAAAAEEAAAABAMzMLQAAAAKCZmRFAAAAAYGZmBkAAAABgZmYGQAAAAKCZmRNAAAAAwMzMEEAAAABAMzMHQAAAAGBmZhJAAAAAYGZmBkAAAADAzMwEQAAAAAAAAAxAAAAAAAAADEAAAABAMzMLQAAAAEAzMw9AAAAAYGZmCkAAAABgZmYQQAAAAAAAAAhAAAAAAAAACEAAAACgmZkJQAAAAEAzMw9AAAAAwMzMDEAAAADAzMwIQAAAAEAzMxNAAAAAYGZmDkAAAABgZmYGQAAAAAAAABBAAAAAYGZmEkAAAAAAAAAMQAAAAKCZmQ1AAAAAoJmZE0AAAABgZmYQQAAAAGBmZhJAAAAAAAAAEkAAAAAAAAAUQAAAAGBmZg5AAAAAwMzMEkAAAABgZmYGQAAAAMDMzARAAAAAYGZmDkAAAABgZmYGQAAAAMDMzARAAAAAQDMzC0AAAAAAAAASQAAAAGBmZg5AAAAAAAAACEAAAACgmZkNQAAAAKCZmRFAAAAAwMzMCEAAAADAzMwQQAAAAMDMzAhAAAAAAAAAFEAAAACgmZkFQAAAAGBmZg5AAAAAYGZmCkAAAABAMzMTQAAAAEAzMwtAAAAAoJmZEUAAAABAMzMPQAAAAEAzMw9AAAAAwMzMEEAAAAAAAAAQQAAAAMDMzARAAAAAoJmZEUAAAACgmZkJQAAAAEAzMxFAAAAAoJmZE0AAAABgZmYOQAAAAAAAAARAAAAAoJmZE0AAAAAAAAAIQAAAAKCZmQlAAAAAQDMzB0AAAABgZmYGQAAAAMDMzAhAAAAAQDMzC0AAAABAMzMHQAAAAKCZmQlAAAAAYGZmDkAAAADAzMwMQAAAAEAzMxFAAAAAQDMzE0AAAAAAAAAEQAAAAAAAAARAAAAAYGZmEkAAAADAzMwQQAAAAMDMzBBAAAAAQDMzE0AAAAAAAAASQAAAAGBmZgpAAAAAoJmZBUAAAABgZmYGQAAAAAAAAAxAAAAAAAAACEAAAAAAAAASQAAAAEAzMxFAAAAAYGZmEEAAAABAMzMRQAAAAAAAABRAAAAAYGZmDkAAAACgmZkTQAAAAAAAABRAAAAAQDMzEUAAAABgZmYQQAAAAAAAABJAAAAAwMzMDEAAAAAAAAAIQAAAAKCZmQ1AAAAAQDMzEUAAAABgZmYSQAAAAMDMzBJAAAAAYGZmEkAAAAAAAAAIQAAAAEAzMwtAAAAAYGZmDkAAAADAzMwIQAAAAKCZmRFAAAAAAAAAEkAAAABgZmYGQAAAAKCZmQVAAAAAQDMzC0AAAABgZmYSQAAAAAAAABRAAAAAAAAADEAAAABgZmYKQAAAAAAAABJAAAAAwMzMCEAAAAAAAAAQQAAAAAAAAARAAAAAoJmZEUAAAACgmZkRQAAAAKCZmQlAAAAAYGZmDkAAAABgZmYSQAAAAKCZmRNAAAAAAAAADEAAAABAMzMLQAAAAEAzMw9AAAAAQDMzD0AAAADAzMwQQAAAAEAzMwtAAAAAoJmZE0AAAABAMzMHQAAAAKCZmRNAAAAAYGZmEkAAAADAzMwMQAAAAEAzMxFAAAAAYGZmEkAAAADAzMwSQAAAAAAAAAxAAAAAYGZmBkAAAAAAAAAQQAAAAEAzMxFAAAAAYGZmDkAAAAAAAAAIQAAAAGBmZhJAAAAAQDMzE0AAAADAzMwSQAAAAEAzMw9AAAAAAAAAEEAAAACgmZkNQAAAAKCZmQ1AAAAAwMzMEEAAAADAzMwSQAAAAEAzMxFAAAAAoJmZE0AAAABAMzMPQAAAAEAzMwtAAAAAwMzMEEAAAADAzMwSQAAAAAAAABBAAAAAAAAAEEAAAADAzMwIQAAAAMDMzBBAAAAAoJmZDUAAAADAzMwIQAAAAKCZmQ1AAAAAoJmZCUAAAABgZmYGQAAAAEAzMwdAAAAAAAAADEAAAABgZmYOQAAAAMDMzBJAAAAAAAAAEkAAAABAMzMPQAAAAEAzMwtAAAAAYGZmEkAAAABgZmYSQAAAAMDMzBJAAAAAoJmZCUAAAAAAAAAUQAAAAAAAABJAAAAAAAAADEAAAAAAAAASQAAAAKCZmQlAAAAAYGZmEkAAAAAAAAAQQAAAAMDMzBBAAAAAYGZmEEAAAADAzMwMQAAAAKCZmQ1AAAAAwMzMDEAAAABgZmYOQAAAAAAAAAhAAAAAQDMzC0AAAABAMzMTQAAAAMDMzARAAAAAQDMzB0AAAACgmZkTQAAAAAAAABRAAAAAYGZmEkAAAADAzMwQQAAAAKCZmRNAAAAAQDMzE0AAAAAAAAAIQAAAAAAAAAxAAAAAQDMzC0AAAABAMzMLQAAAAKCZmRNAAAAAoJmZEUAAAADAzMwQQAAAAMDMzAhAAAAAAAAAEEAAAABAMzMTQAAAAGBmZgpAAAAAwMzMEkAAAACgmZkJQAAAAAAAABRAAAAAoJmZE0AAAACgmZkTQAAAAKCZmQ1AAAAAAAAACEAAAADAzMwEQAAAAMDMzARAAAAAQDMzE0AAAACgmZkJQAAAAKCZmRNAAAAAQDMzC0AAAACgmZkFQAAAAEAzMxNAAAAAYGZmEEAAAABgZmYSQAAAAKCZmRFAAAAAAAAADEAAAABAMzMTQAAAAEAzMwdAAAAAoJmZCUAAAACgmZkRQAAAAGBmZhJAAAAAwMzMBEAAAADAzMwIQAAAAEAzMxFAAAAAwMzMCEAAAABgZmYSQAAAAGBmZhJAAAAAoJmZBUAAAAAAAAAIQAAAAGBmZgpAAAAAoJmZBUAAAABgZmYKQAAAAEAzMxFAAAAAQDMzE0AAAABgZmYKQAAAAEAzMxFAAAAAAAAACEAAAABAMzMTQAAAAEAzMwdAAAAAwMzMDEAAAAAAAAAMQAAAAMDMzBJAAAAAoJmZEUAAAABgZmYKQAAAAEAzMxFAAAAAAAAAEEAAAACgmZkTQAAAAEAzMwdAAAAAAAAAEEAAAABAMzMRQAAAAKCZmQVAAAAAAAAAFEAAAACgmZkRQAAAAAAAAAxAAAAAYGZmCkAAAABgZmYOQAAAAAAAABJAAAAAQDMzE0AAAABAMzMHQAAAAKCZmQlAAAAAYGZmBkAAAABgZmYKQAAAAGBmZgpAAAAAwMzMEEAAAADAzMwMQAAAAGBmZhJAAAAAwMzMDEAAAAAAAAAQQAAAAKCZmQVAAAAAoJmZEUAAAACgmZkJQAAAAMDMzARAAAAAQDMzC0AAAAAAAAAUQAAAAEAzMwdAAAAAAAAAFEAAAACgmZkRQAAAAAAAAAxAAAAAYGZmDkAAAABgZmYOQAAAAEAzMw9AAAAAYGZmCkAAAABAMzMHQAAAAKCZmQ1AAAAAoJmZDUAAAABgZmYSQAAAAKCZmRNAAAAAwMzMCEAAAAAAAAAMQAAAAKCZmRNAAAAAoJmZEUAAAACgmZkRQAAAAEAzMwtAAAAAAAAACEAAAADAzMwEQAAAAKCZmQlAAAAAYGZmEkAAAABgZmYOQAAAAEAzMxNAAAAAAAAAEkAAAADAzMwQQAAAAKCZmQVAAAAAAAAAEkAAAACgmZkTQAAAAGBmZgZAAAAAAAAADEAAAAAAAAAEQAAAAEAzMwdAAAAAwMzMEEAAAABgZmYSQAAAAAAAAAhAAAAAoJmZEUAAAADAzMwEQAAAAEAzMxNAAAAAQDMzB0AAAAAAAAAIQAAAAAAAABJAAAAAoJmZDUAAAABAMzMTQAAAAEAzMxNAAAAAwMzMEkAAAADAzMwEQAAAAGBmZhJAAAAAQDMzC0AAAAAAAAAIQAAAAAAAABBAAAAAwMzMBEAAAABAMzMLQAAAAAAAABJAAAAAoJmZBUAAAABAMzMHQAAAAAAAABBAAAAAoJmZCUAAAAAAAAAQQAAAAEAzMwtAAAAAoJmZE0AAAADAzMwMQAAAAMDMzAxAAAAAoJmZCUAAAACgmZkNQAAAAMDMzARAAAAAQDMzD0AAAABAMzMLQAAAAEAzMwtAAAAAwMzMEEAAAABAMzMHQAAAAGBmZhBAAAAAwMzMDEAAAAAAAAAQQAAAAAAAABBAAAAAwMzMDEAAAADAzMwIQAAAAKCZmRFAAAAAQDMzEUAAAAAAAAAMQAAAAAAAAAhAAAAAwMzMEkAAAAAAAAAEQAAAAMDMzAhAAAAAYGZmCkAAAADAzMwSQAAAAEAzMwtAAAAAwMzMCEAAAABgZmYSQAAAAKCZmRNAAAAAoJmZBUAAAADAzMwQQAAAAMDMzARAAAAAoJmZCUAAAACgmZkRQAAAAMDMzAxAAAAAoJmZBUAAAABAMzMRQAAAAMDMzARAAAAAQDMzEUAAAABAMzMPQAAAAEAzMwdAAAAAwMzMCEAAAADAzMwQQAAAAGBmZhBAAAAAwMzMEEAAAACgmZkRQAAAAEAzMwtAAAAAQDMzE0AAAAAAAAASQAAAAKCZmQVAAAAAAAAADEAAAADAzMwIQAAAAGBmZgZAAAAAQDMzB0AAAAAAAAASQAAAAAAAAAxAAAAAQDMzEUAAAACgmZkTQAAAAMDMzAhAAAAAAAAAEEAAAADAzMwMQAAAAAAAABBAAAAAwMzMBEAAAADAzMwIQAAAAAAAAAxAAAAAQDMzD0AAAACgmZkFQAAAAGBmZhBAAAAAQDMzEUAAAABAMzMHQAAAAAAAABBAAAAAYGZmEEAAAACgmZkNQAAAAGBmZgZAAAAAoJmZCUAAAAAAAAASQAAAAGBmZg5AAAAAwMzMDEAAAADAzMwMQAAAAKCZmQlAAAAAYGZmDkAAAACgmZkRQAAAAKCZmQ1AAAAAwMzMBEAAAAAAAAAQQAAAAMDMzAxAAAAAAAAABEAAAACgmZkJQAAAAAAAAARAAAAAoJmZCUAAAADAzMwEQAAAAEAzMxNAAAAAAAAAFEAAAACgmZkJQAAAAMDMzAxAAAAAoJmZBUAAAADAzMwIQAAAAAAAAAhAAAAAQDMzB0AAAADAzMwSQAAAAKCZmQ1AAAAAQDMzD0AAAAAAAAAQQAAAAGBmZgZAAAAAYGZmEEAAAADAzMwQQAAAAEAzMxFAAAAAQDMzEUAAAADAzMwEQAAAAGBmZg5AAAAAQDMzB0AAAAAAAAAUQAAAAGBmZhJAAAAAoJmZCUAAAAAAAAAIQAAAAAAAABBAAAAAYGZmEEAAAAAAAAAQQAAAAGBmZhBAAAAAQDMzC0AAAABAMzMHQAAAAAAAAAhAAAAAAAAAEEAAAABAMzMTQAAAAGBmZhJAAAAAYGZmEEAAAADAzMwEQAAAAAAAAARAAAAAQDMzE0AAAADAzMwQQAAAAEAzMw9AAAAAoJmZDUAAAADAzMwQQAAAAMDMzBBAAAAAAAAAEEAAAAAAAAAUQAAAAKCZmRNAAAAAAAAAEEAAAACgmZkJQAAAAAAAAAhAAAAAwMzMBEAAAACgmZkRQAAAAEAzMw9AAAAAAAAAEEAAAAAAAAAQQAAAAMDMzBBAAAAAoJmZEUAAAAAAAAAEQAAAAMDMzAhAAAAAAAAADEAAAAAAAAAIQAAAAKCZmRFAAAAAoJmZE0AAAABgZmYGQAAAAGBmZgpAAAAAoJmZE0AAAADAzMwQQAAAAGBmZgpAAAAAoJmZBUAAAABgZmYKQAAAAGBmZg5AAAAAoJmZCUAAAABgZmYQQAAAAEAzMxFAAAAAAAAAEEAAAABAMzMPQAAAAGBmZgpAAAAAwMzMBEAAAADAzMwQQAAAAEAzMwtAAAAAYGZmEEAAAABAMzMPQAAAAGBmZgZAAAAAwMzMBEAAAAAAAAAQQAAAAKCZmRNAAAAAoJmZCUAAAABAMzMPQAAAAKCZmQVAAAAAQDMzC0AAAAAAAAAMQAAAAMDMzARAAAAAwMzMEkAAAAAAAAAMQAAAAGBmZgpAAAAAQDMzD0AAAADAzMwQQAAAAAAAABJAAAAAQDMzB0AAAABgZmYOQAAAAMDMzAhA",
          "dtype": "f8"
         },
         "x0": " ",
         "xaxis": "x",
         "y0": " ",
         "yaxis": "y"
        }
       ],
       "layout": {
        "boxmode": "group",
        "legend": {
         "tracegroupgap": 0
        },
        "margin": {
         "t": 60
        },
        "template": {
         "data": {
          "bar": [
           {
            "error_x": {
             "color": "#2a3f5f"
            },
            "error_y": {
             "color": "#2a3f5f"
            },
            "marker": {
             "line": {
              "color": "white",
              "width": 0.5
             },
             "pattern": {
              "fillmode": "overlay",
              "size": 10,
              "solidity": 0.2
             }
            },
            "type": "bar"
           }
          ],
          "barpolar": [
           {
            "marker": {
             "line": {
              "color": "white",
              "width": 0.5
             },
             "pattern": {
              "fillmode": "overlay",
              "size": 10,
              "solidity": 0.2
             }
            },
            "type": "barpolar"
           }
          ],
          "carpet": [
           {
            "aaxis": {
             "endlinecolor": "#2a3f5f",
             "gridcolor": "#C8D4E3",
             "linecolor": "#C8D4E3",
             "minorgridcolor": "#C8D4E3",
             "startlinecolor": "#2a3f5f"
            },
            "baxis": {
             "endlinecolor": "#2a3f5f",
             "gridcolor": "#C8D4E3",
             "linecolor": "#C8D4E3",
             "minorgridcolor": "#C8D4E3",
             "startlinecolor": "#2a3f5f"
            },
            "type": "carpet"
           }
          ],
          "choropleth": [
           {
            "colorbar": {
             "outlinewidth": 0,
             "ticks": ""
            },
            "type": "choropleth"
           }
          ],
          "contour": [
           {
            "colorbar": {
             "outlinewidth": 0,
             "ticks": ""
            },
            "colorscale": [
             [
              0,
              "#0d0887"
             ],
             [
              0.1111111111111111,
              "#46039f"
             ],
             [
              0.2222222222222222,
              "#7201a8"
             ],
             [
              0.3333333333333333,
              "#9c179e"
             ],
             [
              0.4444444444444444,
              "#bd3786"
             ],
             [
              0.5555555555555556,
              "#d8576b"
             ],
             [
              0.6666666666666666,
              "#ed7953"
             ],
             [
              0.7777777777777778,
              "#fb9f3a"
             ],
             [
              0.8888888888888888,
              "#fdca26"
             ],
             [
              1,
              "#f0f921"
             ]
            ],
            "type": "contour"
           }
          ],
          "contourcarpet": [
           {
            "colorbar": {
             "outlinewidth": 0,
             "ticks": ""
            },
            "type": "contourcarpet"
           }
          ],
          "heatmap": [
           {
            "colorbar": {
             "outlinewidth": 0,
             "ticks": ""
            },
            "colorscale": [
             [
              0,
              "#0d0887"
             ],
             [
              0.1111111111111111,
              "#46039f"
             ],
             [
              0.2222222222222222,
              "#7201a8"
             ],
             [
              0.3333333333333333,
              "#9c179e"
             ],
             [
              0.4444444444444444,
              "#bd3786"
             ],
             [
              0.5555555555555556,
              "#d8576b"
             ],
             [
              0.6666666666666666,
              "#ed7953"
             ],
             [
              0.7777777777777778,
              "#fb9f3a"
             ],
             [
              0.8888888888888888,
              "#fdca26"
             ],
             [
              1,
              "#f0f921"
             ]
            ],
            "type": "heatmap"
           }
          ],
          "histogram": [
           {
            "marker": {
             "pattern": {
              "fillmode": "overlay",
              "size": 10,
              "solidity": 0.2
             }
            },
            "type": "histogram"
           }
          ],
          "histogram2d": [
           {
            "colorbar": {
             "outlinewidth": 0,
             "ticks": ""
            },
            "colorscale": [
             [
              0,
              "#0d0887"
             ],
             [
              0.1111111111111111,
              "#46039f"
             ],
             [
              0.2222222222222222,
              "#7201a8"
             ],
             [
              0.3333333333333333,
              "#9c179e"
             ],
             [
              0.4444444444444444,
              "#bd3786"
             ],
             [
              0.5555555555555556,
              "#d8576b"
             ],
             [
              0.6666666666666666,
              "#ed7953"
             ],
             [
              0.7777777777777778,
              "#fb9f3a"
             ],
             [
              0.8888888888888888,
              "#fdca26"
             ],
             [
              1,
              "#f0f921"
             ]
            ],
            "type": "histogram2d"
           }
          ],
          "histogram2dcontour": [
           {
            "colorbar": {
             "outlinewidth": 0,
             "ticks": ""
            },
            "colorscale": [
             [
              0,
              "#0d0887"
             ],
             [
              0.1111111111111111,
              "#46039f"
             ],
             [
              0.2222222222222222,
              "#7201a8"
             ],
             [
              0.3333333333333333,
              "#9c179e"
             ],
             [
              0.4444444444444444,
              "#bd3786"
             ],
             [
              0.5555555555555556,
              "#d8576b"
             ],
             [
              0.6666666666666666,
              "#ed7953"
             ],
             [
              0.7777777777777778,
              "#fb9f3a"
             ],
             [
              0.8888888888888888,
              "#fdca26"
             ],
             [
              1,
              "#f0f921"
             ]
            ],
            "type": "histogram2dcontour"
           }
          ],
          "mesh3d": [
           {
            "colorbar": {
             "outlinewidth": 0,
             "ticks": ""
            },
            "type": "mesh3d"
           }
          ],
          "parcoords": [
           {
            "line": {
             "colorbar": {
              "outlinewidth": 0,
              "ticks": ""
             }
            },
            "type": "parcoords"
           }
          ],
          "pie": [
           {
            "automargin": true,
            "type": "pie"
           }
          ],
          "scatter": [
           {
            "fillpattern": {
             "fillmode": "overlay",
             "size": 10,
             "solidity": 0.2
            },
            "type": "scatter"
           }
          ],
          "scatter3d": [
           {
            "line": {
             "colorbar": {
              "outlinewidth": 0,
              "ticks": ""
             }
            },
            "marker": {
             "colorbar": {
              "outlinewidth": 0,
              "ticks": ""
             }
            },
            "type": "scatter3d"
           }
          ],
          "scattercarpet": [
           {
            "marker": {
             "colorbar": {
              "outlinewidth": 0,
              "ticks": ""
             }
            },
            "type": "scattercarpet"
           }
          ],
          "scattergeo": [
           {
            "marker": {
             "colorbar": {
              "outlinewidth": 0,
              "ticks": ""
             }
            },
            "type": "scattergeo"
           }
          ],
          "scattergl": [
           {
            "marker": {
             "colorbar": {
              "outlinewidth": 0,
              "ticks": ""
             }
            },
            "type": "scattergl"
           }
          ],
          "scattermap": [
           {
            "marker": {
             "colorbar": {
              "outlinewidth": 0,
              "ticks": ""
             }
            },
            "type": "scattermap"
           }
          ],
          "scattermapbox": [
           {
            "marker": {
             "colorbar": {
              "outlinewidth": 0,
              "ticks": ""
             }
            },
            "type": "scattermapbox"
           }
          ],
          "scatterpolar": [
           {
            "marker": {
             "colorbar": {
              "outlinewidth": 0,
              "ticks": ""
             }
            },
            "type": "scatterpolar"
           }
          ],
          "scatterpolargl": [
           {
            "marker": {
             "colorbar": {
              "outlinewidth": 0,
              "ticks": ""
             }
            },
            "type": "scatterpolargl"
           }
          ],
          "scatterternary": [
           {
            "marker": {
             "colorbar": {
              "outlinewidth": 0,
              "ticks": ""
             }
            },
            "type": "scatterternary"
           }
          ],
          "surface": [
           {
            "colorbar": {
             "outlinewidth": 0,
             "ticks": ""
            },
            "colorscale": [
             [
              0,
              "#0d0887"
             ],
             [
              0.1111111111111111,
              "#46039f"
             ],
             [
              0.2222222222222222,
              "#7201a8"
             ],
             [
              0.3333333333333333,
              "#9c179e"
             ],
             [
              0.4444444444444444,
              "#bd3786"
             ],
             [
              0.5555555555555556,
              "#d8576b"
             ],
             [
              0.6666666666666666,
              "#ed7953"
             ],
             [
              0.7777777777777778,
              "#fb9f3a"
             ],
             [
              0.8888888888888888,
              "#fdca26"
             ],
             [
              1,
              "#f0f921"
             ]
            ],
            "type": "surface"
           }
          ],
          "table": [
           {
            "cells": {
             "fill": {
              "color": "#EBF0F8"
             },
             "line": {
              "color": "white"
             }
            },
            "header": {
             "fill": {
              "color": "#C8D4E3"
             },
             "line": {
              "color": "white"
             }
            },
            "type": "table"
           }
          ]
         },
         "layout": {
          "annotationdefaults": {
           "arrowcolor": "#2a3f5f",
           "arrowhead": 0,
           "arrowwidth": 1
          },
          "autotypenumbers": "strict",
          "coloraxis": {
           "colorbar": {
            "outlinewidth": 0,
            "ticks": ""
           }
          },
          "colorscale": {
           "diverging": [
            [
             0,
             "#8e0152"
            ],
            [
             0.1,
             "#c51b7d"
            ],
            [
             0.2,
             "#de77ae"
            ],
            [
             0.3,
             "#f1b6da"
            ],
            [
             0.4,
             "#fde0ef"
            ],
            [
             0.5,
             "#f7f7f7"
            ],
            [
             0.6,
             "#e6f5d0"
            ],
            [
             0.7,
             "#b8e186"
            ],
            [
             0.8,
             "#7fbc41"
            ],
            [
             0.9,
             "#4d9221"
            ],
            [
             1,
             "#276419"
            ]
           ],
           "sequential": [
            [
             0,
             "#0d0887"
            ],
            [
             0.1111111111111111,
             "#46039f"
            ],
            [
             0.2222222222222222,
             "#7201a8"
            ],
            [
             0.3333333333333333,
             "#9c179e"
            ],
            [
             0.4444444444444444,
             "#bd3786"
            ],
            [
             0.5555555555555556,
             "#d8576b"
            ],
            [
             0.6666666666666666,
             "#ed7953"
            ],
            [
             0.7777777777777778,
             "#fb9f3a"
            ],
            [
             0.8888888888888888,
             "#fdca26"
            ],
            [
             1,
             "#f0f921"
            ]
           ],
           "sequentialminus": [
            [
             0,
             "#0d0887"
            ],
            [
             0.1111111111111111,
             "#46039f"
            ],
            [
             0.2222222222222222,
             "#7201a8"
            ],
            [
             0.3333333333333333,
             "#9c179e"
            ],
            [
             0.4444444444444444,
             "#bd3786"
            ],
            [
             0.5555555555555556,
             "#d8576b"
            ],
            [
             0.6666666666666666,
             "#ed7953"
            ],
            [
             0.7777777777777778,
             "#fb9f3a"
            ],
            [
             0.8888888888888888,
             "#fdca26"
            ],
            [
             1,
             "#f0f921"
            ]
           ]
          },
          "colorway": [
           "#636efa",
           "#EF553B",
           "#00cc96",
           "#ab63fa",
           "#FFA15A",
           "#19d3f3",
           "#FF6692",
           "#B6E880",
           "#FF97FF",
           "#FECB52"
          ],
          "font": {
           "color": "#2a3f5f"
          },
          "geo": {
           "bgcolor": "white",
           "lakecolor": "white",
           "landcolor": "white",
           "showlakes": true,
           "showland": true,
           "subunitcolor": "#C8D4E3"
          },
          "hoverlabel": {
           "align": "left"
          },
          "hovermode": "closest",
          "mapbox": {
           "style": "light"
          },
          "paper_bgcolor": "white",
          "plot_bgcolor": "white",
          "polar": {
           "angularaxis": {
            "gridcolor": "#EBF0F8",
            "linecolor": "#EBF0F8",
            "ticks": ""
           },
           "bgcolor": "white",
           "radialaxis": {
            "gridcolor": "#EBF0F8",
            "linecolor": "#EBF0F8",
            "ticks": ""
           }
          },
          "scene": {
           "xaxis": {
            "backgroundcolor": "white",
            "gridcolor": "#DFE8F3",
            "gridwidth": 2,
            "linecolor": "#EBF0F8",
            "showbackground": true,
            "ticks": "",
            "zerolinecolor": "#EBF0F8"
           },
           "yaxis": {
            "backgroundcolor": "white",
            "gridcolor": "#DFE8F3",
            "gridwidth": 2,
            "linecolor": "#EBF0F8",
            "showbackground": true,
            "ticks": "",
            "zerolinecolor": "#EBF0F8"
           },
           "zaxis": {
            "backgroundcolor": "white",
            "gridcolor": "#DFE8F3",
            "gridwidth": 2,
            "linecolor": "#EBF0F8",
            "showbackground": true,
            "ticks": "",
            "zerolinecolor": "#EBF0F8"
           }
          },
          "shapedefaults": {
           "line": {
            "color": "#2a3f5f"
           }
          },
          "ternary": {
           "aaxis": {
            "gridcolor": "#DFE8F3",
            "linecolor": "#A2B1C6",
            "ticks": ""
           },
           "baxis": {
            "gridcolor": "#DFE8F3",
            "linecolor": "#A2B1C6",
            "ticks": ""
           },
           "bgcolor": "white",
           "caxis": {
            "gridcolor": "#DFE8F3",
            "linecolor": "#A2B1C6",
            "ticks": ""
           }
          },
          "title": {
           "x": 0.05
          },
          "xaxis": {
           "automargin": true,
           "gridcolor": "#EBF0F8",
           "linecolor": "#EBF0F8",
           "ticks": "",
           "title": {
            "standoff": 15
           },
           "zerolinecolor": "#EBF0F8",
           "zerolinewidth": 2
          },
          "yaxis": {
           "automargin": true,
           "gridcolor": "#EBF0F8",
           "linecolor": "#EBF0F8",
           "ticks": "",
           "title": {
            "standoff": 15
           },
           "zerolinecolor": "#EBF0F8",
           "zerolinewidth": 2
          }
         }
        },
        "xaxis": {
         "anchor": "y",
         "domain": [
          0,
          1
         ],
         "title": {
          "text": "Review_Rating"
         }
        },
        "yaxis": {
         "anchor": "x",
         "domain": [
          0,
          1
         ]
        }
       }
      }
     },
     "metadata": {},
     "output_type": "display_data"
    },
    {
     "data": {
      "application/vnd.plotly.v1+json": {
       "config": {
        "plotlyServerURL": "https://plot.ly"
       },
       "data": [
        {
         "alignmentgroup": "True",
         "hovertemplate": "Previous_Purchases=%{x}<extra></extra>",
         "legendgroup": "",
         "marker": {
          "color": "#636efa"
         },
         "name": "",
         "notched": false,
         "offsetgroup": "",
         "orientation": "h",
         "showlegend": false,
         "type": "box",
         "x": {
          "bdata": "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",
          "dtype": "i1"
         },
         "x0": " ",
         "xaxis": "x",
         "y0": " ",
         "yaxis": "y"
        }
       ],
       "layout": {
        "boxmode": "group",
        "legend": {
         "tracegroupgap": 0
        },
        "margin": {
         "t": 60
        },
        "template": {
         "data": {
          "bar": [
           {
            "error_x": {
             "color": "#2a3f5f"
            },
            "error_y": {
             "color": "#2a3f5f"
            },
            "marker": {
             "line": {
              "color": "white",
              "width": 0.5
             },
             "pattern": {
              "fillmode": "overlay",
              "size": 10,
              "solidity": 0.2
             }
            },
            "type": "bar"
           }
          ],
          "barpolar": [
           {
            "marker": {
             "line": {
              "color": "white",
              "width": 0.5
             },
             "pattern": {
              "fillmode": "overlay",
              "size": 10,
              "solidity": 0.2
             }
            },
            "type": "barpolar"
           }
          ],
          "carpet": [
           {
            "aaxis": {
             "endlinecolor": "#2a3f5f",
             "gridcolor": "#C8D4E3",
             "linecolor": "#C8D4E3",
             "minorgridcolor": "#C8D4E3",
             "startlinecolor": "#2a3f5f"
            },
            "baxis": {
             "endlinecolor": "#2a3f5f",
             "gridcolor": "#C8D4E3",
             "linecolor": "#C8D4E3",
             "minorgridcolor": "#C8D4E3",
             "startlinecolor": "#2a3f5f"
            },
            "type": "carpet"
           }
          ],
          "choropleth": [
           {
            "colorbar": {
             "outlinewidth": 0,
             "ticks": ""
            },
            "type": "choropleth"
           }
          ],
          "contour": [
           {
            "colorbar": {
             "outlinewidth": 0,
             "ticks": ""
            },
            "colorscale": [
             [
              0,
              "#0d0887"
             ],
             [
              0.1111111111111111,
              "#46039f"
             ],
             [
              0.2222222222222222,
              "#7201a8"
             ],
             [
              0.3333333333333333,
              "#9c179e"
             ],
             [
              0.4444444444444444,
              "#bd3786"
             ],
             [
              0.5555555555555556,
              "#d8576b"
             ],
             [
              0.6666666666666666,
              "#ed7953"
             ],
             [
              0.7777777777777778,
              "#fb9f3a"
             ],
             [
              0.8888888888888888,
              "#fdca26"
             ],
             [
              1,
              "#f0f921"
             ]
            ],
            "type": "contour"
           }
          ],
          "contourcarpet": [
           {
            "colorbar": {
             "outlinewidth": 0,
             "ticks": ""
            },
            "type": "contourcarpet"
           }
          ],
          "heatmap": [
           {
            "colorbar": {
             "outlinewidth": 0,
             "ticks": ""
            },
            "colorscale": [
             [
              0,
              "#0d0887"
             ],
             [
              0.1111111111111111,
              "#46039f"
             ],
             [
              0.2222222222222222,
              "#7201a8"
             ],
             [
              0.3333333333333333,
              "#9c179e"
             ],
             [
              0.4444444444444444,
              "#bd3786"
             ],
             [
              0.5555555555555556,
              "#d8576b"
             ],
             [
              0.6666666666666666,
              "#ed7953"
             ],
             [
              0.7777777777777778,
              "#fb9f3a"
             ],
             [
              0.8888888888888888,
              "#fdca26"
             ],
             [
              1,
              "#f0f921"
             ]
            ],
            "type": "heatmap"
           }
          ],
          "histogram": [
           {
            "marker": {
             "pattern": {
              "fillmode": "overlay",
              "size": 10,
              "solidity": 0.2
             }
            },
            "type": "histogram"
           }
          ],
          "histogram2d": [
           {
            "colorbar": {
             "outlinewidth": 0,
             "ticks": ""
            },
            "colorscale": [
             [
              0,
              "#0d0887"
             ],
             [
              0.1111111111111111,
              "#46039f"
             ],
             [
              0.2222222222222222,
              "#7201a8"
             ],
             [
              0.3333333333333333,
              "#9c179e"
             ],
             [
              0.4444444444444444,
              "#bd3786"
             ],
             [
              0.5555555555555556,
              "#d8576b"
             ],
             [
              0.6666666666666666,
              "#ed7953"
             ],
             [
              0.7777777777777778,
              "#fb9f3a"
             ],
             [
              0.8888888888888888,
              "#fdca26"
             ],
             [
              1,
              "#f0f921"
             ]
            ],
            "type": "histogram2d"
           }
          ],
          "histogram2dcontour": [
           {
            "colorbar": {
             "outlinewidth": 0,
             "ticks": ""
            },
            "colorscale": [
             [
              0,
              "#0d0887"
             ],
             [
              0.1111111111111111,
              "#46039f"
             ],
             [
              0.2222222222222222,
              "#7201a8"
             ],
             [
              0.3333333333333333,
              "#9c179e"
             ],
             [
              0.4444444444444444,
              "#bd3786"
             ],
             [
              0.5555555555555556,
              "#d8576b"
             ],
             [
              0.6666666666666666,
              "#ed7953"
             ],
             [
              0.7777777777777778,
              "#fb9f3a"
             ],
             [
              0.8888888888888888,
              "#fdca26"
             ],
             [
              1,
              "#f0f921"
             ]
            ],
            "type": "histogram2dcontour"
           }
          ],
          "mesh3d": [
           {
            "colorbar": {
             "outlinewidth": 0,
             "ticks": ""
            },
            "type": "mesh3d"
           }
          ],
          "parcoords": [
           {
            "line": {
             "colorbar": {
              "outlinewidth": 0,
              "ticks": ""
             }
            },
            "type": "parcoords"
           }
          ],
          "pie": [
           {
            "automargin": true,
            "type": "pie"
           }
          ],
          "scatter": [
           {
            "fillpattern": {
             "fillmode": "overlay",
             "size": 10,
             "solidity": 0.2
            },
            "type": "scatter"
           }
          ],
          "scatter3d": [
           {
            "line": {
             "colorbar": {
              "outlinewidth": 0,
              "ticks": ""
             }
            },
            "marker": {
             "colorbar": {
              "outlinewidth": 0,
              "ticks": ""
             }
            },
            "type": "scatter3d"
           }
          ],
          "scattercarpet": [
           {
            "marker": {
             "colorbar": {
              "outlinewidth": 0,
              "ticks": ""
             }
            },
            "type": "scattercarpet"
           }
          ],
          "scattergeo": [
           {
            "marker": {
             "colorbar": {
              "outlinewidth": 0,
              "ticks": ""
             }
            },
            "type": "scattergeo"
           }
          ],
          "scattergl": [
           {
            "marker": {
             "colorbar": {
              "outlinewidth": 0,
              "ticks": ""
             }
            },
            "type": "scattergl"
           }
          ],
          "scattermap": [
           {
            "marker": {
             "colorbar": {
              "outlinewidth": 0,
              "ticks": ""
             }
            },
            "type": "scattermap"
           }
          ],
          "scattermapbox": [
           {
            "marker": {
             "colorbar": {
              "outlinewidth": 0,
              "ticks": ""
             }
            },
            "type": "scattermapbox"
           }
          ],
          "scatterpolar": [
           {
            "marker": {
             "colorbar": {
              "outlinewidth": 0,
              "ticks": ""
             }
            },
            "type": "scatterpolar"
           }
          ],
          "scatterpolargl": [
           {
            "marker": {
             "colorbar": {
              "outlinewidth": 0,
              "ticks": ""
             }
            },
            "type": "scatterpolargl"
           }
          ],
          "scatterternary": [
           {
            "marker": {
             "colorbar": {
              "outlinewidth": 0,
              "ticks": ""
             }
            },
            "type": "scatterternary"
           }
          ],
          "surface": [
           {
            "colorbar": {
             "outlinewidth": 0,
             "ticks": ""
            },
            "colorscale": [
             [
              0,
              "#0d0887"
             ],
             [
              0.1111111111111111,
              "#46039f"
             ],
             [
              0.2222222222222222,
              "#7201a8"
             ],
             [
              0.3333333333333333,
              "#9c179e"
             ],
             [
              0.4444444444444444,
              "#bd3786"
             ],
             [
              0.5555555555555556,
              "#d8576b"
             ],
             [
              0.6666666666666666,
              "#ed7953"
             ],
             [
              0.7777777777777778,
              "#fb9f3a"
             ],
             [
              0.8888888888888888,
              "#fdca26"
             ],
             [
              1,
              "#f0f921"
             ]
            ],
            "type": "surface"
           }
          ],
          "table": [
           {
            "cells": {
             "fill": {
              "color": "#EBF0F8"
             },
             "line": {
              "color": "white"
             }
            },
            "header": {
             "fill": {
              "color": "#C8D4E3"
             },
             "line": {
              "color": "white"
             }
            },
            "type": "table"
           }
          ]
         },
         "layout": {
          "annotationdefaults": {
           "arrowcolor": "#2a3f5f",
           "arrowhead": 0,
           "arrowwidth": 1
          },
          "autotypenumbers": "strict",
          "coloraxis": {
           "colorbar": {
            "outlinewidth": 0,
            "ticks": ""
           }
          },
          "colorscale": {
           "diverging": [
            [
             0,
             "#8e0152"
            ],
            [
             0.1,
             "#c51b7d"
            ],
            [
             0.2,
             "#de77ae"
            ],
            [
             0.3,
             "#f1b6da"
            ],
            [
             0.4,
             "#fde0ef"
            ],
            [
             0.5,
             "#f7f7f7"
            ],
            [
             0.6,
             "#e6f5d0"
            ],
            [
             0.7,
             "#b8e186"
            ],
            [
             0.8,
             "#7fbc41"
            ],
            [
             0.9,
             "#4d9221"
            ],
            [
             1,
             "#276419"
            ]
           ],
           "sequential": [
            [
             0,
             "#0d0887"
            ],
            [
             0.1111111111111111,
             "#46039f"
            ],
            [
             0.2222222222222222,
             "#7201a8"
            ],
            [
             0.3333333333333333,
             "#9c179e"
            ],
            [
             0.4444444444444444,
             "#bd3786"
            ],
            [
             0.5555555555555556,
             "#d8576b"
            ],
            [
             0.6666666666666666,
             "#ed7953"
            ],
            [
             0.7777777777777778,
             "#fb9f3a"
            ],
            [
             0.8888888888888888,
             "#fdca26"
            ],
            [
             1,
             "#f0f921"
            ]
           ],
           "sequentialminus": [
            [
             0,
             "#0d0887"
            ],
            [
             0.1111111111111111,
             "#46039f"
            ],
            [
             0.2222222222222222,
             "#7201a8"
            ],
            [
             0.3333333333333333,
             "#9c179e"
            ],
            [
             0.4444444444444444,
             "#bd3786"
            ],
            [
             0.5555555555555556,
             "#d8576b"
            ],
            [
             0.6666666666666666,
             "#ed7953"
            ],
            [
             0.7777777777777778,
             "#fb9f3a"
            ],
            [
             0.8888888888888888,
             "#fdca26"
            ],
            [
             1,
             "#f0f921"
            ]
           ]
          },
          "colorway": [
           "#636efa",
           "#EF553B",
           "#00cc96",
           "#ab63fa",
           "#FFA15A",
           "#19d3f3",
           "#FF6692",
           "#B6E880",
           "#FF97FF",
           "#FECB52"
          ],
          "font": {
           "color": "#2a3f5f"
          },
          "geo": {
           "bgcolor": "white",
           "lakecolor": "white",
           "landcolor": "white",
           "showlakes": true,
           "showland": true,
           "subunitcolor": "#C8D4E3"
          },
          "hoverlabel": {
           "align": "left"
          },
          "hovermode": "closest",
          "mapbox": {
           "style": "light"
          },
          "paper_bgcolor": "white",
          "plot_bgcolor": "white",
          "polar": {
           "angularaxis": {
            "gridcolor": "#EBF0F8",
            "linecolor": "#EBF0F8",
            "ticks": ""
           },
           "bgcolor": "white",
           "radialaxis": {
            "gridcolor": "#EBF0F8",
            "linecolor": "#EBF0F8",
            "ticks": ""
           }
          },
          "scene": {
           "xaxis": {
            "backgroundcolor": "white",
            "gridcolor": "#DFE8F3",
            "gridwidth": 2,
            "linecolor": "#EBF0F8",
            "showbackground": true,
            "ticks": "",
            "zerolinecolor": "#EBF0F8"
           },
           "yaxis": {
            "backgroundcolor": "white",
            "gridcolor": "#DFE8F3",
            "gridwidth": 2,
            "linecolor": "#EBF0F8",
            "showbackground": true,
            "ticks": "",
            "zerolinecolor": "#EBF0F8"
           },
           "zaxis": {
            "backgroundcolor": "white",
            "gridcolor": "#DFE8F3",
            "gridwidth": 2,
            "linecolor": "#EBF0F8",
            "showbackground": true,
            "ticks": "",
            "zerolinecolor": "#EBF0F8"
           }
          },
          "shapedefaults": {
           "line": {
            "color": "#2a3f5f"
           }
          },
          "ternary": {
           "aaxis": {
            "gridcolor": "#DFE8F3",
            "linecolor": "#A2B1C6",
            "ticks": ""
           },
           "baxis": {
            "gridcolor": "#DFE8F3",
            "linecolor": "#A2B1C6",
            "ticks": ""
           },
           "bgcolor": "white",
           "caxis": {
            "gridcolor": "#DFE8F3",
            "linecolor": "#A2B1C6",
            "ticks": ""
           }
          },
          "title": {
           "x": 0.05
          },
          "xaxis": {
           "automargin": true,
           "gridcolor": "#EBF0F8",
           "linecolor": "#EBF0F8",
           "ticks": "",
           "title": {
            "standoff": 15
           },
           "zerolinecolor": "#EBF0F8",
           "zerolinewidth": 2
          },
          "yaxis": {
           "automargin": true,
           "gridcolor": "#EBF0F8",
           "linecolor": "#EBF0F8",
           "ticks": "",
           "title": {
            "standoff": 15
           },
           "zerolinecolor": "#EBF0F8",
           "zerolinewidth": 2
          }
         }
        },
        "xaxis": {
         "anchor": "y",
         "domain": [
          0,
          1
         ],
         "title": {
          "text": "Previous_Purchases"
         }
        },
        "yaxis": {
         "anchor": "x",
         "domain": [
          0,
          1
         ]
        }
       }
      }
     },
     "metadata": {},
     "output_type": "display_data"
    }
   ],
   "source": [
    "for i in df.columns:\n",
    "    if df[i].dtype != 'object' and i != 'Customer_ID':\n",
    "        fig = px.box(df, x=i,template='plotly_white')\n",
    "        fig.show()\n"
   ]
  },
  {
   "cell_type": "code",
   "execution_count": 11,
   "id": "2e723106",
   "metadata": {},
   "outputs": [
    {
     "name": "stdout",
     "output_type": "stream",
     "text": [
      "Customer_ID: int64, is_numeric: True\n",
      "Age: int64, is_numeric: True\n",
      "Gender: object, is_numeric: False\n",
      "Item_Purchased: object, is_numeric: False\n",
      "Category: object, is_numeric: False\n",
      "Purchase_Amount_USD: int64, is_numeric: True\n",
      "Location: object, is_numeric: False\n",
      "Size: object, is_numeric: False\n",
      "Color: object, is_numeric: False\n",
      "Season: object, is_numeric: False\n",
      "Review_Rating: float64, is_numeric: True\n",
      "Subscription_Status: object, is_numeric: False\n",
      "Payment_Method: object, is_numeric: False\n",
      "Shipping_Type: object, is_numeric: False\n",
      "Discount_Applied: object, is_numeric: False\n",
      "Promo_Code_Used: object, is_numeric: False\n",
      "Previous_Purchases: int64, is_numeric: True\n",
      "Preferred_Payment_Method: object, is_numeric: False\n",
      "Frequency_of_Purchases: object, is_numeric: False\n"
     ]
    }
   ],
   "source": [
    "for col in df.columns:\n",
    "    print(f\"{col}: {df[col].dtype}, is_numeric: {pd.api.types.is_numeric_dtype(df[col])}\")\n"
   ]
  },
  {
   "cell_type": "code",
   "execution_count": 12,
   "id": "30a83c10",
   "metadata": {},
   "outputs": [
    {
     "name": "stdout",
     "output_type": "stream",
     "text": [
      "Age: Number of outliers = 0\n",
      "Purchase_Amount_USD: Number of outliers = 0\n",
      "Review_Rating: Number of outliers = 0\n",
      "Previous_Purchases: Number of outliers = 0\n"
     ]
    }
   ],
   "source": [
    "for i in df.columns:\n",
    "    if df[i].dtype in ['int64', 'float64'] and i != 'Customer_ID':\n",
    "        Q1 = df[i].quantile(0.25)\n",
    "        Q3 = df[i].quantile(0.75)\n",
    "        IQR = Q3 - Q1\n",
    "\n",
    "        lower_bound = Q1 - 1.5 * IQR\n",
    "        upper_bound = Q3 + 1.5 * IQR\n",
    "\n",
    "        outliers = df[(df[i] < lower_bound) | (df[i] > upper_bound)]\n",
    "        print(f\"{i}: Number of outliers = {outliers.shape[0]}\")\n"
   ]
  },
  {
   "cell_type": "code",
   "execution_count": 13,
   "id": "ff7ab7f8",
   "metadata": {},
   "outputs": [
    {
     "name": "stdout",
     "output_type": "stream",
     "text": [
      "Gender\n",
      "Male      2652\n",
      "Female    1248\n",
      "Name: count, dtype: int64 \n",
      "\n",
      "Item_Purchased\n",
      "Blouse        171\n",
      "Pants         171\n",
      "Jewelry       171\n",
      "Shirt         169\n",
      "Dress         166\n",
      "Sweater       164\n",
      "Jacket        163\n",
      "Coat          161\n",
      "Sunglasses    161\n",
      "Belt          161\n",
      "Sandals       160\n",
      "Socks         159\n",
      "Skirt         158\n",
      "Scarf         157\n",
      "Shorts        157\n",
      "Hat           154\n",
      "Handbag       153\n",
      "Hoodie        151\n",
      "Shoes         150\n",
      "T-shirt       147\n",
      "Sneakers      145\n",
      "Boots         144\n",
      "Backpack      143\n",
      "Gloves        140\n",
      "Jeans         124\n",
      "Name: count, dtype: int64 \n",
      "\n",
      "Category\n",
      "Clothing       1737\n",
      "Accessories    1240\n",
      "Footwear        599\n",
      "Outerwear       324\n",
      "Name: count, dtype: int64 \n",
      "\n",
      "Location\n",
      "Montana           96\n",
      "California        95\n",
      "Idaho             93\n",
      "Illinois          92\n",
      "Alabama           89\n",
      "Minnesota         88\n",
      "New York          87\n",
      "Nevada            87\n",
      "Nebraska          87\n",
      "Delaware          86\n",
      "Maryland          86\n",
      "Vermont           85\n",
      "Louisiana         84\n",
      "North Dakota      83\n",
      "West Virginia     81\n",
      "Missouri          81\n",
      "New Mexico        81\n",
      "Mississippi       80\n",
      "Kentucky          79\n",
      "Arkansas          79\n",
      "Georgia           79\n",
      "Indiana           79\n",
      "Connecticut       78\n",
      "North Carolina    78\n",
      "Maine             77\n",
      "Ohio              77\n",
      "Virginia          77\n",
      "Texas             77\n",
      "Tennessee         77\n",
      "South Carolina    76\n",
      "Oklahoma          75\n",
      "Wisconsin         75\n",
      "Colorado          75\n",
      "Oregon            74\n",
      "Pennsylvania      74\n",
      "Michigan          73\n",
      "Washington        73\n",
      "Alaska            72\n",
      "Massachusetts     72\n",
      "Utah              71\n",
      "Wyoming           71\n",
      "New Hampshire     71\n",
      "South Dakota      70\n",
      "Iowa              69\n",
      "Florida           68\n",
      "New Jersey        67\n",
      "Arizona           65\n",
      "Hawaii            65\n",
      "Rhode Island      63\n",
      "Kansas            63\n",
      "Name: count, dtype: int64 \n",
      "\n",
      "Size\n",
      "M     1755\n",
      "L     1053\n",
      "S      663\n",
      "XL     429\n",
      "Name: count, dtype: int64 \n",
      "\n",
      "Color\n",
      "Olive        177\n",
      "Yellow       174\n",
      "Silver       173\n",
      "Teal         172\n",
      "Green        169\n",
      "Black        167\n",
      "Cyan         166\n",
      "Violet       166\n",
      "Gray         159\n",
      "Maroon       158\n",
      "Orange       154\n",
      "Charcoal     153\n",
      "Pink         153\n",
      "Blue         152\n",
      "Magenta      152\n",
      "Purple       151\n",
      "Peach        149\n",
      "Red          148\n",
      "Beige        147\n",
      "Indigo       147\n",
      "Lavender     147\n",
      "Turquoise    145\n",
      "White        142\n",
      "Brown        141\n",
      "Gold         138\n",
      "Name: count, dtype: int64 \n",
      "\n",
      "Season\n",
      "Spring    999\n",
      "Fall      975\n",
      "Winter    971\n",
      "Summer    955\n",
      "Name: count, dtype: int64 \n",
      "\n",
      "Subscription_Status\n",
      "No     2847\n",
      "Yes    1053\n",
      "Name: count, dtype: int64 \n",
      "\n",
      "Payment_Method\n",
      "Credit Card      696\n",
      "Venmo            653\n",
      "Cash             648\n",
      "PayPal           638\n",
      "Debit Card       633\n",
      "Bank Transfer    632\n",
      "Name: count, dtype: int64 \n",
      "\n",
      "Shipping_Type\n",
      "Free Shipping     675\n",
      "Standard          654\n",
      "Store Pickup      650\n",
      "Next Day Air      648\n",
      "Express           646\n",
      "2-Day Shipping    627\n",
      "Name: count, dtype: int64 \n",
      "\n",
      "Discount_Applied\n",
      "No     2223\n",
      "Yes    1677\n",
      "Name: count, dtype: int64 \n",
      "\n",
      "Promo_Code_Used\n",
      "No     2223\n",
      "Yes    1677\n",
      "Name: count, dtype: int64 \n",
      "\n",
      "Preferred_Payment_Method\n",
      "PayPal           677\n",
      "Credit Card      671\n",
      "Cash             670\n",
      "Debit Card       636\n",
      "Venmo            634\n",
      "Bank Transfer    612\n",
      "Name: count, dtype: int64 \n",
      "\n",
      "Frequency_of_Purchases\n",
      "Every 3 Months    584\n",
      "Annually          572\n",
      "Quarterly         563\n",
      "Monthly           553\n",
      "Bi-Weekly         547\n",
      "Fortnightly       542\n",
      "Weekly            539\n",
      "Name: count, dtype: int64 \n",
      "\n"
     ]
    }
   ],
   "source": [
    "for i in df.columns:\n",
    "    if df[i].dtype == 'object':\n",
    "        print(df[i].value_counts(),'\\n')\n",
    "    "
   ]
  },
  {
   "cell_type": "markdown",
   "id": "4cb62d6a",
   "metadata": {},
   "source": [
    "# Purchase Amount Vs. Gender"
   ]
  },
  {
   "cell_type": "code",
   "execution_count": 14,
   "id": "4a3b8bcb",
   "metadata": {},
   "outputs": [
    {
     "data": {
      "text/html": [
       "<div>\n",
       "<style scoped>\n",
       "    .dataframe tbody tr th:only-of-type {\n",
       "        vertical-align: middle;\n",
       "    }\n",
       "\n",
       "    .dataframe tbody tr th {\n",
       "        vertical-align: top;\n",
       "    }\n",
       "\n",
       "    .dataframe thead th {\n",
       "        text-align: right;\n",
       "    }\n",
       "</style>\n",
       "<table border=\"1\" class=\"dataframe\">\n",
       "  <thead>\n",
       "    <tr style=\"text-align: right;\">\n",
       "      <th></th>\n",
       "      <th>Gender</th>\n",
       "      <th>total_purchase_per_gender</th>\n",
       "      <th>average_purchase_per_gender</th>\n",
       "      <th>count</th>\n",
       "    </tr>\n",
       "  </thead>\n",
       "  <tbody>\n",
       "    <tr>\n",
       "      <th>0</th>\n",
       "      <td>Female</td>\n",
       "      <td>75191</td>\n",
       "      <td>60.249199</td>\n",
       "      <td>1248</td>\n",
       "    </tr>\n",
       "    <tr>\n",
       "      <th>1</th>\n",
       "      <td>Male</td>\n",
       "      <td>157890</td>\n",
       "      <td>59.536199</td>\n",
       "      <td>2652</td>\n",
       "    </tr>\n",
       "  </tbody>\n",
       "</table>\n",
       "</div>"
      ],
      "text/plain": [
       "   Gender  total_purchase_per_gender  average_purchase_per_gender  count\n",
       "0  Female                      75191                    60.249199   1248\n",
       "1    Male                     157890                    59.536199   2652"
      ]
     },
     "execution_count": 14,
     "metadata": {},
     "output_type": "execute_result"
    }
   ],
   "source": [
    "purchase_info = df.groupby('Gender').agg(\n",
    "    total_purchase_per_gender = ('Purchase_Amount_USD', 'sum'),\n",
    "    average_purchase_per_gender=('Purchase_Amount_USD', 'mean'),\n",
    "    count=('Customer_ID', 'count'),        \n",
    ").reset_index()\n",
    "purchase_info"
   ]
  },
  {
   "cell_type": "code",
   "execution_count": 15,
   "id": "eaebd94e",
   "metadata": {},
   "outputs": [
    {
     "data": {
      "application/vnd.plotly.v1+json": {
       "config": {
        "plotlyServerURL": "https://plot.ly"
       },
       "data": [
        {
         "customdata": {
          "bdata": "vuVbvuUfTkA=",
          "dtype": "f8",
          "shape": "1, 1"
         },
         "hovertemplate": "Gender=%{x}<br>total_purchase_per_gender=%{y}<br>average_purchase_per_gender=%{customdata[0]}<extra></extra>",
         "legendgroup": "Female",
         "marker": {
          "color": "#636efa",
          "pattern": {
           "shape": ""
          }
         },
         "name": "Female",
         "orientation": "v",
         "showlegend": true,
         "textposition": "auto",
         "type": "bar",
         "x": [
          "Female"
         ],
         "xaxis": "x",
         "y": {
          "bdata": "tyUBAA==",
          "dtype": "i4"
         },
         "yaxis": "y"
        },
        {
         "customdata": {
          "bdata": "LKIELKLETUA=",
          "dtype": "f8",
          "shape": "1, 1"
         },
         "hovertemplate": "Gender=%{x}<br>total_purchase_per_gender=%{y}<br>average_purchase_per_gender=%{customdata[0]}<extra></extra>",
         "legendgroup": "Male",
         "marker": {
          "color": "#EF553B",
          "pattern": {
           "shape": ""
          }
         },
         "name": "Male",
         "orientation": "v",
         "showlegend": true,
         "textposition": "auto",
         "type": "bar",
         "x": [
          "Male"
         ],
         "xaxis": "x",
         "y": {
          "bdata": "wmgCAA==",
          "dtype": "i4"
         },
         "yaxis": "y"
        }
       ],
       "layout": {
        "barmode": "relative",
        "legend": {
         "title": {
          "text": "Gender"
         },
         "tracegroupgap": 0
        },
        "margin": {
         "t": 60
        },
        "template": {
         "data": {
          "bar": [
           {
            "error_x": {
             "color": "#2a3f5f"
            },
            "error_y": {
             "color": "#2a3f5f"
            },
            "marker": {
             "line": {
              "color": "white",
              "width": 0.5
             },
             "pattern": {
              "fillmode": "overlay",
              "size": 10,
              "solidity": 0.2
             }
            },
            "type": "bar"
           }
          ],
          "barpolar": [
           {
            "marker": {
             "line": {
              "color": "white",
              "width": 0.5
             },
             "pattern": {
              "fillmode": "overlay",
              "size": 10,
              "solidity": 0.2
             }
            },
            "type": "barpolar"
           }
          ],
          "carpet": [
           {
            "aaxis": {
             "endlinecolor": "#2a3f5f",
             "gridcolor": "#C8D4E3",
             "linecolor": "#C8D4E3",
             "minorgridcolor": "#C8D4E3",
             "startlinecolor": "#2a3f5f"
            },
            "baxis": {
             "endlinecolor": "#2a3f5f",
             "gridcolor": "#C8D4E3",
             "linecolor": "#C8D4E3",
             "minorgridcolor": "#C8D4E3",
             "startlinecolor": "#2a3f5f"
            },
            "type": "carpet"
           }
          ],
          "choropleth": [
           {
            "colorbar": {
             "outlinewidth": 0,
             "ticks": ""
            },
            "type": "choropleth"
           }
          ],
          "contour": [
           {
            "colorbar": {
             "outlinewidth": 0,
             "ticks": ""
            },
            "colorscale": [
             [
              0,
              "#0d0887"
             ],
             [
              0.1111111111111111,
              "#46039f"
             ],
             [
              0.2222222222222222,
              "#7201a8"
             ],
             [
              0.3333333333333333,
              "#9c179e"
             ],
             [
              0.4444444444444444,
              "#bd3786"
             ],
             [
              0.5555555555555556,
              "#d8576b"
             ],
             [
              0.6666666666666666,
              "#ed7953"
             ],
             [
              0.7777777777777778,
              "#fb9f3a"
             ],
             [
              0.8888888888888888,
              "#fdca26"
             ],
             [
              1,
              "#f0f921"
             ]
            ],
            "type": "contour"
           }
          ],
          "contourcarpet": [
           {
            "colorbar": {
             "outlinewidth": 0,
             "ticks": ""
            },
            "type": "contourcarpet"
           }
          ],
          "heatmap": [
           {
            "colorbar": {
             "outlinewidth": 0,
             "ticks": ""
            },
            "colorscale": [
             [
              0,
              "#0d0887"
             ],
             [
              0.1111111111111111,
              "#46039f"
             ],
             [
              0.2222222222222222,
              "#7201a8"
             ],
             [
              0.3333333333333333,
              "#9c179e"
             ],
             [
              0.4444444444444444,
              "#bd3786"
             ],
             [
              0.5555555555555556,
              "#d8576b"
             ],
             [
              0.6666666666666666,
              "#ed7953"
             ],
             [
              0.7777777777777778,
              "#fb9f3a"
             ],
             [
              0.8888888888888888,
              "#fdca26"
             ],
             [
              1,
              "#f0f921"
             ]
            ],
            "type": "heatmap"
           }
          ],
          "histogram": [
           {
            "marker": {
             "pattern": {
              "fillmode": "overlay",
              "size": 10,
              "solidity": 0.2
             }
            },
            "type": "histogram"
           }
          ],
          "histogram2d": [
           {
            "colorbar": {
             "outlinewidth": 0,
             "ticks": ""
            },
            "colorscale": [
             [
              0,
              "#0d0887"
             ],
             [
              0.1111111111111111,
              "#46039f"
             ],
             [
              0.2222222222222222,
              "#7201a8"
             ],
             [
              0.3333333333333333,
              "#9c179e"
             ],
             [
              0.4444444444444444,
              "#bd3786"
             ],
             [
              0.5555555555555556,
              "#d8576b"
             ],
             [
              0.6666666666666666,
              "#ed7953"
             ],
             [
              0.7777777777777778,
              "#fb9f3a"
             ],
             [
              0.8888888888888888,
              "#fdca26"
             ],
             [
              1,
              "#f0f921"
             ]
            ],
            "type": "histogram2d"
           }
          ],
          "histogram2dcontour": [
           {
            "colorbar": {
             "outlinewidth": 0,
             "ticks": ""
            },
            "colorscale": [
             [
              0,
              "#0d0887"
             ],
             [
              0.1111111111111111,
              "#46039f"
             ],
             [
              0.2222222222222222,
              "#7201a8"
             ],
             [
              0.3333333333333333,
              "#9c179e"
             ],
             [
              0.4444444444444444,
              "#bd3786"
             ],
             [
              0.5555555555555556,
              "#d8576b"
             ],
             [
              0.6666666666666666,
              "#ed7953"
             ],
             [
              0.7777777777777778,
              "#fb9f3a"
             ],
             [
              0.8888888888888888,
              "#fdca26"
             ],
             [
              1,
              "#f0f921"
             ]
            ],
            "type": "histogram2dcontour"
           }
          ],
          "mesh3d": [
           {
            "colorbar": {
             "outlinewidth": 0,
             "ticks": ""
            },
            "type": "mesh3d"
           }
          ],
          "parcoords": [
           {
            "line": {
             "colorbar": {
              "outlinewidth": 0,
              "ticks": ""
             }
            },
            "type": "parcoords"
           }
          ],
          "pie": [
           {
            "automargin": true,
            "type": "pie"
           }
          ],
          "scatter": [
           {
            "fillpattern": {
             "fillmode": "overlay",
             "size": 10,
             "solidity": 0.2
            },
            "type": "scatter"
           }
          ],
          "scatter3d": [
           {
            "line": {
             "colorbar": {
              "outlinewidth": 0,
              "ticks": ""
             }
            },
            "marker": {
             "colorbar": {
              "outlinewidth": 0,
              "ticks": ""
             }
            },
            "type": "scatter3d"
           }
          ],
          "scattercarpet": [
           {
            "marker": {
             "colorbar": {
              "outlinewidth": 0,
              "ticks": ""
             }
            },
            "type": "scattercarpet"
           }
          ],
          "scattergeo": [
           {
            "marker": {
             "colorbar": {
              "outlinewidth": 0,
              "ticks": ""
             }
            },
            "type": "scattergeo"
           }
          ],
          "scattergl": [
           {
            "marker": {
             "colorbar": {
              "outlinewidth": 0,
              "ticks": ""
             }
            },
            "type": "scattergl"
           }
          ],
          "scattermap": [
           {
            "marker": {
             "colorbar": {
              "outlinewidth": 0,
              "ticks": ""
             }
            },
            "type": "scattermap"
           }
          ],
          "scattermapbox": [
           {
            "marker": {
             "colorbar": {
              "outlinewidth": 0,
              "ticks": ""
             }
            },
            "type": "scattermapbox"
           }
          ],
          "scatterpolar": [
           {
            "marker": {
             "colorbar": {
              "outlinewidth": 0,
              "ticks": ""
             }
            },
            "type": "scatterpolar"
           }
          ],
          "scatterpolargl": [
           {
            "marker": {
             "colorbar": {
              "outlinewidth": 0,
              "ticks": ""
             }
            },
            "type": "scatterpolargl"
           }
          ],
          "scatterternary": [
           {
            "marker": {
             "colorbar": {
              "outlinewidth": 0,
              "ticks": ""
             }
            },
            "type": "scatterternary"
           }
          ],
          "surface": [
           {
            "colorbar": {
             "outlinewidth": 0,
             "ticks": ""
            },
            "colorscale": [
             [
              0,
              "#0d0887"
             ],
             [
              0.1111111111111111,
              "#46039f"
             ],
             [
              0.2222222222222222,
              "#7201a8"
             ],
             [
              0.3333333333333333,
              "#9c179e"
             ],
             [
              0.4444444444444444,
              "#bd3786"
             ],
             [
              0.5555555555555556,
              "#d8576b"
             ],
             [
              0.6666666666666666,
              "#ed7953"
             ],
             [
              0.7777777777777778,
              "#fb9f3a"
             ],
             [
              0.8888888888888888,
              "#fdca26"
             ],
             [
              1,
              "#f0f921"
             ]
            ],
            "type": "surface"
           }
          ],
          "table": [
           {
            "cells": {
             "fill": {
              "color": "#EBF0F8"
             },
             "line": {
              "color": "white"
             }
            },
            "header": {
             "fill": {
              "color": "#C8D4E3"
             },
             "line": {
              "color": "white"
             }
            },
            "type": "table"
           }
          ]
         },
         "layout": {
          "annotationdefaults": {
           "arrowcolor": "#2a3f5f",
           "arrowhead": 0,
           "arrowwidth": 1
          },
          "autotypenumbers": "strict",
          "coloraxis": {
           "colorbar": {
            "outlinewidth": 0,
            "ticks": ""
           }
          },
          "colorscale": {
           "diverging": [
            [
             0,
             "#8e0152"
            ],
            [
             0.1,
             "#c51b7d"
            ],
            [
             0.2,
             "#de77ae"
            ],
            [
             0.3,
             "#f1b6da"
            ],
            [
             0.4,
             "#fde0ef"
            ],
            [
             0.5,
             "#f7f7f7"
            ],
            [
             0.6,
             "#e6f5d0"
            ],
            [
             0.7,
             "#b8e186"
            ],
            [
             0.8,
             "#7fbc41"
            ],
            [
             0.9,
             "#4d9221"
            ],
            [
             1,
             "#276419"
            ]
           ],
           "sequential": [
            [
             0,
             "#0d0887"
            ],
            [
             0.1111111111111111,
             "#46039f"
            ],
            [
             0.2222222222222222,
             "#7201a8"
            ],
            [
             0.3333333333333333,
             "#9c179e"
            ],
            [
             0.4444444444444444,
             "#bd3786"
            ],
            [
             0.5555555555555556,
             "#d8576b"
            ],
            [
             0.6666666666666666,
             "#ed7953"
            ],
            [
             0.7777777777777778,
             "#fb9f3a"
            ],
            [
             0.8888888888888888,
             "#fdca26"
            ],
            [
             1,
             "#f0f921"
            ]
           ],
           "sequentialminus": [
            [
             0,
             "#0d0887"
            ],
            [
             0.1111111111111111,
             "#46039f"
            ],
            [
             0.2222222222222222,
             "#7201a8"
            ],
            [
             0.3333333333333333,
             "#9c179e"
            ],
            [
             0.4444444444444444,
             "#bd3786"
            ],
            [
             0.5555555555555556,
             "#d8576b"
            ],
            [
             0.6666666666666666,
             "#ed7953"
            ],
            [
             0.7777777777777778,
             "#fb9f3a"
            ],
            [
             0.8888888888888888,
             "#fdca26"
            ],
            [
             1,
             "#f0f921"
            ]
           ]
          },
          "colorway": [
           "#636efa",
           "#EF553B",
           "#00cc96",
           "#ab63fa",
           "#FFA15A",
           "#19d3f3",
           "#FF6692",
           "#B6E880",
           "#FF97FF",
           "#FECB52"
          ],
          "font": {
           "color": "#2a3f5f"
          },
          "geo": {
           "bgcolor": "white",
           "lakecolor": "white",
           "landcolor": "white",
           "showlakes": true,
           "showland": true,
           "subunitcolor": "#C8D4E3"
          },
          "hoverlabel": {
           "align": "left"
          },
          "hovermode": "closest",
          "mapbox": {
           "style": "light"
          },
          "paper_bgcolor": "white",
          "plot_bgcolor": "white",
          "polar": {
           "angularaxis": {
            "gridcolor": "#EBF0F8",
            "linecolor": "#EBF0F8",
            "ticks": ""
           },
           "bgcolor": "white",
           "radialaxis": {
            "gridcolor": "#EBF0F8",
            "linecolor": "#EBF0F8",
            "ticks": ""
           }
          },
          "scene": {
           "xaxis": {
            "backgroundcolor": "white",
            "gridcolor": "#DFE8F3",
            "gridwidth": 2,
            "linecolor": "#EBF0F8",
            "showbackground": true,
            "ticks": "",
            "zerolinecolor": "#EBF0F8"
           },
           "yaxis": {
            "backgroundcolor": "white",
            "gridcolor": "#DFE8F3",
            "gridwidth": 2,
            "linecolor": "#EBF0F8",
            "showbackground": true,
            "ticks": "",
            "zerolinecolor": "#EBF0F8"
           },
           "zaxis": {
            "backgroundcolor": "white",
            "gridcolor": "#DFE8F3",
            "gridwidth": 2,
            "linecolor": "#EBF0F8",
            "showbackground": true,
            "ticks": "",
            "zerolinecolor": "#EBF0F8"
           }
          },
          "shapedefaults": {
           "line": {
            "color": "#2a3f5f"
           }
          },
          "ternary": {
           "aaxis": {
            "gridcolor": "#DFE8F3",
            "linecolor": "#A2B1C6",
            "ticks": ""
           },
           "baxis": {
            "gridcolor": "#DFE8F3",
            "linecolor": "#A2B1C6",
            "ticks": ""
           },
           "bgcolor": "white",
           "caxis": {
            "gridcolor": "#DFE8F3",
            "linecolor": "#A2B1C6",
            "ticks": ""
           }
          },
          "title": {
           "x": 0.05
          },
          "xaxis": {
           "automargin": true,
           "gridcolor": "#EBF0F8",
           "linecolor": "#EBF0F8",
           "ticks": "",
           "title": {
            "standoff": 15
           },
           "zerolinecolor": "#EBF0F8",
           "zerolinewidth": 2
          },
          "yaxis": {
           "automargin": true,
           "gridcolor": "#EBF0F8",
           "linecolor": "#EBF0F8",
           "ticks": "",
           "title": {
            "standoff": 15
           },
           "zerolinecolor": "#EBF0F8",
           "zerolinewidth": 2
          }
         }
        },
        "xaxis": {
         "anchor": "y",
         "categoryarray": [
          "Female",
          "Male"
         ],
         "categoryorder": "array",
         "domain": [
          0,
          1
         ],
         "title": {
          "text": "Gender"
         }
        },
        "yaxis": {
         "anchor": "x",
         "domain": [
          0,
          1
         ],
         "title": {
          "text": "total_purchase_per_gender"
         }
        }
       }
      }
     },
     "metadata": {},
     "output_type": "display_data"
    }
   ],
   "source": [
    "fig = px.bar(purchase_info, x='Gender', y='total_purchase_per_gender', color='Gender',template='plotly_white', hover_data=['Gender', 'average_purchase_per_gender' ])\n",
    "\n",
    "\n",
    "fig.show()\n"
   ]
  },
  {
   "cell_type": "code",
   "execution_count": 16,
   "id": "6702b304",
   "metadata": {},
   "outputs": [],
   "source": [
    "## While on average the women spend more per purchase than men, but men contribute more total in revenue."
   ]
  },
  {
   "cell_type": "markdown",
   "id": "dbf21cfb",
   "metadata": {},
   "source": [
    "# Purchase Amount Vs. Season"
   ]
  },
  {
   "cell_type": "code",
   "execution_count": 17,
   "id": "2e753260",
   "metadata": {},
   "outputs": [
    {
     "data": {
      "text/html": [
       "<div>\n",
       "<style scoped>\n",
       "    .dataframe tbody tr th:only-of-type {\n",
       "        vertical-align: middle;\n",
       "    }\n",
       "\n",
       "    .dataframe tbody tr th {\n",
       "        vertical-align: top;\n",
       "    }\n",
       "\n",
       "    .dataframe thead th {\n",
       "        text-align: right;\n",
       "    }\n",
       "</style>\n",
       "<table border=\"1\" class=\"dataframe\">\n",
       "  <thead>\n",
       "    <tr style=\"text-align: right;\">\n",
       "      <th></th>\n",
       "      <th>Season</th>\n",
       "      <th>total_purchase_per_season</th>\n",
       "      <th>average_purchase_per_season</th>\n",
       "      <th>count</th>\n",
       "    </tr>\n",
       "  </thead>\n",
       "  <tbody>\n",
       "    <tr>\n",
       "      <th>0</th>\n",
       "      <td>Fall</td>\n",
       "      <td>60018</td>\n",
       "      <td>61.556923</td>\n",
       "      <td>975</td>\n",
       "    </tr>\n",
       "    <tr>\n",
       "      <th>1</th>\n",
       "      <td>Spring</td>\n",
       "      <td>58679</td>\n",
       "      <td>58.737738</td>\n",
       "      <td>999</td>\n",
       "    </tr>\n",
       "    <tr>\n",
       "      <th>2</th>\n",
       "      <td>Summer</td>\n",
       "      <td>55777</td>\n",
       "      <td>58.405236</td>\n",
       "      <td>955</td>\n",
       "    </tr>\n",
       "    <tr>\n",
       "      <th>3</th>\n",
       "      <td>Winter</td>\n",
       "      <td>58607</td>\n",
       "      <td>60.357364</td>\n",
       "      <td>971</td>\n",
       "    </tr>\n",
       "  </tbody>\n",
       "</table>\n",
       "</div>"
      ],
      "text/plain": [
       "   Season  total_purchase_per_season  average_purchase_per_season  count\n",
       "0    Fall                      60018                    61.556923    975\n",
       "1  Spring                      58679                    58.737738    999\n",
       "2  Summer                      55777                    58.405236    955\n",
       "3  Winter                      58607                    60.357364    971"
      ]
     },
     "execution_count": 17,
     "metadata": {},
     "output_type": "execute_result"
    }
   ],
   "source": [
    "purchase_info_per_season = df.groupby('Season').agg(\n",
    "    total_purchase_per_season = ('Purchase_Amount_USD', 'sum'),\n",
    "    average_purchase_per_season=('Purchase_Amount_USD', 'mean'),\n",
    "    count=('Customer_ID', 'count'),        \n",
    ").reset_index()\n",
    "purchase_info_per_season"
   ]
  },
  {
   "cell_type": "code",
   "execution_count": 18,
   "id": "95bad6d7",
   "metadata": {},
   "outputs": [
    {
     "data": {
      "application/vnd.plotly.v1+json": {
       "config": {
        "plotlyServerURL": "https://plot.ly"
       },
       "data": [
        {
         "customdata": {
          "bdata": "2+JgQUnHTkA=",
          "dtype": "f8",
          "shape": "1, 1"
         },
         "hovertemplate": "Season=%{x}<br>total_purchase_per_season=%{y}<br>average_purchase_per_season=%{customdata[0]}<extra></extra>",
         "legendgroup": "Fall",
         "marker": {
          "color": "#636efa",
          "pattern": {
           "shape": ""
          }
         },
         "name": "Fall",
         "orientation": "v",
         "showlegend": true,
         "textposition": "auto",
         "type": "bar",
         "x": [
          "Fall"
         ],
         "xaxis": "x",
         "y": {
          "bdata": "cuoAAA==",
          "dtype": "i4"
         },
         "yaxis": "y"
        },
        {
         "customdata": {
          "bdata": "502wMG5eTUA=",
          "dtype": "f8",
          "shape": "1, 1"
         },
         "hovertemplate": "Season=%{x}<br>total_purchase_per_season=%{y}<br>average_purchase_per_season=%{customdata[0]}<extra></extra>",
         "legendgroup": "Spring",
         "marker": {
          "color": "#EF553B",
          "pattern": {
           "shape": ""
          }
         },
         "name": "Spring",
         "orientation": "v",
         "showlegend": true,
         "textposition": "auto",
         "type": "bar",
         "x": [
          "Spring"
         ],
         "xaxis": "x",
         "y": {
          "bdata": "N+UAAA==",
          "dtype": "i4"
         },
         "yaxis": "y"
        },
        {
         "customdata": {
          "bdata": "txWdwt4zTUA=",
          "dtype": "f8",
          "shape": "1, 1"
         },
         "hovertemplate": "Season=%{x}<br>total_purchase_per_season=%{y}<br>average_purchase_per_season=%{customdata[0]}<extra></extra>",
         "legendgroup": "Summer",
         "marker": {
          "color": "#00cc96",
          "pattern": {
           "shape": ""
          }
         },
         "name": "Summer",
         "orientation": "v",
         "showlegend": true,
         "textposition": "auto",
         "type": "bar",
         "x": [
          "Summer"
         ],
         "xaxis": "x",
         "y": {
          "bdata": "4dkAAA==",
          "dtype": "i4"
         },
         "yaxis": "y"
        },
        {
         "customdata": {
          "bdata": "n2ysFr4tTkA=",
          "dtype": "f8",
          "shape": "1, 1"
         },
         "hovertemplate": "Season=%{x}<br>total_purchase_per_season=%{y}<br>average_purchase_per_season=%{customdata[0]}<extra></extra>",
         "legendgroup": "Winter",
         "marker": {
          "color": "#ab63fa",
          "pattern": {
           "shape": ""
          }
         },
         "name": "Winter",
         "orientation": "v",
         "showlegend": true,
         "textposition": "auto",
         "type": "bar",
         "x": [
          "Winter"
         ],
         "xaxis": "x",
         "y": {
          "bdata": "7+QAAA==",
          "dtype": "i4"
         },
         "yaxis": "y"
        }
       ],
       "layout": {
        "barmode": "relative",
        "legend": {
         "title": {
          "text": "Season"
         },
         "tracegroupgap": 0
        },
        "margin": {
         "t": 60
        },
        "template": {
         "data": {
          "bar": [
           {
            "error_x": {
             "color": "#2a3f5f"
            },
            "error_y": {
             "color": "#2a3f5f"
            },
            "marker": {
             "line": {
              "color": "white",
              "width": 0.5
             },
             "pattern": {
              "fillmode": "overlay",
              "size": 10,
              "solidity": 0.2
             }
            },
            "type": "bar"
           }
          ],
          "barpolar": [
           {
            "marker": {
             "line": {
              "color": "white",
              "width": 0.5
             },
             "pattern": {
              "fillmode": "overlay",
              "size": 10,
              "solidity": 0.2
             }
            },
            "type": "barpolar"
           }
          ],
          "carpet": [
           {
            "aaxis": {
             "endlinecolor": "#2a3f5f",
             "gridcolor": "#C8D4E3",
             "linecolor": "#C8D4E3",
             "minorgridcolor": "#C8D4E3",
             "startlinecolor": "#2a3f5f"
            },
            "baxis": {
             "endlinecolor": "#2a3f5f",
             "gridcolor": "#C8D4E3",
             "linecolor": "#C8D4E3",
             "minorgridcolor": "#C8D4E3",
             "startlinecolor": "#2a3f5f"
            },
            "type": "carpet"
           }
          ],
          "choropleth": [
           {
            "colorbar": {
             "outlinewidth": 0,
             "ticks": ""
            },
            "type": "choropleth"
           }
          ],
          "contour": [
           {
            "colorbar": {
             "outlinewidth": 0,
             "ticks": ""
            },
            "colorscale": [
             [
              0,
              "#0d0887"
             ],
             [
              0.1111111111111111,
              "#46039f"
             ],
             [
              0.2222222222222222,
              "#7201a8"
             ],
             [
              0.3333333333333333,
              "#9c179e"
             ],
             [
              0.4444444444444444,
              "#bd3786"
             ],
             [
              0.5555555555555556,
              "#d8576b"
             ],
             [
              0.6666666666666666,
              "#ed7953"
             ],
             [
              0.7777777777777778,
              "#fb9f3a"
             ],
             [
              0.8888888888888888,
              "#fdca26"
             ],
             [
              1,
              "#f0f921"
             ]
            ],
            "type": "contour"
           }
          ],
          "contourcarpet": [
           {
            "colorbar": {
             "outlinewidth": 0,
             "ticks": ""
            },
            "type": "contourcarpet"
           }
          ],
          "heatmap": [
           {
            "colorbar": {
             "outlinewidth": 0,
             "ticks": ""
            },
            "colorscale": [
             [
              0,
              "#0d0887"
             ],
             [
              0.1111111111111111,
              "#46039f"
             ],
             [
              0.2222222222222222,
              "#7201a8"
             ],
             [
              0.3333333333333333,
              "#9c179e"
             ],
             [
              0.4444444444444444,
              "#bd3786"
             ],
             [
              0.5555555555555556,
              "#d8576b"
             ],
             [
              0.6666666666666666,
              "#ed7953"
             ],
             [
              0.7777777777777778,
              "#fb9f3a"
             ],
             [
              0.8888888888888888,
              "#fdca26"
             ],
             [
              1,
              "#f0f921"
             ]
            ],
            "type": "heatmap"
           }
          ],
          "histogram": [
           {
            "marker": {
             "pattern": {
              "fillmode": "overlay",
              "size": 10,
              "solidity": 0.2
             }
            },
            "type": "histogram"
           }
          ],
          "histogram2d": [
           {
            "colorbar": {
             "outlinewidth": 0,
             "ticks": ""
            },
            "colorscale": [
             [
              0,
              "#0d0887"
             ],
             [
              0.1111111111111111,
              "#46039f"
             ],
             [
              0.2222222222222222,
              "#7201a8"
             ],
             [
              0.3333333333333333,
              "#9c179e"
             ],
             [
              0.4444444444444444,
              "#bd3786"
             ],
             [
              0.5555555555555556,
              "#d8576b"
             ],
             [
              0.6666666666666666,
              "#ed7953"
             ],
             [
              0.7777777777777778,
              "#fb9f3a"
             ],
             [
              0.8888888888888888,
              "#fdca26"
             ],
             [
              1,
              "#f0f921"
             ]
            ],
            "type": "histogram2d"
           }
          ],
          "histogram2dcontour": [
           {
            "colorbar": {
             "outlinewidth": 0,
             "ticks": ""
            },
            "colorscale": [
             [
              0,
              "#0d0887"
             ],
             [
              0.1111111111111111,
              "#46039f"
             ],
             [
              0.2222222222222222,
              "#7201a8"
             ],
             [
              0.3333333333333333,
              "#9c179e"
             ],
             [
              0.4444444444444444,
              "#bd3786"
             ],
             [
              0.5555555555555556,
              "#d8576b"
             ],
             [
              0.6666666666666666,
              "#ed7953"
             ],
             [
              0.7777777777777778,
              "#fb9f3a"
             ],
             [
              0.8888888888888888,
              "#fdca26"
             ],
             [
              1,
              "#f0f921"
             ]
            ],
            "type": "histogram2dcontour"
           }
          ],
          "mesh3d": [
           {
            "colorbar": {
             "outlinewidth": 0,
             "ticks": ""
            },
            "type": "mesh3d"
           }
          ],
          "parcoords": [
           {
            "line": {
             "colorbar": {
              "outlinewidth": 0,
              "ticks": ""
             }
            },
            "type": "parcoords"
           }
          ],
          "pie": [
           {
            "automargin": true,
            "type": "pie"
           }
          ],
          "scatter": [
           {
            "fillpattern": {
             "fillmode": "overlay",
             "size": 10,
             "solidity": 0.2
            },
            "type": "scatter"
           }
          ],
          "scatter3d": [
           {
            "line": {
             "colorbar": {
              "outlinewidth": 0,
              "ticks": ""
             }
            },
            "marker": {
             "colorbar": {
              "outlinewidth": 0,
              "ticks": ""
             }
            },
            "type": "scatter3d"
           }
          ],
          "scattercarpet": [
           {
            "marker": {
             "colorbar": {
              "outlinewidth": 0,
              "ticks": ""
             }
            },
            "type": "scattercarpet"
           }
          ],
          "scattergeo": [
           {
            "marker": {
             "colorbar": {
              "outlinewidth": 0,
              "ticks": ""
             }
            },
            "type": "scattergeo"
           }
          ],
          "scattergl": [
           {
            "marker": {
             "colorbar": {
              "outlinewidth": 0,
              "ticks": ""
             }
            },
            "type": "scattergl"
           }
          ],
          "scattermap": [
           {
            "marker": {
             "colorbar": {
              "outlinewidth": 0,
              "ticks": ""
             }
            },
            "type": "scattermap"
           }
          ],
          "scattermapbox": [
           {
            "marker": {
             "colorbar": {
              "outlinewidth": 0,
              "ticks": ""
             }
            },
            "type": "scattermapbox"
           }
          ],
          "scatterpolar": [
           {
            "marker": {
             "colorbar": {
              "outlinewidth": 0,
              "ticks": ""
             }
            },
            "type": "scatterpolar"
           }
          ],
          "scatterpolargl": [
           {
            "marker": {
             "colorbar": {
              "outlinewidth": 0,
              "ticks": ""
             }
            },
            "type": "scatterpolargl"
           }
          ],
          "scatterternary": [
           {
            "marker": {
             "colorbar": {
              "outlinewidth": 0,
              "ticks": ""
             }
            },
            "type": "scatterternary"
           }
          ],
          "surface": [
           {
            "colorbar": {
             "outlinewidth": 0,
             "ticks": ""
            },
            "colorscale": [
             [
              0,
              "#0d0887"
             ],
             [
              0.1111111111111111,
              "#46039f"
             ],
             [
              0.2222222222222222,
              "#7201a8"
             ],
             [
              0.3333333333333333,
              "#9c179e"
             ],
             [
              0.4444444444444444,
              "#bd3786"
             ],
             [
              0.5555555555555556,
              "#d8576b"
             ],
             [
              0.6666666666666666,
              "#ed7953"
             ],
             [
              0.7777777777777778,
              "#fb9f3a"
             ],
             [
              0.8888888888888888,
              "#fdca26"
             ],
             [
              1,
              "#f0f921"
             ]
            ],
            "type": "surface"
           }
          ],
          "table": [
           {
            "cells": {
             "fill": {
              "color": "#EBF0F8"
             },
             "line": {
              "color": "white"
             }
            },
            "header": {
             "fill": {
              "color": "#C8D4E3"
             },
             "line": {
              "color": "white"
             }
            },
            "type": "table"
           }
          ]
         },
         "layout": {
          "annotationdefaults": {
           "arrowcolor": "#2a3f5f",
           "arrowhead": 0,
           "arrowwidth": 1
          },
          "autotypenumbers": "strict",
          "coloraxis": {
           "colorbar": {
            "outlinewidth": 0,
            "ticks": ""
           }
          },
          "colorscale": {
           "diverging": [
            [
             0,
             "#8e0152"
            ],
            [
             0.1,
             "#c51b7d"
            ],
            [
             0.2,
             "#de77ae"
            ],
            [
             0.3,
             "#f1b6da"
            ],
            [
             0.4,
             "#fde0ef"
            ],
            [
             0.5,
             "#f7f7f7"
            ],
            [
             0.6,
             "#e6f5d0"
            ],
            [
             0.7,
             "#b8e186"
            ],
            [
             0.8,
             "#7fbc41"
            ],
            [
             0.9,
             "#4d9221"
            ],
            [
             1,
             "#276419"
            ]
           ],
           "sequential": [
            [
             0,
             "#0d0887"
            ],
            [
             0.1111111111111111,
             "#46039f"
            ],
            [
             0.2222222222222222,
             "#7201a8"
            ],
            [
             0.3333333333333333,
             "#9c179e"
            ],
            [
             0.4444444444444444,
             "#bd3786"
            ],
            [
             0.5555555555555556,
             "#d8576b"
            ],
            [
             0.6666666666666666,
             "#ed7953"
            ],
            [
             0.7777777777777778,
             "#fb9f3a"
            ],
            [
             0.8888888888888888,
             "#fdca26"
            ],
            [
             1,
             "#f0f921"
            ]
           ],
           "sequentialminus": [
            [
             0,
             "#0d0887"
            ],
            [
             0.1111111111111111,
             "#46039f"
            ],
            [
             0.2222222222222222,
             "#7201a8"
            ],
            [
             0.3333333333333333,
             "#9c179e"
            ],
            [
             0.4444444444444444,
             "#bd3786"
            ],
            [
             0.5555555555555556,
             "#d8576b"
            ],
            [
             0.6666666666666666,
             "#ed7953"
            ],
            [
             0.7777777777777778,
             "#fb9f3a"
            ],
            [
             0.8888888888888888,
             "#fdca26"
            ],
            [
             1,
             "#f0f921"
            ]
           ]
          },
          "colorway": [
           "#636efa",
           "#EF553B",
           "#00cc96",
           "#ab63fa",
           "#FFA15A",
           "#19d3f3",
           "#FF6692",
           "#B6E880",
           "#FF97FF",
           "#FECB52"
          ],
          "font": {
           "color": "#2a3f5f"
          },
          "geo": {
           "bgcolor": "white",
           "lakecolor": "white",
           "landcolor": "white",
           "showlakes": true,
           "showland": true,
           "subunitcolor": "#C8D4E3"
          },
          "hoverlabel": {
           "align": "left"
          },
          "hovermode": "closest",
          "mapbox": {
           "style": "light"
          },
          "paper_bgcolor": "white",
          "plot_bgcolor": "white",
          "polar": {
           "angularaxis": {
            "gridcolor": "#EBF0F8",
            "linecolor": "#EBF0F8",
            "ticks": ""
           },
           "bgcolor": "white",
           "radialaxis": {
            "gridcolor": "#EBF0F8",
            "linecolor": "#EBF0F8",
            "ticks": ""
           }
          },
          "scene": {
           "xaxis": {
            "backgroundcolor": "white",
            "gridcolor": "#DFE8F3",
            "gridwidth": 2,
            "linecolor": "#EBF0F8",
            "showbackground": true,
            "ticks": "",
            "zerolinecolor": "#EBF0F8"
           },
           "yaxis": {
            "backgroundcolor": "white",
            "gridcolor": "#DFE8F3",
            "gridwidth": 2,
            "linecolor": "#EBF0F8",
            "showbackground": true,
            "ticks": "",
            "zerolinecolor": "#EBF0F8"
           },
           "zaxis": {
            "backgroundcolor": "white",
            "gridcolor": "#DFE8F3",
            "gridwidth": 2,
            "linecolor": "#EBF0F8",
            "showbackground": true,
            "ticks": "",
            "zerolinecolor": "#EBF0F8"
           }
          },
          "shapedefaults": {
           "line": {
            "color": "#2a3f5f"
           }
          },
          "ternary": {
           "aaxis": {
            "gridcolor": "#DFE8F3",
            "linecolor": "#A2B1C6",
            "ticks": ""
           },
           "baxis": {
            "gridcolor": "#DFE8F3",
            "linecolor": "#A2B1C6",
            "ticks": ""
           },
           "bgcolor": "white",
           "caxis": {
            "gridcolor": "#DFE8F3",
            "linecolor": "#A2B1C6",
            "ticks": ""
           }
          },
          "title": {
           "x": 0.05
          },
          "xaxis": {
           "automargin": true,
           "gridcolor": "#EBF0F8",
           "linecolor": "#EBF0F8",
           "ticks": "",
           "title": {
            "standoff": 15
           },
           "zerolinecolor": "#EBF0F8",
           "zerolinewidth": 2
          },
          "yaxis": {
           "automargin": true,
           "gridcolor": "#EBF0F8",
           "linecolor": "#EBF0F8",
           "ticks": "",
           "title": {
            "standoff": 15
           },
           "zerolinecolor": "#EBF0F8",
           "zerolinewidth": 2
          }
         }
        },
        "xaxis": {
         "anchor": "y",
         "categoryarray": [
          "Fall",
          "Spring",
          "Summer",
          "Winter"
         ],
         "categoryorder": "array",
         "domain": [
          0,
          1
         ],
         "title": {
          "text": "Season"
         }
        },
        "yaxis": {
         "anchor": "x",
         "domain": [
          0,
          1
         ],
         "title": {
          "text": "total_purchase_per_season"
         }
        }
       }
      }
     },
     "metadata": {},
     "output_type": "display_data"
    }
   ],
   "source": [
    "fig = px.bar(purchase_info_per_season, x='Season', y='total_purchase_per_season', color='Season',template='plotly_white', hover_data=['Season', 'average_purchase_per_season' ])\n",
    "fig.show()\n"
   ]
  },
  {
   "cell_type": "code",
   "execution_count": 19,
   "id": "65dd0df0",
   "metadata": {},
   "outputs": [],
   "source": [
    "## Fall is the most profitable season, while Summer is the least."
   ]
  },
  {
   "cell_type": "markdown",
   "id": "f34aebf0",
   "metadata": {},
   "source": [
    "## Purchase Amount Vs. Category"
   ]
  },
  {
   "cell_type": "code",
   "execution_count": 20,
   "id": "5aabe6aa",
   "metadata": {},
   "outputs": [
    {
     "data": {
      "text/html": [
       "<div>\n",
       "<style scoped>\n",
       "    .dataframe tbody tr th:only-of-type {\n",
       "        vertical-align: middle;\n",
       "    }\n",
       "\n",
       "    .dataframe tbody tr th {\n",
       "        vertical-align: top;\n",
       "    }\n",
       "\n",
       "    .dataframe thead th {\n",
       "        text-align: right;\n",
       "    }\n",
       "</style>\n",
       "<table border=\"1\" class=\"dataframe\">\n",
       "  <thead>\n",
       "    <tr style=\"text-align: right;\">\n",
       "      <th></th>\n",
       "      <th>Category</th>\n",
       "      <th>total_purchase_per_category</th>\n",
       "      <th>average_purchase_per_category</th>\n",
       "      <th>count</th>\n",
       "    </tr>\n",
       "  </thead>\n",
       "  <tbody>\n",
       "    <tr>\n",
       "      <th>0</th>\n",
       "      <td>Accessories</td>\n",
       "      <td>74200</td>\n",
       "      <td>59.838710</td>\n",
       "      <td>1240</td>\n",
       "    </tr>\n",
       "    <tr>\n",
       "      <th>1</th>\n",
       "      <td>Clothing</td>\n",
       "      <td>104264</td>\n",
       "      <td>60.025331</td>\n",
       "      <td>1737</td>\n",
       "    </tr>\n",
       "    <tr>\n",
       "      <th>2</th>\n",
       "      <td>Footwear</td>\n",
       "      <td>36093</td>\n",
       "      <td>60.255426</td>\n",
       "      <td>599</td>\n",
       "    </tr>\n",
       "    <tr>\n",
       "      <th>3</th>\n",
       "      <td>Outerwear</td>\n",
       "      <td>18524</td>\n",
       "      <td>57.172840</td>\n",
       "      <td>324</td>\n",
       "    </tr>\n",
       "  </tbody>\n",
       "</table>\n",
       "</div>"
      ],
      "text/plain": [
       "      Category  total_purchase_per_category  average_purchase_per_category  \\\n",
       "0  Accessories                        74200                      59.838710   \n",
       "1     Clothing                       104264                      60.025331   \n",
       "2     Footwear                        36093                      60.255426   \n",
       "3    Outerwear                        18524                      57.172840   \n",
       "\n",
       "   count  \n",
       "0   1240  \n",
       "1   1737  \n",
       "2    599  \n",
       "3    324  "
      ]
     },
     "execution_count": 20,
     "metadata": {},
     "output_type": "execute_result"
    }
   ],
   "source": [
    "purchase_info_per_category = df.groupby('Category').agg(\n",
    "    total_purchase_per_category = ('Purchase_Amount_USD', 'sum'),\n",
    "    average_purchase_per_category =('Purchase_Amount_USD', 'mean'),\n",
    "    count=('Customer_ID', 'count'),        \n",
    ").reset_index()\n",
    "purchase_info_per_category"
   ]
  },
  {
   "cell_type": "code",
   "execution_count": 21,
   "id": "4014d4a6",
   "metadata": {},
   "outputs": [
    {
     "data": {
      "application/vnd.plotly.v1+json": {
       "config": {
        "plotlyServerURL": "https://plot.ly"
       },
       "data": [
        {
         "customdata": {
          "bdata": "a6211lrrTUA=",
          "dtype": "f8",
          "shape": "1, 1"
         },
         "hovertemplate": "Category=%{x}<br>total_purchase_per_category=%{y}<br>average_purchase_per_category=%{customdata[0]}<extra></extra>",
         "legendgroup": "Accessories",
         "marker": {
          "color": "#636efa",
          "pattern": {
           "shape": ""
          }
         },
         "name": "Accessories",
         "orientation": "v",
         "showlegend": true,
         "textposition": "auto",
         "type": "bar",
         "x": [
          "Accessories"
         ],
         "xaxis": "x",
         "y": {
          "bdata": "2CEBAA==",
          "dtype": "i4"
         },
         "yaxis": "y"
        },
        {
         "customdata": {
          "bdata": "9M8VDD4DTkA=",
          "dtype": "f8",
          "shape": "1, 1"
         },
         "hovertemplate": "Category=%{x}<br>total_purchase_per_category=%{y}<br>average_purchase_per_category=%{customdata[0]}<extra></extra>",
         "legendgroup": "Clothing",
         "marker": {
          "color": "#EF553B",
          "pattern": {
           "shape": ""
          }
         },
         "name": "Clothing",
         "orientation": "v",
         "showlegend": true,
         "textposition": "auto",
         "type": "bar",
         "x": [
          "Clothing"
         ],
         "xaxis": "x",
         "y": {
          "bdata": "SJcBAA==",
          "dtype": "i4"
         },
         "yaxis": "y"
        },
        {
         "customdata": {
          "bdata": "0HYmyrEgTkA=",
          "dtype": "f8",
          "shape": "1, 1"
         },
         "hovertemplate": "Category=%{x}<br>total_purchase_per_category=%{y}<br>average_purchase_per_category=%{customdata[0]}<extra></extra>",
         "legendgroup": "Footwear",
         "marker": {
          "color": "#00cc96",
          "pattern": {
           "shape": ""
          }
         },
         "name": "Footwear",
         "orientation": "v",
         "showlegend": true,
         "textposition": "auto",
         "type": "bar",
         "x": [
          "Footwear"
         ],
         "xaxis": "x",
         "y": {
          "bdata": "/YwAAA==",
          "dtype": "i4"
         },
         "yaxis": "y"
        },
        {
         "customdata": {
          "bdata": "DTzdmh+WTEA=",
          "dtype": "f8",
          "shape": "1, 1"
         },
         "hovertemplate": "Category=%{x}<br>total_purchase_per_category=%{y}<br>average_purchase_per_category=%{customdata[0]}<extra></extra>",
         "legendgroup": "Outerwear",
         "marker": {
          "color": "#ab63fa",
          "pattern": {
           "shape": ""
          }
         },
         "name": "Outerwear",
         "orientation": "v",
         "showlegend": true,
         "textposition": "auto",
         "type": "bar",
         "x": [
          "Outerwear"
         ],
         "xaxis": "x",
         "y": {
          "bdata": "XEg=",
          "dtype": "i2"
         },
         "yaxis": "y"
        }
       ],
       "layout": {
        "barmode": "relative",
        "legend": {
         "title": {
          "text": "Category"
         },
         "tracegroupgap": 0
        },
        "margin": {
         "t": 60
        },
        "template": {
         "data": {
          "bar": [
           {
            "error_x": {
             "color": "#2a3f5f"
            },
            "error_y": {
             "color": "#2a3f5f"
            },
            "marker": {
             "line": {
              "color": "white",
              "width": 0.5
             },
             "pattern": {
              "fillmode": "overlay",
              "size": 10,
              "solidity": 0.2
             }
            },
            "type": "bar"
           }
          ],
          "barpolar": [
           {
            "marker": {
             "line": {
              "color": "white",
              "width": 0.5
             },
             "pattern": {
              "fillmode": "overlay",
              "size": 10,
              "solidity": 0.2
             }
            },
            "type": "barpolar"
           }
          ],
          "carpet": [
           {
            "aaxis": {
             "endlinecolor": "#2a3f5f",
             "gridcolor": "#C8D4E3",
             "linecolor": "#C8D4E3",
             "minorgridcolor": "#C8D4E3",
             "startlinecolor": "#2a3f5f"
            },
            "baxis": {
             "endlinecolor": "#2a3f5f",
             "gridcolor": "#C8D4E3",
             "linecolor": "#C8D4E3",
             "minorgridcolor": "#C8D4E3",
             "startlinecolor": "#2a3f5f"
            },
            "type": "carpet"
           }
          ],
          "choropleth": [
           {
            "colorbar": {
             "outlinewidth": 0,
             "ticks": ""
            },
            "type": "choropleth"
           }
          ],
          "contour": [
           {
            "colorbar": {
             "outlinewidth": 0,
             "ticks": ""
            },
            "colorscale": [
             [
              0,
              "#0d0887"
             ],
             [
              0.1111111111111111,
              "#46039f"
             ],
             [
              0.2222222222222222,
              "#7201a8"
             ],
             [
              0.3333333333333333,
              "#9c179e"
             ],
             [
              0.4444444444444444,
              "#bd3786"
             ],
             [
              0.5555555555555556,
              "#d8576b"
             ],
             [
              0.6666666666666666,
              "#ed7953"
             ],
             [
              0.7777777777777778,
              "#fb9f3a"
             ],
             [
              0.8888888888888888,
              "#fdca26"
             ],
             [
              1,
              "#f0f921"
             ]
            ],
            "type": "contour"
           }
          ],
          "contourcarpet": [
           {
            "colorbar": {
             "outlinewidth": 0,
             "ticks": ""
            },
            "type": "contourcarpet"
           }
          ],
          "heatmap": [
           {
            "colorbar": {
             "outlinewidth": 0,
             "ticks": ""
            },
            "colorscale": [
             [
              0,
              "#0d0887"
             ],
             [
              0.1111111111111111,
              "#46039f"
             ],
             [
              0.2222222222222222,
              "#7201a8"
             ],
             [
              0.3333333333333333,
              "#9c179e"
             ],
             [
              0.4444444444444444,
              "#bd3786"
             ],
             [
              0.5555555555555556,
              "#d8576b"
             ],
             [
              0.6666666666666666,
              "#ed7953"
             ],
             [
              0.7777777777777778,
              "#fb9f3a"
             ],
             [
              0.8888888888888888,
              "#fdca26"
             ],
             [
              1,
              "#f0f921"
             ]
            ],
            "type": "heatmap"
           }
          ],
          "histogram": [
           {
            "marker": {
             "pattern": {
              "fillmode": "overlay",
              "size": 10,
              "solidity": 0.2
             }
            },
            "type": "histogram"
           }
          ],
          "histogram2d": [
           {
            "colorbar": {
             "outlinewidth": 0,
             "ticks": ""
            },
            "colorscale": [
             [
              0,
              "#0d0887"
             ],
             [
              0.1111111111111111,
              "#46039f"
             ],
             [
              0.2222222222222222,
              "#7201a8"
             ],
             [
              0.3333333333333333,
              "#9c179e"
             ],
             [
              0.4444444444444444,
              "#bd3786"
             ],
             [
              0.5555555555555556,
              "#d8576b"
             ],
             [
              0.6666666666666666,
              "#ed7953"
             ],
             [
              0.7777777777777778,
              "#fb9f3a"
             ],
             [
              0.8888888888888888,
              "#fdca26"
             ],
             [
              1,
              "#f0f921"
             ]
            ],
            "type": "histogram2d"
           }
          ],
          "histogram2dcontour": [
           {
            "colorbar": {
             "outlinewidth": 0,
             "ticks": ""
            },
            "colorscale": [
             [
              0,
              "#0d0887"
             ],
             [
              0.1111111111111111,
              "#46039f"
             ],
             [
              0.2222222222222222,
              "#7201a8"
             ],
             [
              0.3333333333333333,
              "#9c179e"
             ],
             [
              0.4444444444444444,
              "#bd3786"
             ],
             [
              0.5555555555555556,
              "#d8576b"
             ],
             [
              0.6666666666666666,
              "#ed7953"
             ],
             [
              0.7777777777777778,
              "#fb9f3a"
             ],
             [
              0.8888888888888888,
              "#fdca26"
             ],
             [
              1,
              "#f0f921"
             ]
            ],
            "type": "histogram2dcontour"
           }
          ],
          "mesh3d": [
           {
            "colorbar": {
             "outlinewidth": 0,
             "ticks": ""
            },
            "type": "mesh3d"
           }
          ],
          "parcoords": [
           {
            "line": {
             "colorbar": {
              "outlinewidth": 0,
              "ticks": ""
             }
            },
            "type": "parcoords"
           }
          ],
          "pie": [
           {
            "automargin": true,
            "type": "pie"
           }
          ],
          "scatter": [
           {
            "fillpattern": {
             "fillmode": "overlay",
             "size": 10,
             "solidity": 0.2
            },
            "type": "scatter"
           }
          ],
          "scatter3d": [
           {
            "line": {
             "colorbar": {
              "outlinewidth": 0,
              "ticks": ""
             }
            },
            "marker": {
             "colorbar": {
              "outlinewidth": 0,
              "ticks": ""
             }
            },
            "type": "scatter3d"
           }
          ],
          "scattercarpet": [
           {
            "marker": {
             "colorbar": {
              "outlinewidth": 0,
              "ticks": ""
             }
            },
            "type": "scattercarpet"
           }
          ],
          "scattergeo": [
           {
            "marker": {
             "colorbar": {
              "outlinewidth": 0,
              "ticks": ""
             }
            },
            "type": "scattergeo"
           }
          ],
          "scattergl": [
           {
            "marker": {
             "colorbar": {
              "outlinewidth": 0,
              "ticks": ""
             }
            },
            "type": "scattergl"
           }
          ],
          "scattermap": [
           {
            "marker": {
             "colorbar": {
              "outlinewidth": 0,
              "ticks": ""
             }
            },
            "type": "scattermap"
           }
          ],
          "scattermapbox": [
           {
            "marker": {
             "colorbar": {
              "outlinewidth": 0,
              "ticks": ""
             }
            },
            "type": "scattermapbox"
           }
          ],
          "scatterpolar": [
           {
            "marker": {
             "colorbar": {
              "outlinewidth": 0,
              "ticks": ""
             }
            },
            "type": "scatterpolar"
           }
          ],
          "scatterpolargl": [
           {
            "marker": {
             "colorbar": {
              "outlinewidth": 0,
              "ticks": ""
             }
            },
            "type": "scatterpolargl"
           }
          ],
          "scatterternary": [
           {
            "marker": {
             "colorbar": {
              "outlinewidth": 0,
              "ticks": ""
             }
            },
            "type": "scatterternary"
           }
          ],
          "surface": [
           {
            "colorbar": {
             "outlinewidth": 0,
             "ticks": ""
            },
            "colorscale": [
             [
              0,
              "#0d0887"
             ],
             [
              0.1111111111111111,
              "#46039f"
             ],
             [
              0.2222222222222222,
              "#7201a8"
             ],
             [
              0.3333333333333333,
              "#9c179e"
             ],
             [
              0.4444444444444444,
              "#bd3786"
             ],
             [
              0.5555555555555556,
              "#d8576b"
             ],
             [
              0.6666666666666666,
              "#ed7953"
             ],
             [
              0.7777777777777778,
              "#fb9f3a"
             ],
             [
              0.8888888888888888,
              "#fdca26"
             ],
             [
              1,
              "#f0f921"
             ]
            ],
            "type": "surface"
           }
          ],
          "table": [
           {
            "cells": {
             "fill": {
              "color": "#EBF0F8"
             },
             "line": {
              "color": "white"
             }
            },
            "header": {
             "fill": {
              "color": "#C8D4E3"
             },
             "line": {
              "color": "white"
             }
            },
            "type": "table"
           }
          ]
         },
         "layout": {
          "annotationdefaults": {
           "arrowcolor": "#2a3f5f",
           "arrowhead": 0,
           "arrowwidth": 1
          },
          "autotypenumbers": "strict",
          "coloraxis": {
           "colorbar": {
            "outlinewidth": 0,
            "ticks": ""
           }
          },
          "colorscale": {
           "diverging": [
            [
             0,
             "#8e0152"
            ],
            [
             0.1,
             "#c51b7d"
            ],
            [
             0.2,
             "#de77ae"
            ],
            [
             0.3,
             "#f1b6da"
            ],
            [
             0.4,
             "#fde0ef"
            ],
            [
             0.5,
             "#f7f7f7"
            ],
            [
             0.6,
             "#e6f5d0"
            ],
            [
             0.7,
             "#b8e186"
            ],
            [
             0.8,
             "#7fbc41"
            ],
            [
             0.9,
             "#4d9221"
            ],
            [
             1,
             "#276419"
            ]
           ],
           "sequential": [
            [
             0,
             "#0d0887"
            ],
            [
             0.1111111111111111,
             "#46039f"
            ],
            [
             0.2222222222222222,
             "#7201a8"
            ],
            [
             0.3333333333333333,
             "#9c179e"
            ],
            [
             0.4444444444444444,
             "#bd3786"
            ],
            [
             0.5555555555555556,
             "#d8576b"
            ],
            [
             0.6666666666666666,
             "#ed7953"
            ],
            [
             0.7777777777777778,
             "#fb9f3a"
            ],
            [
             0.8888888888888888,
             "#fdca26"
            ],
            [
             1,
             "#f0f921"
            ]
           ],
           "sequentialminus": [
            [
             0,
             "#0d0887"
            ],
            [
             0.1111111111111111,
             "#46039f"
            ],
            [
             0.2222222222222222,
             "#7201a8"
            ],
            [
             0.3333333333333333,
             "#9c179e"
            ],
            [
             0.4444444444444444,
             "#bd3786"
            ],
            [
             0.5555555555555556,
             "#d8576b"
            ],
            [
             0.6666666666666666,
             "#ed7953"
            ],
            [
             0.7777777777777778,
             "#fb9f3a"
            ],
            [
             0.8888888888888888,
             "#fdca26"
            ],
            [
             1,
             "#f0f921"
            ]
           ]
          },
          "colorway": [
           "#636efa",
           "#EF553B",
           "#00cc96",
           "#ab63fa",
           "#FFA15A",
           "#19d3f3",
           "#FF6692",
           "#B6E880",
           "#FF97FF",
           "#FECB52"
          ],
          "font": {
           "color": "#2a3f5f"
          },
          "geo": {
           "bgcolor": "white",
           "lakecolor": "white",
           "landcolor": "white",
           "showlakes": true,
           "showland": true,
           "subunitcolor": "#C8D4E3"
          },
          "hoverlabel": {
           "align": "left"
          },
          "hovermode": "closest",
          "mapbox": {
           "style": "light"
          },
          "paper_bgcolor": "white",
          "plot_bgcolor": "white",
          "polar": {
           "angularaxis": {
            "gridcolor": "#EBF0F8",
            "linecolor": "#EBF0F8",
            "ticks": ""
           },
           "bgcolor": "white",
           "radialaxis": {
            "gridcolor": "#EBF0F8",
            "linecolor": "#EBF0F8",
            "ticks": ""
           }
          },
          "scene": {
           "xaxis": {
            "backgroundcolor": "white",
            "gridcolor": "#DFE8F3",
            "gridwidth": 2,
            "linecolor": "#EBF0F8",
            "showbackground": true,
            "ticks": "",
            "zerolinecolor": "#EBF0F8"
           },
           "yaxis": {
            "backgroundcolor": "white",
            "gridcolor": "#DFE8F3",
            "gridwidth": 2,
            "linecolor": "#EBF0F8",
            "showbackground": true,
            "ticks": "",
            "zerolinecolor": "#EBF0F8"
           },
           "zaxis": {
            "backgroundcolor": "white",
            "gridcolor": "#DFE8F3",
            "gridwidth": 2,
            "linecolor": "#EBF0F8",
            "showbackground": true,
            "ticks": "",
            "zerolinecolor": "#EBF0F8"
           }
          },
          "shapedefaults": {
           "line": {
            "color": "#2a3f5f"
           }
          },
          "ternary": {
           "aaxis": {
            "gridcolor": "#DFE8F3",
            "linecolor": "#A2B1C6",
            "ticks": ""
           },
           "baxis": {
            "gridcolor": "#DFE8F3",
            "linecolor": "#A2B1C6",
            "ticks": ""
           },
           "bgcolor": "white",
           "caxis": {
            "gridcolor": "#DFE8F3",
            "linecolor": "#A2B1C6",
            "ticks": ""
           }
          },
          "title": {
           "x": 0.05
          },
          "xaxis": {
           "automargin": true,
           "gridcolor": "#EBF0F8",
           "linecolor": "#EBF0F8",
           "ticks": "",
           "title": {
            "standoff": 15
           },
           "zerolinecolor": "#EBF0F8",
           "zerolinewidth": 2
          },
          "yaxis": {
           "automargin": true,
           "gridcolor": "#EBF0F8",
           "linecolor": "#EBF0F8",
           "ticks": "",
           "title": {
            "standoff": 15
           },
           "zerolinecolor": "#EBF0F8",
           "zerolinewidth": 2
          }
         }
        },
        "xaxis": {
         "anchor": "y",
         "categoryarray": [
          "Accessories",
          "Clothing",
          "Footwear",
          "Outerwear"
         ],
         "categoryorder": "array",
         "domain": [
          0,
          1
         ],
         "title": {
          "text": "Category"
         }
        },
        "yaxis": {
         "anchor": "x",
         "domain": [
          0,
          1
         ],
         "title": {
          "text": "total_purchase_per_category"
         }
        }
       }
      }
     },
     "metadata": {},
     "output_type": "display_data"
    }
   ],
   "source": [
    "fig = px.bar(purchase_info_per_category, x='Category', y='total_purchase_per_category', color='Category',template='plotly_white', hover_data=['Category', 'average_purchase_per_category' ])\n",
    "fig.show()\n"
   ]
  },
  {
   "cell_type": "code",
   "execution_count": null,
   "id": "6b1a4da8",
   "metadata": {},
   "outputs": [],
   "source": []
  },
  {
   "cell_type": "code",
   "execution_count": null,
   "id": "d0c82acc",
   "metadata": {},
   "outputs": [],
   "source": []
  },
  {
   "cell_type": "code",
   "execution_count": 22,
   "id": "a3435c4a",
   "metadata": {},
   "outputs": [],
   "source": [
    "## The Clothing category is the most profitable or in demand category, while the Outerwear category is the least"
   ]
  },
  {
   "cell_type": "markdown",
   "id": "4f0f092c",
   "metadata": {},
   "source": [
    "# Purchase Amount Vs. Payment Method"
   ]
  },
  {
   "cell_type": "code",
   "execution_count": 23,
   "id": "d1953828",
   "metadata": {},
   "outputs": [
    {
     "data": {
      "text/html": [
       "<div>\n",
       "<style scoped>\n",
       "    .dataframe tbody tr th:only-of-type {\n",
       "        vertical-align: middle;\n",
       "    }\n",
       "\n",
       "    .dataframe tbody tr th {\n",
       "        vertical-align: top;\n",
       "    }\n",
       "\n",
       "    .dataframe thead th {\n",
       "        text-align: right;\n",
       "    }\n",
       "</style>\n",
       "<table border=\"1\" class=\"dataframe\">\n",
       "  <thead>\n",
       "    <tr style=\"text-align: right;\">\n",
       "      <th></th>\n",
       "      <th>Payment_Method</th>\n",
       "      <th>total_purchase_per_payment_method</th>\n",
       "      <th>average_purchase_per_payment_method</th>\n",
       "      <th>count</th>\n",
       "    </tr>\n",
       "  </thead>\n",
       "  <tbody>\n",
       "    <tr>\n",
       "      <th>0</th>\n",
       "      <td>Bank Transfer</td>\n",
       "      <td>37123</td>\n",
       "      <td>58.738924</td>\n",
       "      <td>632</td>\n",
       "    </tr>\n",
       "    <tr>\n",
       "      <th>1</th>\n",
       "      <td>Cash</td>\n",
       "      <td>38833</td>\n",
       "      <td>59.927469</td>\n",
       "      <td>648</td>\n",
       "    </tr>\n",
       "    <tr>\n",
       "      <th>2</th>\n",
       "      <td>Credit Card</td>\n",
       "      <td>42567</td>\n",
       "      <td>61.159483</td>\n",
       "      <td>696</td>\n",
       "    </tr>\n",
       "    <tr>\n",
       "      <th>3</th>\n",
       "      <td>Debit Card</td>\n",
       "      <td>37118</td>\n",
       "      <td>58.638231</td>\n",
       "      <td>633</td>\n",
       "    </tr>\n",
       "    <tr>\n",
       "      <th>4</th>\n",
       "      <td>PayPal</td>\n",
       "      <td>37449</td>\n",
       "      <td>58.697492</td>\n",
       "      <td>638</td>\n",
       "    </tr>\n",
       "    <tr>\n",
       "      <th>5</th>\n",
       "      <td>Venmo</td>\n",
       "      <td>39991</td>\n",
       "      <td>61.241960</td>\n",
       "      <td>653</td>\n",
       "    </tr>\n",
       "  </tbody>\n",
       "</table>\n",
       "</div>"
      ],
      "text/plain": [
       "  Payment_Method  total_purchase_per_payment_method  \\\n",
       "0  Bank Transfer                              37123   \n",
       "1           Cash                              38833   \n",
       "2    Credit Card                              42567   \n",
       "3     Debit Card                              37118   \n",
       "4         PayPal                              37449   \n",
       "5          Venmo                              39991   \n",
       "\n",
       "   average_purchase_per_payment_method  count  \n",
       "0                            58.738924    632  \n",
       "1                            59.927469    648  \n",
       "2                            61.159483    696  \n",
       "3                            58.638231    633  \n",
       "4                            58.697492    638  \n",
       "5                            61.241960    653  "
      ]
     },
     "execution_count": 23,
     "metadata": {},
     "output_type": "execute_result"
    }
   ],
   "source": [
    "purchase_info_per_payment_method = df.groupby('Payment_Method').agg(\n",
    "    total_purchase_per_payment_method = ('Purchase_Amount_USD', 'sum'),\n",
    "    average_purchase_per_payment_method =('Purchase_Amount_USD', 'mean'),\n",
    "    count=('Customer_ID', 'count'),        \n",
    ").reset_index()\n",
    "purchase_info_per_payment_method"
   ]
  },
  {
   "cell_type": "code",
   "execution_count": 24,
   "id": "e99ffa4a",
   "metadata": {},
   "outputs": [
    {
     "data": {
      "application/vnd.plotly.v1+json": {
       "config": {
        "plotlyServerURL": "https://plot.ly"
       },
       "data": [
        {
         "customdata": {
          "bdata": "HdkzEJVeTUA=",
          "dtype": "f8",
          "shape": "1, 1"
         },
         "hovertemplate": "Payment_Method=%{x}<br>total_purchase_per_payment_method=%{y}<br>average_purchase_per_payment_method=%{customdata[0]}<extra></extra>",
         "legendgroup": "Bank Transfer",
         "marker": {
          "color": "#636efa",
          "pattern": {
           "shape": ""
          }
         },
         "name": "Bank Transfer",
         "orientation": "v",
         "showlegend": true,
         "textposition": "auto",
         "type": "bar",
         "x": [
          "Bank Transfer"
         ],
         "xaxis": "x",
         "y": {
          "bdata": "A5EAAA==",
          "dtype": "i4"
         },
         "yaxis": "y"
        },
        {
         "customdata": {
          "bdata": "FikDT7f2TUA=",
          "dtype": "f8",
          "shape": "1, 1"
         },
         "hovertemplate": "Payment_Method=%{x}<br>total_purchase_per_payment_method=%{y}<br>average_purchase_per_payment_method=%{customdata[0]}<extra></extra>",
         "legendgroup": "Cash",
         "marker": {
          "color": "#EF553B",
          "pattern": {
           "shape": ""
          }
         },
         "name": "Cash",
         "orientation": "v",
         "showlegend": true,
         "textposition": "auto",
         "type": "bar",
         "x": [
          "Cash"
         ],
         "xaxis": "x",
         "y": {
          "bdata": "sZcAAA==",
          "dtype": "i4"
         },
         "yaxis": "y"
        },
        {
         "customdata": {
          "bdata": "n0ZY7mmUTkA=",
          "dtype": "f8",
          "shape": "1, 1"
         },
         "hovertemplate": "Payment_Method=%{x}<br>total_purchase_per_payment_method=%{y}<br>average_purchase_per_payment_method=%{customdata[0]}<extra></extra>",
         "legendgroup": "Credit Card",
         "marker": {
          "color": "#00cc96",
          "pattern": {
           "shape": ""
          }
         },
         "name": "Credit Card",
         "orientation": "v",
         "showlegend": true,
         "textposition": "auto",
         "type": "bar",
         "x": [
          "Credit Card"
         ],
         "xaxis": "x",
         "y": {
          "bdata": "R6YAAA==",
          "dtype": "i4"
         },
         "yaxis": "y"
        },
        {
         "customdata": {
          "bdata": "tJu3irFRTUA=",
          "dtype": "f8",
          "shape": "1, 1"
         },
         "hovertemplate": "Payment_Method=%{x}<br>total_purchase_per_payment_method=%{y}<br>average_purchase_per_payment_method=%{customdata[0]}<extra></extra>",
         "legendgroup": "Debit Card",
         "marker": {
          "color": "#ab63fa",
          "pattern": {
           "shape": ""
          }
         },
         "name": "Debit Card",
         "orientation": "v",
         "showlegend": true,
         "textposition": "auto",
         "type": "bar",
         "x": [
          "Debit Card"
         ],
         "xaxis": "x",
         "y": {
          "bdata": "/pAAAA==",
          "dtype": "i4"
         },
         "yaxis": "y"
        },
        {
         "customdata": {
          "bdata": "vatWbEdZTUA=",
          "dtype": "f8",
          "shape": "1, 1"
         },
         "hovertemplate": "Payment_Method=%{x}<br>total_purchase_per_payment_method=%{y}<br>average_purchase_per_payment_method=%{customdata[0]}<extra></extra>",
         "legendgroup": "PayPal",
         "marker": {
          "color": "#FFA15A",
          "pattern": {
           "shape": ""
          }
         },
         "name": "PayPal",
         "orientation": "v",
         "showlegend": true,
         "textposition": "auto",
         "type": "bar",
         "x": [
          "PayPal"
         ],
         "xaxis": "x",
         "y": {
          "bdata": "SZIAAA==",
          "dtype": "i4"
         },
         "yaxis": "y"
        },
        {
         "customdata": {
          "bdata": "cRsijfieTkA=",
          "dtype": "f8",
          "shape": "1, 1"
         },
         "hovertemplate": "Payment_Method=%{x}<br>total_purchase_per_payment_method=%{y}<br>average_purchase_per_payment_method=%{customdata[0]}<extra></extra>",
         "legendgroup": "Venmo",
         "marker": {
          "color": "#19d3f3",
          "pattern": {
           "shape": ""
          }
         },
         "name": "Venmo",
         "orientation": "v",
         "showlegend": true,
         "textposition": "auto",
         "type": "bar",
         "x": [
          "Venmo"
         ],
         "xaxis": "x",
         "y": {
          "bdata": "N5wAAA==",
          "dtype": "i4"
         },
         "yaxis": "y"
        }
       ],
       "layout": {
        "barmode": "relative",
        "legend": {
         "title": {
          "text": "Payment_Method"
         },
         "tracegroupgap": 0
        },
        "margin": {
         "t": 60
        },
        "template": {
         "data": {
          "bar": [
           {
            "error_x": {
             "color": "#2a3f5f"
            },
            "error_y": {
             "color": "#2a3f5f"
            },
            "marker": {
             "line": {
              "color": "white",
              "width": 0.5
             },
             "pattern": {
              "fillmode": "overlay",
              "size": 10,
              "solidity": 0.2
             }
            },
            "type": "bar"
           }
          ],
          "barpolar": [
           {
            "marker": {
             "line": {
              "color": "white",
              "width": 0.5
             },
             "pattern": {
              "fillmode": "overlay",
              "size": 10,
              "solidity": 0.2
             }
            },
            "type": "barpolar"
           }
          ],
          "carpet": [
           {
            "aaxis": {
             "endlinecolor": "#2a3f5f",
             "gridcolor": "#C8D4E3",
             "linecolor": "#C8D4E3",
             "minorgridcolor": "#C8D4E3",
             "startlinecolor": "#2a3f5f"
            },
            "baxis": {
             "endlinecolor": "#2a3f5f",
             "gridcolor": "#C8D4E3",
             "linecolor": "#C8D4E3",
             "minorgridcolor": "#C8D4E3",
             "startlinecolor": "#2a3f5f"
            },
            "type": "carpet"
           }
          ],
          "choropleth": [
           {
            "colorbar": {
             "outlinewidth": 0,
             "ticks": ""
            },
            "type": "choropleth"
           }
          ],
          "contour": [
           {
            "colorbar": {
             "outlinewidth": 0,
             "ticks": ""
            },
            "colorscale": [
             [
              0,
              "#0d0887"
             ],
             [
              0.1111111111111111,
              "#46039f"
             ],
             [
              0.2222222222222222,
              "#7201a8"
             ],
             [
              0.3333333333333333,
              "#9c179e"
             ],
             [
              0.4444444444444444,
              "#bd3786"
             ],
             [
              0.5555555555555556,
              "#d8576b"
             ],
             [
              0.6666666666666666,
              "#ed7953"
             ],
             [
              0.7777777777777778,
              "#fb9f3a"
             ],
             [
              0.8888888888888888,
              "#fdca26"
             ],
             [
              1,
              "#f0f921"
             ]
            ],
            "type": "contour"
           }
          ],
          "contourcarpet": [
           {
            "colorbar": {
             "outlinewidth": 0,
             "ticks": ""
            },
            "type": "contourcarpet"
           }
          ],
          "heatmap": [
           {
            "colorbar": {
             "outlinewidth": 0,
             "ticks": ""
            },
            "colorscale": [
             [
              0,
              "#0d0887"
             ],
             [
              0.1111111111111111,
              "#46039f"
             ],
             [
              0.2222222222222222,
              "#7201a8"
             ],
             [
              0.3333333333333333,
              "#9c179e"
             ],
             [
              0.4444444444444444,
              "#bd3786"
             ],
             [
              0.5555555555555556,
              "#d8576b"
             ],
             [
              0.6666666666666666,
              "#ed7953"
             ],
             [
              0.7777777777777778,
              "#fb9f3a"
             ],
             [
              0.8888888888888888,
              "#fdca26"
             ],
             [
              1,
              "#f0f921"
             ]
            ],
            "type": "heatmap"
           }
          ],
          "histogram": [
           {
            "marker": {
             "pattern": {
              "fillmode": "overlay",
              "size": 10,
              "solidity": 0.2
             }
            },
            "type": "histogram"
           }
          ],
          "histogram2d": [
           {
            "colorbar": {
             "outlinewidth": 0,
             "ticks": ""
            },
            "colorscale": [
             [
              0,
              "#0d0887"
             ],
             [
              0.1111111111111111,
              "#46039f"
             ],
             [
              0.2222222222222222,
              "#7201a8"
             ],
             [
              0.3333333333333333,
              "#9c179e"
             ],
             [
              0.4444444444444444,
              "#bd3786"
             ],
             [
              0.5555555555555556,
              "#d8576b"
             ],
             [
              0.6666666666666666,
              "#ed7953"
             ],
             [
              0.7777777777777778,
              "#fb9f3a"
             ],
             [
              0.8888888888888888,
              "#fdca26"
             ],
             [
              1,
              "#f0f921"
             ]
            ],
            "type": "histogram2d"
           }
          ],
          "histogram2dcontour": [
           {
            "colorbar": {
             "outlinewidth": 0,
             "ticks": ""
            },
            "colorscale": [
             [
              0,
              "#0d0887"
             ],
             [
              0.1111111111111111,
              "#46039f"
             ],
             [
              0.2222222222222222,
              "#7201a8"
             ],
             [
              0.3333333333333333,
              "#9c179e"
             ],
             [
              0.4444444444444444,
              "#bd3786"
             ],
             [
              0.5555555555555556,
              "#d8576b"
             ],
             [
              0.6666666666666666,
              "#ed7953"
             ],
             [
              0.7777777777777778,
              "#fb9f3a"
             ],
             [
              0.8888888888888888,
              "#fdca26"
             ],
             [
              1,
              "#f0f921"
             ]
            ],
            "type": "histogram2dcontour"
           }
          ],
          "mesh3d": [
           {
            "colorbar": {
             "outlinewidth": 0,
             "ticks": ""
            },
            "type": "mesh3d"
           }
          ],
          "parcoords": [
           {
            "line": {
             "colorbar": {
              "outlinewidth": 0,
              "ticks": ""
             }
            },
            "type": "parcoords"
           }
          ],
          "pie": [
           {
            "automargin": true,
            "type": "pie"
           }
          ],
          "scatter": [
           {
            "fillpattern": {
             "fillmode": "overlay",
             "size": 10,
             "solidity": 0.2
            },
            "type": "scatter"
           }
          ],
          "scatter3d": [
           {
            "line": {
             "colorbar": {
              "outlinewidth": 0,
              "ticks": ""
             }
            },
            "marker": {
             "colorbar": {
              "outlinewidth": 0,
              "ticks": ""
             }
            },
            "type": "scatter3d"
           }
          ],
          "scattercarpet": [
           {
            "marker": {
             "colorbar": {
              "outlinewidth": 0,
              "ticks": ""
             }
            },
            "type": "scattercarpet"
           }
          ],
          "scattergeo": [
           {
            "marker": {
             "colorbar": {
              "outlinewidth": 0,
              "ticks": ""
             }
            },
            "type": "scattergeo"
           }
          ],
          "scattergl": [
           {
            "marker": {
             "colorbar": {
              "outlinewidth": 0,
              "ticks": ""
             }
            },
            "type": "scattergl"
           }
          ],
          "scattermap": [
           {
            "marker": {
             "colorbar": {
              "outlinewidth": 0,
              "ticks": ""
             }
            },
            "type": "scattermap"
           }
          ],
          "scattermapbox": [
           {
            "marker": {
             "colorbar": {
              "outlinewidth": 0,
              "ticks": ""
             }
            },
            "type": "scattermapbox"
           }
          ],
          "scatterpolar": [
           {
            "marker": {
             "colorbar": {
              "outlinewidth": 0,
              "ticks": ""
             }
            },
            "type": "scatterpolar"
           }
          ],
          "scatterpolargl": [
           {
            "marker": {
             "colorbar": {
              "outlinewidth": 0,
              "ticks": ""
             }
            },
            "type": "scatterpolargl"
           }
          ],
          "scatterternary": [
           {
            "marker": {
             "colorbar": {
              "outlinewidth": 0,
              "ticks": ""
             }
            },
            "type": "scatterternary"
           }
          ],
          "surface": [
           {
            "colorbar": {
             "outlinewidth": 0,
             "ticks": ""
            },
            "colorscale": [
             [
              0,
              "#0d0887"
             ],
             [
              0.1111111111111111,
              "#46039f"
             ],
             [
              0.2222222222222222,
              "#7201a8"
             ],
             [
              0.3333333333333333,
              "#9c179e"
             ],
             [
              0.4444444444444444,
              "#bd3786"
             ],
             [
              0.5555555555555556,
              "#d8576b"
             ],
             [
              0.6666666666666666,
              "#ed7953"
             ],
             [
              0.7777777777777778,
              "#fb9f3a"
             ],
             [
              0.8888888888888888,
              "#fdca26"
             ],
             [
              1,
              "#f0f921"
             ]
            ],
            "type": "surface"
           }
          ],
          "table": [
           {
            "cells": {
             "fill": {
              "color": "#EBF0F8"
             },
             "line": {
              "color": "white"
             }
            },
            "header": {
             "fill": {
              "color": "#C8D4E3"
             },
             "line": {
              "color": "white"
             }
            },
            "type": "table"
           }
          ]
         },
         "layout": {
          "annotationdefaults": {
           "arrowcolor": "#2a3f5f",
           "arrowhead": 0,
           "arrowwidth": 1
          },
          "autotypenumbers": "strict",
          "coloraxis": {
           "colorbar": {
            "outlinewidth": 0,
            "ticks": ""
           }
          },
          "colorscale": {
           "diverging": [
            [
             0,
             "#8e0152"
            ],
            [
             0.1,
             "#c51b7d"
            ],
            [
             0.2,
             "#de77ae"
            ],
            [
             0.3,
             "#f1b6da"
            ],
            [
             0.4,
             "#fde0ef"
            ],
            [
             0.5,
             "#f7f7f7"
            ],
            [
             0.6,
             "#e6f5d0"
            ],
            [
             0.7,
             "#b8e186"
            ],
            [
             0.8,
             "#7fbc41"
            ],
            [
             0.9,
             "#4d9221"
            ],
            [
             1,
             "#276419"
            ]
           ],
           "sequential": [
            [
             0,
             "#0d0887"
            ],
            [
             0.1111111111111111,
             "#46039f"
            ],
            [
             0.2222222222222222,
             "#7201a8"
            ],
            [
             0.3333333333333333,
             "#9c179e"
            ],
            [
             0.4444444444444444,
             "#bd3786"
            ],
            [
             0.5555555555555556,
             "#d8576b"
            ],
            [
             0.6666666666666666,
             "#ed7953"
            ],
            [
             0.7777777777777778,
             "#fb9f3a"
            ],
            [
             0.8888888888888888,
             "#fdca26"
            ],
            [
             1,
             "#f0f921"
            ]
           ],
           "sequentialminus": [
            [
             0,
             "#0d0887"
            ],
            [
             0.1111111111111111,
             "#46039f"
            ],
            [
             0.2222222222222222,
             "#7201a8"
            ],
            [
             0.3333333333333333,
             "#9c179e"
            ],
            [
             0.4444444444444444,
             "#bd3786"
            ],
            [
             0.5555555555555556,
             "#d8576b"
            ],
            [
             0.6666666666666666,
             "#ed7953"
            ],
            [
             0.7777777777777778,
             "#fb9f3a"
            ],
            [
             0.8888888888888888,
             "#fdca26"
            ],
            [
             1,
             "#f0f921"
            ]
           ]
          },
          "colorway": [
           "#636efa",
           "#EF553B",
           "#00cc96",
           "#ab63fa",
           "#FFA15A",
           "#19d3f3",
           "#FF6692",
           "#B6E880",
           "#FF97FF",
           "#FECB52"
          ],
          "font": {
           "color": "#2a3f5f"
          },
          "geo": {
           "bgcolor": "white",
           "lakecolor": "white",
           "landcolor": "white",
           "showlakes": true,
           "showland": true,
           "subunitcolor": "#C8D4E3"
          },
          "hoverlabel": {
           "align": "left"
          },
          "hovermode": "closest",
          "mapbox": {
           "style": "light"
          },
          "paper_bgcolor": "white",
          "plot_bgcolor": "white",
          "polar": {
           "angularaxis": {
            "gridcolor": "#EBF0F8",
            "linecolor": "#EBF0F8",
            "ticks": ""
           },
           "bgcolor": "white",
           "radialaxis": {
            "gridcolor": "#EBF0F8",
            "linecolor": "#EBF0F8",
            "ticks": ""
           }
          },
          "scene": {
           "xaxis": {
            "backgroundcolor": "white",
            "gridcolor": "#DFE8F3",
            "gridwidth": 2,
            "linecolor": "#EBF0F8",
            "showbackground": true,
            "ticks": "",
            "zerolinecolor": "#EBF0F8"
           },
           "yaxis": {
            "backgroundcolor": "white",
            "gridcolor": "#DFE8F3",
            "gridwidth": 2,
            "linecolor": "#EBF0F8",
            "showbackground": true,
            "ticks": "",
            "zerolinecolor": "#EBF0F8"
           },
           "zaxis": {
            "backgroundcolor": "white",
            "gridcolor": "#DFE8F3",
            "gridwidth": 2,
            "linecolor": "#EBF0F8",
            "showbackground": true,
            "ticks": "",
            "zerolinecolor": "#EBF0F8"
           }
          },
          "shapedefaults": {
           "line": {
            "color": "#2a3f5f"
           }
          },
          "ternary": {
           "aaxis": {
            "gridcolor": "#DFE8F3",
            "linecolor": "#A2B1C6",
            "ticks": ""
           },
           "baxis": {
            "gridcolor": "#DFE8F3",
            "linecolor": "#A2B1C6",
            "ticks": ""
           },
           "bgcolor": "white",
           "caxis": {
            "gridcolor": "#DFE8F3",
            "linecolor": "#A2B1C6",
            "ticks": ""
           }
          },
          "title": {
           "x": 0.05
          },
          "xaxis": {
           "automargin": true,
           "gridcolor": "#EBF0F8",
           "linecolor": "#EBF0F8",
           "ticks": "",
           "title": {
            "standoff": 15
           },
           "zerolinecolor": "#EBF0F8",
           "zerolinewidth": 2
          },
          "yaxis": {
           "automargin": true,
           "gridcolor": "#EBF0F8",
           "linecolor": "#EBF0F8",
           "ticks": "",
           "title": {
            "standoff": 15
           },
           "zerolinecolor": "#EBF0F8",
           "zerolinewidth": 2
          }
         }
        },
        "xaxis": {
         "anchor": "y",
         "categoryarray": [
          "Bank Transfer",
          "Cash",
          "Credit Card",
          "Debit Card",
          "PayPal",
          "Venmo"
         ],
         "categoryorder": "array",
         "domain": [
          0,
          1
         ],
         "title": {
          "text": "Payment_Method"
         }
        },
        "yaxis": {
         "anchor": "x",
         "domain": [
          0,
          1
         ],
         "title": {
          "text": "total_purchase_per_payment_method"
         }
        }
       }
      }
     },
     "metadata": {},
     "output_type": "display_data"
    }
   ],
   "source": [
    "fig = px.bar(purchase_info_per_payment_method, x='Payment_Method', y='total_purchase_per_payment_method', color='Payment_Method',template='plotly_white', hover_data=['Payment_Method', 'average_purchase_per_payment_method' ])\n",
    "fig.show()\n"
   ]
  },
  {
   "cell_type": "code",
   "execution_count": 25,
   "id": "9480c6f6",
   "metadata": {},
   "outputs": [],
   "source": [
    "# While the credit card usage is the method with the higher purchase amount, the Venmo has more average purchase amount"
   ]
  },
  {
   "cell_type": "markdown",
   "id": "18a08042",
   "metadata": {},
   "source": [
    "# Purchase Amount Vs. Age"
   ]
  },
  {
   "cell_type": "code",
   "execution_count": 26,
   "id": "6b44c942",
   "metadata": {},
   "outputs": [],
   "source": [
    "df['Age_categories'] = pd.cut(df['Age'], bins=[0, 24, 34, 50, 75], labels=['Youth', 'Young Adults', 'Adults', 'Seniors'])"
   ]
  },
  {
   "cell_type": "code",
   "execution_count": 27,
   "id": "1b120d69",
   "metadata": {},
   "outputs": [
    {
     "data": {
      "text/html": [
       "<div>\n",
       "<style scoped>\n",
       "    .dataframe tbody tr th:only-of-type {\n",
       "        vertical-align: middle;\n",
       "    }\n",
       "\n",
       "    .dataframe tbody tr th {\n",
       "        vertical-align: top;\n",
       "    }\n",
       "\n",
       "    .dataframe thead th {\n",
       "        text-align: right;\n",
       "    }\n",
       "</style>\n",
       "<table border=\"1\" class=\"dataframe\">\n",
       "  <thead>\n",
       "    <tr style=\"text-align: right;\">\n",
       "      <th></th>\n",
       "      <th>Age_categories</th>\n",
       "      <th>total_purchase_per_age</th>\n",
       "      <th>average_purchase_per_age</th>\n",
       "      <th>count</th>\n",
       "    </tr>\n",
       "  </thead>\n",
       "  <tbody>\n",
       "    <tr>\n",
       "      <th>0</th>\n",
       "      <td>Youth</td>\n",
       "      <td>29258</td>\n",
       "      <td>60.201646</td>\n",
       "      <td>486</td>\n",
       "    </tr>\n",
       "    <tr>\n",
       "      <th>1</th>\n",
       "      <td>Young Adults</td>\n",
       "      <td>45400</td>\n",
       "      <td>60.132450</td>\n",
       "      <td>755</td>\n",
       "    </tr>\n",
       "    <tr>\n",
       "      <th>2</th>\n",
       "      <td>Adults</td>\n",
       "      <td>69943</td>\n",
       "      <td>59.123415</td>\n",
       "      <td>1183</td>\n",
       "    </tr>\n",
       "    <tr>\n",
       "      <th>3</th>\n",
       "      <td>Seniors</td>\n",
       "      <td>88480</td>\n",
       "      <td>59.945799</td>\n",
       "      <td>1476</td>\n",
       "    </tr>\n",
       "  </tbody>\n",
       "</table>\n",
       "</div>"
      ],
      "text/plain": [
       "  Age_categories  total_purchase_per_age  average_purchase_per_age  count\n",
       "0          Youth                   29258                 60.201646    486\n",
       "1   Young Adults                   45400                 60.132450    755\n",
       "2         Adults                   69943                 59.123415   1183\n",
       "3        Seniors                   88480                 59.945799   1476"
      ]
     },
     "execution_count": 27,
     "metadata": {},
     "output_type": "execute_result"
    }
   ],
   "source": [
    "purchase_info_per_age = df.groupby('Age_categories').agg(\n",
    "    total_purchase_per_age = ('Purchase_Amount_USD', 'sum'),\n",
    "    average_purchase_per_age =('Purchase_Amount_USD', 'mean'),\n",
    "    count=('Customer_ID', 'count'),        \n",
    ").reset_index()\n",
    "purchase_info_per_age"
   ]
  },
  {
   "cell_type": "code",
   "execution_count": 28,
   "id": "27057576",
   "metadata": {},
   "outputs": [
    {
     "data": {
      "application/vnd.plotly.v1+json": {
       "config": {
        "plotlyServerURL": "https://plot.ly"
       },
       "data": [
        {
         "customdata": {
          "bdata": "ZBsCis8ZTkA=",
          "dtype": "f8",
          "shape": "1, 1"
         },
         "hovertemplate": "Age_categories=%{x}<br>total_purchase_per_age=%{y}<br>average_purchase_per_age=%{customdata[0]}<extra></extra>",
         "legendgroup": "Youth",
         "marker": {
          "color": "#636efa",
          "pattern": {
           "shape": ""
          }
         },
         "name": "Youth",
         "orientation": "v",
         "showlegend": true,
         "textposition": "auto",
         "type": "bar",
         "x": [
          "Youth"
         ],
         "xaxis": "x",
         "y": {
          "bdata": "SnI=",
          "dtype": "i2"
         },
         "yaxis": "y"
        },
        {
         "customdata": {
          "bdata": "0UPoIfQQTkA=",
          "dtype": "f8",
          "shape": "1, 1"
         },
         "hovertemplate": "Age_categories=%{x}<br>total_purchase_per_age=%{y}<br>average_purchase_per_age=%{customdata[0]}<extra></extra>",
         "legendgroup": "Young Adults",
         "marker": {
          "color": "#EF553B",
          "pattern": {
           "shape": ""
          }
         },
         "name": "Young Adults",
         "orientation": "v",
         "showlegend": true,
         "textposition": "auto",
         "type": "bar",
         "x": [
          "Young Adults"
         ],
         "xaxis": "x",
         "y": {
          "bdata": "WLEAAA==",
          "dtype": "i4"
         },
         "yaxis": "y"
        },
        {
         "customdata": {
          "bdata": "OEJyEMyPTUA=",
          "dtype": "f8",
          "shape": "1, 1"
         },
         "hovertemplate": "Age_categories=%{x}<br>total_purchase_per_age=%{y}<br>average_purchase_per_age=%{customdata[0]}<extra></extra>",
         "legendgroup": "Adults",
         "marker": {
          "color": "#00cc96",
          "pattern": {
           "shape": ""
          }
         },
         "name": "Adults",
         "orientation": "v",
         "showlegend": true,
         "textposition": "auto",
         "type": "bar",
         "x": [
          "Adults"
         ],
         "xaxis": "x",
         "y": {
          "bdata": "NxEBAA==",
          "dtype": "i4"
         },
         "yaxis": "y"
        },
        {
         "customdata": {
          "bdata": "pFTm9A/5TUA=",
          "dtype": "f8",
          "shape": "1, 1"
         },
         "hovertemplate": "Age_categories=%{x}<br>total_purchase_per_age=%{y}<br>average_purchase_per_age=%{customdata[0]}<extra></extra>",
         "legendgroup": "Seniors",
         "marker": {
          "color": "#ab63fa",
          "pattern": {
           "shape": ""
          }
         },
         "name": "Seniors",
         "orientation": "v",
         "showlegend": true,
         "textposition": "auto",
         "type": "bar",
         "x": [
          "Seniors"
         ],
         "xaxis": "x",
         "y": {
          "bdata": "oFkBAA==",
          "dtype": "i4"
         },
         "yaxis": "y"
        }
       ],
       "layout": {
        "barmode": "relative",
        "legend": {
         "title": {
          "text": "Age_categories"
         },
         "tracegroupgap": 0
        },
        "margin": {
         "t": 60
        },
        "template": {
         "data": {
          "bar": [
           {
            "error_x": {
             "color": "#2a3f5f"
            },
            "error_y": {
             "color": "#2a3f5f"
            },
            "marker": {
             "line": {
              "color": "white",
              "width": 0.5
             },
             "pattern": {
              "fillmode": "overlay",
              "size": 10,
              "solidity": 0.2
             }
            },
            "type": "bar"
           }
          ],
          "barpolar": [
           {
            "marker": {
             "line": {
              "color": "white",
              "width": 0.5
             },
             "pattern": {
              "fillmode": "overlay",
              "size": 10,
              "solidity": 0.2
             }
            },
            "type": "barpolar"
           }
          ],
          "carpet": [
           {
            "aaxis": {
             "endlinecolor": "#2a3f5f",
             "gridcolor": "#C8D4E3",
             "linecolor": "#C8D4E3",
             "minorgridcolor": "#C8D4E3",
             "startlinecolor": "#2a3f5f"
            },
            "baxis": {
             "endlinecolor": "#2a3f5f",
             "gridcolor": "#C8D4E3",
             "linecolor": "#C8D4E3",
             "minorgridcolor": "#C8D4E3",
             "startlinecolor": "#2a3f5f"
            },
            "type": "carpet"
           }
          ],
          "choropleth": [
           {
            "colorbar": {
             "outlinewidth": 0,
             "ticks": ""
            },
            "type": "choropleth"
           }
          ],
          "contour": [
           {
            "colorbar": {
             "outlinewidth": 0,
             "ticks": ""
            },
            "colorscale": [
             [
              0,
              "#0d0887"
             ],
             [
              0.1111111111111111,
              "#46039f"
             ],
             [
              0.2222222222222222,
              "#7201a8"
             ],
             [
              0.3333333333333333,
              "#9c179e"
             ],
             [
              0.4444444444444444,
              "#bd3786"
             ],
             [
              0.5555555555555556,
              "#d8576b"
             ],
             [
              0.6666666666666666,
              "#ed7953"
             ],
             [
              0.7777777777777778,
              "#fb9f3a"
             ],
             [
              0.8888888888888888,
              "#fdca26"
             ],
             [
              1,
              "#f0f921"
             ]
            ],
            "type": "contour"
           }
          ],
          "contourcarpet": [
           {
            "colorbar": {
             "outlinewidth": 0,
             "ticks": ""
            },
            "type": "contourcarpet"
           }
          ],
          "heatmap": [
           {
            "colorbar": {
             "outlinewidth": 0,
             "ticks": ""
            },
            "colorscale": [
             [
              0,
              "#0d0887"
             ],
             [
              0.1111111111111111,
              "#46039f"
             ],
             [
              0.2222222222222222,
              "#7201a8"
             ],
             [
              0.3333333333333333,
              "#9c179e"
             ],
             [
              0.4444444444444444,
              "#bd3786"
             ],
             [
              0.5555555555555556,
              "#d8576b"
             ],
             [
              0.6666666666666666,
              "#ed7953"
             ],
             [
              0.7777777777777778,
              "#fb9f3a"
             ],
             [
              0.8888888888888888,
              "#fdca26"
             ],
             [
              1,
              "#f0f921"
             ]
            ],
            "type": "heatmap"
           }
          ],
          "histogram": [
           {
            "marker": {
             "pattern": {
              "fillmode": "overlay",
              "size": 10,
              "solidity": 0.2
             }
            },
            "type": "histogram"
           }
          ],
          "histogram2d": [
           {
            "colorbar": {
             "outlinewidth": 0,
             "ticks": ""
            },
            "colorscale": [
             [
              0,
              "#0d0887"
             ],
             [
              0.1111111111111111,
              "#46039f"
             ],
             [
              0.2222222222222222,
              "#7201a8"
             ],
             [
              0.3333333333333333,
              "#9c179e"
             ],
             [
              0.4444444444444444,
              "#bd3786"
             ],
             [
              0.5555555555555556,
              "#d8576b"
             ],
             [
              0.6666666666666666,
              "#ed7953"
             ],
             [
              0.7777777777777778,
              "#fb9f3a"
             ],
             [
              0.8888888888888888,
              "#fdca26"
             ],
             [
              1,
              "#f0f921"
             ]
            ],
            "type": "histogram2d"
           }
          ],
          "histogram2dcontour": [
           {
            "colorbar": {
             "outlinewidth": 0,
             "ticks": ""
            },
            "colorscale": [
             [
              0,
              "#0d0887"
             ],
             [
              0.1111111111111111,
              "#46039f"
             ],
             [
              0.2222222222222222,
              "#7201a8"
             ],
             [
              0.3333333333333333,
              "#9c179e"
             ],
             [
              0.4444444444444444,
              "#bd3786"
             ],
             [
              0.5555555555555556,
              "#d8576b"
             ],
             [
              0.6666666666666666,
              "#ed7953"
             ],
             [
              0.7777777777777778,
              "#fb9f3a"
             ],
             [
              0.8888888888888888,
              "#fdca26"
             ],
             [
              1,
              "#f0f921"
             ]
            ],
            "type": "histogram2dcontour"
           }
          ],
          "mesh3d": [
           {
            "colorbar": {
             "outlinewidth": 0,
             "ticks": ""
            },
            "type": "mesh3d"
           }
          ],
          "parcoords": [
           {
            "line": {
             "colorbar": {
              "outlinewidth": 0,
              "ticks": ""
             }
            },
            "type": "parcoords"
           }
          ],
          "pie": [
           {
            "automargin": true,
            "type": "pie"
           }
          ],
          "scatter": [
           {
            "fillpattern": {
             "fillmode": "overlay",
             "size": 10,
             "solidity": 0.2
            },
            "type": "scatter"
           }
          ],
          "scatter3d": [
           {
            "line": {
             "colorbar": {
              "outlinewidth": 0,
              "ticks": ""
             }
            },
            "marker": {
             "colorbar": {
              "outlinewidth": 0,
              "ticks": ""
             }
            },
            "type": "scatter3d"
           }
          ],
          "scattercarpet": [
           {
            "marker": {
             "colorbar": {
              "outlinewidth": 0,
              "ticks": ""
             }
            },
            "type": "scattercarpet"
           }
          ],
          "scattergeo": [
           {
            "marker": {
             "colorbar": {
              "outlinewidth": 0,
              "ticks": ""
             }
            },
            "type": "scattergeo"
           }
          ],
          "scattergl": [
           {
            "marker": {
             "colorbar": {
              "outlinewidth": 0,
              "ticks": ""
             }
            },
            "type": "scattergl"
           }
          ],
          "scattermap": [
           {
            "marker": {
             "colorbar": {
              "outlinewidth": 0,
              "ticks": ""
             }
            },
            "type": "scattermap"
           }
          ],
          "scattermapbox": [
           {
            "marker": {
             "colorbar": {
              "outlinewidth": 0,
              "ticks": ""
             }
            },
            "type": "scattermapbox"
           }
          ],
          "scatterpolar": [
           {
            "marker": {
             "colorbar": {
              "outlinewidth": 0,
              "ticks": ""
             }
            },
            "type": "scatterpolar"
           }
          ],
          "scatterpolargl": [
           {
            "marker": {
             "colorbar": {
              "outlinewidth": 0,
              "ticks": ""
             }
            },
            "type": "scatterpolargl"
           }
          ],
          "scatterternary": [
           {
            "marker": {
             "colorbar": {
              "outlinewidth": 0,
              "ticks": ""
             }
            },
            "type": "scatterternary"
           }
          ],
          "surface": [
           {
            "colorbar": {
             "outlinewidth": 0,
             "ticks": ""
            },
            "colorscale": [
             [
              0,
              "#0d0887"
             ],
             [
              0.1111111111111111,
              "#46039f"
             ],
             [
              0.2222222222222222,
              "#7201a8"
             ],
             [
              0.3333333333333333,
              "#9c179e"
             ],
             [
              0.4444444444444444,
              "#bd3786"
             ],
             [
              0.5555555555555556,
              "#d8576b"
             ],
             [
              0.6666666666666666,
              "#ed7953"
             ],
             [
              0.7777777777777778,
              "#fb9f3a"
             ],
             [
              0.8888888888888888,
              "#fdca26"
             ],
             [
              1,
              "#f0f921"
             ]
            ],
            "type": "surface"
           }
          ],
          "table": [
           {
            "cells": {
             "fill": {
              "color": "#EBF0F8"
             },
             "line": {
              "color": "white"
             }
            },
            "header": {
             "fill": {
              "color": "#C8D4E3"
             },
             "line": {
              "color": "white"
             }
            },
            "type": "table"
           }
          ]
         },
         "layout": {
          "annotationdefaults": {
           "arrowcolor": "#2a3f5f",
           "arrowhead": 0,
           "arrowwidth": 1
          },
          "autotypenumbers": "strict",
          "coloraxis": {
           "colorbar": {
            "outlinewidth": 0,
            "ticks": ""
           }
          },
          "colorscale": {
           "diverging": [
            [
             0,
             "#8e0152"
            ],
            [
             0.1,
             "#c51b7d"
            ],
            [
             0.2,
             "#de77ae"
            ],
            [
             0.3,
             "#f1b6da"
            ],
            [
             0.4,
             "#fde0ef"
            ],
            [
             0.5,
             "#f7f7f7"
            ],
            [
             0.6,
             "#e6f5d0"
            ],
            [
             0.7,
             "#b8e186"
            ],
            [
             0.8,
             "#7fbc41"
            ],
            [
             0.9,
             "#4d9221"
            ],
            [
             1,
             "#276419"
            ]
           ],
           "sequential": [
            [
             0,
             "#0d0887"
            ],
            [
             0.1111111111111111,
             "#46039f"
            ],
            [
             0.2222222222222222,
             "#7201a8"
            ],
            [
             0.3333333333333333,
             "#9c179e"
            ],
            [
             0.4444444444444444,
             "#bd3786"
            ],
            [
             0.5555555555555556,
             "#d8576b"
            ],
            [
             0.6666666666666666,
             "#ed7953"
            ],
            [
             0.7777777777777778,
             "#fb9f3a"
            ],
            [
             0.8888888888888888,
             "#fdca26"
            ],
            [
             1,
             "#f0f921"
            ]
           ],
           "sequentialminus": [
            [
             0,
             "#0d0887"
            ],
            [
             0.1111111111111111,
             "#46039f"
            ],
            [
             0.2222222222222222,
             "#7201a8"
            ],
            [
             0.3333333333333333,
             "#9c179e"
            ],
            [
             0.4444444444444444,
             "#bd3786"
            ],
            [
             0.5555555555555556,
             "#d8576b"
            ],
            [
             0.6666666666666666,
             "#ed7953"
            ],
            [
             0.7777777777777778,
             "#fb9f3a"
            ],
            [
             0.8888888888888888,
             "#fdca26"
            ],
            [
             1,
             "#f0f921"
            ]
           ]
          },
          "colorway": [
           "#636efa",
           "#EF553B",
           "#00cc96",
           "#ab63fa",
           "#FFA15A",
           "#19d3f3",
           "#FF6692",
           "#B6E880",
           "#FF97FF",
           "#FECB52"
          ],
          "font": {
           "color": "#2a3f5f"
          },
          "geo": {
           "bgcolor": "white",
           "lakecolor": "white",
           "landcolor": "white",
           "showlakes": true,
           "showland": true,
           "subunitcolor": "#C8D4E3"
          },
          "hoverlabel": {
           "align": "left"
          },
          "hovermode": "closest",
          "mapbox": {
           "style": "light"
          },
          "paper_bgcolor": "white",
          "plot_bgcolor": "white",
          "polar": {
           "angularaxis": {
            "gridcolor": "#EBF0F8",
            "linecolor": "#EBF0F8",
            "ticks": ""
           },
           "bgcolor": "white",
           "radialaxis": {
            "gridcolor": "#EBF0F8",
            "linecolor": "#EBF0F8",
            "ticks": ""
           }
          },
          "scene": {
           "xaxis": {
            "backgroundcolor": "white",
            "gridcolor": "#DFE8F3",
            "gridwidth": 2,
            "linecolor": "#EBF0F8",
            "showbackground": true,
            "ticks": "",
            "zerolinecolor": "#EBF0F8"
           },
           "yaxis": {
            "backgroundcolor": "white",
            "gridcolor": "#DFE8F3",
            "gridwidth": 2,
            "linecolor": "#EBF0F8",
            "showbackground": true,
            "ticks": "",
            "zerolinecolor": "#EBF0F8"
           },
           "zaxis": {
            "backgroundcolor": "white",
            "gridcolor": "#DFE8F3",
            "gridwidth": 2,
            "linecolor": "#EBF0F8",
            "showbackground": true,
            "ticks": "",
            "zerolinecolor": "#EBF0F8"
           }
          },
          "shapedefaults": {
           "line": {
            "color": "#2a3f5f"
           }
          },
          "ternary": {
           "aaxis": {
            "gridcolor": "#DFE8F3",
            "linecolor": "#A2B1C6",
            "ticks": ""
           },
           "baxis": {
            "gridcolor": "#DFE8F3",
            "linecolor": "#A2B1C6",
            "ticks": ""
           },
           "bgcolor": "white",
           "caxis": {
            "gridcolor": "#DFE8F3",
            "linecolor": "#A2B1C6",
            "ticks": ""
           }
          },
          "title": {
           "x": 0.05
          },
          "xaxis": {
           "automargin": true,
           "gridcolor": "#EBF0F8",
           "linecolor": "#EBF0F8",
           "ticks": "",
           "title": {
            "standoff": 15
           },
           "zerolinecolor": "#EBF0F8",
           "zerolinewidth": 2
          },
          "yaxis": {
           "automargin": true,
           "gridcolor": "#EBF0F8",
           "linecolor": "#EBF0F8",
           "ticks": "",
           "title": {
            "standoff": 15
           },
           "zerolinecolor": "#EBF0F8",
           "zerolinewidth": 2
          }
         }
        },
        "xaxis": {
         "anchor": "y",
         "categoryarray": [
          "Youth",
          "Young Adults",
          "Adults",
          "Seniors"
         ],
         "categoryorder": "array",
         "domain": [
          0,
          1
         ],
         "title": {
          "text": "Age_categories"
         }
        },
        "yaxis": {
         "anchor": "x",
         "domain": [
          0,
          1
         ],
         "title": {
          "text": "total_purchase_per_age"
         }
        }
       }
      }
     },
     "metadata": {},
     "output_type": "display_data"
    }
   ],
   "source": [
    "fig = px.bar(purchase_info_per_age, x='Age_categories', y='total_purchase_per_age', color='Age_categories',template='plotly_white', hover_data=['Age_categories', 'average_purchase_per_age' ])\n",
    "fig.show()\n"
   ]
  },
  {
   "cell_type": "code",
   "execution_count": 29,
   "id": "5473b636",
   "metadata": {},
   "outputs": [],
   "source": [
    "## The Senior (50-75) age group is the most profitable age group, and the youth(0-24) is the least profitable one despite having the highest average purchase per customer"
   ]
  },
  {
   "cell_type": "markdown",
   "id": "2c2891d5",
   "metadata": {},
   "source": [
    "# Previous Purchase Vs Category"
   ]
  },
  {
   "cell_type": "code",
   "execution_count": 30,
   "id": "99762ca1",
   "metadata": {},
   "outputs": [
    {
     "data": {
      "application/vnd.plotly.v1+json": {
       "config": {
        "plotlyServerURL": "https://plot.ly"
       },
       "data": [
        {
         "bingroup": "x",
         "histfunc": "sum",
         "hovertemplate": "Product Category=%{x}<br>sum of Number of Previous Purchases=%{y}<extra></extra>",
         "legendgroup": "Clothing",
         "marker": {
          "color": "#636efa",
          "pattern": {
           "shape": ""
          }
         },
         "name": "Clothing",
         "orientation": "v",
         "showlegend": true,
         "type": "histogram",
         "x": [
          "Clothing",
          "Clothing",
          "Clothing",
          "Clothing",
          "Clothing",
          "Clothing",
          "Clothing",
          "Clothing",
          "Clothing",
          "Clothing",
          "Clothing",
          "Clothing",
          "Clothing",
          "Clothing",
          "Clothing",
          "Clothing",
          "Clothing",
          "Clothing",
          "Clothing",
          "Clothing",
          "Clothing",
          "Clothing",
          "Clothing",
          "Clothing",
          "Clothing",
          "Clothing",
          "Clothing",
          "Clothing",
          "Clothing",
          "Clothing",
          "Clothing",
          "Clothing",
          "Clothing",
          "Clothing",
          "Clothing",
          "Clothing",
          "Clothing",
          "Clothing",
          "Clothing",
          "Clothing",
          "Clothing",
          "Clothing",
          "Clothing",
          "Clothing",
          "Clothing",
          "Clothing",
          "Clothing",
          "Clothing",
          "Clothing",
          "Clothing",
          "Clothing",
          "Clothing",
          "Clothing",
          "Clothing",
          "Clothing",
          "Clothing",
          "Clothing",
          "Clothing",
          "Clothing",
          "Clothing",
          "Clothing",
          "Clothing",
          "Clothing",
          "Clothing",
          "Clothing",
          "Clothing",
          "Clothing",
          "Clothing",
          "Clothing",
          "Clothing",
          "Clothing",
          "Clothing",
          "Clothing",
          "Clothing",
          "Clothing",
          "Clothing",
          "Clothing",
          "Clothing",
          "Clothing",
          "Clothing",
          "Clothing",
          "Clothing",
          "Clothing",
          "Clothing",
          "Clothing",
          "Clothing",
          "Clothing",
          "Clothing",
          "Clothing",
          "Clothing",
          "Clothing",
          "Clothing",
          "Clothing",
          "Clothing",
          "Clothing",
          "Clothing",
          "Clothing",
          "Clothing",
          "Clothing",
          "Clothing",
          "Clothing",
          "Clothing",
          "Clothing",
          "Clothing",
          "Clothing",
          "Clothing",
          "Clothing",
          "Clothing",
          "Clothing",
          "Clothing",
          "Clothing",
          "Clothing",
          "Clothing",
          "Clothing",
          "Clothing",
          "Clothing",
          "Clothing",
          "Clothing",
          "Clothing",
          "Clothing",
          "Clothing",
          "Clothing",
          "Clothing",
          "Clothing",
          "Clothing",
          "Clothing",
          "Clothing",
          "Clothing",
          "Clothing",
          "Clothing",
          "Clothing",
          "Clothing",
          "Clothing",
          "Clothing",
          "Clothing",
          "Clothing",
          "Clothing",
          "Clothing",
          "Clothing",
          "Clothing",
          "Clothing",
          "Clothing",
          "Clothing",
          "Clothing",
          "Clothing",
          "Clothing",
          "Clothing",
          "Clothing",
          "Clothing",
          "Clothing",
          "Clothing",
          "Clothing",
          "Clothing",
          "Clothing",
          "Clothing",
          "Clothing",
          "Clothing",
          "Clothing",
          "Clothing",
          "Clothing",
          "Clothing",
          "Clothing",
          "Clothing",
          "Clothing",
          "Clothing",
          "Clothing",
          "Clothing",
          "Clothing",
          "Clothing",
          "Clothing",
          "Clothing",
          "Clothing",
          "Clothing",
          "Clothing",
          "Clothing",
          "Clothing",
          "Clothing",
          "Clothing",
          "Clothing",
          "Clothing",
          "Clothing",
          "Clothing",
          "Clothing",
          "Clothing",
          "Clothing",
          "Clothing",
          "Clothing",
          "Clothing",
          "Clothing",
          "Clothing",
          "Clothing",
          "Clothing",
          "Clothing",
          "Clothing",
          "Clothing",
          "Clothing",
          "Clothing",
          "Clothing",
          "Clothing",
          "Clothing",
          "Clothing",
          "Clothing",
          "Clothing",
          "Clothing",
          "Clothing",
          "Clothing",
          "Clothing",
          "Clothing",
          "Clothing",
          "Clothing",
          "Clothing",
          "Clothing",
          "Clothing",
          "Clothing",
          "Clothing",
          "Clothing",
          "Clothing",
          "Clothing",
          "Clothing",
          "Clothing",
          "Clothing",
          "Clothing",
          "Clothing",
          "Clothing",
          "Clothing",
          "Clothing",
          "Clothing",
          "Clothing",
          "Clothing",
          "Clothing",
          "Clothing",
          "Clothing",
          "Clothing",
          "Clothing",
          "Clothing",
          "Clothing",
          "Clothing",
          "Clothing",
          "Clothing",
          "Clothing",
          "Clothing",
          "Clothing",
          "Clothing",
          "Clothing",
          "Clothing",
          "Clothing",
          "Clothing",
          "Clothing",
          "Clothing",
          "Clothing",
          "Clothing",
          "Clothing",
          "Clothing",
          "Clothing",
          "Clothing",
          "Clothing",
          "Clothing",
          "Clothing",
          "Clothing",
          "Clothing",
          "Clothing",
          "Clothing",
          "Clothing",
          "Clothing",
          "Clothing",
          "Clothing",
          "Clothing",
          "Clothing",
          "Clothing",
          "Clothing",
          "Clothing",
          "Clothing",
          "Clothing",
          "Clothing",
          "Clothing",
          "Clothing",
          "Clothing",
          "Clothing",
          "Clothing",
          "Clothing",
          "Clothing",
          "Clothing",
          "Clothing",
          "Clothing",
          "Clothing",
          "Clothing",
          "Clothing",
          "Clothing",
          "Clothing",
          "Clothing",
          "Clothing",
          "Clothing",
          "Clothing",
          "Clothing",
          "Clothing",
          "Clothing",
          "Clothing",
          "Clothing",
          "Clothing",
          "Clothing",
          "Clothing",
          "Clothing",
          "Clothing",
          "Clothing",
          "Clothing",
          "Clothing",
          "Clothing",
          "Clothing",
          "Clothing",
          "Clothing",
          "Clothing",
          "Clothing",
          "Clothing",
          "Clothing",
          "Clothing",
          "Clothing",
          "Clothing",
          "Clothing",
          "Clothing",
          "Clothing",
          "Clothing",
          "Clothing",
          "Clothing",
          "Clothing",
          "Clothing",
          "Clothing",
          "Clothing",
          "Clothing",
          "Clothing",
          "Clothing",
          "Clothing",
          "Clothing",
          "Clothing",
          "Clothing",
          "Clothing",
          "Clothing",
          "Clothing",
          "Clothing",
          "Clothing",
          "Clothing",
          "Clothing",
          "Clothing",
          "Clothing",
          "Clothing",
          "Clothing",
          "Clothing",
          "Clothing",
          "Clothing",
          "Clothing",
          "Clothing",
          "Clothing",
          "Clothing",
          "Clothing",
          "Clothing",
          "Clothing",
          "Clothing",
          "Clothing",
          "Clothing",
          "Clothing",
          "Clothing",
          "Clothing",
          "Clothing",
          "Clothing",
          "Clothing",
          "Clothing",
          "Clothing",
          "Clothing",
          "Clothing",
          "Clothing",
          "Clothing",
          "Clothing",
          "Clothing",
          "Clothing",
          "Clothing",
          "Clothing",
          "Clothing",
          "Clothing",
          "Clothing",
          "Clothing",
          "Clothing",
          "Clothing",
          "Clothing",
          "Clothing",
          "Clothing",
          "Clothing",
          "Clothing",
          "Clothing",
          "Clothing",
          "Clothing",
          "Clothing",
          "Clothing",
          "Clothing",
          "Clothing",
          "Clothing",
          "Clothing",
          "Clothing",
          "Clothing",
          "Clothing",
          "Clothing",
          "Clothing",
          "Clothing",
          "Clothing",
          "Clothing",
          "Clothing",
          "Clothing",
          "Clothing",
          "Clothing",
          "Clothing",
          "Clothing",
          "Clothing",
          "Clothing",
          "Clothing",
          "Clothing",
          "Clothing",
          "Clothing",
          "Clothing",
          "Clothing",
          "Clothing",
          "Clothing",
          "Clothing",
          "Clothing",
          "Clothing",
          "Clothing",
          "Clothing",
          "Clothing",
          "Clothing",
          "Clothing",
          "Clothing",
          "Clothing",
          "Clothing",
          "Clothing",
          "Clothing",
          "Clothing",
          "Clothing",
          "Clothing",
          "Clothing",
          "Clothing",
          "Clothing",
          "Clothing",
          "Clothing",
          "Clothing",
          "Clothing",
          "Clothing",
          "Clothing",
          "Clothing",
          "Clothing",
          "Clothing",
          "Clothing",
          "Clothing",
          "Clothing",
          "Clothing",
          "Clothing",
          "Clothing",
          "Clothing",
          "Clothing",
          "Clothing",
          "Clothing",
          "Clothing",
          "Clothing",
          "Clothing",
          "Clothing",
          "Clothing",
          "Clothing",
          "Clothing",
          "Clothing",
          "Clothing",
          "Clothing",
          "Clothing",
          "Clothing",
          "Clothing",
          "Clothing",
          "Clothing",
          "Clothing",
          "Clothing",
          "Clothing",
          "Clothing",
          "Clothing",
          "Clothing",
          "Clothing",
          "Clothing",
          "Clothing",
          "Clothing",
          "Clothing",
          "Clothing",
          "Clothing",
          "Clothing",
          "Clothing",
          "Clothing",
          "Clothing",
          "Clothing",
          "Clothing",
          "Clothing",
          "Clothing",
          "Clothing",
          "Clothing",
          "Clothing",
          "Clothing",
          "Clothing",
          "Clothing",
          "Clothing",
          "Clothing",
          "Clothing",
          "Clothing",
          "Clothing",
          "Clothing",
          "Clothing",
          "Clothing",
          "Clothing",
          "Clothing",
          "Clothing",
          "Clothing",
          "Clothing",
          "Clothing",
          "Clothing",
          "Clothing",
          "Clothing",
          "Clothing",
          "Clothing",
          "Clothing",
          "Clothing",
          "Clothing",
          "Clothing",
          "Clothing",
          "Clothing",
          "Clothing",
          "Clothing",
          "Clothing",
          "Clothing",
          "Clothing",
          "Clothing",
          "Clothing",
          "Clothing",
          "Clothing",
          "Clothing",
          "Clothing",
          "Clothing",
          "Clothing",
          "Clothing",
          "Clothing",
          "Clothing",
          "Clothing",
          "Clothing",
          "Clothing",
          "Clothing",
          "Clothing",
          "Clothing",
          "Clothing",
          "Clothing",
          "Clothing",
          "Clothing",
          "Clothing",
          "Clothing",
          "Clothing",
          "Clothing",
          "Clothing",
          "Clothing",
          "Clothing",
          "Clothing",
          "Clothing",
          "Clothing",
          "Clothing",
          "Clothing",
          "Clothing",
          "Clothing",
          "Clothing",
          "Clothing",
          "Clothing",
          "Clothing",
          "Clothing",
          "Clothing",
          "Clothing",
          "Clothing",
          "Clothing",
          "Clothing",
          "Clothing",
          "Clothing",
          "Clothing",
          "Clothing",
          "Clothing",
          "Clothing",
          "Clothing",
          "Clothing",
          "Clothing",
          "Clothing",
          "Clothing",
          "Clothing",
          "Clothing",
          "Clothing",
          "Clothing",
          "Clothing",
          "Clothing",
          "Clothing",
          "Clothing",
          "Clothing",
          "Clothing",
          "Clothing",
          "Clothing",
          "Clothing",
          "Clothing",
          "Clothing",
          "Clothing",
          "Clothing",
          "Clothing",
          "Clothing",
          "Clothing",
          "Clothing",
          "Clothing",
          "Clothing",
          "Clothing",
          "Clothing",
          "Clothing",
          "Clothing",
          "Clothing",
          "Clothing",
          "Clothing",
          "Clothing",
          "Clothing",
          "Clothing",
          "Clothing",
          "Clothing",
          "Clothing",
          "Clothing",
          "Clothing",
          "Clothing",
          "Clothing",
          "Clothing",
          "Clothing",
          "Clothing",
          "Clothing",
          "Clothing",
          "Clothing",
          "Clothing",
          "Clothing",
          "Clothing",
          "Clothing",
          "Clothing",
          "Clothing",
          "Clothing",
          "Clothing",
          "Clothing",
          "Clothing",
          "Clothing",
          "Clothing",
          "Clothing",
          "Clothing",
          "Clothing",
          "Clothing",
          "Clothing",
          "Clothing",
          "Clothing",
          "Clothing",
          "Clothing",
          "Clothing",
          "Clothing",
          "Clothing",
          "Clothing",
          "Clothing",
          "Clothing",
          "Clothing",
          "Clothing",
          "Clothing",
          "Clothing",
          "Clothing",
          "Clothing",
          "Clothing",
          "Clothing",
          "Clothing",
          "Clothing",
          "Clothing",
          "Clothing",
          "Clothing",
          "Clothing",
          "Clothing",
          "Clothing",
          "Clothing",
          "Clothing",
          "Clothing",
          "Clothing",
          "Clothing",
          "Clothing",
          "Clothing",
          "Clothing",
          "Clothing",
          "Clothing",
          "Clothing",
          "Clothing",
          "Clothing",
          "Clothing",
          "Clothing",
          "Clothing",
          "Clothing",
          "Clothing",
          "Clothing",
          "Clothing",
          "Clothing",
          "Clothing",
          "Clothing",
          "Clothing",
          "Clothing",
          "Clothing",
          "Clothing",
          "Clothing",
          "Clothing",
          "Clothing",
          "Clothing",
          "Clothing",
          "Clothing",
          "Clothing",
          "Clothing",
          "Clothing",
          "Clothing",
          "Clothing",
          "Clothing",
          "Clothing",
          "Clothing",
          "Clothing",
          "Clothing",
          "Clothing",
          "Clothing",
          "Clothing",
          "Clothing",
          "Clothing",
          "Clothing",
          "Clothing",
          "Clothing",
          "Clothing",
          "Clothing",
          "Clothing",
          "Clothing",
          "Clothing",
          "Clothing",
          "Clothing",
          "Clothing",
          "Clothing",
          "Clothing",
          "Clothing",
          "Clothing",
          "Clothing",
          "Clothing",
          "Clothing",
          "Clothing",
          "Clothing",
          "Clothing",
          "Clothing",
          "Clothing",
          "Clothing",
          "Clothing",
          "Clothing",
          "Clothing",
          "Clothing",
          "Clothing",
          "Clothing",
          "Clothing",
          "Clothing",
          "Clothing",
          "Clothing",
          "Clothing",
          "Clothing",
          "Clothing",
          "Clothing",
          "Clothing",
          "Clothing",
          "Clothing",
          "Clothing",
          "Clothing",
          "Clothing",
          "Clothing",
          "Clothing",
          "Clothing",
          "Clothing",
          "Clothing",
          "Clothing",
          "Clothing",
          "Clothing",
          "Clothing",
          "Clothing",
          "Clothing",
          "Clothing",
          "Clothing",
          "Clothing",
          "Clothing",
          "Clothing",
          "Clothing",
          "Clothing",
          "Clothing",
          "Clothing",
          "Clothing",
          "Clothing",
          "Clothing",
          "Clothing",
          "Clothing",
          "Clothing",
          "Clothing",
          "Clothing",
          "Clothing",
          "Clothing",
          "Clothing",
          "Clothing",
          "Clothing",
          "Clothing",
          "Clothing",
          "Clothing",
          "Clothing",
          "Clothing",
          "Clothing",
          "Clothing",
          "Clothing",
          "Clothing",
          "Clothing",
          "Clothing",
          "Clothing",
          "Clothing",
          "Clothing",
          "Clothing",
          "Clothing",
          "Clothing",
          "Clothing",
          "Clothing",
          "Clothing",
          "Clothing",
          "Clothing",
          "Clothing",
          "Clothing",
          "Clothing",
          "Clothing",
          "Clothing",
          "Clothing",
          "Clothing",
          "Clothing",
          "Clothing",
          "Clothing",
          "Clothing",
          "Clothing",
          "Clothing",
          "Clothing",
          "Clothing",
          "Clothing",
          "Clothing",
          "Clothing",
          "Clothing",
          "Clothing",
          "Clothing",
          "Clothing",
          "Clothing",
          "Clothing",
          "Clothing",
          "Clothing",
          "Clothing",
          "Clothing",
          "Clothing",
          "Clothing",
          "Clothing",
          "Clothing",
          "Clothing",
          "Clothing",
          "Clothing",
          "Clothing",
          "Clothing",
          "Clothing",
          "Clothing",
          "Clothing",
          "Clothing",
          "Clothing",
          "Clothing",
          "Clothing",
          "Clothing",
          "Clothing",
          "Clothing",
          "Clothing",
          "Clothing",
          "Clothing",
          "Clothing",
          "Clothing",
          "Clothing",
          "Clothing",
          "Clothing",
          "Clothing",
          "Clothing",
          "Clothing",
          "Clothing",
          "Clothing",
          "Clothing",
          "Clothing",
          "Clothing",
          "Clothing",
          "Clothing",
          "Clothing",
          "Clothing",
          "Clothing",
          "Clothing",
          "Clothing",
          "Clothing",
          "Clothing",
          "Clothing",
          "Clothing",
          "Clothing",
          "Clothing",
          "Clothing",
          "Clothing",
          "Clothing",
          "Clothing",
          "Clothing",
          "Clothing",
          "Clothing",
          "Clothing",
          "Clothing",
          "Clothing",
          "Clothing",
          "Clothing",
          "Clothing",
          "Clothing",
          "Clothing",
          "Clothing",
          "Clothing",
          "Clothing",
          "Clothing",
          "Clothing",
          "Clothing",
          "Clothing",
          "Clothing",
          "Clothing",
          "Clothing",
          "Clothing",
          "Clothing",
          "Clothing",
          "Clothing",
          "Clothing",
          "Clothing",
          "Clothing",
          "Clothing",
          "Clothing",
          "Clothing",
          "Clothing",
          "Clothing",
          "Clothing",
          "Clothing",
          "Clothing",
          "Clothing",
          "Clothing",
          "Clothing",
          "Clothing",
          "Clothing",
          "Clothing",
          "Clothing",
          "Clothing",
          "Clothing",
          "Clothing",
          "Clothing",
          "Clothing",
          "Clothing",
          "Clothing",
          "Clothing",
          "Clothing",
          "Clothing",
          "Clothing",
          "Clothing",
          "Clothing",
          "Clothing",
          "Clothing",
          "Clothing",
          "Clothing",
          "Clothing",
          "Clothing",
          "Clothing",
          "Clothing",
          "Clothing",
          "Clothing",
          "Clothing",
          "Clothing",
          "Clothing",
          "Clothing",
          "Clothing",
          "Clothing",
          "Clothing",
          "Clothing",
          "Clothing",
          "Clothing",
          "Clothing",
          "Clothing",
          "Clothing",
          "Clothing",
          "Clothing",
          "Clothing",
          "Clothing",
          "Clothing",
          "Clothing",
          "Clothing",
          "Clothing",
          "Clothing",
          "Clothing",
          "Clothing",
          "Clothing",
          "Clothing",
          "Clothing",
          "Clothing",
          "Clothing",
          "Clothing",
          "Clothing",
          "Clothing",
          "Clothing",
          "Clothing",
          "Clothing",
          "Clothing",
          "Clothing",
          "Clothing",
          "Clothing",
          "Clothing",
          "Clothing",
          "Clothing",
          "Clothing",
          "Clothing",
          "Clothing",
          "Clothing",
          "Clothing",
          "Clothing",
          "Clothing",
          "Clothing",
          "Clothing",
          "Clothing",
          "Clothing",
          "Clothing",
          "Clothing",
          "Clothing",
          "Clothing",
          "Clothing",
          "Clothing",
          "Clothing",
          "Clothing",
          "Clothing",
          "Clothing",
          "Clothing",
          "Clothing",
          "Clothing",
          "Clothing",
          "Clothing",
          "Clothing",
          "Clothing",
          "Clothing",
          "Clothing",
          "Clothing",
          "Clothing",
          "Clothing",
          "Clothing",
          "Clothing",
          "Clothing",
          "Clothing",
          "Clothing",
          "Clothing",
          "Clothing",
          "Clothing",
          "Clothing",
          "Clothing",
          "Clothing",
          "Clothing",
          "Clothing",
          "Clothing",
          "Clothing",
          "Clothing",
          "Clothing",
          "Clothing",
          "Clothing",
          "Clothing",
          "Clothing",
          "Clothing",
          "Clothing",
          "Clothing",
          "Clothing",
          "Clothing",
          "Clothing",
          "Clothing",
          "Clothing",
          "Clothing",
          "Clothing",
          "Clothing",
          "Clothing",
          "Clothing",
          "Clothing",
          "Clothing",
          "Clothing",
          "Clothing",
          "Clothing",
          "Clothing",
          "Clothing",
          "Clothing",
          "Clothing",
          "Clothing",
          "Clothing",
          "Clothing",
          "Clothing",
          "Clothing",
          "Clothing",
          "Clothing",
          "Clothing",
          "Clothing",
          "Clothing",
          "Clothing",
          "Clothing",
          "Clothing",
          "Clothing",
          "Clothing",
          "Clothing",
          "Clothing",
          "Clothing",
          "Clothing",
          "Clothing",
          "Clothing",
          "Clothing",
          "Clothing",
          "Clothing",
          "Clothing",
          "Clothing",
          "Clothing",
          "Clothing",
          "Clothing",
          "Clothing",
          "Clothing",
          "Clothing",
          "Clothing",
          "Clothing",
          "Clothing",
          "Clothing",
          "Clothing",
          "Clothing",
          "Clothing",
          "Clothing",
          "Clothing",
          "Clothing",
          "Clothing",
          "Clothing",
          "Clothing",
          "Clothing",
          "Clothing",
          "Clothing",
          "Clothing",
          "Clothing",
          "Clothing",
          "Clothing",
          "Clothing",
          "Clothing",
          "Clothing",
          "Clothing",
          "Clothing",
          "Clothing",
          "Clothing",
          "Clothing",
          "Clothing",
          "Clothing",
          "Clothing",
          "Clothing",
          "Clothing",
          "Clothing",
          "Clothing",
          "Clothing",
          "Clothing",
          "Clothing",
          "Clothing",
          "Clothing",
          "Clothing",
          "Clothing",
          "Clothing",
          "Clothing",
          "Clothing",
          "Clothing",
          "Clothing",
          "Clothing",
          "Clothing",
          "Clothing",
          "Clothing",
          "Clothing",
          "Clothing",
          "Clothing",
          "Clothing",
          "Clothing",
          "Clothing",
          "Clothing",
          "Clothing",
          "Clothing",
          "Clothing",
          "Clothing",
          "Clothing",
          "Clothing",
          "Clothing",
          "Clothing",
          "Clothing",
          "Clothing",
          "Clothing",
          "Clothing",
          "Clothing",
          "Clothing",
          "Clothing",
          "Clothing",
          "Clothing",
          "Clothing",
          "Clothing",
          "Clothing",
          "Clothing",
          "Clothing",
          "Clothing",
          "Clothing",
          "Clothing",
          "Clothing",
          "Clothing",
          "Clothing",
          "Clothing",
          "Clothing",
          "Clothing",
          "Clothing",
          "Clothing",
          "Clothing",
          "Clothing",
          "Clothing",
          "Clothing",
          "Clothing",
          "Clothing",
          "Clothing",
          "Clothing",
          "Clothing",
          "Clothing",
          "Clothing",
          "Clothing",
          "Clothing",
          "Clothing",
          "Clothing",
          "Clothing",
          "Clothing",
          "Clothing",
          "Clothing",
          "Clothing",
          "Clothing",
          "Clothing",
          "Clothing",
          "Clothing",
          "Clothing",
          "Clothing",
          "Clothing",
          "Clothing",
          "Clothing",
          "Clothing",
          "Clothing",
          "Clothing",
          "Clothing",
          "Clothing",
          "Clothing",
          "Clothing",
          "Clothing",
          "Clothing",
          "Clothing",
          "Clothing",
          "Clothing",
          "Clothing",
          "Clothing",
          "Clothing",
          "Clothing",
          "Clothing",
          "Clothing",
          "Clothing",
          "Clothing",
          "Clothing",
          "Clothing",
          "Clothing",
          "Clothing",
          "Clothing",
          "Clothing",
          "Clothing",
          "Clothing",
          "Clothing",
          "Clothing",
          "Clothing",
          "Clothing",
          "Clothing",
          "Clothing",
          "Clothing",
          "Clothing",
          "Clothing",
          "Clothing",
          "Clothing",
          "Clothing",
          "Clothing",
          "Clothing",
          "Clothing",
          "Clothing",
          "Clothing",
          "Clothing",
          "Clothing",
          "Clothing",
          "Clothing",
          "Clothing",
          "Clothing",
          "Clothing",
          "Clothing",
          "Clothing",
          "Clothing",
          "Clothing",
          "Clothing",
          "Clothing",
          "Clothing",
          "Clothing",
          "Clothing",
          "Clothing",
          "Clothing",
          "Clothing",
          "Clothing",
          "Clothing",
          "Clothing",
          "Clothing",
          "Clothing",
          "Clothing",
          "Clothing",
          "Clothing",
          "Clothing",
          "Clothing",
          "Clothing",
          "Clothing",
          "Clothing",
          "Clothing",
          "Clothing",
          "Clothing",
          "Clothing",
          "Clothing",
          "Clothing",
          "Clothing",
          "Clothing",
          "Clothing",
          "Clothing",
          "Clothing",
          "Clothing",
          "Clothing",
          "Clothing",
          "Clothing",
          "Clothing",
          "Clothing",
          "Clothing",
          "Clothing",
          "Clothing",
          "Clothing",
          "Clothing",
          "Clothing",
          "Clothing",
          "Clothing",
          "Clothing",
          "Clothing",
          "Clothing",
          "Clothing",
          "Clothing",
          "Clothing",
          "Clothing",
          "Clothing",
          "Clothing",
          "Clothing",
          "Clothing",
          "Clothing",
          "Clothing",
          "Clothing",
          "Clothing",
          "Clothing",
          "Clothing",
          "Clothing",
          "Clothing",
          "Clothing",
          "Clothing",
          "Clothing",
          "Clothing",
          "Clothing",
          "Clothing",
          "Clothing",
          "Clothing",
          "Clothing",
          "Clothing",
          "Clothing",
          "Clothing",
          "Clothing",
          "Clothing",
          "Clothing",
          "Clothing",
          "Clothing",
          "Clothing",
          "Clothing",
          "Clothing",
          "Clothing",
          "Clothing",
          "Clothing",
          "Clothing",
          "Clothing",
          "Clothing",
          "Clothing",
          "Clothing",
          "Clothing",
          "Clothing",
          "Clothing",
          "Clothing",
          "Clothing",
          "Clothing",
          "Clothing",
          "Clothing",
          "Clothing",
          "Clothing",
          "Clothing",
          "Clothing",
          "Clothing",
          "Clothing",
          "Clothing",
          "Clothing",
          "Clothing",
          "Clothing",
          "Clothing",
          "Clothing",
          "Clothing",
          "Clothing",
          "Clothing",
          "Clothing",
          "Clothing",
          "Clothing",
          "Clothing",
          "Clothing",
          "Clothing",
          "Clothing",
          "Clothing",
          "Clothing",
          "Clothing",
          "Clothing",
          "Clothing",
          "Clothing",
          "Clothing",
          "Clothing",
          "Clothing",
          "Clothing",
          "Clothing",
          "Clothing",
          "Clothing",
          "Clothing",
          "Clothing",
          "Clothing",
          "Clothing",
          "Clothing",
          "Clothing",
          "Clothing",
          "Clothing",
          "Clothing",
          "Clothing",
          "Clothing",
          "Clothing",
          "Clothing",
          "Clothing",
          "Clothing",
          "Clothing",
          "Clothing",
          "Clothing",
          "Clothing",
          "Clothing",
          "Clothing",
          "Clothing",
          "Clothing",
          "Clothing",
          "Clothing",
          "Clothing",
          "Clothing",
          "Clothing",
          "Clothing",
          "Clothing",
          "Clothing",
          "Clothing",
          "Clothing",
          "Clothing",
          "Clothing",
          "Clothing",
          "Clothing",
          "Clothing",
          "Clothing",
          "Clothing",
          "Clothing",
          "Clothing",
          "Clothing",
          "Clothing",
          "Clothing",
          "Clothing",
          "Clothing",
          "Clothing",
          "Clothing",
          "Clothing",
          "Clothing",
          "Clothing",
          "Clothing",
          "Clothing",
          "Clothing",
          "Clothing",
          "Clothing",
          "Clothing",
          "Clothing",
          "Clothing",
          "Clothing",
          "Clothing",
          "Clothing",
          "Clothing",
          "Clothing",
          "Clothing",
          "Clothing",
          "Clothing",
          "Clothing",
          "Clothing",
          "Clothing",
          "Clothing",
          "Clothing",
          "Clothing",
          "Clothing",
          "Clothing",
          "Clothing",
          "Clothing",
          "Clothing",
          "Clothing",
          "Clothing",
          "Clothing",
          "Clothing",
          "Clothing",
          "Clothing",
          "Clothing",
          "Clothing",
          "Clothing",
          "Clothing",
          "Clothing",
          "Clothing",
          "Clothing",
          "Clothing",
          "Clothing",
          "Clothing",
          "Clothing",
          "Clothing",
          "Clothing",
          "Clothing",
          "Clothing",
          "Clothing",
          "Clothing",
          "Clothing",
          "Clothing",
          "Clothing",
          "Clothing",
          "Clothing",
          "Clothing",
          "Clothing",
          "Clothing",
          "Clothing",
          "Clothing",
          "Clothing",
          "Clothing",
          "Clothing",
          "Clothing",
          "Clothing",
          "Clothing",
          "Clothing",
          "Clothing",
          "Clothing",
          "Clothing",
          "Clothing",
          "Clothing",
          "Clothing",
          "Clothing",
          "Clothing",
          "Clothing",
          "Clothing",
          "Clothing",
          "Clothing",
          "Clothing",
          "Clothing",
          "Clothing",
          "Clothing",
          "Clothing",
          "Clothing",
          "Clothing",
          "Clothing",
          "Clothing",
          "Clothing",
          "Clothing",
          "Clothing",
          "Clothing",
          "Clothing",
          "Clothing",
          "Clothing",
          "Clothing",
          "Clothing",
          "Clothing",
          "Clothing",
          "Clothing",
          "Clothing",
          "Clothing",
          "Clothing",
          "Clothing",
          "Clothing",
          "Clothing",
          "Clothing",
          "Clothing",
          "Clothing",
          "Clothing",
          "Clothing",
          "Clothing",
          "Clothing",
          "Clothing",
          "Clothing",
          "Clothing",
          "Clothing",
          "Clothing",
          "Clothing",
          "Clothing",
          "Clothing",
          "Clothing",
          "Clothing",
          "Clothing",
          "Clothing",
          "Clothing",
          "Clothing",
          "Clothing",
          "Clothing",
          "Clothing",
          "Clothing",
          "Clothing",
          "Clothing",
          "Clothing",
          "Clothing",
          "Clothing",
          "Clothing",
          "Clothing",
          "Clothing",
          "Clothing",
          "Clothing",
          "Clothing",
          "Clothing",
          "Clothing",
          "Clothing",
          "Clothing",
          "Clothing",
          "Clothing",
          "Clothing",
          "Clothing",
          "Clothing",
          "Clothing",
          "Clothing",
          "Clothing",
          "Clothing",
          "Clothing",
          "Clothing",
          "Clothing",
          "Clothing",
          "Clothing",
          "Clothing",
          "Clothing",
          "Clothing",
          "Clothing",
          "Clothing",
          "Clothing",
          "Clothing",
          "Clothing",
          "Clothing",
          "Clothing",
          "Clothing",
          "Clothing",
          "Clothing",
          "Clothing",
          "Clothing",
          "Clothing",
          "Clothing",
          "Clothing",
          "Clothing",
          "Clothing",
          "Clothing",
          "Clothing",
          "Clothing",
          "Clothing",
          "Clothing",
          "Clothing",
          "Clothing",
          "Clothing",
          "Clothing",
          "Clothing",
          "Clothing",
          "Clothing",
          "Clothing",
          "Clothing",
          "Clothing",
          "Clothing",
          "Clothing",
          "Clothing",
          "Clothing",
          "Clothing",
          "Clothing",
          "Clothing",
          "Clothing",
          "Clothing",
          "Clothing",
          "Clothing",
          "Clothing",
          "Clothing",
          "Clothing",
          "Clothing",
          "Clothing",
          "Clothing",
          "Clothing",
          "Clothing",
          "Clothing",
          "Clothing",
          "Clothing",
          "Clothing",
          "Clothing",
          "Clothing",
          "Clothing",
          "Clothing",
          "Clothing",
          "Clothing",
          "Clothing",
          "Clothing",
          "Clothing",
          "Clothing",
          "Clothing",
          "Clothing",
          "Clothing",
          "Clothing",
          "Clothing",
          "Clothing",
          "Clothing",
          "Clothing",
          "Clothing",
          "Clothing",
          "Clothing",
          "Clothing",
          "Clothing",
          "Clothing",
          "Clothing",
          "Clothing",
          "Clothing",
          "Clothing",
          "Clothing",
          "Clothing",
          "Clothing",
          "Clothing",
          "Clothing",
          "Clothing",
          "Clothing",
          "Clothing",
          "Clothing",
          "Clothing"
         ],
         "xaxis": "x",
         "y": {
          "bdata": "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",
          "dtype": "i1"
         },
         "yaxis": "y"
        },
        {
         "bingroup": "x",
         "histfunc": "sum",
         "hovertemplate": "Product Category=%{x}<br>sum of Number of Previous Purchases=%{y}<extra></extra>",
         "legendgroup": "Footwear",
         "marker": {
          "color": "#EF553B",
          "pattern": {
           "shape": ""
          }
         },
         "name": "Footwear",
         "orientation": "v",
         "showlegend": true,
         "type": "histogram",
         "x": [
          "Footwear",
          "Footwear",
          "Footwear",
          "Footwear",
          "Footwear",
          "Footwear",
          "Footwear",
          "Footwear",
          "Footwear",
          "Footwear",
          "Footwear",
          "Footwear",
          "Footwear",
          "Footwear",
          "Footwear",
          "Footwear",
          "Footwear",
          "Footwear",
          "Footwear",
          "Footwear",
          "Footwear",
          "Footwear",
          "Footwear",
          "Footwear",
          "Footwear",
          "Footwear",
          "Footwear",
          "Footwear",
          "Footwear",
          "Footwear",
          "Footwear",
          "Footwear",
          "Footwear",
          "Footwear",
          "Footwear",
          "Footwear",
          "Footwear",
          "Footwear",
          "Footwear",
          "Footwear",
          "Footwear",
          "Footwear",
          "Footwear",
          "Footwear",
          "Footwear",
          "Footwear",
          "Footwear",
          "Footwear",
          "Footwear",
          "Footwear",
          "Footwear",
          "Footwear",
          "Footwear",
          "Footwear",
          "Footwear",
          "Footwear",
          "Footwear",
          "Footwear",
          "Footwear",
          "Footwear",
          "Footwear",
          "Footwear",
          "Footwear",
          "Footwear",
          "Footwear",
          "Footwear",
          "Footwear",
          "Footwear",
          "Footwear",
          "Footwear",
          "Footwear",
          "Footwear",
          "Footwear",
          "Footwear",
          "Footwear",
          "Footwear",
          "Footwear",
          "Footwear",
          "Footwear",
          "Footwear",
          "Footwear",
          "Footwear",
          "Footwear",
          "Footwear",
          "Footwear",
          "Footwear",
          "Footwear",
          "Footwear",
          "Footwear",
          "Footwear",
          "Footwear",
          "Footwear",
          "Footwear",
          "Footwear",
          "Footwear",
          "Footwear",
          "Footwear",
          "Footwear",
          "Footwear",
          "Footwear",
          "Footwear",
          "Footwear",
          "Footwear",
          "Footwear",
          "Footwear",
          "Footwear",
          "Footwear",
          "Footwear",
          "Footwear",
          "Footwear",
          "Footwear",
          "Footwear",
          "Footwear",
          "Footwear",
          "Footwear",
          "Footwear",
          "Footwear",
          "Footwear",
          "Footwear",
          "Footwear",
          "Footwear",
          "Footwear",
          "Footwear",
          "Footwear",
          "Footwear",
          "Footwear",
          "Footwear",
          "Footwear",
          "Footwear",
          "Footwear",
          "Footwear",
          "Footwear",
          "Footwear",
          "Footwear",
          "Footwear",
          "Footwear",
          "Footwear",
          "Footwear",
          "Footwear",
          "Footwear",
          "Footwear",
          "Footwear",
          "Footwear",
          "Footwear",
          "Footwear",
          "Footwear",
          "Footwear",
          "Footwear",
          "Footwear",
          "Footwear",
          "Footwear",
          "Footwear",
          "Footwear",
          "Footwear",
          "Footwear",
          "Footwear",
          "Footwear",
          "Footwear",
          "Footwear",
          "Footwear",
          "Footwear",
          "Footwear",
          "Footwear",
          "Footwear",
          "Footwear",
          "Footwear",
          "Footwear",
          "Footwear",
          "Footwear",
          "Footwear",
          "Footwear",
          "Footwear",
          "Footwear",
          "Footwear",
          "Footwear",
          "Footwear",
          "Footwear",
          "Footwear",
          "Footwear",
          "Footwear",
          "Footwear",
          "Footwear",
          "Footwear",
          "Footwear",
          "Footwear",
          "Footwear",
          "Footwear",
          "Footwear",
          "Footwear",
          "Footwear",
          "Footwear",
          "Footwear",
          "Footwear",
          "Footwear",
          "Footwear",
          "Footwear",
          "Footwear",
          "Footwear",
          "Footwear",
          "Footwear",
          "Footwear",
          "Footwear",
          "Footwear",
          "Footwear",
          "Footwear",
          "Footwear",
          "Footwear",
          "Footwear",
          "Footwear",
          "Footwear",
          "Footwear",
          "Footwear",
          "Footwear",
          "Footwear",
          "Footwear",
          "Footwear",
          "Footwear",
          "Footwear",
          "Footwear",
          "Footwear",
          "Footwear",
          "Footwear",
          "Footwear",
          "Footwear",
          "Footwear",
          "Footwear",
          "Footwear",
          "Footwear",
          "Footwear",
          "Footwear",
          "Footwear",
          "Footwear",
          "Footwear",
          "Footwear",
          "Footwear",
          "Footwear",
          "Footwear",
          "Footwear",
          "Footwear",
          "Footwear",
          "Footwear",
          "Footwear",
          "Footwear",
          "Footwear",
          "Footwear",
          "Footwear",
          "Footwear",
          "Footwear",
          "Footwear",
          "Footwear",
          "Footwear",
          "Footwear",
          "Footwear",
          "Footwear",
          "Footwear",
          "Footwear",
          "Footwear",
          "Footwear",
          "Footwear",
          "Footwear",
          "Footwear",
          "Footwear",
          "Footwear",
          "Footwear",
          "Footwear",
          "Footwear",
          "Footwear",
          "Footwear",
          "Footwear",
          "Footwear",
          "Footwear",
          "Footwear",
          "Footwear",
          "Footwear",
          "Footwear",
          "Footwear",
          "Footwear",
          "Footwear",
          "Footwear",
          "Footwear",
          "Footwear",
          "Footwear",
          "Footwear",
          "Footwear",
          "Footwear",
          "Footwear",
          "Footwear",
          "Footwear",
          "Footwear",
          "Footwear",
          "Footwear",
          "Footwear",
          "Footwear",
          "Footwear",
          "Footwear",
          "Footwear",
          "Footwear",
          "Footwear",
          "Footwear",
          "Footwear",
          "Footwear",
          "Footwear",
          "Footwear",
          "Footwear",
          "Footwear",
          "Footwear",
          "Footwear",
          "Footwear",
          "Footwear",
          "Footwear",
          "Footwear",
          "Footwear",
          "Footwear",
          "Footwear",
          "Footwear",
          "Footwear",
          "Footwear",
          "Footwear",
          "Footwear",
          "Footwear",
          "Footwear",
          "Footwear",
          "Footwear",
          "Footwear",
          "Footwear",
          "Footwear",
          "Footwear",
          "Footwear",
          "Footwear",
          "Footwear",
          "Footwear",
          "Footwear",
          "Footwear",
          "Footwear",
          "Footwear",
          "Footwear",
          "Footwear",
          "Footwear",
          "Footwear",
          "Footwear",
          "Footwear",
          "Footwear",
          "Footwear",
          "Footwear",
          "Footwear",
          "Footwear",
          "Footwear",
          "Footwear",
          "Footwear",
          "Footwear",
          "Footwear",
          "Footwear",
          "Footwear",
          "Footwear",
          "Footwear",
          "Footwear",
          "Footwear",
          "Footwear",
          "Footwear",
          "Footwear",
          "Footwear",
          "Footwear",
          "Footwear",
          "Footwear",
          "Footwear",
          "Footwear",
          "Footwear",
          "Footwear",
          "Footwear",
          "Footwear",
          "Footwear",
          "Footwear",
          "Footwear",
          "Footwear",
          "Footwear",
          "Footwear",
          "Footwear",
          "Footwear",
          "Footwear",
          "Footwear",
          "Footwear",
          "Footwear",
          "Footwear",
          "Footwear",
          "Footwear",
          "Footwear",
          "Footwear",
          "Footwear",
          "Footwear",
          "Footwear",
          "Footwear",
          "Footwear",
          "Footwear",
          "Footwear",
          "Footwear",
          "Footwear",
          "Footwear",
          "Footwear",
          "Footwear",
          "Footwear",
          "Footwear",
          "Footwear",
          "Footwear",
          "Footwear",
          "Footwear",
          "Footwear",
          "Footwear",
          "Footwear",
          "Footwear",
          "Footwear",
          "Footwear",
          "Footwear",
          "Footwear",
          "Footwear",
          "Footwear",
          "Footwear",
          "Footwear",
          "Footwear",
          "Footwear",
          "Footwear",
          "Footwear",
          "Footwear",
          "Footwear",
          "Footwear",
          "Footwear",
          "Footwear",
          "Footwear",
          "Footwear",
          "Footwear",
          "Footwear",
          "Footwear",
          "Footwear",
          "Footwear",
          "Footwear",
          "Footwear",
          "Footwear",
          "Footwear",
          "Footwear",
          "Footwear",
          "Footwear",
          "Footwear",
          "Footwear",
          "Footwear",
          "Footwear",
          "Footwear",
          "Footwear",
          "Footwear",
          "Footwear",
          "Footwear",
          "Footwear",
          "Footwear",
          "Footwear",
          "Footwear",
          "Footwear",
          "Footwear",
          "Footwear",
          "Footwear",
          "Footwear",
          "Footwear",
          "Footwear",
          "Footwear",
          "Footwear",
          "Footwear",
          "Footwear",
          "Footwear",
          "Footwear",
          "Footwear",
          "Footwear",
          "Footwear",
          "Footwear",
          "Footwear",
          "Footwear",
          "Footwear",
          "Footwear",
          "Footwear",
          "Footwear",
          "Footwear",
          "Footwear",
          "Footwear",
          "Footwear",
          "Footwear",
          "Footwear",
          "Footwear",
          "Footwear",
          "Footwear",
          "Footwear",
          "Footwear",
          "Footwear",
          "Footwear",
          "Footwear",
          "Footwear",
          "Footwear",
          "Footwear",
          "Footwear",
          "Footwear",
          "Footwear",
          "Footwear",
          "Footwear",
          "Footwear",
          "Footwear",
          "Footwear",
          "Footwear",
          "Footwear",
          "Footwear",
          "Footwear",
          "Footwear",
          "Footwear",
          "Footwear",
          "Footwear",
          "Footwear",
          "Footwear",
          "Footwear",
          "Footwear",
          "Footwear",
          "Footwear",
          "Footwear",
          "Footwear",
          "Footwear",
          "Footwear",
          "Footwear",
          "Footwear",
          "Footwear",
          "Footwear",
          "Footwear",
          "Footwear",
          "Footwear",
          "Footwear",
          "Footwear",
          "Footwear",
          "Footwear",
          "Footwear",
          "Footwear",
          "Footwear",
          "Footwear",
          "Footwear",
          "Footwear",
          "Footwear",
          "Footwear",
          "Footwear",
          "Footwear",
          "Footwear",
          "Footwear",
          "Footwear",
          "Footwear",
          "Footwear",
          "Footwear",
          "Footwear",
          "Footwear",
          "Footwear",
          "Footwear",
          "Footwear",
          "Footwear",
          "Footwear",
          "Footwear",
          "Footwear",
          "Footwear",
          "Footwear",
          "Footwear",
          "Footwear",
          "Footwear",
          "Footwear",
          "Footwear",
          "Footwear",
          "Footwear",
          "Footwear",
          "Footwear",
          "Footwear",
          "Footwear",
          "Footwear",
          "Footwear",
          "Footwear",
          "Footwear",
          "Footwear",
          "Footwear",
          "Footwear",
          "Footwear",
          "Footwear",
          "Footwear",
          "Footwear",
          "Footwear",
          "Footwear",
          "Footwear",
          "Footwear",
          "Footwear",
          "Footwear",
          "Footwear",
          "Footwear",
          "Footwear",
          "Footwear",
          "Footwear",
          "Footwear",
          "Footwear",
          "Footwear",
          "Footwear",
          "Footwear",
          "Footwear",
          "Footwear",
          "Footwear",
          "Footwear"
         ],
         "xaxis": "x",
         "y": {
          "bdata": "MQ4aHxIYJCwwJRYuDB0MJhkfER4FJQkMKAEMKSMsMAUbLQ8VJRUYEwQcMTAaGysjHgEHLwIcBgIZDgwkMBUnEhMbFBIkJS8qHxsYFRoaLAUoKhEjHiIrEAEUFjAJKi8kGwoXMBgLGzIuKRMlAwMoBQ0cKi8bJw0IJi0iHCYeJCAbIRUsKiENEwMqGAcSJR4dDQgaIRwIHyUODAohJwgCGRQgMAMbJCAsDBMBFS4aBCgKHSseBwYNGgMuFzAIEgwrEjAIMQIiLBAlFzIgJQwXMREaLCIwCBgpMAgBLgwDFw4ZDQILKRESIQIPFw8YEgEQCDIRExUIBx4VMAoYDCctHTEIDwYOBBMBFRIOKQIBBBYhJRIwKS4nMRMnBhMVDg0HLBwuMgctIBkqAR0SIA0eGgQUMgojIw8FBiwxGwUvHCgjITAZASwuEAYoGSwcBSEOGh8SEhMWFSMfCBcKBx0JGy8HBRUOEBUZICAmCRcXGSwuGgIiLx0iFBsBEBoFIAUfBxgKBB4oEQwuJi4VJhQZGy4UFw4fKQ0RBTESLjEnMB0VEQMLJy8sGioDFiodIQQCGyUsHBkhIS8MHRYTKxsfCwQuHCYoAyIHExUXBxcZChkDBxYiBQQrIgsXCScUFSgvMAEMHCccDh4KMScVJiYJJSUlMAsiLRALKRwvHQwICQEmLR8DCxsVLhQDLx8JCy0nKxYCKw4gJiMXHgcVFiAgJwcOCQwWMBIYKRocBQMRJCABLg0FBAcRGCQkFxEfATIcHQoXHgoeKSgWKRwqIhscDggTFgcDDhg=",
          "dtype": "i1"
         },
         "yaxis": "y"
        },
        {
         "bingroup": "x",
         "histfunc": "sum",
         "hovertemplate": "Product Category=%{x}<br>sum of Number of Previous Purchases=%{y}<extra></extra>",
         "legendgroup": "Outerwear",
         "marker": {
          "color": "#00cc96",
          "pattern": {
           "shape": ""
          }
         },
         "name": "Outerwear",
         "orientation": "v",
         "showlegend": true,
         "type": "histogram",
         "x": [
          "Outerwear",
          "Outerwear",
          "Outerwear",
          "Outerwear",
          "Outerwear",
          "Outerwear",
          "Outerwear",
          "Outerwear",
          "Outerwear",
          "Outerwear",
          "Outerwear",
          "Outerwear",
          "Outerwear",
          "Outerwear",
          "Outerwear",
          "Outerwear",
          "Outerwear",
          "Outerwear",
          "Outerwear",
          "Outerwear",
          "Outerwear",
          "Outerwear",
          "Outerwear",
          "Outerwear",
          "Outerwear",
          "Outerwear",
          "Outerwear",
          "Outerwear",
          "Outerwear",
          "Outerwear",
          "Outerwear",
          "Outerwear",
          "Outerwear",
          "Outerwear",
          "Outerwear",
          "Outerwear",
          "Outerwear",
          "Outerwear",
          "Outerwear",
          "Outerwear",
          "Outerwear",
          "Outerwear",
          "Outerwear",
          "Outerwear",
          "Outerwear",
          "Outerwear",
          "Outerwear",
          "Outerwear",
          "Outerwear",
          "Outerwear",
          "Outerwear",
          "Outerwear",
          "Outerwear",
          "Outerwear",
          "Outerwear",
          "Outerwear",
          "Outerwear",
          "Outerwear",
          "Outerwear",
          "Outerwear",
          "Outerwear",
          "Outerwear",
          "Outerwear",
          "Outerwear",
          "Outerwear",
          "Outerwear",
          "Outerwear",
          "Outerwear",
          "Outerwear",
          "Outerwear",
          "Outerwear",
          "Outerwear",
          "Outerwear",
          "Outerwear",
          "Outerwear",
          "Outerwear",
          "Outerwear",
          "Outerwear",
          "Outerwear",
          "Outerwear",
          "Outerwear",
          "Outerwear",
          "Outerwear",
          "Outerwear",
          "Outerwear",
          "Outerwear",
          "Outerwear",
          "Outerwear",
          "Outerwear",
          "Outerwear",
          "Outerwear",
          "Outerwear",
          "Outerwear",
          "Outerwear",
          "Outerwear",
          "Outerwear",
          "Outerwear",
          "Outerwear",
          "Outerwear",
          "Outerwear",
          "Outerwear",
          "Outerwear",
          "Outerwear",
          "Outerwear",
          "Outerwear",
          "Outerwear",
          "Outerwear",
          "Outerwear",
          "Outerwear",
          "Outerwear",
          "Outerwear",
          "Outerwear",
          "Outerwear",
          "Outerwear",
          "Outerwear",
          "Outerwear",
          "Outerwear",
          "Outerwear",
          "Outerwear",
          "Outerwear",
          "Outerwear",
          "Outerwear",
          "Outerwear",
          "Outerwear",
          "Outerwear",
          "Outerwear",
          "Outerwear",
          "Outerwear",
          "Outerwear",
          "Outerwear",
          "Outerwear",
          "Outerwear",
          "Outerwear",
          "Outerwear",
          "Outerwear",
          "Outerwear",
          "Outerwear",
          "Outerwear",
          "Outerwear",
          "Outerwear",
          "Outerwear",
          "Outerwear",
          "Outerwear",
          "Outerwear",
          "Outerwear",
          "Outerwear",
          "Outerwear",
          "Outerwear",
          "Outerwear",
          "Outerwear",
          "Outerwear",
          "Outerwear",
          "Outerwear",
          "Outerwear",
          "Outerwear",
          "Outerwear",
          "Outerwear",
          "Outerwear",
          "Outerwear",
          "Outerwear",
          "Outerwear",
          "Outerwear",
          "Outerwear",
          "Outerwear",
          "Outerwear",
          "Outerwear",
          "Outerwear",
          "Outerwear",
          "Outerwear",
          "Outerwear",
          "Outerwear",
          "Outerwear",
          "Outerwear",
          "Outerwear",
          "Outerwear",
          "Outerwear",
          "Outerwear",
          "Outerwear",
          "Outerwear",
          "Outerwear",
          "Outerwear",
          "Outerwear",
          "Outerwear",
          "Outerwear",
          "Outerwear",
          "Outerwear",
          "Outerwear",
          "Outerwear",
          "Outerwear",
          "Outerwear",
          "Outerwear",
          "Outerwear",
          "Outerwear",
          "Outerwear",
          "Outerwear",
          "Outerwear",
          "Outerwear",
          "Outerwear",
          "Outerwear",
          "Outerwear",
          "Outerwear",
          "Outerwear",
          "Outerwear",
          "Outerwear",
          "Outerwear",
          "Outerwear",
          "Outerwear",
          "Outerwear",
          "Outerwear",
          "Outerwear",
          "Outerwear",
          "Outerwear",
          "Outerwear",
          "Outerwear",
          "Outerwear",
          "Outerwear",
          "Outerwear",
          "Outerwear",
          "Outerwear",
          "Outerwear",
          "Outerwear",
          "Outerwear",
          "Outerwear",
          "Outerwear",
          "Outerwear",
          "Outerwear",
          "Outerwear",
          "Outerwear",
          "Outerwear",
          "Outerwear",
          "Outerwear",
          "Outerwear",
          "Outerwear",
          "Outerwear",
          "Outerwear",
          "Outerwear",
          "Outerwear",
          "Outerwear",
          "Outerwear",
          "Outerwear",
          "Outerwear",
          "Outerwear",
          "Outerwear",
          "Outerwear",
          "Outerwear",
          "Outerwear",
          "Outerwear",
          "Outerwear",
          "Outerwear",
          "Outerwear",
          "Outerwear",
          "Outerwear",
          "Outerwear",
          "Outerwear",
          "Outerwear",
          "Outerwear",
          "Outerwear",
          "Outerwear",
          "Outerwear",
          "Outerwear",
          "Outerwear",
          "Outerwear",
          "Outerwear",
          "Outerwear",
          "Outerwear",
          "Outerwear",
          "Outerwear",
          "Outerwear",
          "Outerwear",
          "Outerwear",
          "Outerwear",
          "Outerwear",
          "Outerwear",
          "Outerwear",
          "Outerwear",
          "Outerwear",
          "Outerwear",
          "Outerwear",
          "Outerwear",
          "Outerwear",
          "Outerwear",
          "Outerwear",
          "Outerwear",
          "Outerwear",
          "Outerwear",
          "Outerwear",
          "Outerwear",
          "Outerwear",
          "Outerwear",
          "Outerwear",
          "Outerwear",
          "Outerwear",
          "Outerwear",
          "Outerwear",
          "Outerwear",
          "Outerwear",
          "Outerwear",
          "Outerwear",
          "Outerwear",
          "Outerwear",
          "Outerwear",
          "Outerwear",
          "Outerwear",
          "Outerwear",
          "Outerwear",
          "Outerwear",
          "Outerwear",
          "Outerwear",
          "Outerwear",
          "Outerwear",
          "Outerwear",
          "Outerwear",
          "Outerwear",
          "Outerwear",
          "Outerwear",
          "Outerwear",
          "Outerwear",
          "Outerwear",
          "Outerwear",
          "Outerwear",
          "Outerwear",
          "Outerwear",
          "Outerwear",
          "Outerwear"
         ],
         "xaxis": "x",
         "y": {
          "bdata": "CCUiECUPIzERMSsqDw0yHwksHiEZAwIwIgYpCycoIBoEJAkwCyYDKAIqHw4wHRYYKRkQMS0wGhsVGSUCCS4VBictLTEXKB4WCyYcMSENFwoDEhgEJR4lMg4nJRgUGQwLLwUwHjAqKioSBwUBIAQZCislDBwiHRgQBCciJxgjCx4CAxAuChsWBQYeEhAVKjEKJQEtJS0pEQwKFh4HLSAMKhcFBA4ODyUwKTIqFh8VMiArCQEDJyoKLA0NMCYcFRMKFi4RLAgeHBotKisfBDImMBUQFyceEAsBKAEwBCQeBgQJDCQBAwcUEA8MBxUqExECMBsfGwUCBwwvDQscEhwPDhwBBx0vAQMUCw4mGw4XCicPJyEKBAIvBgYMDwMtIy0vJxYjCTIgAwwfBQExJhcnJycSAQUdCgEBMSsqDS0ZESoxHBwD",
          "dtype": "i1"
         },
         "yaxis": "y"
        },
        {
         "bingroup": "x",
         "histfunc": "sum",
         "hovertemplate": "Product Category=%{x}<br>sum of Number of Previous Purchases=%{y}<extra></extra>",
         "legendgroup": "Accessories",
         "marker": {
          "color": "#ab63fa",
          "pattern": {
           "shape": ""
          }
         },
         "name": "Accessories",
         "orientation": "v",
         "showlegend": true,
         "type": "histogram",
         "x": [
          "Accessories",
          "Accessories",
          "Accessories",
          "Accessories",
          "Accessories",
          "Accessories",
          "Accessories",
          "Accessories",
          "Accessories",
          "Accessories",
          "Accessories",
          "Accessories",
          "Accessories",
          "Accessories",
          "Accessories",
          "Accessories",
          "Accessories",
          "Accessories",
          "Accessories",
          "Accessories",
          "Accessories",
          "Accessories",
          "Accessories",
          "Accessories",
          "Accessories",
          "Accessories",
          "Accessories",
          "Accessories",
          "Accessories",
          "Accessories",
          "Accessories",
          "Accessories",
          "Accessories",
          "Accessories",
          "Accessories",
          "Accessories",
          "Accessories",
          "Accessories",
          "Accessories",
          "Accessories",
          "Accessories",
          "Accessories",
          "Accessories",
          "Accessories",
          "Accessories",
          "Accessories",
          "Accessories",
          "Accessories",
          "Accessories",
          "Accessories",
          "Accessories",
          "Accessories",
          "Accessories",
          "Accessories",
          "Accessories",
          "Accessories",
          "Accessories",
          "Accessories",
          "Accessories",
          "Accessories",
          "Accessories",
          "Accessories",
          "Accessories",
          "Accessories",
          "Accessories",
          "Accessories",
          "Accessories",
          "Accessories",
          "Accessories",
          "Accessories",
          "Accessories",
          "Accessories",
          "Accessories",
          "Accessories",
          "Accessories",
          "Accessories",
          "Accessories",
          "Accessories",
          "Accessories",
          "Accessories",
          "Accessories",
          "Accessories",
          "Accessories",
          "Accessories",
          "Accessories",
          "Accessories",
          "Accessories",
          "Accessories",
          "Accessories",
          "Accessories",
          "Accessories",
          "Accessories",
          "Accessories",
          "Accessories",
          "Accessories",
          "Accessories",
          "Accessories",
          "Accessories",
          "Accessories",
          "Accessories",
          "Accessories",
          "Accessories",
          "Accessories",
          "Accessories",
          "Accessories",
          "Accessories",
          "Accessories",
          "Accessories",
          "Accessories",
          "Accessories",
          "Accessories",
          "Accessories",
          "Accessories",
          "Accessories",
          "Accessories",
          "Accessories",
          "Accessories",
          "Accessories",
          "Accessories",
          "Accessories",
          "Accessories",
          "Accessories",
          "Accessories",
          "Accessories",
          "Accessories",
          "Accessories",
          "Accessories",
          "Accessories",
          "Accessories",
          "Accessories",
          "Accessories",
          "Accessories",
          "Accessories",
          "Accessories",
          "Accessories",
          "Accessories",
          "Accessories",
          "Accessories",
          "Accessories",
          "Accessories",
          "Accessories",
          "Accessories",
          "Accessories",
          "Accessories",
          "Accessories",
          "Accessories",
          "Accessories",
          "Accessories",
          "Accessories",
          "Accessories",
          "Accessories",
          "Accessories",
          "Accessories",
          "Accessories",
          "Accessories",
          "Accessories",
          "Accessories",
          "Accessories",
          "Accessories",
          "Accessories",
          "Accessories",
          "Accessories",
          "Accessories",
          "Accessories",
          "Accessories",
          "Accessories",
          "Accessories",
          "Accessories",
          "Accessories",
          "Accessories",
          "Accessories",
          "Accessories",
          "Accessories",
          "Accessories",
          "Accessories",
          "Accessories",
          "Accessories",
          "Accessories",
          "Accessories",
          "Accessories",
          "Accessories",
          "Accessories",
          "Accessories",
          "Accessories",
          "Accessories",
          "Accessories",
          "Accessories",
          "Accessories",
          "Accessories",
          "Accessories",
          "Accessories",
          "Accessories",
          "Accessories",
          "Accessories",
          "Accessories",
          "Accessories",
          "Accessories",
          "Accessories",
          "Accessories",
          "Accessories",
          "Accessories",
          "Accessories",
          "Accessories",
          "Accessories",
          "Accessories",
          "Accessories",
          "Accessories",
          "Accessories",
          "Accessories",
          "Accessories",
          "Accessories",
          "Accessories",
          "Accessories",
          "Accessories",
          "Accessories",
          "Accessories",
          "Accessories",
          "Accessories",
          "Accessories",
          "Accessories",
          "Accessories",
          "Accessories",
          "Accessories",
          "Accessories",
          "Accessories",
          "Accessories",
          "Accessories",
          "Accessories",
          "Accessories",
          "Accessories",
          "Accessories",
          "Accessories",
          "Accessories",
          "Accessories",
          "Accessories",
          "Accessories",
          "Accessories",
          "Accessories",
          "Accessories",
          "Accessories",
          "Accessories",
          "Accessories",
          "Accessories",
          "Accessories",
          "Accessories",
          "Accessories",
          "Accessories",
          "Accessories",
          "Accessories",
          "Accessories",
          "Accessories",
          "Accessories",
          "Accessories",
          "Accessories",
          "Accessories",
          "Accessories",
          "Accessories",
          "Accessories",
          "Accessories",
          "Accessories",
          "Accessories",
          "Accessories",
          "Accessories",
          "Accessories",
          "Accessories",
          "Accessories",
          "Accessories",
          "Accessories",
          "Accessories",
          "Accessories",
          "Accessories",
          "Accessories",
          "Accessories",
          "Accessories",
          "Accessories",
          "Accessories",
          "Accessories",
          "Accessories",
          "Accessories",
          "Accessories",
          "Accessories",
          "Accessories",
          "Accessories",
          "Accessories",
          "Accessories",
          "Accessories",
          "Accessories",
          "Accessories",
          "Accessories",
          "Accessories",
          "Accessories",
          "Accessories",
          "Accessories",
          "Accessories",
          "Accessories",
          "Accessories",
          "Accessories",
          "Accessories",
          "Accessories",
          "Accessories",
          "Accessories",
          "Accessories",
          "Accessories",
          "Accessories",
          "Accessories",
          "Accessories",
          "Accessories",
          "Accessories",
          "Accessories",
          "Accessories",
          "Accessories",
          "Accessories",
          "Accessories",
          "Accessories",
          "Accessories",
          "Accessories",
          "Accessories",
          "Accessories",
          "Accessories",
          "Accessories",
          "Accessories",
          "Accessories",
          "Accessories",
          "Accessories",
          "Accessories",
          "Accessories",
          "Accessories",
          "Accessories",
          "Accessories",
          "Accessories",
          "Accessories",
          "Accessories",
          "Accessories",
          "Accessories",
          "Accessories",
          "Accessories",
          "Accessories",
          "Accessories",
          "Accessories",
          "Accessories",
          "Accessories",
          "Accessories",
          "Accessories",
          "Accessories",
          "Accessories",
          "Accessories",
          "Accessories",
          "Accessories",
          "Accessories",
          "Accessories",
          "Accessories",
          "Accessories",
          "Accessories",
          "Accessories",
          "Accessories",
          "Accessories",
          "Accessories",
          "Accessories",
          "Accessories",
          "Accessories",
          "Accessories",
          "Accessories",
          "Accessories",
          "Accessories",
          "Accessories",
          "Accessories",
          "Accessories",
          "Accessories",
          "Accessories",
          "Accessories",
          "Accessories",
          "Accessories",
          "Accessories",
          "Accessories",
          "Accessories",
          "Accessories",
          "Accessories",
          "Accessories",
          "Accessories",
          "Accessories",
          "Accessories",
          "Accessories",
          "Accessories",
          "Accessories",
          "Accessories",
          "Accessories",
          "Accessories",
          "Accessories",
          "Accessories",
          "Accessories",
          "Accessories",
          "Accessories",
          "Accessories",
          "Accessories",
          "Accessories",
          "Accessories",
          "Accessories",
          "Accessories",
          "Accessories",
          "Accessories",
          "Accessories",
          "Accessories",
          "Accessories",
          "Accessories",
          "Accessories",
          "Accessories",
          "Accessories",
          "Accessories",
          "Accessories",
          "Accessories",
          "Accessories",
          "Accessories",
          "Accessories",
          "Accessories",
          "Accessories",
          "Accessories",
          "Accessories",
          "Accessories",
          "Accessories",
          "Accessories",
          "Accessories",
          "Accessories",
          "Accessories",
          "Accessories",
          "Accessories",
          "Accessories",
          "Accessories",
          "Accessories",
          "Accessories",
          "Accessories",
          "Accessories",
          "Accessories",
          "Accessories",
          "Accessories",
          "Accessories",
          "Accessories",
          "Accessories",
          "Accessories",
          "Accessories",
          "Accessories",
          "Accessories",
          "Accessories",
          "Accessories",
          "Accessories",
          "Accessories",
          "Accessories",
          "Accessories",
          "Accessories",
          "Accessories",
          "Accessories",
          "Accessories",
          "Accessories",
          "Accessories",
          "Accessories",
          "Accessories",
          "Accessories",
          "Accessories",
          "Accessories",
          "Accessories",
          "Accessories",
          "Accessories",
          "Accessories",
          "Accessories",
          "Accessories",
          "Accessories",
          "Accessories",
          "Accessories",
          "Accessories",
          "Accessories",
          "Accessories",
          "Accessories",
          "Accessories",
          "Accessories",
          "Accessories",
          "Accessories",
          "Accessories",
          "Accessories",
          "Accessories",
          "Accessories",
          "Accessories",
          "Accessories",
          "Accessories",
          "Accessories",
          "Accessories",
          "Accessories",
          "Accessories",
          "Accessories",
          "Accessories",
          "Accessories",
          "Accessories",
          "Accessories",
          "Accessories",
          "Accessories",
          "Accessories",
          "Accessories",
          "Accessories",
          "Accessories",
          "Accessories",
          "Accessories",
          "Accessories",
          "Accessories",
          "Accessories",
          "Accessories",
          "Accessories",
          "Accessories",
          "Accessories",
          "Accessories",
          "Accessories",
          "Accessories",
          "Accessories",
          "Accessories",
          "Accessories",
          "Accessories",
          "Accessories",
          "Accessories",
          "Accessories",
          "Accessories",
          "Accessories",
          "Accessories",
          "Accessories",
          "Accessories",
          "Accessories",
          "Accessories",
          "Accessories",
          "Accessories",
          "Accessories",
          "Accessories",
          "Accessories",
          "Accessories",
          "Accessories",
          "Accessories",
          "Accessories",
          "Accessories",
          "Accessories",
          "Accessories",
          "Accessories",
          "Accessories",
          "Accessories",
          "Accessories",
          "Accessories",
          "Accessories",
          "Accessories",
          "Accessories",
          "Accessories",
          "Accessories",
          "Accessories",
          "Accessories",
          "Accessories",
          "Accessories",
          "Accessories",
          "Accessories",
          "Accessories",
          "Accessories",
          "Accessories",
          "Accessories",
          "Accessories",
          "Accessories",
          "Accessories",
          "Accessories",
          "Accessories",
          "Accessories",
          "Accessories",
          "Accessories",
          "Accessories",
          "Accessories",
          "Accessories",
          "Accessories",
          "Accessories",
          "Accessories",
          "Accessories",
          "Accessories",
          "Accessories",
          "Accessories",
          "Accessories",
          "Accessories",
          "Accessories",
          "Accessories",
          "Accessories",
          "Accessories",
          "Accessories",
          "Accessories",
          "Accessories",
          "Accessories",
          "Accessories",
          "Accessories",
          "Accessories",
          "Accessories",
          "Accessories",
          "Accessories",
          "Accessories",
          "Accessories",
          "Accessories",
          "Accessories",
          "Accessories",
          "Accessories",
          "Accessories",
          "Accessories",
          "Accessories",
          "Accessories",
          "Accessories",
          "Accessories",
          "Accessories",
          "Accessories",
          "Accessories",
          "Accessories",
          "Accessories",
          "Accessories",
          "Accessories",
          "Accessories",
          "Accessories",
          "Accessories",
          "Accessories",
          "Accessories",
          "Accessories",
          "Accessories",
          "Accessories",
          "Accessories",
          "Accessories",
          "Accessories",
          "Accessories",
          "Accessories",
          "Accessories",
          "Accessories",
          "Accessories",
          "Accessories",
          "Accessories",
          "Accessories",
          "Accessories",
          "Accessories",
          "Accessories",
          "Accessories",
          "Accessories",
          "Accessories",
          "Accessories",
          "Accessories",
          "Accessories",
          "Accessories",
          "Accessories",
          "Accessories",
          "Accessories",
          "Accessories",
          "Accessories",
          "Accessories",
          "Accessories",
          "Accessories",
          "Accessories",
          "Accessories",
          "Accessories",
          "Accessories",
          "Accessories",
          "Accessories",
          "Accessories",
          "Accessories",
          "Accessories",
          "Accessories",
          "Accessories",
          "Accessories",
          "Accessories",
          "Accessories",
          "Accessories",
          "Accessories",
          "Accessories",
          "Accessories",
          "Accessories",
          "Accessories",
          "Accessories",
          "Accessories",
          "Accessories",
          "Accessories",
          "Accessories",
          "Accessories",
          "Accessories",
          "Accessories",
          "Accessories",
          "Accessories",
          "Accessories",
          "Accessories",
          "Accessories",
          "Accessories",
          "Accessories",
          "Accessories",
          "Accessories",
          "Accessories",
          "Accessories",
          "Accessories",
          "Accessories",
          "Accessories",
          "Accessories",
          "Accessories",
          "Accessories",
          "Accessories",
          "Accessories",
          "Accessories",
          "Accessories",
          "Accessories",
          "Accessories",
          "Accessories",
          "Accessories",
          "Accessories",
          "Accessories",
          "Accessories",
          "Accessories",
          "Accessories",
          "Accessories",
          "Accessories",
          "Accessories",
          "Accessories",
          "Accessories",
          "Accessories",
          "Accessories",
          "Accessories",
          "Accessories",
          "Accessories",
          "Accessories",
          "Accessories",
          "Accessories",
          "Accessories",
          "Accessories",
          "Accessories",
          "Accessories",
          "Accessories",
          "Accessories",
          "Accessories",
          "Accessories",
          "Accessories",
          "Accessories",
          "Accessories",
          "Accessories",
          "Accessories",
          "Accessories",
          "Accessories",
          "Accessories",
          "Accessories",
          "Accessories",
          "Accessories",
          "Accessories",
          "Accessories",
          "Accessories",
          "Accessories",
          "Accessories",
          "Accessories",
          "Accessories",
          "Accessories",
          "Accessories",
          "Accessories",
          "Accessories",
          "Accessories",
          "Accessories",
          "Accessories",
          "Accessories",
          "Accessories",
          "Accessories",
          "Accessories",
          "Accessories",
          "Accessories",
          "Accessories",
          "Accessories",
          "Accessories",
          "Accessories",
          "Accessories",
          "Accessories",
          "Accessories",
          "Accessories",
          "Accessories",
          "Accessories",
          "Accessories",
          "Accessories",
          "Accessories",
          "Accessories",
          "Accessories",
          "Accessories",
          "Accessories",
          "Accessories",
          "Accessories",
          "Accessories",
          "Accessories",
          "Accessories",
          "Accessories",
          "Accessories",
          "Accessories",
          "Accessories",
          "Accessories",
          "Accessories",
          "Accessories",
          "Accessories",
          "Accessories",
          "Accessories",
          "Accessories",
          "Accessories",
          "Accessories",
          "Accessories",
          "Accessories",
          "Accessories",
          "Accessories",
          "Accessories",
          "Accessories",
          "Accessories",
          "Accessories",
          "Accessories",
          "Accessories",
          "Accessories",
          "Accessories",
          "Accessories",
          "Accessories",
          "Accessories",
          "Accessories",
          "Accessories",
          "Accessories",
          "Accessories",
          "Accessories",
          "Accessories",
          "Accessories",
          "Accessories",
          "Accessories",
          "Accessories",
          "Accessories",
          "Accessories",
          "Accessories",
          "Accessories",
          "Accessories",
          "Accessories",
          "Accessories",
          "Accessories",
          "Accessories",
          "Accessories",
          "Accessories",
          "Accessories",
          "Accessories",
          "Accessories",
          "Accessories",
          "Accessories",
          "Accessories",
          "Accessories",
          "Accessories",
          "Accessories",
          "Accessories",
          "Accessories",
          "Accessories",
          "Accessories",
          "Accessories",
          "Accessories",
          "Accessories",
          "Accessories",
          "Accessories",
          "Accessories",
          "Accessories",
          "Accessories",
          "Accessories",
          "Accessories",
          "Accessories",
          "Accessories",
          "Accessories",
          "Accessories",
          "Accessories",
          "Accessories",
          "Accessories",
          "Accessories",
          "Accessories",
          "Accessories",
          "Accessories",
          "Accessories",
          "Accessories",
          "Accessories",
          "Accessories",
          "Accessories",
          "Accessories",
          "Accessories",
          "Accessories",
          "Accessories",
          "Accessories",
          "Accessories",
          "Accessories",
          "Accessories",
          "Accessories",
          "Accessories",
          "Accessories",
          "Accessories",
          "Accessories",
          "Accessories",
          "Accessories",
          "Accessories",
          "Accessories",
          "Accessories",
          "Accessories",
          "Accessories",
          "Accessories",
          "Accessories",
          "Accessories",
          "Accessories",
          "Accessories",
          "Accessories",
          "Accessories",
          "Accessories",
          "Accessories",
          "Accessories",
          "Accessories",
          "Accessories",
          "Accessories",
          "Accessories",
          "Accessories",
          "Accessories",
          "Accessories",
          "Accessories",
          "Accessories",
          "Accessories",
          "Accessories",
          "Accessories",
          "Accessories",
          "Accessories",
          "Accessories",
          "Accessories",
          "Accessories",
          "Accessories",
          "Accessories",
          "Accessories",
          "Accessories",
          "Accessories",
          "Accessories",
          "Accessories",
          "Accessories",
          "Accessories",
          "Accessories",
          "Accessories",
          "Accessories",
          "Accessories",
          "Accessories",
          "Accessories",
          "Accessories",
          "Accessories",
          "Accessories",
          "Accessories",
          "Accessories",
          "Accessories",
          "Accessories",
          "Accessories",
          "Accessories",
          "Accessories",
          "Accessories",
          "Accessories",
          "Accessories",
          "Accessories",
          "Accessories",
          "Accessories",
          "Accessories",
          "Accessories",
          "Accessories",
          "Accessories",
          "Accessories",
          "Accessories",
          "Accessories",
          "Accessories",
          "Accessories",
          "Accessories",
          "Accessories",
          "Accessories",
          "Accessories",
          "Accessories",
          "Accessories",
          "Accessories",
          "Accessories",
          "Accessories",
          "Accessories",
          "Accessories",
          "Accessories",
          "Accessories",
          "Accessories",
          "Accessories",
          "Accessories",
          "Accessories",
          "Accessories",
          "Accessories",
          "Accessories",
          "Accessories",
          "Accessories",
          "Accessories",
          "Accessories",
          "Accessories",
          "Accessories",
          "Accessories",
          "Accessories",
          "Accessories",
          "Accessories",
          "Accessories",
          "Accessories",
          "Accessories",
          "Accessories",
          "Accessories",
          "Accessories",
          "Accessories",
          "Accessories",
          "Accessories",
          "Accessories",
          "Accessories",
          "Accessories",
          "Accessories",
          "Accessories",
          "Accessories",
          "Accessories",
          "Accessories",
          "Accessories",
          "Accessories",
          "Accessories",
          "Accessories",
          "Accessories",
          "Accessories",
          "Accessories",
          "Accessories",
          "Accessories",
          "Accessories",
          "Accessories",
          "Accessories",
          "Accessories",
          "Accessories",
          "Accessories",
          "Accessories",
          "Accessories",
          "Accessories",
          "Accessories",
          "Accessories",
          "Accessories",
          "Accessories",
          "Accessories",
          "Accessories",
          "Accessories",
          "Accessories",
          "Accessories",
          "Accessories",
          "Accessories",
          "Accessories",
          "Accessories",
          "Accessories",
          "Accessories",
          "Accessories",
          "Accessories",
          "Accessories",
          "Accessories",
          "Accessories",
          "Accessories",
          "Accessories",
          "Accessories",
          "Accessories",
          "Accessories",
          "Accessories",
          "Accessories",
          "Accessories",
          "Accessories",
          "Accessories",
          "Accessories",
          "Accessories",
          "Accessories",
          "Accessories",
          "Accessories",
          "Accessories",
          "Accessories",
          "Accessories",
          "Accessories",
          "Accessories",
          "Accessories",
          "Accessories",
          "Accessories",
          "Accessories",
          "Accessories",
          "Accessories",
          "Accessories",
          "Accessories",
          "Accessories",
          "Accessories",
          "Accessories",
          "Accessories",
          "Accessories",
          "Accessories",
          "Accessories",
          "Accessories",
          "Accessories",
          "Accessories",
          "Accessories",
          "Accessories",
          "Accessories",
          "Accessories",
          "Accessories",
          "Accessories",
          "Accessories",
          "Accessories",
          "Accessories",
          "Accessories",
          "Accessories",
          "Accessories",
          "Accessories",
          "Accessories",
          "Accessories",
          "Accessories",
          "Accessories",
          "Accessories",
          "Accessories",
          "Accessories",
          "Accessories",
          "Accessories",
          "Accessories",
          "Accessories",
          "Accessories",
          "Accessories",
          "Accessories",
          "Accessories",
          "Accessories",
          "Accessories",
          "Accessories",
          "Accessories",
          "Accessories",
          "Accessories",
          "Accessories",
          "Accessories",
          "Accessories",
          "Accessories",
          "Accessories",
          "Accessories",
          "Accessories",
          "Accessories",
          "Accessories",
          "Accessories",
          "Accessories",
          "Accessories",
          "Accessories",
          "Accessories",
          "Accessories",
          "Accessories",
          "Accessories",
          "Accessories",
          "Accessories",
          "Accessories",
          "Accessories",
          "Accessories",
          "Accessories",
          "Accessories",
          "Accessories",
          "Accessories",
          "Accessories",
          "Accessories",
          "Accessories",
          "Accessories",
          "Accessories",
          "Accessories",
          "Accessories",
          "Accessories",
          "Accessories",
          "Accessories",
          "Accessories",
          "Accessories",
          "Accessories",
          "Accessories",
          "Accessories",
          "Accessories",
          "Accessories",
          "Accessories",
          "Accessories",
          "Accessories",
          "Accessories",
          "Accessories",
          "Accessories",
          "Accessories",
          "Accessories",
          "Accessories",
          "Accessories",
          "Accessories",
          "Accessories",
          "Accessories",
          "Accessories",
          "Accessories",
          "Accessories",
          "Accessories",
          "Accessories",
          "Accessories",
          "Accessories",
          "Accessories",
          "Accessories",
          "Accessories",
          "Accessories",
          "Accessories",
          "Accessories",
          "Accessories",
          "Accessories",
          "Accessories",
          "Accessories",
          "Accessories",
          "Accessories",
          "Accessories",
          "Accessories",
          "Accessories",
          "Accessories",
          "Accessories",
          "Accessories",
          "Accessories",
          "Accessories",
          "Accessories",
          "Accessories",
          "Accessories",
          "Accessories",
          "Accessories",
          "Accessories",
          "Accessories",
          "Accessories",
          "Accessories",
          "Accessories",
          "Accessories",
          "Accessories",
          "Accessories",
          "Accessories",
          "Accessories",
          "Accessories",
          "Accessories",
          "Accessories",
          "Accessories",
          "Accessories",
          "Accessories",
          "Accessories",
          "Accessories",
          "Accessories",
          "Accessories",
          "Accessories",
          "Accessories",
          "Accessories",
          "Accessories",
          "Accessories",
          "Accessories",
          "Accessories",
          "Accessories",
          "Accessories",
          "Accessories",
          "Accessories",
          "Accessories",
          "Accessories",
          "Accessories",
          "Accessories",
          "Accessories",
          "Accessories",
          "Accessories",
          "Accessories",
          "Accessories",
          "Accessories",
          "Accessories",
          "Accessories"
         ],
         "xaxis": "x",
         "y": {
          "bdata": "BCwNKRAfKBMtJC4EFSssFQUgAxUgAh0SKx8BBBoJHBQgLBUNKhktLC8DASciHR8FBw4qHh4KHx0dDyknICESEQcLGBgMBg4rIBgfBCcUIRIiBBkUBRALESAqJRwNFgMGEiEYGAMtGC4KHC8wECgDKgEQJDIdLQ0nBicTAwYoChMHGgoaDTAeGBUGISkMHxgjIxoWMBsdLSUQJAIwKwoLHBMGMB8CLQcRFCUEKSUMDyUWDAoaBR4GExkFGgsRLBUTIRUmAgEKLQEKIRMOJQwpGy0XExQnICQJKi4sJSgxKAUTGgkTKyEuMBwbJAgLAREDGAYaKw0tDgsIDBAZBCMKHwwgDhseHAsRLwsSFh4jCyEtAS0lGSEsMi8OISYTKiIFCSQlDyYNJwseHCQSCxQaDyIhIi8oDCQwGAoDLAUCHSAfIg8pBx0nCyENMCcvGDEqMi4hLSAWLR4rFxshGxQZLxsnCAslJxgLJAwmLyMeJRcRKDIICykuCSUDKhMaLRMlIQ0OFCYQBQ4kECcxHwIjMAgmLyolCC0sIioqEg4wEwsBMhQrBQULFwElFRQZBRIKGSkGBSoEAQgqIg4oITAWLxQKCykSDAQIICkYKgEXKhAuHzALEgENGisMAyUqLAYnDA4oJzIWITAIERMjETEoKA0iGBcDAhceMAkLLicIAwMtDyIVDQ8GLTIyGyYyCDIoMg0GJBQuHQ4vLBUuIxgiGQ0hAQcuLAwxGRgnIAwkMiUXFywmLQ4RHC4iCCkxHgQWHy0VGhgGIQQvMgcwEy0ICwEJMh4IHQoVLAMZJyMuBTALIhgTICwUCQYKBiwUMBogAxoUBAEwAisBIBUGBCcPGAoZAgIZCBQwEC0oJgcqMRogCh4QHB0XLA4WAiwWGhEaARcmKBwPBxAkJiAhDQEZJBUtIS4pCSAkASwJICAhCSMoGwsXIxIUKhQvJhIqBSkSHSwQDDIqMiUSBiImMigtMgomHy8IFg8MJCovCgoLLhkbLBseBAYfEgUlFiQZDA4pCx8aLyAtBxwoLQUYDzImIRkXExwdIy4eDyIiJRwgKwEqLRIUFR8wMRYtIQsNGx4iDRwxFQEbKxgwGgMTHSYjDR8wBhIbDgwPGQ4gFDAlGA4CJyUfGg8DIhUSEiIKIhMyEy0WBAsgJSwuIyIRMBUSKQsjGAoGGA4eKQ4xCjAGBTEcFyEvKB4qJwMeCSoxBQYOHRUsKRgOMigpJAMLEAkRMQMcKQ8PDQEyDw4FAgkZFCwJMAkkFRAGBgoTHwgPEhAbGC8EGBICJAobES8pMQ8aAycYMQIuDRgEKxoODQMJAhktCSgEHCsEJS8QCREgIgUsBCUKGh8uBCsjJBUnECYqIS4QFiobCxASCB4eDCAIMgUHMhwiKQEFFAsTEAsSLygEJAETEi0EHgQKAScwIxQDHQ8HHTAHLy4YKBsQBhInIhAFIxcDFBQpGQIDDx0YBS0fBSQmKiMwKRAaMighFSEeLyElCigREiUXFAMJKCMaDRMEKCYdEgQUAigTHS8yBBYgMB0aATIRLx8nBRcKMS8UKQMQKx4hCAgYAiQTICEjAg0SJC0rKwMIFgMOKx8wLREbHwECLhsDFBcBDi0fDgwoIhEvIRAwJxkYEzEdLBwhFRgRFigFHSkYIQ==",
          "dtype": "i1"
         },
         "yaxis": "y"
        }
       ],
       "layout": {
        "barmode": "relative",
        "legend": {
         "title": {
          "text": "Product Category"
         },
         "tracegroupgap": 0
        },
        "template": {
         "data": {
          "bar": [
           {
            "error_x": {
             "color": "#2a3f5f"
            },
            "error_y": {
             "color": "#2a3f5f"
            },
            "marker": {
             "line": {
              "color": "white",
              "width": 0.5
             },
             "pattern": {
              "fillmode": "overlay",
              "size": 10,
              "solidity": 0.2
             }
            },
            "type": "bar"
           }
          ],
          "barpolar": [
           {
            "marker": {
             "line": {
              "color": "white",
              "width": 0.5
             },
             "pattern": {
              "fillmode": "overlay",
              "size": 10,
              "solidity": 0.2
             }
            },
            "type": "barpolar"
           }
          ],
          "carpet": [
           {
            "aaxis": {
             "endlinecolor": "#2a3f5f",
             "gridcolor": "#C8D4E3",
             "linecolor": "#C8D4E3",
             "minorgridcolor": "#C8D4E3",
             "startlinecolor": "#2a3f5f"
            },
            "baxis": {
             "endlinecolor": "#2a3f5f",
             "gridcolor": "#C8D4E3",
             "linecolor": "#C8D4E3",
             "minorgridcolor": "#C8D4E3",
             "startlinecolor": "#2a3f5f"
            },
            "type": "carpet"
           }
          ],
          "choropleth": [
           {
            "colorbar": {
             "outlinewidth": 0,
             "ticks": ""
            },
            "type": "choropleth"
           }
          ],
          "contour": [
           {
            "colorbar": {
             "outlinewidth": 0,
             "ticks": ""
            },
            "colorscale": [
             [
              0,
              "#0d0887"
             ],
             [
              0.1111111111111111,
              "#46039f"
             ],
             [
              0.2222222222222222,
              "#7201a8"
             ],
             [
              0.3333333333333333,
              "#9c179e"
             ],
             [
              0.4444444444444444,
              "#bd3786"
             ],
             [
              0.5555555555555556,
              "#d8576b"
             ],
             [
              0.6666666666666666,
              "#ed7953"
             ],
             [
              0.7777777777777778,
              "#fb9f3a"
             ],
             [
              0.8888888888888888,
              "#fdca26"
             ],
             [
              1,
              "#f0f921"
             ]
            ],
            "type": "contour"
           }
          ],
          "contourcarpet": [
           {
            "colorbar": {
             "outlinewidth": 0,
             "ticks": ""
            },
            "type": "contourcarpet"
           }
          ],
          "heatmap": [
           {
            "colorbar": {
             "outlinewidth": 0,
             "ticks": ""
            },
            "colorscale": [
             [
              0,
              "#0d0887"
             ],
             [
              0.1111111111111111,
              "#46039f"
             ],
             [
              0.2222222222222222,
              "#7201a8"
             ],
             [
              0.3333333333333333,
              "#9c179e"
             ],
             [
              0.4444444444444444,
              "#bd3786"
             ],
             [
              0.5555555555555556,
              "#d8576b"
             ],
             [
              0.6666666666666666,
              "#ed7953"
             ],
             [
              0.7777777777777778,
              "#fb9f3a"
             ],
             [
              0.8888888888888888,
              "#fdca26"
             ],
             [
              1,
              "#f0f921"
             ]
            ],
            "type": "heatmap"
           }
          ],
          "histogram": [
           {
            "marker": {
             "pattern": {
              "fillmode": "overlay",
              "size": 10,
              "solidity": 0.2
             }
            },
            "type": "histogram"
           }
          ],
          "histogram2d": [
           {
            "colorbar": {
             "outlinewidth": 0,
             "ticks": ""
            },
            "colorscale": [
             [
              0,
              "#0d0887"
             ],
             [
              0.1111111111111111,
              "#46039f"
             ],
             [
              0.2222222222222222,
              "#7201a8"
             ],
             [
              0.3333333333333333,
              "#9c179e"
             ],
             [
              0.4444444444444444,
              "#bd3786"
             ],
             [
              0.5555555555555556,
              "#d8576b"
             ],
             [
              0.6666666666666666,
              "#ed7953"
             ],
             [
              0.7777777777777778,
              "#fb9f3a"
             ],
             [
              0.8888888888888888,
              "#fdca26"
             ],
             [
              1,
              "#f0f921"
             ]
            ],
            "type": "histogram2d"
           }
          ],
          "histogram2dcontour": [
           {
            "colorbar": {
             "outlinewidth": 0,
             "ticks": ""
            },
            "colorscale": [
             [
              0,
              "#0d0887"
             ],
             [
              0.1111111111111111,
              "#46039f"
             ],
             [
              0.2222222222222222,
              "#7201a8"
             ],
             [
              0.3333333333333333,
              "#9c179e"
             ],
             [
              0.4444444444444444,
              "#bd3786"
             ],
             [
              0.5555555555555556,
              "#d8576b"
             ],
             [
              0.6666666666666666,
              "#ed7953"
             ],
             [
              0.7777777777777778,
              "#fb9f3a"
             ],
             [
              0.8888888888888888,
              "#fdca26"
             ],
             [
              1,
              "#f0f921"
             ]
            ],
            "type": "histogram2dcontour"
           }
          ],
          "mesh3d": [
           {
            "colorbar": {
             "outlinewidth": 0,
             "ticks": ""
            },
            "type": "mesh3d"
           }
          ],
          "parcoords": [
           {
            "line": {
             "colorbar": {
              "outlinewidth": 0,
              "ticks": ""
             }
            },
            "type": "parcoords"
           }
          ],
          "pie": [
           {
            "automargin": true,
            "type": "pie"
           }
          ],
          "scatter": [
           {
            "fillpattern": {
             "fillmode": "overlay",
             "size": 10,
             "solidity": 0.2
            },
            "type": "scatter"
           }
          ],
          "scatter3d": [
           {
            "line": {
             "colorbar": {
              "outlinewidth": 0,
              "ticks": ""
             }
            },
            "marker": {
             "colorbar": {
              "outlinewidth": 0,
              "ticks": ""
             }
            },
            "type": "scatter3d"
           }
          ],
          "scattercarpet": [
           {
            "marker": {
             "colorbar": {
              "outlinewidth": 0,
              "ticks": ""
             }
            },
            "type": "scattercarpet"
           }
          ],
          "scattergeo": [
           {
            "marker": {
             "colorbar": {
              "outlinewidth": 0,
              "ticks": ""
             }
            },
            "type": "scattergeo"
           }
          ],
          "scattergl": [
           {
            "marker": {
             "colorbar": {
              "outlinewidth": 0,
              "ticks": ""
             }
            },
            "type": "scattergl"
           }
          ],
          "scattermap": [
           {
            "marker": {
             "colorbar": {
              "outlinewidth": 0,
              "ticks": ""
             }
            },
            "type": "scattermap"
           }
          ],
          "scattermapbox": [
           {
            "marker": {
             "colorbar": {
              "outlinewidth": 0,
              "ticks": ""
             }
            },
            "type": "scattermapbox"
           }
          ],
          "scatterpolar": [
           {
            "marker": {
             "colorbar": {
              "outlinewidth": 0,
              "ticks": ""
             }
            },
            "type": "scatterpolar"
           }
          ],
          "scatterpolargl": [
           {
            "marker": {
             "colorbar": {
              "outlinewidth": 0,
              "ticks": ""
             }
            },
            "type": "scatterpolargl"
           }
          ],
          "scatterternary": [
           {
            "marker": {
             "colorbar": {
              "outlinewidth": 0,
              "ticks": ""
             }
            },
            "type": "scatterternary"
           }
          ],
          "surface": [
           {
            "colorbar": {
             "outlinewidth": 0,
             "ticks": ""
            },
            "colorscale": [
             [
              0,
              "#0d0887"
             ],
             [
              0.1111111111111111,
              "#46039f"
             ],
             [
              0.2222222222222222,
              "#7201a8"
             ],
             [
              0.3333333333333333,
              "#9c179e"
             ],
             [
              0.4444444444444444,
              "#bd3786"
             ],
             [
              0.5555555555555556,
              "#d8576b"
             ],
             [
              0.6666666666666666,
              "#ed7953"
             ],
             [
              0.7777777777777778,
              "#fb9f3a"
             ],
             [
              0.8888888888888888,
              "#fdca26"
             ],
             [
              1,
              "#f0f921"
             ]
            ],
            "type": "surface"
           }
          ],
          "table": [
           {
            "cells": {
             "fill": {
              "color": "#EBF0F8"
             },
             "line": {
              "color": "white"
             }
            },
            "header": {
             "fill": {
              "color": "#C8D4E3"
             },
             "line": {
              "color": "white"
             }
            },
            "type": "table"
           }
          ]
         },
         "layout": {
          "annotationdefaults": {
           "arrowcolor": "#2a3f5f",
           "arrowhead": 0,
           "arrowwidth": 1
          },
          "autotypenumbers": "strict",
          "coloraxis": {
           "colorbar": {
            "outlinewidth": 0,
            "ticks": ""
           }
          },
          "colorscale": {
           "diverging": [
            [
             0,
             "#8e0152"
            ],
            [
             0.1,
             "#c51b7d"
            ],
            [
             0.2,
             "#de77ae"
            ],
            [
             0.3,
             "#f1b6da"
            ],
            [
             0.4,
             "#fde0ef"
            ],
            [
             0.5,
             "#f7f7f7"
            ],
            [
             0.6,
             "#e6f5d0"
            ],
            [
             0.7,
             "#b8e186"
            ],
            [
             0.8,
             "#7fbc41"
            ],
            [
             0.9,
             "#4d9221"
            ],
            [
             1,
             "#276419"
            ]
           ],
           "sequential": [
            [
             0,
             "#0d0887"
            ],
            [
             0.1111111111111111,
             "#46039f"
            ],
            [
             0.2222222222222222,
             "#7201a8"
            ],
            [
             0.3333333333333333,
             "#9c179e"
            ],
            [
             0.4444444444444444,
             "#bd3786"
            ],
            [
             0.5555555555555556,
             "#d8576b"
            ],
            [
             0.6666666666666666,
             "#ed7953"
            ],
            [
             0.7777777777777778,
             "#fb9f3a"
            ],
            [
             0.8888888888888888,
             "#fdca26"
            ],
            [
             1,
             "#f0f921"
            ]
           ],
           "sequentialminus": [
            [
             0,
             "#0d0887"
            ],
            [
             0.1111111111111111,
             "#46039f"
            ],
            [
             0.2222222222222222,
             "#7201a8"
            ],
            [
             0.3333333333333333,
             "#9c179e"
            ],
            [
             0.4444444444444444,
             "#bd3786"
            ],
            [
             0.5555555555555556,
             "#d8576b"
            ],
            [
             0.6666666666666666,
             "#ed7953"
            ],
            [
             0.7777777777777778,
             "#fb9f3a"
            ],
            [
             0.8888888888888888,
             "#fdca26"
            ],
            [
             1,
             "#f0f921"
            ]
           ]
          },
          "colorway": [
           "#636efa",
           "#EF553B",
           "#00cc96",
           "#ab63fa",
           "#FFA15A",
           "#19d3f3",
           "#FF6692",
           "#B6E880",
           "#FF97FF",
           "#FECB52"
          ],
          "font": {
           "color": "#2a3f5f"
          },
          "geo": {
           "bgcolor": "white",
           "lakecolor": "white",
           "landcolor": "white",
           "showlakes": true,
           "showland": true,
           "subunitcolor": "#C8D4E3"
          },
          "hoverlabel": {
           "align": "left"
          },
          "hovermode": "closest",
          "mapbox": {
           "style": "light"
          },
          "paper_bgcolor": "white",
          "plot_bgcolor": "white",
          "polar": {
           "angularaxis": {
            "gridcolor": "#EBF0F8",
            "linecolor": "#EBF0F8",
            "ticks": ""
           },
           "bgcolor": "white",
           "radialaxis": {
            "gridcolor": "#EBF0F8",
            "linecolor": "#EBF0F8",
            "ticks": ""
           }
          },
          "scene": {
           "xaxis": {
            "backgroundcolor": "white",
            "gridcolor": "#DFE8F3",
            "gridwidth": 2,
            "linecolor": "#EBF0F8",
            "showbackground": true,
            "ticks": "",
            "zerolinecolor": "#EBF0F8"
           },
           "yaxis": {
            "backgroundcolor": "white",
            "gridcolor": "#DFE8F3",
            "gridwidth": 2,
            "linecolor": "#EBF0F8",
            "showbackground": true,
            "ticks": "",
            "zerolinecolor": "#EBF0F8"
           },
           "zaxis": {
            "backgroundcolor": "white",
            "gridcolor": "#DFE8F3",
            "gridwidth": 2,
            "linecolor": "#EBF0F8",
            "showbackground": true,
            "ticks": "",
            "zerolinecolor": "#EBF0F8"
           }
          },
          "shapedefaults": {
           "line": {
            "color": "#2a3f5f"
           }
          },
          "ternary": {
           "aaxis": {
            "gridcolor": "#DFE8F3",
            "linecolor": "#A2B1C6",
            "ticks": ""
           },
           "baxis": {
            "gridcolor": "#DFE8F3",
            "linecolor": "#A2B1C6",
            "ticks": ""
           },
           "bgcolor": "white",
           "caxis": {
            "gridcolor": "#DFE8F3",
            "linecolor": "#A2B1C6",
            "ticks": ""
           }
          },
          "title": {
           "x": 0.05
          },
          "xaxis": {
           "automargin": true,
           "gridcolor": "#EBF0F8",
           "linecolor": "#EBF0F8",
           "ticks": "",
           "title": {
            "standoff": 15
           },
           "zerolinecolor": "#EBF0F8",
           "zerolinewidth": 2
          },
          "yaxis": {
           "automargin": true,
           "gridcolor": "#EBF0F8",
           "linecolor": "#EBF0F8",
           "ticks": "",
           "title": {
            "standoff": 15
           },
           "zerolinecolor": "#EBF0F8",
           "zerolinewidth": 2
          }
         }
        },
        "title": {
         "text": "Previous Purchases by Category"
        },
        "xaxis": {
         "anchor": "y",
         "categoryarray": [
          "Clothing",
          "Footwear",
          "Outerwear",
          "Accessories"
         ],
         "categoryorder": "array",
         "domain": [
          0,
          1
         ],
         "title": {
          "text": "Product Category"
         }
        },
        "yaxis": {
         "anchor": "x",
         "domain": [
          0,
          1
         ],
         "title": {
          "text": "sum of Number of Previous Purchases"
         }
        }
       }
      }
     },
     "metadata": {},
     "output_type": "display_data"
    }
   ],
   "source": [
    "px.histogram(df, x='Category', y='Previous_Purchases', \n",
    "             template='plotly_white', \n",
    "             title='Previous Purchases by Category',\n",
    "             labels={'Previous_Purchases': 'Number of Previous Purchases', 'Category': 'Product Category'},\n",
    "             color='Category').show()"
   ]
  },
  {
   "cell_type": "markdown",
   "id": "95d3f393",
   "metadata": {},
   "source": [
    "# Purchase By Gender and Category"
   ]
  },
  {
   "cell_type": "code",
   "execution_count": 31,
   "id": "2c03e4e9",
   "metadata": {},
   "outputs": [
    {
     "data": {
      "text/html": [
       "<div>\n",
       "<style scoped>\n",
       "    .dataframe tbody tr th:only-of-type {\n",
       "        vertical-align: middle;\n",
       "    }\n",
       "\n",
       "    .dataframe tbody tr th {\n",
       "        vertical-align: top;\n",
       "    }\n",
       "\n",
       "    .dataframe thead th {\n",
       "        text-align: right;\n",
       "    }\n",
       "</style>\n",
       "<table border=\"1\" class=\"dataframe\">\n",
       "  <thead>\n",
       "    <tr style=\"text-align: right;\">\n",
       "      <th></th>\n",
       "      <th>Gender</th>\n",
       "      <th>Category</th>\n",
       "      <th>total_purchase_per_gender_category</th>\n",
       "      <th>average_purchase_per_gender_category</th>\n",
       "      <th>count</th>\n",
       "    </tr>\n",
       "  </thead>\n",
       "  <tbody>\n",
       "    <tr>\n",
       "      <th>0</th>\n",
       "      <td>Female</td>\n",
       "      <td>Accessories</td>\n",
       "      <td>23819</td>\n",
       "      <td>60.762755</td>\n",
       "      <td>392</td>\n",
       "    </tr>\n",
       "    <tr>\n",
       "      <th>1</th>\n",
       "      <td>Female</td>\n",
       "      <td>Clothing</td>\n",
       "      <td>33636</td>\n",
       "      <td>60.496403</td>\n",
       "      <td>556</td>\n",
       "    </tr>\n",
       "    <tr>\n",
       "      <th>2</th>\n",
       "      <td>Female</td>\n",
       "      <td>Footwear</td>\n",
       "      <td>11835</td>\n",
       "      <td>59.472362</td>\n",
       "      <td>199</td>\n",
       "    </tr>\n",
       "    <tr>\n",
       "      <th>3</th>\n",
       "      <td>Female</td>\n",
       "      <td>Outerwear</td>\n",
       "      <td>5901</td>\n",
       "      <td>58.425743</td>\n",
       "      <td>101</td>\n",
       "    </tr>\n",
       "    <tr>\n",
       "      <th>4</th>\n",
       "      <td>Male</td>\n",
       "      <td>Accessories</td>\n",
       "      <td>50381</td>\n",
       "      <td>59.411557</td>\n",
       "      <td>848</td>\n",
       "    </tr>\n",
       "    <tr>\n",
       "      <th>5</th>\n",
       "      <td>Male</td>\n",
       "      <td>Clothing</td>\n",
       "      <td>70628</td>\n",
       "      <td>59.803556</td>\n",
       "      <td>1181</td>\n",
       "    </tr>\n",
       "    <tr>\n",
       "      <th>6</th>\n",
       "      <td>Male</td>\n",
       "      <td>Footwear</td>\n",
       "      <td>24258</td>\n",
       "      <td>60.645000</td>\n",
       "      <td>400</td>\n",
       "    </tr>\n",
       "    <tr>\n",
       "      <th>7</th>\n",
       "      <td>Male</td>\n",
       "      <td>Outerwear</td>\n",
       "      <td>12623</td>\n",
       "      <td>56.605381</td>\n",
       "      <td>223</td>\n",
       "    </tr>\n",
       "  </tbody>\n",
       "</table>\n",
       "</div>"
      ],
      "text/plain": [
       "   Gender     Category  total_purchase_per_gender_category  \\\n",
       "0  Female  Accessories                               23819   \n",
       "1  Female     Clothing                               33636   \n",
       "2  Female     Footwear                               11835   \n",
       "3  Female    Outerwear                                5901   \n",
       "4    Male  Accessories                               50381   \n",
       "5    Male     Clothing                               70628   \n",
       "6    Male     Footwear                               24258   \n",
       "7    Male    Outerwear                               12623   \n",
       "\n",
       "   average_purchase_per_gender_category  count  \n",
       "0                             60.762755    392  \n",
       "1                             60.496403    556  \n",
       "2                             59.472362    199  \n",
       "3                             58.425743    101  \n",
       "4                             59.411557    848  \n",
       "5                             59.803556   1181  \n",
       "6                             60.645000    400  \n",
       "7                             56.605381    223  "
      ]
     },
     "execution_count": 31,
     "metadata": {},
     "output_type": "execute_result"
    }
   ],
   "source": [
    "purchase_info_gender_category = df.groupby(['Gender', 'Category']).agg(\n",
    "    total_purchase_per_gender_category = ('Purchase_Amount_USD', 'sum'),\n",
    "    average_purchase_per_gender_category =('Purchase_Amount_USD', 'mean'),\n",
    "    count=('Customer_ID', 'count'),        \n",
    ").reset_index()\n",
    "purchase_info_gender_category"
   ]
  },
  {
   "cell_type": "code",
   "execution_count": 32,
   "id": "6a7bbde5",
   "metadata": {},
   "outputs": [
    {
     "data": {
      "application/vnd.plotly.v1+json": {
       "config": {
        "plotlyServerURL": "https://plot.ly"
       },
       "data": [
        {
         "customdata": {
          "bdata": "rA+N9aFhTkAfrSYhij9OQETdDFp2vE1AqnmQu342TUA=",
          "dtype": "f8",
          "shape": "4, 1"
         },
         "hovertemplate": "Gender=Female<br>Category=%{x}<br>total_purchase_per_gender_category=%{y}<br>average_purchase_per_gender_category=%{customdata[0]}<extra></extra>",
         "legendgroup": "Female",
         "marker": {
          "color": "#636efa",
          "pattern": {
           "shape": ""
          }
         },
         "name": "Female",
         "orientation": "v",
         "showlegend": true,
         "textposition": "auto",
         "type": "bar",
         "x": [
          "Accessories",
          "Clothing",
          "Footwear",
          "Outerwear"
         ],
         "xaxis": "x",
         "y": {
          "bdata": "C10AAGSDAAA7LgAADRcAAA==",
          "dtype": "i4"
         },
         "yaxis": "y"
        },
        {
         "customdata": {
          "bdata": "h9QE4620TUCvIuDu2uZNQMP1KFyPUk5AbJ5KIX1NTEA=",
          "dtype": "f8",
          "shape": "4, 1"
         },
         "hovertemplate": "Gender=Male<br>Category=%{x}<br>total_purchase_per_gender_category=%{y}<br>average_purchase_per_gender_category=%{customdata[0]}<extra></extra>",
         "legendgroup": "Male",
         "marker": {
          "color": "#EF553B",
          "pattern": {
           "shape": ""
          }
         },
         "name": "Male",
         "orientation": "v",
         "showlegend": true,
         "textposition": "auto",
         "type": "bar",
         "x": [
          "Accessories",
          "Clothing",
          "Footwear",
          "Outerwear"
         ],
         "xaxis": "x",
         "y": {
          "bdata": "zcQAAOQTAQDCXgAATzEAAA==",
          "dtype": "i4"
         },
         "yaxis": "y"
        }
       ],
       "layout": {
        "barmode": "relative",
        "legend": {
         "title": {
          "text": "Gender"
         },
         "tracegroupgap": 0
        },
        "margin": {
         "t": 60
        },
        "template": {
         "data": {
          "bar": [
           {
            "error_x": {
             "color": "#2a3f5f"
            },
            "error_y": {
             "color": "#2a3f5f"
            },
            "marker": {
             "line": {
              "color": "white",
              "width": 0.5
             },
             "pattern": {
              "fillmode": "overlay",
              "size": 10,
              "solidity": 0.2
             }
            },
            "type": "bar"
           }
          ],
          "barpolar": [
           {
            "marker": {
             "line": {
              "color": "white",
              "width": 0.5
             },
             "pattern": {
              "fillmode": "overlay",
              "size": 10,
              "solidity": 0.2
             }
            },
            "type": "barpolar"
           }
          ],
          "carpet": [
           {
            "aaxis": {
             "endlinecolor": "#2a3f5f",
             "gridcolor": "#C8D4E3",
             "linecolor": "#C8D4E3",
             "minorgridcolor": "#C8D4E3",
             "startlinecolor": "#2a3f5f"
            },
            "baxis": {
             "endlinecolor": "#2a3f5f",
             "gridcolor": "#C8D4E3",
             "linecolor": "#C8D4E3",
             "minorgridcolor": "#C8D4E3",
             "startlinecolor": "#2a3f5f"
            },
            "type": "carpet"
           }
          ],
          "choropleth": [
           {
            "colorbar": {
             "outlinewidth": 0,
             "ticks": ""
            },
            "type": "choropleth"
           }
          ],
          "contour": [
           {
            "colorbar": {
             "outlinewidth": 0,
             "ticks": ""
            },
            "colorscale": [
             [
              0,
              "#0d0887"
             ],
             [
              0.1111111111111111,
              "#46039f"
             ],
             [
              0.2222222222222222,
              "#7201a8"
             ],
             [
              0.3333333333333333,
              "#9c179e"
             ],
             [
              0.4444444444444444,
              "#bd3786"
             ],
             [
              0.5555555555555556,
              "#d8576b"
             ],
             [
              0.6666666666666666,
              "#ed7953"
             ],
             [
              0.7777777777777778,
              "#fb9f3a"
             ],
             [
              0.8888888888888888,
              "#fdca26"
             ],
             [
              1,
              "#f0f921"
             ]
            ],
            "type": "contour"
           }
          ],
          "contourcarpet": [
           {
            "colorbar": {
             "outlinewidth": 0,
             "ticks": ""
            },
            "type": "contourcarpet"
           }
          ],
          "heatmap": [
           {
            "colorbar": {
             "outlinewidth": 0,
             "ticks": ""
            },
            "colorscale": [
             [
              0,
              "#0d0887"
             ],
             [
              0.1111111111111111,
              "#46039f"
             ],
             [
              0.2222222222222222,
              "#7201a8"
             ],
             [
              0.3333333333333333,
              "#9c179e"
             ],
             [
              0.4444444444444444,
              "#bd3786"
             ],
             [
              0.5555555555555556,
              "#d8576b"
             ],
             [
              0.6666666666666666,
              "#ed7953"
             ],
             [
              0.7777777777777778,
              "#fb9f3a"
             ],
             [
              0.8888888888888888,
              "#fdca26"
             ],
             [
              1,
              "#f0f921"
             ]
            ],
            "type": "heatmap"
           }
          ],
          "histogram": [
           {
            "marker": {
             "pattern": {
              "fillmode": "overlay",
              "size": 10,
              "solidity": 0.2
             }
            },
            "type": "histogram"
           }
          ],
          "histogram2d": [
           {
            "colorbar": {
             "outlinewidth": 0,
             "ticks": ""
            },
            "colorscale": [
             [
              0,
              "#0d0887"
             ],
             [
              0.1111111111111111,
              "#46039f"
             ],
             [
              0.2222222222222222,
              "#7201a8"
             ],
             [
              0.3333333333333333,
              "#9c179e"
             ],
             [
              0.4444444444444444,
              "#bd3786"
             ],
             [
              0.5555555555555556,
              "#d8576b"
             ],
             [
              0.6666666666666666,
              "#ed7953"
             ],
             [
              0.7777777777777778,
              "#fb9f3a"
             ],
             [
              0.8888888888888888,
              "#fdca26"
             ],
             [
              1,
              "#f0f921"
             ]
            ],
            "type": "histogram2d"
           }
          ],
          "histogram2dcontour": [
           {
            "colorbar": {
             "outlinewidth": 0,
             "ticks": ""
            },
            "colorscale": [
             [
              0,
              "#0d0887"
             ],
             [
              0.1111111111111111,
              "#46039f"
             ],
             [
              0.2222222222222222,
              "#7201a8"
             ],
             [
              0.3333333333333333,
              "#9c179e"
             ],
             [
              0.4444444444444444,
              "#bd3786"
             ],
             [
              0.5555555555555556,
              "#d8576b"
             ],
             [
              0.6666666666666666,
              "#ed7953"
             ],
             [
              0.7777777777777778,
              "#fb9f3a"
             ],
             [
              0.8888888888888888,
              "#fdca26"
             ],
             [
              1,
              "#f0f921"
             ]
            ],
            "type": "histogram2dcontour"
           }
          ],
          "mesh3d": [
           {
            "colorbar": {
             "outlinewidth": 0,
             "ticks": ""
            },
            "type": "mesh3d"
           }
          ],
          "parcoords": [
           {
            "line": {
             "colorbar": {
              "outlinewidth": 0,
              "ticks": ""
             }
            },
            "type": "parcoords"
           }
          ],
          "pie": [
           {
            "automargin": true,
            "type": "pie"
           }
          ],
          "scatter": [
           {
            "fillpattern": {
             "fillmode": "overlay",
             "size": 10,
             "solidity": 0.2
            },
            "type": "scatter"
           }
          ],
          "scatter3d": [
           {
            "line": {
             "colorbar": {
              "outlinewidth": 0,
              "ticks": ""
             }
            },
            "marker": {
             "colorbar": {
              "outlinewidth": 0,
              "ticks": ""
             }
            },
            "type": "scatter3d"
           }
          ],
          "scattercarpet": [
           {
            "marker": {
             "colorbar": {
              "outlinewidth": 0,
              "ticks": ""
             }
            },
            "type": "scattercarpet"
           }
          ],
          "scattergeo": [
           {
            "marker": {
             "colorbar": {
              "outlinewidth": 0,
              "ticks": ""
             }
            },
            "type": "scattergeo"
           }
          ],
          "scattergl": [
           {
            "marker": {
             "colorbar": {
              "outlinewidth": 0,
              "ticks": ""
             }
            },
            "type": "scattergl"
           }
          ],
          "scattermap": [
           {
            "marker": {
             "colorbar": {
              "outlinewidth": 0,
              "ticks": ""
             }
            },
            "type": "scattermap"
           }
          ],
          "scattermapbox": [
           {
            "marker": {
             "colorbar": {
              "outlinewidth": 0,
              "ticks": ""
             }
            },
            "type": "scattermapbox"
           }
          ],
          "scatterpolar": [
           {
            "marker": {
             "colorbar": {
              "outlinewidth": 0,
              "ticks": ""
             }
            },
            "type": "scatterpolar"
           }
          ],
          "scatterpolargl": [
           {
            "marker": {
             "colorbar": {
              "outlinewidth": 0,
              "ticks": ""
             }
            },
            "type": "scatterpolargl"
           }
          ],
          "scatterternary": [
           {
            "marker": {
             "colorbar": {
              "outlinewidth": 0,
              "ticks": ""
             }
            },
            "type": "scatterternary"
           }
          ],
          "surface": [
           {
            "colorbar": {
             "outlinewidth": 0,
             "ticks": ""
            },
            "colorscale": [
             [
              0,
              "#0d0887"
             ],
             [
              0.1111111111111111,
              "#46039f"
             ],
             [
              0.2222222222222222,
              "#7201a8"
             ],
             [
              0.3333333333333333,
              "#9c179e"
             ],
             [
              0.4444444444444444,
              "#bd3786"
             ],
             [
              0.5555555555555556,
              "#d8576b"
             ],
             [
              0.6666666666666666,
              "#ed7953"
             ],
             [
              0.7777777777777778,
              "#fb9f3a"
             ],
             [
              0.8888888888888888,
              "#fdca26"
             ],
             [
              1,
              "#f0f921"
             ]
            ],
            "type": "surface"
           }
          ],
          "table": [
           {
            "cells": {
             "fill": {
              "color": "#EBF0F8"
             },
             "line": {
              "color": "white"
             }
            },
            "header": {
             "fill": {
              "color": "#C8D4E3"
             },
             "line": {
              "color": "white"
             }
            },
            "type": "table"
           }
          ]
         },
         "layout": {
          "annotationdefaults": {
           "arrowcolor": "#2a3f5f",
           "arrowhead": 0,
           "arrowwidth": 1
          },
          "autotypenumbers": "strict",
          "coloraxis": {
           "colorbar": {
            "outlinewidth": 0,
            "ticks": ""
           }
          },
          "colorscale": {
           "diverging": [
            [
             0,
             "#8e0152"
            ],
            [
             0.1,
             "#c51b7d"
            ],
            [
             0.2,
             "#de77ae"
            ],
            [
             0.3,
             "#f1b6da"
            ],
            [
             0.4,
             "#fde0ef"
            ],
            [
             0.5,
             "#f7f7f7"
            ],
            [
             0.6,
             "#e6f5d0"
            ],
            [
             0.7,
             "#b8e186"
            ],
            [
             0.8,
             "#7fbc41"
            ],
            [
             0.9,
             "#4d9221"
            ],
            [
             1,
             "#276419"
            ]
           ],
           "sequential": [
            [
             0,
             "#0d0887"
            ],
            [
             0.1111111111111111,
             "#46039f"
            ],
            [
             0.2222222222222222,
             "#7201a8"
            ],
            [
             0.3333333333333333,
             "#9c179e"
            ],
            [
             0.4444444444444444,
             "#bd3786"
            ],
            [
             0.5555555555555556,
             "#d8576b"
            ],
            [
             0.6666666666666666,
             "#ed7953"
            ],
            [
             0.7777777777777778,
             "#fb9f3a"
            ],
            [
             0.8888888888888888,
             "#fdca26"
            ],
            [
             1,
             "#f0f921"
            ]
           ],
           "sequentialminus": [
            [
             0,
             "#0d0887"
            ],
            [
             0.1111111111111111,
             "#46039f"
            ],
            [
             0.2222222222222222,
             "#7201a8"
            ],
            [
             0.3333333333333333,
             "#9c179e"
            ],
            [
             0.4444444444444444,
             "#bd3786"
            ],
            [
             0.5555555555555556,
             "#d8576b"
            ],
            [
             0.6666666666666666,
             "#ed7953"
            ],
            [
             0.7777777777777778,
             "#fb9f3a"
            ],
            [
             0.8888888888888888,
             "#fdca26"
            ],
            [
             1,
             "#f0f921"
            ]
           ]
          },
          "colorway": [
           "#636efa",
           "#EF553B",
           "#00cc96",
           "#ab63fa",
           "#FFA15A",
           "#19d3f3",
           "#FF6692",
           "#B6E880",
           "#FF97FF",
           "#FECB52"
          ],
          "font": {
           "color": "#2a3f5f"
          },
          "geo": {
           "bgcolor": "white",
           "lakecolor": "white",
           "landcolor": "white",
           "showlakes": true,
           "showland": true,
           "subunitcolor": "#C8D4E3"
          },
          "hoverlabel": {
           "align": "left"
          },
          "hovermode": "closest",
          "mapbox": {
           "style": "light"
          },
          "paper_bgcolor": "white",
          "plot_bgcolor": "white",
          "polar": {
           "angularaxis": {
            "gridcolor": "#EBF0F8",
            "linecolor": "#EBF0F8",
            "ticks": ""
           },
           "bgcolor": "white",
           "radialaxis": {
            "gridcolor": "#EBF0F8",
            "linecolor": "#EBF0F8",
            "ticks": ""
           }
          },
          "scene": {
           "xaxis": {
            "backgroundcolor": "white",
            "gridcolor": "#DFE8F3",
            "gridwidth": 2,
            "linecolor": "#EBF0F8",
            "showbackground": true,
            "ticks": "",
            "zerolinecolor": "#EBF0F8"
           },
           "yaxis": {
            "backgroundcolor": "white",
            "gridcolor": "#DFE8F3",
            "gridwidth": 2,
            "linecolor": "#EBF0F8",
            "showbackground": true,
            "ticks": "",
            "zerolinecolor": "#EBF0F8"
           },
           "zaxis": {
            "backgroundcolor": "white",
            "gridcolor": "#DFE8F3",
            "gridwidth": 2,
            "linecolor": "#EBF0F8",
            "showbackground": true,
            "ticks": "",
            "zerolinecolor": "#EBF0F8"
           }
          },
          "shapedefaults": {
           "line": {
            "color": "#2a3f5f"
           }
          },
          "ternary": {
           "aaxis": {
            "gridcolor": "#DFE8F3",
            "linecolor": "#A2B1C6",
            "ticks": ""
           },
           "baxis": {
            "gridcolor": "#DFE8F3",
            "linecolor": "#A2B1C6",
            "ticks": ""
           },
           "bgcolor": "white",
           "caxis": {
            "gridcolor": "#DFE8F3",
            "linecolor": "#A2B1C6",
            "ticks": ""
           }
          },
          "title": {
           "x": 0.05
          },
          "xaxis": {
           "automargin": true,
           "gridcolor": "#EBF0F8",
           "linecolor": "#EBF0F8",
           "ticks": "",
           "title": {
            "standoff": 15
           },
           "zerolinecolor": "#EBF0F8",
           "zerolinewidth": 2
          },
          "yaxis": {
           "automargin": true,
           "gridcolor": "#EBF0F8",
           "linecolor": "#EBF0F8",
           "ticks": "",
           "title": {
            "standoff": 15
           },
           "zerolinecolor": "#EBF0F8",
           "zerolinewidth": 2
          }
         }
        },
        "xaxis": {
         "anchor": "y",
         "domain": [
          0,
          1
         ],
         "title": {
          "text": "Category"
         }
        },
        "yaxis": {
         "anchor": "x",
         "domain": [
          0,
          1
         ],
         "title": {
          "text": "total_purchase_per_gender_category"
         }
        }
       }
      }
     },
     "metadata": {},
     "output_type": "display_data"
    }
   ],
   "source": [
    "fig = px.bar(purchase_info_gender_category, x='Category', y='total_purchase_per_gender_category', color='Gender',template='plotly_white', hover_data=['average_purchase_per_gender_category' ])\n",
    "fig.show()\n"
   ]
  },
  {
   "cell_type": "code",
   "execution_count": 33,
   "id": "4ebddd43",
   "metadata": {},
   "outputs": [
    {
     "data": {
      "application/vnd.plotly.v1+json": {
       "config": {
        "plotlyServerURL": "https://plot.ly"
       },
       "data": [
        {
         "branchvalues": "total",
         "customdata": [
          [
           "(?)"
          ],
          [
           "(?)"
          ],
          [
           "Accessories"
          ],
          [
           "Accessories"
          ],
          [
           "Clothing"
          ],
          [
           "Clothing"
          ],
          [
           "Footwear"
          ],
          [
           "Footwear"
          ],
          [
           "Outerwear"
          ],
          [
           "Outerwear"
          ]
         ],
         "domain": {
          "x": [
           0,
           1
          ],
          "y": [
           0,
           1
          ]
         },
         "hovertemplate": "labels=%{label}<br>Purchase_Amount_USD=%{value}<br>parent=%{parent}<br>id=%{id}<br>Category=%{customdata[0]}<extra></extra>",
         "ids": [
          "Male",
          "Female",
          "Male/Accessories",
          "Female/Accessories",
          "Male/Clothing",
          "Female/Clothing",
          "Male/Footwear",
          "Female/Footwear",
          "Male/Outerwear",
          "Female/Outerwear"
         ],
         "labels": [
          "Male",
          "Female",
          "Accessories",
          "Accessories",
          "Clothing",
          "Clothing",
          "Footwear",
          "Footwear",
          "Outerwear",
          "Outerwear"
         ],
         "marker": {
          "colors": [
           "#636efa",
           "#636efa",
           "#EF553B",
           "#EF553B",
           "#00cc96",
           "#00cc96",
           "#ab63fa",
           "#ab63fa",
           "#FFA15A",
           "#FFA15A"
          ]
         },
         "name": "",
         "parents": [
          "",
          "",
          "Male",
          "Female",
          "Male",
          "Female",
          "Male",
          "Female",
          "Male",
          "Female"
         ],
         "type": "sunburst",
         "values": {
          "bdata": "AAAAABBGA0EAAAAAcFvyQAAAAACgmehAAAAAAMBC10AAAAAAQD7xQAAAAACAbOBAAAAAAICw10AAAAAAgB3HQAAAAACAp8hAAAAAAAANt0A=",
          "dtype": "f8"
         }
        }
       ],
       "layout": {
        "legend": {
         "tracegroupgap": 0
        },
        "margin": {
         "t": 60
        },
        "template": {
         "data": {
          "bar": [
           {
            "error_x": {
             "color": "#2a3f5f"
            },
            "error_y": {
             "color": "#2a3f5f"
            },
            "marker": {
             "line": {
              "color": "#E5ECF6",
              "width": 0.5
             },
             "pattern": {
              "fillmode": "overlay",
              "size": 10,
              "solidity": 0.2
             }
            },
            "type": "bar"
           }
          ],
          "barpolar": [
           {
            "marker": {
             "line": {
              "color": "#E5ECF6",
              "width": 0.5
             },
             "pattern": {
              "fillmode": "overlay",
              "size": 10,
              "solidity": 0.2
             }
            },
            "type": "barpolar"
           }
          ],
          "carpet": [
           {
            "aaxis": {
             "endlinecolor": "#2a3f5f",
             "gridcolor": "white",
             "linecolor": "white",
             "minorgridcolor": "white",
             "startlinecolor": "#2a3f5f"
            },
            "baxis": {
             "endlinecolor": "#2a3f5f",
             "gridcolor": "white",
             "linecolor": "white",
             "minorgridcolor": "white",
             "startlinecolor": "#2a3f5f"
            },
            "type": "carpet"
           }
          ],
          "choropleth": [
           {
            "colorbar": {
             "outlinewidth": 0,
             "ticks": ""
            },
            "type": "choropleth"
           }
          ],
          "contour": [
           {
            "colorbar": {
             "outlinewidth": 0,
             "ticks": ""
            },
            "colorscale": [
             [
              0,
              "#0d0887"
             ],
             [
              0.1111111111111111,
              "#46039f"
             ],
             [
              0.2222222222222222,
              "#7201a8"
             ],
             [
              0.3333333333333333,
              "#9c179e"
             ],
             [
              0.4444444444444444,
              "#bd3786"
             ],
             [
              0.5555555555555556,
              "#d8576b"
             ],
             [
              0.6666666666666666,
              "#ed7953"
             ],
             [
              0.7777777777777778,
              "#fb9f3a"
             ],
             [
              0.8888888888888888,
              "#fdca26"
             ],
             [
              1,
              "#f0f921"
             ]
            ],
            "type": "contour"
           }
          ],
          "contourcarpet": [
           {
            "colorbar": {
             "outlinewidth": 0,
             "ticks": ""
            },
            "type": "contourcarpet"
           }
          ],
          "heatmap": [
           {
            "colorbar": {
             "outlinewidth": 0,
             "ticks": ""
            },
            "colorscale": [
             [
              0,
              "#0d0887"
             ],
             [
              0.1111111111111111,
              "#46039f"
             ],
             [
              0.2222222222222222,
              "#7201a8"
             ],
             [
              0.3333333333333333,
              "#9c179e"
             ],
             [
              0.4444444444444444,
              "#bd3786"
             ],
             [
              0.5555555555555556,
              "#d8576b"
             ],
             [
              0.6666666666666666,
              "#ed7953"
             ],
             [
              0.7777777777777778,
              "#fb9f3a"
             ],
             [
              0.8888888888888888,
              "#fdca26"
             ],
             [
              1,
              "#f0f921"
             ]
            ],
            "type": "heatmap"
           }
          ],
          "histogram": [
           {
            "marker": {
             "pattern": {
              "fillmode": "overlay",
              "size": 10,
              "solidity": 0.2
             }
            },
            "type": "histogram"
           }
          ],
          "histogram2d": [
           {
            "colorbar": {
             "outlinewidth": 0,
             "ticks": ""
            },
            "colorscale": [
             [
              0,
              "#0d0887"
             ],
             [
              0.1111111111111111,
              "#46039f"
             ],
             [
              0.2222222222222222,
              "#7201a8"
             ],
             [
              0.3333333333333333,
              "#9c179e"
             ],
             [
              0.4444444444444444,
              "#bd3786"
             ],
             [
              0.5555555555555556,
              "#d8576b"
             ],
             [
              0.6666666666666666,
              "#ed7953"
             ],
             [
              0.7777777777777778,
              "#fb9f3a"
             ],
             [
              0.8888888888888888,
              "#fdca26"
             ],
             [
              1,
              "#f0f921"
             ]
            ],
            "type": "histogram2d"
           }
          ],
          "histogram2dcontour": [
           {
            "colorbar": {
             "outlinewidth": 0,
             "ticks": ""
            },
            "colorscale": [
             [
              0,
              "#0d0887"
             ],
             [
              0.1111111111111111,
              "#46039f"
             ],
             [
              0.2222222222222222,
              "#7201a8"
             ],
             [
              0.3333333333333333,
              "#9c179e"
             ],
             [
              0.4444444444444444,
              "#bd3786"
             ],
             [
              0.5555555555555556,
              "#d8576b"
             ],
             [
              0.6666666666666666,
              "#ed7953"
             ],
             [
              0.7777777777777778,
              "#fb9f3a"
             ],
             [
              0.8888888888888888,
              "#fdca26"
             ],
             [
              1,
              "#f0f921"
             ]
            ],
            "type": "histogram2dcontour"
           }
          ],
          "mesh3d": [
           {
            "colorbar": {
             "outlinewidth": 0,
             "ticks": ""
            },
            "type": "mesh3d"
           }
          ],
          "parcoords": [
           {
            "line": {
             "colorbar": {
              "outlinewidth": 0,
              "ticks": ""
             }
            },
            "type": "parcoords"
           }
          ],
          "pie": [
           {
            "automargin": true,
            "type": "pie"
           }
          ],
          "scatter": [
           {
            "fillpattern": {
             "fillmode": "overlay",
             "size": 10,
             "solidity": 0.2
            },
            "type": "scatter"
           }
          ],
          "scatter3d": [
           {
            "line": {
             "colorbar": {
              "outlinewidth": 0,
              "ticks": ""
             }
            },
            "marker": {
             "colorbar": {
              "outlinewidth": 0,
              "ticks": ""
             }
            },
            "type": "scatter3d"
           }
          ],
          "scattercarpet": [
           {
            "marker": {
             "colorbar": {
              "outlinewidth": 0,
              "ticks": ""
             }
            },
            "type": "scattercarpet"
           }
          ],
          "scattergeo": [
           {
            "marker": {
             "colorbar": {
              "outlinewidth": 0,
              "ticks": ""
             }
            },
            "type": "scattergeo"
           }
          ],
          "scattergl": [
           {
            "marker": {
             "colorbar": {
              "outlinewidth": 0,
              "ticks": ""
             }
            },
            "type": "scattergl"
           }
          ],
          "scattermap": [
           {
            "marker": {
             "colorbar": {
              "outlinewidth": 0,
              "ticks": ""
             }
            },
            "type": "scattermap"
           }
          ],
          "scattermapbox": [
           {
            "marker": {
             "colorbar": {
              "outlinewidth": 0,
              "ticks": ""
             }
            },
            "type": "scattermapbox"
           }
          ],
          "scatterpolar": [
           {
            "marker": {
             "colorbar": {
              "outlinewidth": 0,
              "ticks": ""
             }
            },
            "type": "scatterpolar"
           }
          ],
          "scatterpolargl": [
           {
            "marker": {
             "colorbar": {
              "outlinewidth": 0,
              "ticks": ""
             }
            },
            "type": "scatterpolargl"
           }
          ],
          "scatterternary": [
           {
            "marker": {
             "colorbar": {
              "outlinewidth": 0,
              "ticks": ""
             }
            },
            "type": "scatterternary"
           }
          ],
          "surface": [
           {
            "colorbar": {
             "outlinewidth": 0,
             "ticks": ""
            },
            "colorscale": [
             [
              0,
              "#0d0887"
             ],
             [
              0.1111111111111111,
              "#46039f"
             ],
             [
              0.2222222222222222,
              "#7201a8"
             ],
             [
              0.3333333333333333,
              "#9c179e"
             ],
             [
              0.4444444444444444,
              "#bd3786"
             ],
             [
              0.5555555555555556,
              "#d8576b"
             ],
             [
              0.6666666666666666,
              "#ed7953"
             ],
             [
              0.7777777777777778,
              "#fb9f3a"
             ],
             [
              0.8888888888888888,
              "#fdca26"
             ],
             [
              1,
              "#f0f921"
             ]
            ],
            "type": "surface"
           }
          ],
          "table": [
           {
            "cells": {
             "fill": {
              "color": "#EBF0F8"
             },
             "line": {
              "color": "white"
             }
            },
            "header": {
             "fill": {
              "color": "#C8D4E3"
             },
             "line": {
              "color": "white"
             }
            },
            "type": "table"
           }
          ]
         },
         "layout": {
          "annotationdefaults": {
           "arrowcolor": "#2a3f5f",
           "arrowhead": 0,
           "arrowwidth": 1
          },
          "autotypenumbers": "strict",
          "coloraxis": {
           "colorbar": {
            "outlinewidth": 0,
            "ticks": ""
           }
          },
          "colorscale": {
           "diverging": [
            [
             0,
             "#8e0152"
            ],
            [
             0.1,
             "#c51b7d"
            ],
            [
             0.2,
             "#de77ae"
            ],
            [
             0.3,
             "#f1b6da"
            ],
            [
             0.4,
             "#fde0ef"
            ],
            [
             0.5,
             "#f7f7f7"
            ],
            [
             0.6,
             "#e6f5d0"
            ],
            [
             0.7,
             "#b8e186"
            ],
            [
             0.8,
             "#7fbc41"
            ],
            [
             0.9,
             "#4d9221"
            ],
            [
             1,
             "#276419"
            ]
           ],
           "sequential": [
            [
             0,
             "#0d0887"
            ],
            [
             0.1111111111111111,
             "#46039f"
            ],
            [
             0.2222222222222222,
             "#7201a8"
            ],
            [
             0.3333333333333333,
             "#9c179e"
            ],
            [
             0.4444444444444444,
             "#bd3786"
            ],
            [
             0.5555555555555556,
             "#d8576b"
            ],
            [
             0.6666666666666666,
             "#ed7953"
            ],
            [
             0.7777777777777778,
             "#fb9f3a"
            ],
            [
             0.8888888888888888,
             "#fdca26"
            ],
            [
             1,
             "#f0f921"
            ]
           ],
           "sequentialminus": [
            [
             0,
             "#0d0887"
            ],
            [
             0.1111111111111111,
             "#46039f"
            ],
            [
             0.2222222222222222,
             "#7201a8"
            ],
            [
             0.3333333333333333,
             "#9c179e"
            ],
            [
             0.4444444444444444,
             "#bd3786"
            ],
            [
             0.5555555555555556,
             "#d8576b"
            ],
            [
             0.6666666666666666,
             "#ed7953"
            ],
            [
             0.7777777777777778,
             "#fb9f3a"
            ],
            [
             0.8888888888888888,
             "#fdca26"
            ],
            [
             1,
             "#f0f921"
            ]
           ]
          },
          "colorway": [
           "#636efa",
           "#EF553B",
           "#00cc96",
           "#ab63fa",
           "#FFA15A",
           "#19d3f3",
           "#FF6692",
           "#B6E880",
           "#FF97FF",
           "#FECB52"
          ],
          "font": {
           "color": "#2a3f5f"
          },
          "geo": {
           "bgcolor": "white",
           "lakecolor": "white",
           "landcolor": "#E5ECF6",
           "showlakes": true,
           "showland": true,
           "subunitcolor": "white"
          },
          "hoverlabel": {
           "align": "left"
          },
          "hovermode": "closest",
          "mapbox": {
           "style": "light"
          },
          "paper_bgcolor": "white",
          "plot_bgcolor": "#E5ECF6",
          "polar": {
           "angularaxis": {
            "gridcolor": "white",
            "linecolor": "white",
            "ticks": ""
           },
           "bgcolor": "#E5ECF6",
           "radialaxis": {
            "gridcolor": "white",
            "linecolor": "white",
            "ticks": ""
           }
          },
          "scene": {
           "xaxis": {
            "backgroundcolor": "#E5ECF6",
            "gridcolor": "white",
            "gridwidth": 2,
            "linecolor": "white",
            "showbackground": true,
            "ticks": "",
            "zerolinecolor": "white"
           },
           "yaxis": {
            "backgroundcolor": "#E5ECF6",
            "gridcolor": "white",
            "gridwidth": 2,
            "linecolor": "white",
            "showbackground": true,
            "ticks": "",
            "zerolinecolor": "white"
           },
           "zaxis": {
            "backgroundcolor": "#E5ECF6",
            "gridcolor": "white",
            "gridwidth": 2,
            "linecolor": "white",
            "showbackground": true,
            "ticks": "",
            "zerolinecolor": "white"
           }
          },
          "shapedefaults": {
           "line": {
            "color": "#2a3f5f"
           }
          },
          "ternary": {
           "aaxis": {
            "gridcolor": "white",
            "linecolor": "white",
            "ticks": ""
           },
           "baxis": {
            "gridcolor": "white",
            "linecolor": "white",
            "ticks": ""
           },
           "bgcolor": "#E5ECF6",
           "caxis": {
            "gridcolor": "white",
            "linecolor": "white",
            "ticks": ""
           }
          },
          "title": {
           "x": 0.05
          },
          "xaxis": {
           "automargin": true,
           "gridcolor": "white",
           "linecolor": "white",
           "ticks": "",
           "title": {
            "standoff": 15
           },
           "zerolinecolor": "white",
           "zerolinewidth": 2
          },
          "yaxis": {
           "automargin": true,
           "gridcolor": "white",
           "linecolor": "white",
           "ticks": "",
           "title": {
            "standoff": 15
           },
           "zerolinecolor": "white",
           "zerolinewidth": 2
          }
         }
        }
       }
      }
     },
     "metadata": {},
     "output_type": "display_data"
    }
   ],
   "source": [
    "fig = px.sunburst(df, path=['Gender', 'Category'], values='Purchase_Amount_USD', color='Category')\n",
    "fig.show()"
   ]
  },
  {
   "cell_type": "code",
   "execution_count": 34,
   "id": "85885e2a",
   "metadata": {},
   "outputs": [],
   "source": [
    "## Clothing category is the most in-demand category for both men and women "
   ]
  },
  {
   "cell_type": "markdown",
   "id": "edd44566",
   "metadata": {},
   "source": [
    "## Purchase By Season and Category"
   ]
  },
  {
   "cell_type": "code",
   "execution_count": 35,
   "id": "3da5b7f5",
   "metadata": {},
   "outputs": [
    {
     "data": {
      "text/html": [
       "<div>\n",
       "<style scoped>\n",
       "    .dataframe tbody tr th:only-of-type {\n",
       "        vertical-align: middle;\n",
       "    }\n",
       "\n",
       "    .dataframe tbody tr th {\n",
       "        vertical-align: top;\n",
       "    }\n",
       "\n",
       "    .dataframe thead th {\n",
       "        text-align: right;\n",
       "    }\n",
       "</style>\n",
       "<table border=\"1\" class=\"dataframe\">\n",
       "  <thead>\n",
       "    <tr style=\"text-align: right;\">\n",
       "      <th></th>\n",
       "      <th>Season</th>\n",
       "      <th>Category</th>\n",
       "      <th>total_purchase_per_season_category</th>\n",
       "      <th>average_purchase_per_season_category</th>\n",
       "      <th>count</th>\n",
       "    </tr>\n",
       "  </thead>\n",
       "  <tbody>\n",
       "    <tr>\n",
       "      <th>0</th>\n",
       "      <td>Fall</td>\n",
       "      <td>Accessories</td>\n",
       "      <td>19874</td>\n",
       "      <td>61.339506</td>\n",
       "      <td>324</td>\n",
       "    </tr>\n",
       "    <tr>\n",
       "      <th>1</th>\n",
       "      <td>Fall</td>\n",
       "      <td>Clothing</td>\n",
       "      <td>26220</td>\n",
       "      <td>61.405152</td>\n",
       "      <td>427</td>\n",
       "    </tr>\n",
       "    <tr>\n",
       "      <th>2</th>\n",
       "      <td>Fall</td>\n",
       "      <td>Footwear</td>\n",
       "      <td>8665</td>\n",
       "      <td>63.713235</td>\n",
       "      <td>136</td>\n",
       "    </tr>\n",
       "    <tr>\n",
       "      <th>3</th>\n",
       "      <td>Fall</td>\n",
       "      <td>Outerwear</td>\n",
       "      <td>5259</td>\n",
       "      <td>59.761364</td>\n",
       "      <td>88</td>\n",
       "    </tr>\n",
       "    <tr>\n",
       "      <th>4</th>\n",
       "      <td>Spring</td>\n",
       "      <td>Accessories</td>\n",
       "      <td>17007</td>\n",
       "      <td>56.501661</td>\n",
       "      <td>301</td>\n",
       "    </tr>\n",
       "    <tr>\n",
       "      <th>5</th>\n",
       "      <td>Spring</td>\n",
       "      <td>Clothing</td>\n",
       "      <td>27692</td>\n",
       "      <td>60.995595</td>\n",
       "      <td>454</td>\n",
       "    </tr>\n",
       "    <tr>\n",
       "      <th>6</th>\n",
       "      <td>Spring</td>\n",
       "      <td>Footwear</td>\n",
       "      <td>9555</td>\n",
       "      <td>58.619632</td>\n",
       "      <td>163</td>\n",
       "    </tr>\n",
       "    <tr>\n",
       "      <th>7</th>\n",
       "      <td>Spring</td>\n",
       "      <td>Outerwear</td>\n",
       "      <td>4425</td>\n",
       "      <td>54.629630</td>\n",
       "      <td>81</td>\n",
       "    </tr>\n",
       "    <tr>\n",
       "      <th>8</th>\n",
       "      <td>Summer</td>\n",
       "      <td>Accessories</td>\n",
       "      <td>19028</td>\n",
       "      <td>60.987179</td>\n",
       "      <td>312</td>\n",
       "    </tr>\n",
       "    <tr>\n",
       "      <th>9</th>\n",
       "      <td>Summer</td>\n",
       "      <td>Clothing</td>\n",
       "      <td>23078</td>\n",
       "      <td>56.563725</td>\n",
       "      <td>408</td>\n",
       "    </tr>\n",
       "    <tr>\n",
       "      <th>10</th>\n",
       "      <td>Summer</td>\n",
       "      <td>Footwear</td>\n",
       "      <td>9393</td>\n",
       "      <td>58.706250</td>\n",
       "      <td>160</td>\n",
       "    </tr>\n",
       "    <tr>\n",
       "      <th>11</th>\n",
       "      <td>Summer</td>\n",
       "      <td>Outerwear</td>\n",
       "      <td>4278</td>\n",
       "      <td>57.040000</td>\n",
       "      <td>75</td>\n",
       "    </tr>\n",
       "    <tr>\n",
       "      <th>12</th>\n",
       "      <td>Winter</td>\n",
       "      <td>Accessories</td>\n",
       "      <td>18291</td>\n",
       "      <td>60.366337</td>\n",
       "      <td>303</td>\n",
       "    </tr>\n",
       "    <tr>\n",
       "      <th>13</th>\n",
       "      <td>Winter</td>\n",
       "      <td>Clothing</td>\n",
       "      <td>27274</td>\n",
       "      <td>60.879464</td>\n",
       "      <td>448</td>\n",
       "    </tr>\n",
       "    <tr>\n",
       "      <th>14</th>\n",
       "      <td>Winter</td>\n",
       "      <td>Footwear</td>\n",
       "      <td>8480</td>\n",
       "      <td>60.571429</td>\n",
       "      <td>140</td>\n",
       "    </tr>\n",
       "    <tr>\n",
       "      <th>15</th>\n",
       "      <td>Winter</td>\n",
       "      <td>Outerwear</td>\n",
       "      <td>4562</td>\n",
       "      <td>57.025000</td>\n",
       "      <td>80</td>\n",
       "    </tr>\n",
       "  </tbody>\n",
       "</table>\n",
       "</div>"
      ],
      "text/plain": [
       "    Season     Category  total_purchase_per_season_category  \\\n",
       "0     Fall  Accessories                               19874   \n",
       "1     Fall     Clothing                               26220   \n",
       "2     Fall     Footwear                                8665   \n",
       "3     Fall    Outerwear                                5259   \n",
       "4   Spring  Accessories                               17007   \n",
       "5   Spring     Clothing                               27692   \n",
       "6   Spring     Footwear                                9555   \n",
       "7   Spring    Outerwear                                4425   \n",
       "8   Summer  Accessories                               19028   \n",
       "9   Summer     Clothing                               23078   \n",
       "10  Summer     Footwear                                9393   \n",
       "11  Summer    Outerwear                                4278   \n",
       "12  Winter  Accessories                               18291   \n",
       "13  Winter     Clothing                               27274   \n",
       "14  Winter     Footwear                                8480   \n",
       "15  Winter    Outerwear                                4562   \n",
       "\n",
       "    average_purchase_per_season_category  count  \n",
       "0                              61.339506    324  \n",
       "1                              61.405152    427  \n",
       "2                              63.713235    136  \n",
       "3                              59.761364     88  \n",
       "4                              56.501661    301  \n",
       "5                              60.995595    454  \n",
       "6                              58.619632    163  \n",
       "7                              54.629630     81  \n",
       "8                              60.987179    312  \n",
       "9                              56.563725    408  \n",
       "10                             58.706250    160  \n",
       "11                             57.040000     75  \n",
       "12                             60.366337    303  \n",
       "13                             60.879464    448  \n",
       "14                             60.571429    140  \n",
       "15                             57.025000     80  "
      ]
     },
     "execution_count": 35,
     "metadata": {},
     "output_type": "execute_result"
    }
   ],
   "source": [
    "purchase_info_season_category = df.groupby(['Season', 'Category']).agg(\n",
    "    total_purchase_per_season_category = ('Purchase_Amount_USD', 'sum'),\n",
    "    average_purchase_per_season_category =('Purchase_Amount_USD', 'mean'),\n",
    "    count=('Customer_ID', 'count'),        \n",
    ").reset_index()\n",
    "purchase_info_season_category"
   ]
  },
  {
   "cell_type": "code",
   "execution_count": 36,
   "id": "56b03330",
   "metadata": {},
   "outputs": [
    {
     "data": {
      "application/vnd.plotly.v1+json": {
       "config": {
        "plotlyServerURL": "https://plot.ly"
       },
       "data": [
        {
         "customdata": {
          "bdata": "YpEy8HSrTkDZwjEH3LNOQEtLS0tL209A0UUXXXThTUA=",
          "dtype": "f8",
          "shape": "4, 1"
         },
         "hovertemplate": "Season=Fall<br>Category=%{x}<br>total_purchase_per_season_category=%{y}<br>average_purchase_per_season_category=%{customdata[0]}<extra></extra>",
         "legendgroup": "Fall",
         "marker": {
          "color": "#636efa",
          "pattern": {
           "shape": ""
          }
         },
         "name": "Fall",
         "orientation": "v",
         "showlegend": true,
         "textposition": "auto",
         "type": "bar",
         "x": [
          "Accessories",
          "Clothing",
          "Footwear",
          "Outerwear"
         ],
         "xaxis": "x",
         "y": {
          "bdata": "ok1sZtkhixQ=",
          "dtype": "i2"
         },
         "yaxis": "y"
        },
        {
         "customdata": {
          "bdata": "sJWQbjZATEDCnMelb39OQEr7IBlQT01ACe0ltJdQS0A=",
          "dtype": "f8",
          "shape": "4, 1"
         },
         "hovertemplate": "Season=Spring<br>Category=%{x}<br>total_purchase_per_season_category=%{y}<br>average_purchase_per_season_category=%{customdata[0]}<extra></extra>",
         "legendgroup": "Spring",
         "marker": {
          "color": "#EF553B",
          "pattern": {
           "shape": ""
          }
         },
         "name": "Spring",
         "orientation": "v",
         "showlegend": true,
         "textposition": "auto",
         "type": "bar",
         "x": [
          "Accessories",
          "Clothing",
          "Footwear",
          "Outerwear"
         ],
         "xaxis": "x",
         "y": {
          "bdata": "b0IsbFMlSRE=",
          "dtype": "i2"
         },
         "yaxis": "y"
        },
        {
         "customdata": {
          "bdata": "5lu+5Vt+TkAoKCgoKEhMQGZmZmZmWk1AhetRuB6FTEA=",
          "dtype": "f8",
          "shape": "4, 1"
         },
         "hovertemplate": "Season=Summer<br>Category=%{x}<br>total_purchase_per_season_category=%{y}<br>average_purchase_per_season_category=%{customdata[0]}<extra></extra>",
         "legendgroup": "Summer",
         "marker": {
          "color": "#00cc96",
          "pattern": {
           "shape": ""
          }
         },
         "name": "Summer",
         "orientation": "v",
         "showlegend": true,
         "textposition": "auto",
         "type": "bar",
         "x": [
          "Accessories",
          "Clothing",
          "Footwear",
          "Outerwear"
         ],
         "xaxis": "x",
         "y": {
          "bdata": "VEomWrEkthA=",
          "dtype": "i2"
         },
         "yaxis": "y"
        },
        {
         "customdata": {
          "bdata": "mHRqHuQuTkBJkiRJknBOQJIkSZIkSU5AMzMzMzODTEA=",
          "dtype": "f8",
          "shape": "4, 1"
         },
         "hovertemplate": "Season=Winter<br>Category=%{x}<br>total_purchase_per_season_category=%{y}<br>average_purchase_per_season_category=%{customdata[0]}<extra></extra>",
         "legendgroup": "Winter",
         "marker": {
          "color": "#ab63fa",
          "pattern": {
           "shape": ""
          }
         },
         "name": "Winter",
         "orientation": "v",
         "showlegend": true,
         "textposition": "auto",
         "type": "bar",
         "x": [
          "Accessories",
          "Clothing",
          "Footwear",
          "Outerwear"
         ],
         "xaxis": "x",
         "y": {
          "bdata": "c0eKaiAh0hE=",
          "dtype": "i2"
         },
         "yaxis": "y"
        }
       ],
       "layout": {
        "barmode": "relative",
        "legend": {
         "title": {
          "text": "Season"
         },
         "tracegroupgap": 0
        },
        "margin": {
         "t": 60
        },
        "template": {
         "data": {
          "bar": [
           {
            "error_x": {
             "color": "#2a3f5f"
            },
            "error_y": {
             "color": "#2a3f5f"
            },
            "marker": {
             "line": {
              "color": "white",
              "width": 0.5
             },
             "pattern": {
              "fillmode": "overlay",
              "size": 10,
              "solidity": 0.2
             }
            },
            "type": "bar"
           }
          ],
          "barpolar": [
           {
            "marker": {
             "line": {
              "color": "white",
              "width": 0.5
             },
             "pattern": {
              "fillmode": "overlay",
              "size": 10,
              "solidity": 0.2
             }
            },
            "type": "barpolar"
           }
          ],
          "carpet": [
           {
            "aaxis": {
             "endlinecolor": "#2a3f5f",
             "gridcolor": "#C8D4E3",
             "linecolor": "#C8D4E3",
             "minorgridcolor": "#C8D4E3",
             "startlinecolor": "#2a3f5f"
            },
            "baxis": {
             "endlinecolor": "#2a3f5f",
             "gridcolor": "#C8D4E3",
             "linecolor": "#C8D4E3",
             "minorgridcolor": "#C8D4E3",
             "startlinecolor": "#2a3f5f"
            },
            "type": "carpet"
           }
          ],
          "choropleth": [
           {
            "colorbar": {
             "outlinewidth": 0,
             "ticks": ""
            },
            "type": "choropleth"
           }
          ],
          "contour": [
           {
            "colorbar": {
             "outlinewidth": 0,
             "ticks": ""
            },
            "colorscale": [
             [
              0,
              "#0d0887"
             ],
             [
              0.1111111111111111,
              "#46039f"
             ],
             [
              0.2222222222222222,
              "#7201a8"
             ],
             [
              0.3333333333333333,
              "#9c179e"
             ],
             [
              0.4444444444444444,
              "#bd3786"
             ],
             [
              0.5555555555555556,
              "#d8576b"
             ],
             [
              0.6666666666666666,
              "#ed7953"
             ],
             [
              0.7777777777777778,
              "#fb9f3a"
             ],
             [
              0.8888888888888888,
              "#fdca26"
             ],
             [
              1,
              "#f0f921"
             ]
            ],
            "type": "contour"
           }
          ],
          "contourcarpet": [
           {
            "colorbar": {
             "outlinewidth": 0,
             "ticks": ""
            },
            "type": "contourcarpet"
           }
          ],
          "heatmap": [
           {
            "colorbar": {
             "outlinewidth": 0,
             "ticks": ""
            },
            "colorscale": [
             [
              0,
              "#0d0887"
             ],
             [
              0.1111111111111111,
              "#46039f"
             ],
             [
              0.2222222222222222,
              "#7201a8"
             ],
             [
              0.3333333333333333,
              "#9c179e"
             ],
             [
              0.4444444444444444,
              "#bd3786"
             ],
             [
              0.5555555555555556,
              "#d8576b"
             ],
             [
              0.6666666666666666,
              "#ed7953"
             ],
             [
              0.7777777777777778,
              "#fb9f3a"
             ],
             [
              0.8888888888888888,
              "#fdca26"
             ],
             [
              1,
              "#f0f921"
             ]
            ],
            "type": "heatmap"
           }
          ],
          "histogram": [
           {
            "marker": {
             "pattern": {
              "fillmode": "overlay",
              "size": 10,
              "solidity": 0.2
             }
            },
            "type": "histogram"
           }
          ],
          "histogram2d": [
           {
            "colorbar": {
             "outlinewidth": 0,
             "ticks": ""
            },
            "colorscale": [
             [
              0,
              "#0d0887"
             ],
             [
              0.1111111111111111,
              "#46039f"
             ],
             [
              0.2222222222222222,
              "#7201a8"
             ],
             [
              0.3333333333333333,
              "#9c179e"
             ],
             [
              0.4444444444444444,
              "#bd3786"
             ],
             [
              0.5555555555555556,
              "#d8576b"
             ],
             [
              0.6666666666666666,
              "#ed7953"
             ],
             [
              0.7777777777777778,
              "#fb9f3a"
             ],
             [
              0.8888888888888888,
              "#fdca26"
             ],
             [
              1,
              "#f0f921"
             ]
            ],
            "type": "histogram2d"
           }
          ],
          "histogram2dcontour": [
           {
            "colorbar": {
             "outlinewidth": 0,
             "ticks": ""
            },
            "colorscale": [
             [
              0,
              "#0d0887"
             ],
             [
              0.1111111111111111,
              "#46039f"
             ],
             [
              0.2222222222222222,
              "#7201a8"
             ],
             [
              0.3333333333333333,
              "#9c179e"
             ],
             [
              0.4444444444444444,
              "#bd3786"
             ],
             [
              0.5555555555555556,
              "#d8576b"
             ],
             [
              0.6666666666666666,
              "#ed7953"
             ],
             [
              0.7777777777777778,
              "#fb9f3a"
             ],
             [
              0.8888888888888888,
              "#fdca26"
             ],
             [
              1,
              "#f0f921"
             ]
            ],
            "type": "histogram2dcontour"
           }
          ],
          "mesh3d": [
           {
            "colorbar": {
             "outlinewidth": 0,
             "ticks": ""
            },
            "type": "mesh3d"
           }
          ],
          "parcoords": [
           {
            "line": {
             "colorbar": {
              "outlinewidth": 0,
              "ticks": ""
             }
            },
            "type": "parcoords"
           }
          ],
          "pie": [
           {
            "automargin": true,
            "type": "pie"
           }
          ],
          "scatter": [
           {
            "fillpattern": {
             "fillmode": "overlay",
             "size": 10,
             "solidity": 0.2
            },
            "type": "scatter"
           }
          ],
          "scatter3d": [
           {
            "line": {
             "colorbar": {
              "outlinewidth": 0,
              "ticks": ""
             }
            },
            "marker": {
             "colorbar": {
              "outlinewidth": 0,
              "ticks": ""
             }
            },
            "type": "scatter3d"
           }
          ],
          "scattercarpet": [
           {
            "marker": {
             "colorbar": {
              "outlinewidth": 0,
              "ticks": ""
             }
            },
            "type": "scattercarpet"
           }
          ],
          "scattergeo": [
           {
            "marker": {
             "colorbar": {
              "outlinewidth": 0,
              "ticks": ""
             }
            },
            "type": "scattergeo"
           }
          ],
          "scattergl": [
           {
            "marker": {
             "colorbar": {
              "outlinewidth": 0,
              "ticks": ""
             }
            },
            "type": "scattergl"
           }
          ],
          "scattermap": [
           {
            "marker": {
             "colorbar": {
              "outlinewidth": 0,
              "ticks": ""
             }
            },
            "type": "scattermap"
           }
          ],
          "scattermapbox": [
           {
            "marker": {
             "colorbar": {
              "outlinewidth": 0,
              "ticks": ""
             }
            },
            "type": "scattermapbox"
           }
          ],
          "scatterpolar": [
           {
            "marker": {
             "colorbar": {
              "outlinewidth": 0,
              "ticks": ""
             }
            },
            "type": "scatterpolar"
           }
          ],
          "scatterpolargl": [
           {
            "marker": {
             "colorbar": {
              "outlinewidth": 0,
              "ticks": ""
             }
            },
            "type": "scatterpolargl"
           }
          ],
          "scatterternary": [
           {
            "marker": {
             "colorbar": {
              "outlinewidth": 0,
              "ticks": ""
             }
            },
            "type": "scatterternary"
           }
          ],
          "surface": [
           {
            "colorbar": {
             "outlinewidth": 0,
             "ticks": ""
            },
            "colorscale": [
             [
              0,
              "#0d0887"
             ],
             [
              0.1111111111111111,
              "#46039f"
             ],
             [
              0.2222222222222222,
              "#7201a8"
             ],
             [
              0.3333333333333333,
              "#9c179e"
             ],
             [
              0.4444444444444444,
              "#bd3786"
             ],
             [
              0.5555555555555556,
              "#d8576b"
             ],
             [
              0.6666666666666666,
              "#ed7953"
             ],
             [
              0.7777777777777778,
              "#fb9f3a"
             ],
             [
              0.8888888888888888,
              "#fdca26"
             ],
             [
              1,
              "#f0f921"
             ]
            ],
            "type": "surface"
           }
          ],
          "table": [
           {
            "cells": {
             "fill": {
              "color": "#EBF0F8"
             },
             "line": {
              "color": "white"
             }
            },
            "header": {
             "fill": {
              "color": "#C8D4E3"
             },
             "line": {
              "color": "white"
             }
            },
            "type": "table"
           }
          ]
         },
         "layout": {
          "annotationdefaults": {
           "arrowcolor": "#2a3f5f",
           "arrowhead": 0,
           "arrowwidth": 1
          },
          "autotypenumbers": "strict",
          "coloraxis": {
           "colorbar": {
            "outlinewidth": 0,
            "ticks": ""
           }
          },
          "colorscale": {
           "diverging": [
            [
             0,
             "#8e0152"
            ],
            [
             0.1,
             "#c51b7d"
            ],
            [
             0.2,
             "#de77ae"
            ],
            [
             0.3,
             "#f1b6da"
            ],
            [
             0.4,
             "#fde0ef"
            ],
            [
             0.5,
             "#f7f7f7"
            ],
            [
             0.6,
             "#e6f5d0"
            ],
            [
             0.7,
             "#b8e186"
            ],
            [
             0.8,
             "#7fbc41"
            ],
            [
             0.9,
             "#4d9221"
            ],
            [
             1,
             "#276419"
            ]
           ],
           "sequential": [
            [
             0,
             "#0d0887"
            ],
            [
             0.1111111111111111,
             "#46039f"
            ],
            [
             0.2222222222222222,
             "#7201a8"
            ],
            [
             0.3333333333333333,
             "#9c179e"
            ],
            [
             0.4444444444444444,
             "#bd3786"
            ],
            [
             0.5555555555555556,
             "#d8576b"
            ],
            [
             0.6666666666666666,
             "#ed7953"
            ],
            [
             0.7777777777777778,
             "#fb9f3a"
            ],
            [
             0.8888888888888888,
             "#fdca26"
            ],
            [
             1,
             "#f0f921"
            ]
           ],
           "sequentialminus": [
            [
             0,
             "#0d0887"
            ],
            [
             0.1111111111111111,
             "#46039f"
            ],
            [
             0.2222222222222222,
             "#7201a8"
            ],
            [
             0.3333333333333333,
             "#9c179e"
            ],
            [
             0.4444444444444444,
             "#bd3786"
            ],
            [
             0.5555555555555556,
             "#d8576b"
            ],
            [
             0.6666666666666666,
             "#ed7953"
            ],
            [
             0.7777777777777778,
             "#fb9f3a"
            ],
            [
             0.8888888888888888,
             "#fdca26"
            ],
            [
             1,
             "#f0f921"
            ]
           ]
          },
          "colorway": [
           "#636efa",
           "#EF553B",
           "#00cc96",
           "#ab63fa",
           "#FFA15A",
           "#19d3f3",
           "#FF6692",
           "#B6E880",
           "#FF97FF",
           "#FECB52"
          ],
          "font": {
           "color": "#2a3f5f"
          },
          "geo": {
           "bgcolor": "white",
           "lakecolor": "white",
           "landcolor": "white",
           "showlakes": true,
           "showland": true,
           "subunitcolor": "#C8D4E3"
          },
          "hoverlabel": {
           "align": "left"
          },
          "hovermode": "closest",
          "mapbox": {
           "style": "light"
          },
          "paper_bgcolor": "white",
          "plot_bgcolor": "white",
          "polar": {
           "angularaxis": {
            "gridcolor": "#EBF0F8",
            "linecolor": "#EBF0F8",
            "ticks": ""
           },
           "bgcolor": "white",
           "radialaxis": {
            "gridcolor": "#EBF0F8",
            "linecolor": "#EBF0F8",
            "ticks": ""
           }
          },
          "scene": {
           "xaxis": {
            "backgroundcolor": "white",
            "gridcolor": "#DFE8F3",
            "gridwidth": 2,
            "linecolor": "#EBF0F8",
            "showbackground": true,
            "ticks": "",
            "zerolinecolor": "#EBF0F8"
           },
           "yaxis": {
            "backgroundcolor": "white",
            "gridcolor": "#DFE8F3",
            "gridwidth": 2,
            "linecolor": "#EBF0F8",
            "showbackground": true,
            "ticks": "",
            "zerolinecolor": "#EBF0F8"
           },
           "zaxis": {
            "backgroundcolor": "white",
            "gridcolor": "#DFE8F3",
            "gridwidth": 2,
            "linecolor": "#EBF0F8",
            "showbackground": true,
            "ticks": "",
            "zerolinecolor": "#EBF0F8"
           }
          },
          "shapedefaults": {
           "line": {
            "color": "#2a3f5f"
           }
          },
          "ternary": {
           "aaxis": {
            "gridcolor": "#DFE8F3",
            "linecolor": "#A2B1C6",
            "ticks": ""
           },
           "baxis": {
            "gridcolor": "#DFE8F3",
            "linecolor": "#A2B1C6",
            "ticks": ""
           },
           "bgcolor": "white",
           "caxis": {
            "gridcolor": "#DFE8F3",
            "linecolor": "#A2B1C6",
            "ticks": ""
           }
          },
          "title": {
           "x": 0.05
          },
          "xaxis": {
           "automargin": true,
           "gridcolor": "#EBF0F8",
           "linecolor": "#EBF0F8",
           "ticks": "",
           "title": {
            "standoff": 15
           },
           "zerolinecolor": "#EBF0F8",
           "zerolinewidth": 2
          },
          "yaxis": {
           "automargin": true,
           "gridcolor": "#EBF0F8",
           "linecolor": "#EBF0F8",
           "ticks": "",
           "title": {
            "standoff": 15
           },
           "zerolinecolor": "#EBF0F8",
           "zerolinewidth": 2
          }
         }
        },
        "xaxis": {
         "anchor": "y",
         "domain": [
          0,
          1
         ],
         "title": {
          "text": "Category"
         }
        },
        "yaxis": {
         "anchor": "x",
         "domain": [
          0,
          1
         ],
         "title": {
          "text": "total_purchase_per_season_category"
         }
        }
       }
      }
     },
     "metadata": {},
     "output_type": "display_data"
    }
   ],
   "source": [
    "fig = px.bar(purchase_info_season_category, x='Category', y='total_purchase_per_season_category', color='Season',template='plotly_white', hover_data=['average_purchase_per_season_category'])\n",
    "fig.show()\n"
   ]
  },
  {
   "cell_type": "code",
   "execution_count": 37,
   "id": "e5edbc1f",
   "metadata": {},
   "outputs": [
    {
     "data": {
      "application/vnd.plotly.v1+json": {
       "config": {
        "plotlyServerURL": "https://plot.ly"
       },
       "data": [
        {
         "branchvalues": "total",
         "customdata": [
          [
           "(?)"
          ],
          [
           "(?)"
          ],
          [
           "(?)"
          ],
          [
           "(?)"
          ],
          [
           "Accessories"
          ],
          [
           "Accessories"
          ],
          [
           "Accessories"
          ],
          [
           "Accessories"
          ],
          [
           "Clothing"
          ],
          [
           "Clothing"
          ],
          [
           "Clothing"
          ],
          [
           "Clothing"
          ],
          [
           "Footwear"
          ],
          [
           "Footwear"
          ],
          [
           "Footwear"
          ],
          [
           "Footwear"
          ],
          [
           "Outerwear"
          ],
          [
           "Outerwear"
          ],
          [
           "Outerwear"
          ],
          [
           "Outerwear"
          ]
         ],
         "domain": {
          "x": [
           0,
           1
          ],
          "y": [
           0,
           1
          ]
         },
         "hovertemplate": "labels=%{label}<br>Purchase_Amount_USD=%{value}<br>parent=%{parent}<br>id=%{id}<br>Category=%{customdata[0]}<extra></extra>",
         "ids": [
          "Fall",
          "Spring",
          "Winter",
          "Summer",
          "Summer/Accessories",
          "Winter/Accessories",
          "Fall/Accessories",
          "Spring/Accessories",
          "Winter/Clothing",
          "Fall/Clothing",
          "Spring/Clothing",
          "Summer/Clothing",
          "Fall/Footwear",
          "Summer/Footwear",
          "Winter/Footwear",
          "Spring/Footwear",
          "Fall/Outerwear",
          "Summer/Outerwear",
          "Spring/Outerwear",
          "Winter/Outerwear"
         ],
         "labels": [
          "Fall",
          "Spring",
          "Winter",
          "Summer",
          "Accessories",
          "Accessories",
          "Accessories",
          "Accessories",
          "Clothing",
          "Clothing",
          "Clothing",
          "Clothing",
          "Footwear",
          "Footwear",
          "Footwear",
          "Footwear",
          "Outerwear",
          "Outerwear",
          "Outerwear",
          "Outerwear"
         ],
         "marker": {
          "colors": [
           "#636efa",
           "#636efa",
           "#636efa",
           "#636efa",
           "#EF553B",
           "#EF553B",
           "#EF553B",
           "#EF553B",
           "#00cc96",
           "#00cc96",
           "#00cc96",
           "#00cc96",
           "#ab63fa",
           "#ab63fa",
           "#ab63fa",
           "#ab63fa",
           "#FFA15A",
           "#FFA15A",
           "#FFA15A",
           "#FFA15A"
          ]
         },
         "name": "",
         "parents": [
          "",
          "",
          "",
          "",
          "Summer",
          "Winter",
          "Fall",
          "Spring",
          "Winter",
          "Fall",
          "Spring",
          "Summer",
          "Fall",
          "Summer",
          "Winter",
          "Spring",
          "Fall",
          "Summer",
          "Spring",
          "Winter"
         ],
         "type": "treemap",
         "values": {
          "bdata": "AAAAAEBO7UAAAAAA4KbsQAAAAADgnexAAAAAACA860AAAAAAAJXSQAAAAADA3NFAAAAAAIBo00AAAAAAwJvQQAAAAACAotpAAAAAAACb2UAAAAAAAAvbQAAAAACAidZAAAAAAIDswEAAAAAAgFjCQAAAAAAAkMBAAAAAAICpwkAAAAAAAIu0QAAAAAAAtrBAAAAAAABJsUAAAAAAANKxQA==",
          "dtype": "f8"
         }
        }
       ],
       "layout": {
        "legend": {
         "tracegroupgap": 0
        },
        "margin": {
         "t": 60
        },
        "template": {
         "data": {
          "bar": [
           {
            "error_x": {
             "color": "#2a3f5f"
            },
            "error_y": {
             "color": "#2a3f5f"
            },
            "marker": {
             "line": {
              "color": "#E5ECF6",
              "width": 0.5
             },
             "pattern": {
              "fillmode": "overlay",
              "size": 10,
              "solidity": 0.2
             }
            },
            "type": "bar"
           }
          ],
          "barpolar": [
           {
            "marker": {
             "line": {
              "color": "#E5ECF6",
              "width": 0.5
             },
             "pattern": {
              "fillmode": "overlay",
              "size": 10,
              "solidity": 0.2
             }
            },
            "type": "barpolar"
           }
          ],
          "carpet": [
           {
            "aaxis": {
             "endlinecolor": "#2a3f5f",
             "gridcolor": "white",
             "linecolor": "white",
             "minorgridcolor": "white",
             "startlinecolor": "#2a3f5f"
            },
            "baxis": {
             "endlinecolor": "#2a3f5f",
             "gridcolor": "white",
             "linecolor": "white",
             "minorgridcolor": "white",
             "startlinecolor": "#2a3f5f"
            },
            "type": "carpet"
           }
          ],
          "choropleth": [
           {
            "colorbar": {
             "outlinewidth": 0,
             "ticks": ""
            },
            "type": "choropleth"
           }
          ],
          "contour": [
           {
            "colorbar": {
             "outlinewidth": 0,
             "ticks": ""
            },
            "colorscale": [
             [
              0,
              "#0d0887"
             ],
             [
              0.1111111111111111,
              "#46039f"
             ],
             [
              0.2222222222222222,
              "#7201a8"
             ],
             [
              0.3333333333333333,
              "#9c179e"
             ],
             [
              0.4444444444444444,
              "#bd3786"
             ],
             [
              0.5555555555555556,
              "#d8576b"
             ],
             [
              0.6666666666666666,
              "#ed7953"
             ],
             [
              0.7777777777777778,
              "#fb9f3a"
             ],
             [
              0.8888888888888888,
              "#fdca26"
             ],
             [
              1,
              "#f0f921"
             ]
            ],
            "type": "contour"
           }
          ],
          "contourcarpet": [
           {
            "colorbar": {
             "outlinewidth": 0,
             "ticks": ""
            },
            "type": "contourcarpet"
           }
          ],
          "heatmap": [
           {
            "colorbar": {
             "outlinewidth": 0,
             "ticks": ""
            },
            "colorscale": [
             [
              0,
              "#0d0887"
             ],
             [
              0.1111111111111111,
              "#46039f"
             ],
             [
              0.2222222222222222,
              "#7201a8"
             ],
             [
              0.3333333333333333,
              "#9c179e"
             ],
             [
              0.4444444444444444,
              "#bd3786"
             ],
             [
              0.5555555555555556,
              "#d8576b"
             ],
             [
              0.6666666666666666,
              "#ed7953"
             ],
             [
              0.7777777777777778,
              "#fb9f3a"
             ],
             [
              0.8888888888888888,
              "#fdca26"
             ],
             [
              1,
              "#f0f921"
             ]
            ],
            "type": "heatmap"
           }
          ],
          "histogram": [
           {
            "marker": {
             "pattern": {
              "fillmode": "overlay",
              "size": 10,
              "solidity": 0.2
             }
            },
            "type": "histogram"
           }
          ],
          "histogram2d": [
           {
            "colorbar": {
             "outlinewidth": 0,
             "ticks": ""
            },
            "colorscale": [
             [
              0,
              "#0d0887"
             ],
             [
              0.1111111111111111,
              "#46039f"
             ],
             [
              0.2222222222222222,
              "#7201a8"
             ],
             [
              0.3333333333333333,
              "#9c179e"
             ],
             [
              0.4444444444444444,
              "#bd3786"
             ],
             [
              0.5555555555555556,
              "#d8576b"
             ],
             [
              0.6666666666666666,
              "#ed7953"
             ],
             [
              0.7777777777777778,
              "#fb9f3a"
             ],
             [
              0.8888888888888888,
              "#fdca26"
             ],
             [
              1,
              "#f0f921"
             ]
            ],
            "type": "histogram2d"
           }
          ],
          "histogram2dcontour": [
           {
            "colorbar": {
             "outlinewidth": 0,
             "ticks": ""
            },
            "colorscale": [
             [
              0,
              "#0d0887"
             ],
             [
              0.1111111111111111,
              "#46039f"
             ],
             [
              0.2222222222222222,
              "#7201a8"
             ],
             [
              0.3333333333333333,
              "#9c179e"
             ],
             [
              0.4444444444444444,
              "#bd3786"
             ],
             [
              0.5555555555555556,
              "#d8576b"
             ],
             [
              0.6666666666666666,
              "#ed7953"
             ],
             [
              0.7777777777777778,
              "#fb9f3a"
             ],
             [
              0.8888888888888888,
              "#fdca26"
             ],
             [
              1,
              "#f0f921"
             ]
            ],
            "type": "histogram2dcontour"
           }
          ],
          "mesh3d": [
           {
            "colorbar": {
             "outlinewidth": 0,
             "ticks": ""
            },
            "type": "mesh3d"
           }
          ],
          "parcoords": [
           {
            "line": {
             "colorbar": {
              "outlinewidth": 0,
              "ticks": ""
             }
            },
            "type": "parcoords"
           }
          ],
          "pie": [
           {
            "automargin": true,
            "type": "pie"
           }
          ],
          "scatter": [
           {
            "fillpattern": {
             "fillmode": "overlay",
             "size": 10,
             "solidity": 0.2
            },
            "type": "scatter"
           }
          ],
          "scatter3d": [
           {
            "line": {
             "colorbar": {
              "outlinewidth": 0,
              "ticks": ""
             }
            },
            "marker": {
             "colorbar": {
              "outlinewidth": 0,
              "ticks": ""
             }
            },
            "type": "scatter3d"
           }
          ],
          "scattercarpet": [
           {
            "marker": {
             "colorbar": {
              "outlinewidth": 0,
              "ticks": ""
             }
            },
            "type": "scattercarpet"
           }
          ],
          "scattergeo": [
           {
            "marker": {
             "colorbar": {
              "outlinewidth": 0,
              "ticks": ""
             }
            },
            "type": "scattergeo"
           }
          ],
          "scattergl": [
           {
            "marker": {
             "colorbar": {
              "outlinewidth": 0,
              "ticks": ""
             }
            },
            "type": "scattergl"
           }
          ],
          "scattermap": [
           {
            "marker": {
             "colorbar": {
              "outlinewidth": 0,
              "ticks": ""
             }
            },
            "type": "scattermap"
           }
          ],
          "scattermapbox": [
           {
            "marker": {
             "colorbar": {
              "outlinewidth": 0,
              "ticks": ""
             }
            },
            "type": "scattermapbox"
           }
          ],
          "scatterpolar": [
           {
            "marker": {
             "colorbar": {
              "outlinewidth": 0,
              "ticks": ""
             }
            },
            "type": "scatterpolar"
           }
          ],
          "scatterpolargl": [
           {
            "marker": {
             "colorbar": {
              "outlinewidth": 0,
              "ticks": ""
             }
            },
            "type": "scatterpolargl"
           }
          ],
          "scatterternary": [
           {
            "marker": {
             "colorbar": {
              "outlinewidth": 0,
              "ticks": ""
             }
            },
            "type": "scatterternary"
           }
          ],
          "surface": [
           {
            "colorbar": {
             "outlinewidth": 0,
             "ticks": ""
            },
            "colorscale": [
             [
              0,
              "#0d0887"
             ],
             [
              0.1111111111111111,
              "#46039f"
             ],
             [
              0.2222222222222222,
              "#7201a8"
             ],
             [
              0.3333333333333333,
              "#9c179e"
             ],
             [
              0.4444444444444444,
              "#bd3786"
             ],
             [
              0.5555555555555556,
              "#d8576b"
             ],
             [
              0.6666666666666666,
              "#ed7953"
             ],
             [
              0.7777777777777778,
              "#fb9f3a"
             ],
             [
              0.8888888888888888,
              "#fdca26"
             ],
             [
              1,
              "#f0f921"
             ]
            ],
            "type": "surface"
           }
          ],
          "table": [
           {
            "cells": {
             "fill": {
              "color": "#EBF0F8"
             },
             "line": {
              "color": "white"
             }
            },
            "header": {
             "fill": {
              "color": "#C8D4E3"
             },
             "line": {
              "color": "white"
             }
            },
            "type": "table"
           }
          ]
         },
         "layout": {
          "annotationdefaults": {
           "arrowcolor": "#2a3f5f",
           "arrowhead": 0,
           "arrowwidth": 1
          },
          "autotypenumbers": "strict",
          "coloraxis": {
           "colorbar": {
            "outlinewidth": 0,
            "ticks": ""
           }
          },
          "colorscale": {
           "diverging": [
            [
             0,
             "#8e0152"
            ],
            [
             0.1,
             "#c51b7d"
            ],
            [
             0.2,
             "#de77ae"
            ],
            [
             0.3,
             "#f1b6da"
            ],
            [
             0.4,
             "#fde0ef"
            ],
            [
             0.5,
             "#f7f7f7"
            ],
            [
             0.6,
             "#e6f5d0"
            ],
            [
             0.7,
             "#b8e186"
            ],
            [
             0.8,
             "#7fbc41"
            ],
            [
             0.9,
             "#4d9221"
            ],
            [
             1,
             "#276419"
            ]
           ],
           "sequential": [
            [
             0,
             "#0d0887"
            ],
            [
             0.1111111111111111,
             "#46039f"
            ],
            [
             0.2222222222222222,
             "#7201a8"
            ],
            [
             0.3333333333333333,
             "#9c179e"
            ],
            [
             0.4444444444444444,
             "#bd3786"
            ],
            [
             0.5555555555555556,
             "#d8576b"
            ],
            [
             0.6666666666666666,
             "#ed7953"
            ],
            [
             0.7777777777777778,
             "#fb9f3a"
            ],
            [
             0.8888888888888888,
             "#fdca26"
            ],
            [
             1,
             "#f0f921"
            ]
           ],
           "sequentialminus": [
            [
             0,
             "#0d0887"
            ],
            [
             0.1111111111111111,
             "#46039f"
            ],
            [
             0.2222222222222222,
             "#7201a8"
            ],
            [
             0.3333333333333333,
             "#9c179e"
            ],
            [
             0.4444444444444444,
             "#bd3786"
            ],
            [
             0.5555555555555556,
             "#d8576b"
            ],
            [
             0.6666666666666666,
             "#ed7953"
            ],
            [
             0.7777777777777778,
             "#fb9f3a"
            ],
            [
             0.8888888888888888,
             "#fdca26"
            ],
            [
             1,
             "#f0f921"
            ]
           ]
          },
          "colorway": [
           "#636efa",
           "#EF553B",
           "#00cc96",
           "#ab63fa",
           "#FFA15A",
           "#19d3f3",
           "#FF6692",
           "#B6E880",
           "#FF97FF",
           "#FECB52"
          ],
          "font": {
           "color": "#2a3f5f"
          },
          "geo": {
           "bgcolor": "white",
           "lakecolor": "white",
           "landcolor": "#E5ECF6",
           "showlakes": true,
           "showland": true,
           "subunitcolor": "white"
          },
          "hoverlabel": {
           "align": "left"
          },
          "hovermode": "closest",
          "mapbox": {
           "style": "light"
          },
          "paper_bgcolor": "white",
          "plot_bgcolor": "#E5ECF6",
          "polar": {
           "angularaxis": {
            "gridcolor": "white",
            "linecolor": "white",
            "ticks": ""
           },
           "bgcolor": "#E5ECF6",
           "radialaxis": {
            "gridcolor": "white",
            "linecolor": "white",
            "ticks": ""
           }
          },
          "scene": {
           "xaxis": {
            "backgroundcolor": "#E5ECF6",
            "gridcolor": "white",
            "gridwidth": 2,
            "linecolor": "white",
            "showbackground": true,
            "ticks": "",
            "zerolinecolor": "white"
           },
           "yaxis": {
            "backgroundcolor": "#E5ECF6",
            "gridcolor": "white",
            "gridwidth": 2,
            "linecolor": "white",
            "showbackground": true,
            "ticks": "",
            "zerolinecolor": "white"
           },
           "zaxis": {
            "backgroundcolor": "#E5ECF6",
            "gridcolor": "white",
            "gridwidth": 2,
            "linecolor": "white",
            "showbackground": true,
            "ticks": "",
            "zerolinecolor": "white"
           }
          },
          "shapedefaults": {
           "line": {
            "color": "#2a3f5f"
           }
          },
          "ternary": {
           "aaxis": {
            "gridcolor": "white",
            "linecolor": "white",
            "ticks": ""
           },
           "baxis": {
            "gridcolor": "white",
            "linecolor": "white",
            "ticks": ""
           },
           "bgcolor": "#E5ECF6",
           "caxis": {
            "gridcolor": "white",
            "linecolor": "white",
            "ticks": ""
           }
          },
          "title": {
           "x": 0.05
          },
          "xaxis": {
           "automargin": true,
           "gridcolor": "white",
           "linecolor": "white",
           "ticks": "",
           "title": {
            "standoff": 15
           },
           "zerolinecolor": "white",
           "zerolinewidth": 2
          },
          "yaxis": {
           "automargin": true,
           "gridcolor": "white",
           "linecolor": "white",
           "ticks": "",
           "title": {
            "standoff": 15
           },
           "zerolinecolor": "white",
           "zerolinewidth": 2
          }
         }
        }
       }
      }
     },
     "metadata": {},
     "output_type": "display_data"
    }
   ],
   "source": [
    "fig = px.treemap(df, path=['Season', 'Category'], values='Purchase_Amount_USD', color='Category')\n",
    "fig.show()"
   ]
  },
  {
   "cell_type": "code",
   "execution_count": 38,
   "id": "c998da3b",
   "metadata": {},
   "outputs": [],
   "source": [
    "## Clothing is the most in demand category across all seasons, especially in Spring \n",
    "## Footwear demand increase in the Spring and Summer seasons\n",
    "## Outerwear is the least in demand category across all seasons"
   ]
  },
  {
   "cell_type": "markdown",
   "id": "d9d1fb86",
   "metadata": {},
   "source": [
    "# Customer Purchase Behavior Based on Previous purchase Frequency"
   ]
  },
  {
   "cell_type": "code",
   "execution_count": 39,
   "id": "0afe92fa",
   "metadata": {},
   "outputs": [
    {
     "data": {
      "text/plain": [
       "np.int64(50)"
      ]
     },
     "execution_count": 39,
     "metadata": {},
     "output_type": "execute_result"
    }
   ],
   "source": [
    "df['Previous_Purchases'].max()"
   ]
  },
  {
   "cell_type": "code",
   "execution_count": 40,
   "id": "7247e21d",
   "metadata": {},
   "outputs": [],
   "source": [
    "df['Previous_pur_categories'] = pd.cut(df['Previous_Purchases'], bins=[1, 13, 25, 38, 50], labels=['New', 'Light Visitor', 'Moderate Visitor', 'Frequent'])"
   ]
  },
  {
   "cell_type": "code",
   "execution_count": 41,
   "id": "94f04835",
   "metadata": {},
   "outputs": [
    {
     "data": {
      "text/html": [
       "<div>\n",
       "<style scoped>\n",
       "    .dataframe tbody tr th:only-of-type {\n",
       "        vertical-align: middle;\n",
       "    }\n",
       "\n",
       "    .dataframe tbody tr th {\n",
       "        vertical-align: top;\n",
       "    }\n",
       "\n",
       "    .dataframe thead th {\n",
       "        text-align: right;\n",
       "    }\n",
       "</style>\n",
       "<table border=\"1\" class=\"dataframe\">\n",
       "  <thead>\n",
       "    <tr style=\"text-align: right;\">\n",
       "      <th></th>\n",
       "      <th>Previous_pur_categories</th>\n",
       "      <th>total_purchase</th>\n",
       "      <th>average_purchase</th>\n",
       "      <th>count</th>\n",
       "    </tr>\n",
       "  </thead>\n",
       "  <tbody>\n",
       "    <tr>\n",
       "      <th>0</th>\n",
       "      <td>New</td>\n",
       "      <td>56127</td>\n",
       "      <td>60.286788</td>\n",
       "      <td>931</td>\n",
       "    </tr>\n",
       "    <tr>\n",
       "      <th>1</th>\n",
       "      <td>Light Visitor</td>\n",
       "      <td>56139</td>\n",
       "      <td>59.031546</td>\n",
       "      <td>951</td>\n",
       "    </tr>\n",
       "    <tr>\n",
       "      <th>2</th>\n",
       "      <td>Moderate Visitor</td>\n",
       "      <td>60305</td>\n",
       "      <td>59.885799</td>\n",
       "      <td>1007</td>\n",
       "    </tr>\n",
       "    <tr>\n",
       "      <th>3</th>\n",
       "      <td>Frequent</td>\n",
       "      <td>55657</td>\n",
       "      <td>59.975216</td>\n",
       "      <td>928</td>\n",
       "    </tr>\n",
       "  </tbody>\n",
       "</table>\n",
       "</div>"
      ],
      "text/plain": [
       "  Previous_pur_categories  total_purchase  average_purchase  count\n",
       "0                     New           56127         60.286788    931\n",
       "1           Light Visitor           56139         59.031546    951\n",
       "2        Moderate Visitor           60305         59.885799   1007\n",
       "3                Frequent           55657         59.975216    928"
      ]
     },
     "execution_count": 41,
     "metadata": {},
     "output_type": "execute_result"
    }
   ],
   "source": [
    "previous_purchase_action = df.groupby('Previous_pur_categories').agg(\n",
    "    total_purchase = ('Purchase_Amount_USD', 'sum'),\n",
    "    average_purchase =('Purchase_Amount_USD', 'mean'),\n",
    "    count=('Customer_ID', 'count'),        \n",
    ").reset_index()\n",
    "previous_purchase_action"
   ]
  },
  {
   "cell_type": "code",
   "execution_count": 42,
   "id": "69ec4722",
   "metadata": {},
   "outputs": [
    {
     "data": {
      "application/vnd.plotly.v1+json": {
       "config": {
        "plotlyServerURL": "https://plot.ly"
       },
       "data": [
        {
         "customdata": {
          "bdata": "cIN2e7UkTkA=",
          "dtype": "f8",
          "shape": "1, 1"
         },
         "hovertemplate": "Previous_pur_categories=%{x}<br>total_purchase=%{y}<br>average_purchase=%{customdata[0]}<extra></extra>",
         "legendgroup": "New",
         "marker": {
          "color": "#636efa",
          "pattern": {
           "shape": ""
          }
         },
         "name": "New",
         "orientation": "v",
         "showlegend": true,
         "textposition": "auto",
         "type": "bar",
         "x": [
          "New"
         ],
         "xaxis": "x",
         "y": {
          "bdata": "P9sAAA==",
          "dtype": "i4"
         },
         "yaxis": "y"
        },
        {
         "customdata": {
          "bdata": "yKjbsAmETUA=",
          "dtype": "f8",
          "shape": "1, 1"
         },
         "hovertemplate": "Previous_pur_categories=%{x}<br>total_purchase=%{y}<br>average_purchase=%{customdata[0]}<extra></extra>",
         "legendgroup": "Light Visitor",
         "marker": {
          "color": "#EF553B",
          "pattern": {
           "shape": ""
          }
         },
         "name": "Light Visitor",
         "orientation": "v",
         "showlegend": true,
         "textposition": "auto",
         "type": "bar",
         "x": [
          "Light Visitor"
         ],
         "xaxis": "x",
         "y": {
          "bdata": "S9sAAA==",
          "dtype": "i4"
         },
         "yaxis": "y"
        },
        {
         "customdata": {
          "bdata": "bd3332HxTUA=",
          "dtype": "f8",
          "shape": "1, 1"
         },
         "hovertemplate": "Previous_pur_categories=%{x}<br>total_purchase=%{y}<br>average_purchase=%{customdata[0]}<extra></extra>",
         "legendgroup": "Moderate Visitor",
         "marker": {
          "color": "#00cc96",
          "pattern": {
           "shape": ""
          }
         },
         "name": "Moderate Visitor",
         "orientation": "v",
         "showlegend": true,
         "textposition": "auto",
         "type": "bar",
         "x": [
          "Moderate Visitor"
         ],
         "xaxis": "x",
         "y": {
          "bdata": "kesAAA==",
          "dtype": "i4"
         },
         "yaxis": "y"
        },
        {
         "customdata": {
          "bdata": "Po2w3NP8TUA=",
          "dtype": "f8",
          "shape": "1, 1"
         },
         "hovertemplate": "Previous_pur_categories=%{x}<br>total_purchase=%{y}<br>average_purchase=%{customdata[0]}<extra></extra>",
         "legendgroup": "Frequent",
         "marker": {
          "color": "#ab63fa",
          "pattern": {
           "shape": ""
          }
         },
         "name": "Frequent",
         "orientation": "v",
         "showlegend": true,
         "textposition": "auto",
         "type": "bar",
         "x": [
          "Frequent"
         ],
         "xaxis": "x",
         "y": {
          "bdata": "adkAAA==",
          "dtype": "i4"
         },
         "yaxis": "y"
        }
       ],
       "layout": {
        "barmode": "relative",
        "legend": {
         "title": {
          "text": "Previous_pur_categories"
         },
         "tracegroupgap": 0
        },
        "margin": {
         "t": 60
        },
        "template": {
         "data": {
          "bar": [
           {
            "error_x": {
             "color": "#2a3f5f"
            },
            "error_y": {
             "color": "#2a3f5f"
            },
            "marker": {
             "line": {
              "color": "white",
              "width": 0.5
             },
             "pattern": {
              "fillmode": "overlay",
              "size": 10,
              "solidity": 0.2
             }
            },
            "type": "bar"
           }
          ],
          "barpolar": [
           {
            "marker": {
             "line": {
              "color": "white",
              "width": 0.5
             },
             "pattern": {
              "fillmode": "overlay",
              "size": 10,
              "solidity": 0.2
             }
            },
            "type": "barpolar"
           }
          ],
          "carpet": [
           {
            "aaxis": {
             "endlinecolor": "#2a3f5f",
             "gridcolor": "#C8D4E3",
             "linecolor": "#C8D4E3",
             "minorgridcolor": "#C8D4E3",
             "startlinecolor": "#2a3f5f"
            },
            "baxis": {
             "endlinecolor": "#2a3f5f",
             "gridcolor": "#C8D4E3",
             "linecolor": "#C8D4E3",
             "minorgridcolor": "#C8D4E3",
             "startlinecolor": "#2a3f5f"
            },
            "type": "carpet"
           }
          ],
          "choropleth": [
           {
            "colorbar": {
             "outlinewidth": 0,
             "ticks": ""
            },
            "type": "choropleth"
           }
          ],
          "contour": [
           {
            "colorbar": {
             "outlinewidth": 0,
             "ticks": ""
            },
            "colorscale": [
             [
              0,
              "#0d0887"
             ],
             [
              0.1111111111111111,
              "#46039f"
             ],
             [
              0.2222222222222222,
              "#7201a8"
             ],
             [
              0.3333333333333333,
              "#9c179e"
             ],
             [
              0.4444444444444444,
              "#bd3786"
             ],
             [
              0.5555555555555556,
              "#d8576b"
             ],
             [
              0.6666666666666666,
              "#ed7953"
             ],
             [
              0.7777777777777778,
              "#fb9f3a"
             ],
             [
              0.8888888888888888,
              "#fdca26"
             ],
             [
              1,
              "#f0f921"
             ]
            ],
            "type": "contour"
           }
          ],
          "contourcarpet": [
           {
            "colorbar": {
             "outlinewidth": 0,
             "ticks": ""
            },
            "type": "contourcarpet"
           }
          ],
          "heatmap": [
           {
            "colorbar": {
             "outlinewidth": 0,
             "ticks": ""
            },
            "colorscale": [
             [
              0,
              "#0d0887"
             ],
             [
              0.1111111111111111,
              "#46039f"
             ],
             [
              0.2222222222222222,
              "#7201a8"
             ],
             [
              0.3333333333333333,
              "#9c179e"
             ],
             [
              0.4444444444444444,
              "#bd3786"
             ],
             [
              0.5555555555555556,
              "#d8576b"
             ],
             [
              0.6666666666666666,
              "#ed7953"
             ],
             [
              0.7777777777777778,
              "#fb9f3a"
             ],
             [
              0.8888888888888888,
              "#fdca26"
             ],
             [
              1,
              "#f0f921"
             ]
            ],
            "type": "heatmap"
           }
          ],
          "histogram": [
           {
            "marker": {
             "pattern": {
              "fillmode": "overlay",
              "size": 10,
              "solidity": 0.2
             }
            },
            "type": "histogram"
           }
          ],
          "histogram2d": [
           {
            "colorbar": {
             "outlinewidth": 0,
             "ticks": ""
            },
            "colorscale": [
             [
              0,
              "#0d0887"
             ],
             [
              0.1111111111111111,
              "#46039f"
             ],
             [
              0.2222222222222222,
              "#7201a8"
             ],
             [
              0.3333333333333333,
              "#9c179e"
             ],
             [
              0.4444444444444444,
              "#bd3786"
             ],
             [
              0.5555555555555556,
              "#d8576b"
             ],
             [
              0.6666666666666666,
              "#ed7953"
             ],
             [
              0.7777777777777778,
              "#fb9f3a"
             ],
             [
              0.8888888888888888,
              "#fdca26"
             ],
             [
              1,
              "#f0f921"
             ]
            ],
            "type": "histogram2d"
           }
          ],
          "histogram2dcontour": [
           {
            "colorbar": {
             "outlinewidth": 0,
             "ticks": ""
            },
            "colorscale": [
             [
              0,
              "#0d0887"
             ],
             [
              0.1111111111111111,
              "#46039f"
             ],
             [
              0.2222222222222222,
              "#7201a8"
             ],
             [
              0.3333333333333333,
              "#9c179e"
             ],
             [
              0.4444444444444444,
              "#bd3786"
             ],
             [
              0.5555555555555556,
              "#d8576b"
             ],
             [
              0.6666666666666666,
              "#ed7953"
             ],
             [
              0.7777777777777778,
              "#fb9f3a"
             ],
             [
              0.8888888888888888,
              "#fdca26"
             ],
             [
              1,
              "#f0f921"
             ]
            ],
            "type": "histogram2dcontour"
           }
          ],
          "mesh3d": [
           {
            "colorbar": {
             "outlinewidth": 0,
             "ticks": ""
            },
            "type": "mesh3d"
           }
          ],
          "parcoords": [
           {
            "line": {
             "colorbar": {
              "outlinewidth": 0,
              "ticks": ""
             }
            },
            "type": "parcoords"
           }
          ],
          "pie": [
           {
            "automargin": true,
            "type": "pie"
           }
          ],
          "scatter": [
           {
            "fillpattern": {
             "fillmode": "overlay",
             "size": 10,
             "solidity": 0.2
            },
            "type": "scatter"
           }
          ],
          "scatter3d": [
           {
            "line": {
             "colorbar": {
              "outlinewidth": 0,
              "ticks": ""
             }
            },
            "marker": {
             "colorbar": {
              "outlinewidth": 0,
              "ticks": ""
             }
            },
            "type": "scatter3d"
           }
          ],
          "scattercarpet": [
           {
            "marker": {
             "colorbar": {
              "outlinewidth": 0,
              "ticks": ""
             }
            },
            "type": "scattercarpet"
           }
          ],
          "scattergeo": [
           {
            "marker": {
             "colorbar": {
              "outlinewidth": 0,
              "ticks": ""
             }
            },
            "type": "scattergeo"
           }
          ],
          "scattergl": [
           {
            "marker": {
             "colorbar": {
              "outlinewidth": 0,
              "ticks": ""
             }
            },
            "type": "scattergl"
           }
          ],
          "scattermap": [
           {
            "marker": {
             "colorbar": {
              "outlinewidth": 0,
              "ticks": ""
             }
            },
            "type": "scattermap"
           }
          ],
          "scattermapbox": [
           {
            "marker": {
             "colorbar": {
              "outlinewidth": 0,
              "ticks": ""
             }
            },
            "type": "scattermapbox"
           }
          ],
          "scatterpolar": [
           {
            "marker": {
             "colorbar": {
              "outlinewidth": 0,
              "ticks": ""
             }
            },
            "type": "scatterpolar"
           }
          ],
          "scatterpolargl": [
           {
            "marker": {
             "colorbar": {
              "outlinewidth": 0,
              "ticks": ""
             }
            },
            "type": "scatterpolargl"
           }
          ],
          "scatterternary": [
           {
            "marker": {
             "colorbar": {
              "outlinewidth": 0,
              "ticks": ""
             }
            },
            "type": "scatterternary"
           }
          ],
          "surface": [
           {
            "colorbar": {
             "outlinewidth": 0,
             "ticks": ""
            },
            "colorscale": [
             [
              0,
              "#0d0887"
             ],
             [
              0.1111111111111111,
              "#46039f"
             ],
             [
              0.2222222222222222,
              "#7201a8"
             ],
             [
              0.3333333333333333,
              "#9c179e"
             ],
             [
              0.4444444444444444,
              "#bd3786"
             ],
             [
              0.5555555555555556,
              "#d8576b"
             ],
             [
              0.6666666666666666,
              "#ed7953"
             ],
             [
              0.7777777777777778,
              "#fb9f3a"
             ],
             [
              0.8888888888888888,
              "#fdca26"
             ],
             [
              1,
              "#f0f921"
             ]
            ],
            "type": "surface"
           }
          ],
          "table": [
           {
            "cells": {
             "fill": {
              "color": "#EBF0F8"
             },
             "line": {
              "color": "white"
             }
            },
            "header": {
             "fill": {
              "color": "#C8D4E3"
             },
             "line": {
              "color": "white"
             }
            },
            "type": "table"
           }
          ]
         },
         "layout": {
          "annotationdefaults": {
           "arrowcolor": "#2a3f5f",
           "arrowhead": 0,
           "arrowwidth": 1
          },
          "autotypenumbers": "strict",
          "coloraxis": {
           "colorbar": {
            "outlinewidth": 0,
            "ticks": ""
           }
          },
          "colorscale": {
           "diverging": [
            [
             0,
             "#8e0152"
            ],
            [
             0.1,
             "#c51b7d"
            ],
            [
             0.2,
             "#de77ae"
            ],
            [
             0.3,
             "#f1b6da"
            ],
            [
             0.4,
             "#fde0ef"
            ],
            [
             0.5,
             "#f7f7f7"
            ],
            [
             0.6,
             "#e6f5d0"
            ],
            [
             0.7,
             "#b8e186"
            ],
            [
             0.8,
             "#7fbc41"
            ],
            [
             0.9,
             "#4d9221"
            ],
            [
             1,
             "#276419"
            ]
           ],
           "sequential": [
            [
             0,
             "#0d0887"
            ],
            [
             0.1111111111111111,
             "#46039f"
            ],
            [
             0.2222222222222222,
             "#7201a8"
            ],
            [
             0.3333333333333333,
             "#9c179e"
            ],
            [
             0.4444444444444444,
             "#bd3786"
            ],
            [
             0.5555555555555556,
             "#d8576b"
            ],
            [
             0.6666666666666666,
             "#ed7953"
            ],
            [
             0.7777777777777778,
             "#fb9f3a"
            ],
            [
             0.8888888888888888,
             "#fdca26"
            ],
            [
             1,
             "#f0f921"
            ]
           ],
           "sequentialminus": [
            [
             0,
             "#0d0887"
            ],
            [
             0.1111111111111111,
             "#46039f"
            ],
            [
             0.2222222222222222,
             "#7201a8"
            ],
            [
             0.3333333333333333,
             "#9c179e"
            ],
            [
             0.4444444444444444,
             "#bd3786"
            ],
            [
             0.5555555555555556,
             "#d8576b"
            ],
            [
             0.6666666666666666,
             "#ed7953"
            ],
            [
             0.7777777777777778,
             "#fb9f3a"
            ],
            [
             0.8888888888888888,
             "#fdca26"
            ],
            [
             1,
             "#f0f921"
            ]
           ]
          },
          "colorway": [
           "#636efa",
           "#EF553B",
           "#00cc96",
           "#ab63fa",
           "#FFA15A",
           "#19d3f3",
           "#FF6692",
           "#B6E880",
           "#FF97FF",
           "#FECB52"
          ],
          "font": {
           "color": "#2a3f5f"
          },
          "geo": {
           "bgcolor": "white",
           "lakecolor": "white",
           "landcolor": "white",
           "showlakes": true,
           "showland": true,
           "subunitcolor": "#C8D4E3"
          },
          "hoverlabel": {
           "align": "left"
          },
          "hovermode": "closest",
          "mapbox": {
           "style": "light"
          },
          "paper_bgcolor": "white",
          "plot_bgcolor": "white",
          "polar": {
           "angularaxis": {
            "gridcolor": "#EBF0F8",
            "linecolor": "#EBF0F8",
            "ticks": ""
           },
           "bgcolor": "white",
           "radialaxis": {
            "gridcolor": "#EBF0F8",
            "linecolor": "#EBF0F8",
            "ticks": ""
           }
          },
          "scene": {
           "xaxis": {
            "backgroundcolor": "white",
            "gridcolor": "#DFE8F3",
            "gridwidth": 2,
            "linecolor": "#EBF0F8",
            "showbackground": true,
            "ticks": "",
            "zerolinecolor": "#EBF0F8"
           },
           "yaxis": {
            "backgroundcolor": "white",
            "gridcolor": "#DFE8F3",
            "gridwidth": 2,
            "linecolor": "#EBF0F8",
            "showbackground": true,
            "ticks": "",
            "zerolinecolor": "#EBF0F8"
           },
           "zaxis": {
            "backgroundcolor": "white",
            "gridcolor": "#DFE8F3",
            "gridwidth": 2,
            "linecolor": "#EBF0F8",
            "showbackground": true,
            "ticks": "",
            "zerolinecolor": "#EBF0F8"
           }
          },
          "shapedefaults": {
           "line": {
            "color": "#2a3f5f"
           }
          },
          "ternary": {
           "aaxis": {
            "gridcolor": "#DFE8F3",
            "linecolor": "#A2B1C6",
            "ticks": ""
           },
           "baxis": {
            "gridcolor": "#DFE8F3",
            "linecolor": "#A2B1C6",
            "ticks": ""
           },
           "bgcolor": "white",
           "caxis": {
            "gridcolor": "#DFE8F3",
            "linecolor": "#A2B1C6",
            "ticks": ""
           }
          },
          "title": {
           "x": 0.05
          },
          "xaxis": {
           "automargin": true,
           "gridcolor": "#EBF0F8",
           "linecolor": "#EBF0F8",
           "ticks": "",
           "title": {
            "standoff": 15
           },
           "zerolinecolor": "#EBF0F8",
           "zerolinewidth": 2
          },
          "yaxis": {
           "automargin": true,
           "gridcolor": "#EBF0F8",
           "linecolor": "#EBF0F8",
           "ticks": "",
           "title": {
            "standoff": 15
           },
           "zerolinecolor": "#EBF0F8",
           "zerolinewidth": 2
          }
         }
        },
        "xaxis": {
         "anchor": "y",
         "categoryarray": [
          "New",
          "Light Visitor",
          "Moderate Visitor",
          "Frequent"
         ],
         "categoryorder": "array",
         "domain": [
          0,
          1
         ],
         "title": {
          "text": "Previous_pur_categories"
         }
        },
        "yaxis": {
         "anchor": "x",
         "domain": [
          0,
          1
         ],
         "title": {
          "text": "total_purchase"
         }
        }
       }
      }
     },
     "metadata": {},
     "output_type": "display_data"
    }
   ],
   "source": [
    "fig = px.bar(previous_purchase_action, x='Previous_pur_categories', y='total_purchase', color='Previous_pur_categories',template='plotly_white', hover_data=['average_purchase' ])\n",
    "fig.show()\n"
   ]
  },
  {
   "cell_type": "code",
   "execution_count": 43,
   "id": "c86c19ef",
   "metadata": {},
   "outputs": [],
   "source": [
    "# Moderate Visitors are the most valuable customers\n",
    "# Frequent Visitors are the least contributors to the revenue"
   ]
  },
  {
   "cell_type": "markdown",
   "id": "4ac3582f",
   "metadata": {},
   "source": [
    "# Rating Vs. Purchase Amount"
   ]
  },
  {
   "cell_type": "code",
   "execution_count": null,
   "id": "785cfa30",
   "metadata": {},
   "outputs": [],
   "source": []
  },
  {
   "cell_type": "code",
   "execution_count": 44,
   "id": "eb31d55c",
   "metadata": {},
   "outputs": [],
   "source": [
    "df['Rating_categories'] = pd.cut(df['Review_Rating'], bins=[2.5,3.1,3.7,4.4,5], labels=['Poor', 'Fair', 'Good', 'Satisfied'])"
   ]
  },
  {
   "cell_type": "code",
   "execution_count": 45,
   "id": "ca5d60ae",
   "metadata": {},
   "outputs": [
    {
     "data": {
      "text/html": [
       "<div>\n",
       "<style scoped>\n",
       "    .dataframe tbody tr th:only-of-type {\n",
       "        vertical-align: middle;\n",
       "    }\n",
       "\n",
       "    .dataframe tbody tr th {\n",
       "        vertical-align: top;\n",
       "    }\n",
       "\n",
       "    .dataframe thead th {\n",
       "        text-align: right;\n",
       "    }\n",
       "</style>\n",
       "<table border=\"1\" class=\"dataframe\">\n",
       "  <thead>\n",
       "    <tr style=\"text-align: right;\">\n",
       "      <th></th>\n",
       "      <th>Rating_categories</th>\n",
       "      <th>total_purchase</th>\n",
       "      <th>average_purchase</th>\n",
       "      <th>count</th>\n",
       "    </tr>\n",
       "  </thead>\n",
       "  <tbody>\n",
       "    <tr>\n",
       "      <th>0</th>\n",
       "      <td>Poor</td>\n",
       "      <td>55039</td>\n",
       "      <td>58.676972</td>\n",
       "      <td>938</td>\n",
       "    </tr>\n",
       "    <tr>\n",
       "      <th>1</th>\n",
       "      <td>Fair</td>\n",
       "      <td>46877</td>\n",
       "      <td>59.262958</td>\n",
       "      <td>791</td>\n",
       "    </tr>\n",
       "    <tr>\n",
       "      <th>2</th>\n",
       "      <td>Good</td>\n",
       "      <td>66519</td>\n",
       "      <td>60.035199</td>\n",
       "      <td>1108</td>\n",
       "    </tr>\n",
       "    <tr>\n",
       "      <th>3</th>\n",
       "      <td>Satisfied</td>\n",
       "      <td>60535</td>\n",
       "      <td>60.717151</td>\n",
       "      <td>997</td>\n",
       "    </tr>\n",
       "  </tbody>\n",
       "</table>\n",
       "</div>"
      ],
      "text/plain": [
       "  Rating_categories  total_purchase  average_purchase  count\n",
       "0              Poor           55039         58.676972    938\n",
       "1              Fair           46877         59.262958    791\n",
       "2              Good           66519         60.035199   1108\n",
       "3         Satisfied           60535         60.717151    997"
      ]
     },
     "execution_count": 45,
     "metadata": {},
     "output_type": "execute_result"
    }
   ],
   "source": [
    "rating_check = df.groupby('Rating_categories').agg(\n",
    "    total_purchase = ('Purchase_Amount_USD', 'sum'),\n",
    "    average_purchase =('Purchase_Amount_USD', 'mean'),\n",
    "    count=('Customer_ID', 'count'),        \n",
    ").reset_index()\n",
    "rating_check"
   ]
  },
  {
   "cell_type": "code",
   "execution_count": 46,
   "id": "68a8608c",
   "metadata": {},
   "outputs": [
    {
     "data": {
      "application/vnd.plotly.v1+json": {
       "config": {
        "plotlyServerURL": "https://plot.ly"
       },
       "data": [
        {
         "customdata": {
          "bdata": "GpAYB6dWTUA=",
          "dtype": "f8",
          "shape": "1, 1"
         },
         "hovertemplate": "Rating_categories=%{x}<br>total_purchase=%{y}<br>average_purchase=%{customdata[0]}<extra></extra>",
         "legendgroup": "Poor",
         "marker": {
          "color": "#636efa",
          "pattern": {
           "shape": ""
          }
         },
         "name": "Poor",
         "orientation": "v",
         "showlegend": true,
         "textposition": "auto",
         "type": "bar",
         "x": [
          "Poor"
         ],
         "xaxis": "x",
         "y": {
          "bdata": "/9YAAA==",
          "dtype": "i4"
         },
         "yaxis": "y"
        },
        {
         "customdata": {
          "bdata": "ZdHvnaihTUA=",
          "dtype": "f8",
          "shape": "1, 1"
         },
         "hovertemplate": "Rating_categories=%{x}<br>total_purchase=%{y}<br>average_purchase=%{customdata[0]}<extra></extra>",
         "legendgroup": "Fair",
         "marker": {
          "color": "#EF553B",
          "pattern": {
           "shape": ""
          }
         },
         "name": "Fair",
         "orientation": "v",
         "showlegend": true,
         "textposition": "auto",
         "type": "bar",
         "x": [
          "Fair"
         ],
         "xaxis": "x",
         "y": {
          "bdata": "HbcAAA==",
          "dtype": "i4"
         },
         "yaxis": "y"
        },
        {
         "customdata": {
          "bdata": "pVnjYoEETkA=",
          "dtype": "f8",
          "shape": "1, 1"
         },
         "hovertemplate": "Rating_categories=%{x}<br>total_purchase=%{y}<br>average_purchase=%{customdata[0]}<extra></extra>",
         "legendgroup": "Good",
         "marker": {
          "color": "#00cc96",
          "pattern": {
           "shape": ""
          }
         },
         "name": "Good",
         "orientation": "v",
         "showlegend": true,
         "textposition": "auto",
         "type": "bar",
         "x": [
          "Good"
         ],
         "xaxis": "x",
         "y": {
          "bdata": "1wMBAA==",
          "dtype": "i4"
         },
         "yaxis": "y"
        },
        {
         "customdata": {
          "bdata": "WGJtnstbTkA=",
          "dtype": "f8",
          "shape": "1, 1"
         },
         "hovertemplate": "Rating_categories=%{x}<br>total_purchase=%{y}<br>average_purchase=%{customdata[0]}<extra></extra>",
         "legendgroup": "Satisfied",
         "marker": {
          "color": "#ab63fa",
          "pattern": {
           "shape": ""
          }
         },
         "name": "Satisfied",
         "orientation": "v",
         "showlegend": true,
         "textposition": "auto",
         "type": "bar",
         "x": [
          "Satisfied"
         ],
         "xaxis": "x",
         "y": {
          "bdata": "d+wAAA==",
          "dtype": "i4"
         },
         "yaxis": "y"
        }
       ],
       "layout": {
        "barmode": "relative",
        "legend": {
         "title": {
          "text": "Rating_categories"
         },
         "tracegroupgap": 0
        },
        "margin": {
         "t": 60
        },
        "template": {
         "data": {
          "bar": [
           {
            "error_x": {
             "color": "#2a3f5f"
            },
            "error_y": {
             "color": "#2a3f5f"
            },
            "marker": {
             "line": {
              "color": "white",
              "width": 0.5
             },
             "pattern": {
              "fillmode": "overlay",
              "size": 10,
              "solidity": 0.2
             }
            },
            "type": "bar"
           }
          ],
          "barpolar": [
           {
            "marker": {
             "line": {
              "color": "white",
              "width": 0.5
             },
             "pattern": {
              "fillmode": "overlay",
              "size": 10,
              "solidity": 0.2
             }
            },
            "type": "barpolar"
           }
          ],
          "carpet": [
           {
            "aaxis": {
             "endlinecolor": "#2a3f5f",
             "gridcolor": "#C8D4E3",
             "linecolor": "#C8D4E3",
             "minorgridcolor": "#C8D4E3",
             "startlinecolor": "#2a3f5f"
            },
            "baxis": {
             "endlinecolor": "#2a3f5f",
             "gridcolor": "#C8D4E3",
             "linecolor": "#C8D4E3",
             "minorgridcolor": "#C8D4E3",
             "startlinecolor": "#2a3f5f"
            },
            "type": "carpet"
           }
          ],
          "choropleth": [
           {
            "colorbar": {
             "outlinewidth": 0,
             "ticks": ""
            },
            "type": "choropleth"
           }
          ],
          "contour": [
           {
            "colorbar": {
             "outlinewidth": 0,
             "ticks": ""
            },
            "colorscale": [
             [
              0,
              "#0d0887"
             ],
             [
              0.1111111111111111,
              "#46039f"
             ],
             [
              0.2222222222222222,
              "#7201a8"
             ],
             [
              0.3333333333333333,
              "#9c179e"
             ],
             [
              0.4444444444444444,
              "#bd3786"
             ],
             [
              0.5555555555555556,
              "#d8576b"
             ],
             [
              0.6666666666666666,
              "#ed7953"
             ],
             [
              0.7777777777777778,
              "#fb9f3a"
             ],
             [
              0.8888888888888888,
              "#fdca26"
             ],
             [
              1,
              "#f0f921"
             ]
            ],
            "type": "contour"
           }
          ],
          "contourcarpet": [
           {
            "colorbar": {
             "outlinewidth": 0,
             "ticks": ""
            },
            "type": "contourcarpet"
           }
          ],
          "heatmap": [
           {
            "colorbar": {
             "outlinewidth": 0,
             "ticks": ""
            },
            "colorscale": [
             [
              0,
              "#0d0887"
             ],
             [
              0.1111111111111111,
              "#46039f"
             ],
             [
              0.2222222222222222,
              "#7201a8"
             ],
             [
              0.3333333333333333,
              "#9c179e"
             ],
             [
              0.4444444444444444,
              "#bd3786"
             ],
             [
              0.5555555555555556,
              "#d8576b"
             ],
             [
              0.6666666666666666,
              "#ed7953"
             ],
             [
              0.7777777777777778,
              "#fb9f3a"
             ],
             [
              0.8888888888888888,
              "#fdca26"
             ],
             [
              1,
              "#f0f921"
             ]
            ],
            "type": "heatmap"
           }
          ],
          "histogram": [
           {
            "marker": {
             "pattern": {
              "fillmode": "overlay",
              "size": 10,
              "solidity": 0.2
             }
            },
            "type": "histogram"
           }
          ],
          "histogram2d": [
           {
            "colorbar": {
             "outlinewidth": 0,
             "ticks": ""
            },
            "colorscale": [
             [
              0,
              "#0d0887"
             ],
             [
              0.1111111111111111,
              "#46039f"
             ],
             [
              0.2222222222222222,
              "#7201a8"
             ],
             [
              0.3333333333333333,
              "#9c179e"
             ],
             [
              0.4444444444444444,
              "#bd3786"
             ],
             [
              0.5555555555555556,
              "#d8576b"
             ],
             [
              0.6666666666666666,
              "#ed7953"
             ],
             [
              0.7777777777777778,
              "#fb9f3a"
             ],
             [
              0.8888888888888888,
              "#fdca26"
             ],
             [
              1,
              "#f0f921"
             ]
            ],
            "type": "histogram2d"
           }
          ],
          "histogram2dcontour": [
           {
            "colorbar": {
             "outlinewidth": 0,
             "ticks": ""
            },
            "colorscale": [
             [
              0,
              "#0d0887"
             ],
             [
              0.1111111111111111,
              "#46039f"
             ],
             [
              0.2222222222222222,
              "#7201a8"
             ],
             [
              0.3333333333333333,
              "#9c179e"
             ],
             [
              0.4444444444444444,
              "#bd3786"
             ],
             [
              0.5555555555555556,
              "#d8576b"
             ],
             [
              0.6666666666666666,
              "#ed7953"
             ],
             [
              0.7777777777777778,
              "#fb9f3a"
             ],
             [
              0.8888888888888888,
              "#fdca26"
             ],
             [
              1,
              "#f0f921"
             ]
            ],
            "type": "histogram2dcontour"
           }
          ],
          "mesh3d": [
           {
            "colorbar": {
             "outlinewidth": 0,
             "ticks": ""
            },
            "type": "mesh3d"
           }
          ],
          "parcoords": [
           {
            "line": {
             "colorbar": {
              "outlinewidth": 0,
              "ticks": ""
             }
            },
            "type": "parcoords"
           }
          ],
          "pie": [
           {
            "automargin": true,
            "type": "pie"
           }
          ],
          "scatter": [
           {
            "fillpattern": {
             "fillmode": "overlay",
             "size": 10,
             "solidity": 0.2
            },
            "type": "scatter"
           }
          ],
          "scatter3d": [
           {
            "line": {
             "colorbar": {
              "outlinewidth": 0,
              "ticks": ""
             }
            },
            "marker": {
             "colorbar": {
              "outlinewidth": 0,
              "ticks": ""
             }
            },
            "type": "scatter3d"
           }
          ],
          "scattercarpet": [
           {
            "marker": {
             "colorbar": {
              "outlinewidth": 0,
              "ticks": ""
             }
            },
            "type": "scattercarpet"
           }
          ],
          "scattergeo": [
           {
            "marker": {
             "colorbar": {
              "outlinewidth": 0,
              "ticks": ""
             }
            },
            "type": "scattergeo"
           }
          ],
          "scattergl": [
           {
            "marker": {
             "colorbar": {
              "outlinewidth": 0,
              "ticks": ""
             }
            },
            "type": "scattergl"
           }
          ],
          "scattermap": [
           {
            "marker": {
             "colorbar": {
              "outlinewidth": 0,
              "ticks": ""
             }
            },
            "type": "scattermap"
           }
          ],
          "scattermapbox": [
           {
            "marker": {
             "colorbar": {
              "outlinewidth": 0,
              "ticks": ""
             }
            },
            "type": "scattermapbox"
           }
          ],
          "scatterpolar": [
           {
            "marker": {
             "colorbar": {
              "outlinewidth": 0,
              "ticks": ""
             }
            },
            "type": "scatterpolar"
           }
          ],
          "scatterpolargl": [
           {
            "marker": {
             "colorbar": {
              "outlinewidth": 0,
              "ticks": ""
             }
            },
            "type": "scatterpolargl"
           }
          ],
          "scatterternary": [
           {
            "marker": {
             "colorbar": {
              "outlinewidth": 0,
              "ticks": ""
             }
            },
            "type": "scatterternary"
           }
          ],
          "surface": [
           {
            "colorbar": {
             "outlinewidth": 0,
             "ticks": ""
            },
            "colorscale": [
             [
              0,
              "#0d0887"
             ],
             [
              0.1111111111111111,
              "#46039f"
             ],
             [
              0.2222222222222222,
              "#7201a8"
             ],
             [
              0.3333333333333333,
              "#9c179e"
             ],
             [
              0.4444444444444444,
              "#bd3786"
             ],
             [
              0.5555555555555556,
              "#d8576b"
             ],
             [
              0.6666666666666666,
              "#ed7953"
             ],
             [
              0.7777777777777778,
              "#fb9f3a"
             ],
             [
              0.8888888888888888,
              "#fdca26"
             ],
             [
              1,
              "#f0f921"
             ]
            ],
            "type": "surface"
           }
          ],
          "table": [
           {
            "cells": {
             "fill": {
              "color": "#EBF0F8"
             },
             "line": {
              "color": "white"
             }
            },
            "header": {
             "fill": {
              "color": "#C8D4E3"
             },
             "line": {
              "color": "white"
             }
            },
            "type": "table"
           }
          ]
         },
         "layout": {
          "annotationdefaults": {
           "arrowcolor": "#2a3f5f",
           "arrowhead": 0,
           "arrowwidth": 1
          },
          "autotypenumbers": "strict",
          "coloraxis": {
           "colorbar": {
            "outlinewidth": 0,
            "ticks": ""
           }
          },
          "colorscale": {
           "diverging": [
            [
             0,
             "#8e0152"
            ],
            [
             0.1,
             "#c51b7d"
            ],
            [
             0.2,
             "#de77ae"
            ],
            [
             0.3,
             "#f1b6da"
            ],
            [
             0.4,
             "#fde0ef"
            ],
            [
             0.5,
             "#f7f7f7"
            ],
            [
             0.6,
             "#e6f5d0"
            ],
            [
             0.7,
             "#b8e186"
            ],
            [
             0.8,
             "#7fbc41"
            ],
            [
             0.9,
             "#4d9221"
            ],
            [
             1,
             "#276419"
            ]
           ],
           "sequential": [
            [
             0,
             "#0d0887"
            ],
            [
             0.1111111111111111,
             "#46039f"
            ],
            [
             0.2222222222222222,
             "#7201a8"
            ],
            [
             0.3333333333333333,
             "#9c179e"
            ],
            [
             0.4444444444444444,
             "#bd3786"
            ],
            [
             0.5555555555555556,
             "#d8576b"
            ],
            [
             0.6666666666666666,
             "#ed7953"
            ],
            [
             0.7777777777777778,
             "#fb9f3a"
            ],
            [
             0.8888888888888888,
             "#fdca26"
            ],
            [
             1,
             "#f0f921"
            ]
           ],
           "sequentialminus": [
            [
             0,
             "#0d0887"
            ],
            [
             0.1111111111111111,
             "#46039f"
            ],
            [
             0.2222222222222222,
             "#7201a8"
            ],
            [
             0.3333333333333333,
             "#9c179e"
            ],
            [
             0.4444444444444444,
             "#bd3786"
            ],
            [
             0.5555555555555556,
             "#d8576b"
            ],
            [
             0.6666666666666666,
             "#ed7953"
            ],
            [
             0.7777777777777778,
             "#fb9f3a"
            ],
            [
             0.8888888888888888,
             "#fdca26"
            ],
            [
             1,
             "#f0f921"
            ]
           ]
          },
          "colorway": [
           "#636efa",
           "#EF553B",
           "#00cc96",
           "#ab63fa",
           "#FFA15A",
           "#19d3f3",
           "#FF6692",
           "#B6E880",
           "#FF97FF",
           "#FECB52"
          ],
          "font": {
           "color": "#2a3f5f"
          },
          "geo": {
           "bgcolor": "white",
           "lakecolor": "white",
           "landcolor": "white",
           "showlakes": true,
           "showland": true,
           "subunitcolor": "#C8D4E3"
          },
          "hoverlabel": {
           "align": "left"
          },
          "hovermode": "closest",
          "mapbox": {
           "style": "light"
          },
          "paper_bgcolor": "white",
          "plot_bgcolor": "white",
          "polar": {
           "angularaxis": {
            "gridcolor": "#EBF0F8",
            "linecolor": "#EBF0F8",
            "ticks": ""
           },
           "bgcolor": "white",
           "radialaxis": {
            "gridcolor": "#EBF0F8",
            "linecolor": "#EBF0F8",
            "ticks": ""
           }
          },
          "scene": {
           "xaxis": {
            "backgroundcolor": "white",
            "gridcolor": "#DFE8F3",
            "gridwidth": 2,
            "linecolor": "#EBF0F8",
            "showbackground": true,
            "ticks": "",
            "zerolinecolor": "#EBF0F8"
           },
           "yaxis": {
            "backgroundcolor": "white",
            "gridcolor": "#DFE8F3",
            "gridwidth": 2,
            "linecolor": "#EBF0F8",
            "showbackground": true,
            "ticks": "",
            "zerolinecolor": "#EBF0F8"
           },
           "zaxis": {
            "backgroundcolor": "white",
            "gridcolor": "#DFE8F3",
            "gridwidth": 2,
            "linecolor": "#EBF0F8",
            "showbackground": true,
            "ticks": "",
            "zerolinecolor": "#EBF0F8"
           }
          },
          "shapedefaults": {
           "line": {
            "color": "#2a3f5f"
           }
          },
          "ternary": {
           "aaxis": {
            "gridcolor": "#DFE8F3",
            "linecolor": "#A2B1C6",
            "ticks": ""
           },
           "baxis": {
            "gridcolor": "#DFE8F3",
            "linecolor": "#A2B1C6",
            "ticks": ""
           },
           "bgcolor": "white",
           "caxis": {
            "gridcolor": "#DFE8F3",
            "linecolor": "#A2B1C6",
            "ticks": ""
           }
          },
          "title": {
           "x": 0.05
          },
          "xaxis": {
           "automargin": true,
           "gridcolor": "#EBF0F8",
           "linecolor": "#EBF0F8",
           "ticks": "",
           "title": {
            "standoff": 15
           },
           "zerolinecolor": "#EBF0F8",
           "zerolinewidth": 2
          },
          "yaxis": {
           "automargin": true,
           "gridcolor": "#EBF0F8",
           "linecolor": "#EBF0F8",
           "ticks": "",
           "title": {
            "standoff": 15
           },
           "zerolinecolor": "#EBF0F8",
           "zerolinewidth": 2
          }
         }
        },
        "xaxis": {
         "anchor": "y",
         "categoryarray": [
          "Poor",
          "Fair",
          "Good",
          "Satisfied"
         ],
         "categoryorder": "array",
         "domain": [
          0,
          1
         ],
         "title": {
          "text": "Rating_categories"
         }
        },
        "yaxis": {
         "anchor": "x",
         "domain": [
          0,
          1
         ],
         "title": {
          "text": "total_purchase"
         }
        }
       }
      }
     },
     "metadata": {},
     "output_type": "display_data"
    }
   ],
   "source": [
    "fig = px.bar(rating_check, x='Rating_categories', y='total_purchase', color='Rating_categories',template='plotly_white', hover_data=['average_purchase' ])\n",
    "fig.show()\n"
   ]
  },
  {
   "cell_type": "code",
   "execution_count": 47,
   "id": "5e6251c4",
   "metadata": {},
   "outputs": [],
   "source": [
    "# The customers whose rating is satisfied and good spend more on average and total \n",
    "# The most number of customers falls in the good rating category"
   ]
  },
  {
   "cell_type": "markdown",
   "id": "245b84da",
   "metadata": {},
   "source": [
    "## Correlation"
   ]
  },
  {
   "cell_type": "code",
   "execution_count": 48,
   "id": "6d9ef608",
   "metadata": {},
   "outputs": [],
   "source": [
    "num_columns = df.select_dtypes(include=[np.number]).columns.tolist()\n",
    "num_columns.remove('Customer_ID')"
   ]
  },
  {
   "cell_type": "code",
   "execution_count": 49,
   "id": "02123e5f",
   "metadata": {},
   "outputs": [
    {
     "data": {
      "text/html": [
       "<div>\n",
       "<style scoped>\n",
       "    .dataframe tbody tr th:only-of-type {\n",
       "        vertical-align: middle;\n",
       "    }\n",
       "\n",
       "    .dataframe tbody tr th {\n",
       "        vertical-align: top;\n",
       "    }\n",
       "\n",
       "    .dataframe thead th {\n",
       "        text-align: right;\n",
       "    }\n",
       "</style>\n",
       "<table border=\"1\" class=\"dataframe\">\n",
       "  <thead>\n",
       "    <tr style=\"text-align: right;\">\n",
       "      <th></th>\n",
       "      <th>Age</th>\n",
       "      <th>Purchase_Amount_USD</th>\n",
       "      <th>Review_Rating</th>\n",
       "      <th>Previous_Purchases</th>\n",
       "    </tr>\n",
       "  </thead>\n",
       "  <tbody>\n",
       "    <tr>\n",
       "      <th>Age</th>\n",
       "      <td>1.000000</td>\n",
       "      <td>-0.010424</td>\n",
       "      <td>-0.021949</td>\n",
       "      <td>0.040445</td>\n",
       "    </tr>\n",
       "    <tr>\n",
       "      <th>Purchase_Amount_USD</th>\n",
       "      <td>-0.010424</td>\n",
       "      <td>1.000000</td>\n",
       "      <td>0.030776</td>\n",
       "      <td>0.008063</td>\n",
       "    </tr>\n",
       "    <tr>\n",
       "      <th>Review_Rating</th>\n",
       "      <td>-0.021949</td>\n",
       "      <td>0.030776</td>\n",
       "      <td>1.000000</td>\n",
       "      <td>0.004229</td>\n",
       "    </tr>\n",
       "    <tr>\n",
       "      <th>Previous_Purchases</th>\n",
       "      <td>0.040445</td>\n",
       "      <td>0.008063</td>\n",
       "      <td>0.004229</td>\n",
       "      <td>1.000000</td>\n",
       "    </tr>\n",
       "  </tbody>\n",
       "</table>\n",
       "</div>"
      ],
      "text/plain": [
       "                          Age  Purchase_Amount_USD  Review_Rating  \\\n",
       "Age                  1.000000            -0.010424      -0.021949   \n",
       "Purchase_Amount_USD -0.010424             1.000000       0.030776   \n",
       "Review_Rating       -0.021949             0.030776       1.000000   \n",
       "Previous_Purchases   0.040445             0.008063       0.004229   \n",
       "\n",
       "                     Previous_Purchases  \n",
       "Age                            0.040445  \n",
       "Purchase_Amount_USD            0.008063  \n",
       "Review_Rating                  0.004229  \n",
       "Previous_Purchases             1.000000  "
      ]
     },
     "execution_count": 49,
     "metadata": {},
     "output_type": "execute_result"
    }
   ],
   "source": [
    "df[num_columns].corr()\n"
   ]
  },
  {
   "cell_type": "code",
   "execution_count": 50,
   "id": "d4a8fdb7",
   "metadata": {},
   "outputs": [
    {
     "data": {
      "image/png": "[encoded data removed]",
      "text/plain": [
       "<Figure size 1000x800 with 2 Axes>"
      ]
     },
     "metadata": {},
     "output_type": "display_data"
    }
   ],
   "source": [
    "plt.figure(figsize=(10, 8))\n",
    "fig = sns.heatmap(df[num_columns].corr(), annot=True, fmt=\".2f\", cmap ='coolwarm', square=True,)"
   ]
  },
  {
   "cell_type": "markdown",
   "id": "d078dd05",
   "metadata": {},
   "source": [
    "# Final Insights"
   ]
  },
  {
   "cell_type": "code",
   "execution_count": 51,
   "id": "c7e24b99",
   "metadata": {},
   "outputs": [],
   "source": [
    "## While on average the women spend more per purchase than men, but men contribute more total in revenue.\n",
    "## Fall is the most profitable season, while Summer is the least.\n",
    "# While the credit card usage is the method with the higher purchase amount, the Venmo has more average purchase amount\n",
    "## The Senior (50-75) age group is the most profitable age group, and the youth(0-24) is the least profitable one despite having the highest average purchase per customer\n",
    "## Clothing category is the most in-demand category for both men and women\n",
    "## Clothing is the most in demand category across all seasons, especially in Spring \n",
    "## Footwear demand increase in the Spring and Summer seasons\n",
    "## Outerwear is the least in demand category across all seasons\n",
    "# Moderate Visitors are the most valuable customers\n",
    "# Frequent Visitors are the least contributors to the revenue\n",
    "# The customers whose rating is satisfied and good spend more on average and total \n",
    "# The most number of customers falls in the good rating category"
   ]
  },
  {
   "cell_type": "code",
   "execution_count": 52,
   "id": "bcdedcb8",
   "metadata": {},
   "outputs": [],
   "source": [
    "df.to_excel(\"Final_sheet.xlsx\", index=False)"
   ]
  },
  {
   "cell_type": "code",
   "execution_count": null,
   "id": "97c84210",
   "metadata": {},
   "outputs": [],
   "source": []
  }
 ],
 "metadata": {
  "kernelspec": {
   "display_name": "Python 3",
   "language": "python",
   "name": "python3"
  },
  "language_info": {
   "codemirror_mode": {
    "name": "ipython",
    "version": 3
   },
   "file_extension": ".py",
   "mimetype": "text/x-python",
   "name": "python",
   "nbconvert_exporter": "python",
   "pygments_lexer": "ipython3",
   "version": "3.13.2"
  }
 },
 "nbformat": 4,
 "nbformat_minor": 5
}
